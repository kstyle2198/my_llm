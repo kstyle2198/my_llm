{
 "cells": [
  {
   "cell_type": "code",
   "execution_count": 1,
   "id": "b4de98c4-b7f0-487d-a03b-2f878351414c",
   "metadata": {},
   "outputs": [
    {
     "name": "stderr",
     "output_type": "stream",
     "text": [
      "D:\\GG_env\\llm_env\\lib\\site-packages\\tqdm\\auto.py:21: TqdmWarning: IProgress not found. Please update jupyter and ipywidgets. See https://ipywidgets.readthedocs.io/en/stable/user_install.html\n",
      "  from .autonotebook import tqdm as notebook_tqdm\n"
     ]
    }
   ],
   "source": [
    "import matplotlib.pyplot as plt\n",
    "import numpy as np\n",
    "import time\n",
    "import torch\n",
    "from transformers import AutoModelForCausalLM, AutoTokenizer\n",
    "from tqdm import tqdm"
   ]
  },
  {
   "cell_type": "code",
   "execution_count": 2,
   "id": "60a2f389-517a-4d8c-b622-5f5a6b6dcc8f",
   "metadata": {},
   "outputs": [],
   "source": [
    "model_name = 'gpt2'\n",
    "tokenizer = AutoTokenizer.from_pretrained(model_name)\n",
    "model = AutoModelForCausalLM.from_pretrained(model_name)"
   ]
  },
  {
   "cell_type": "code",
   "execution_count": 3,
   "id": "253a3e5e-8ab9-49a1-826a-2d7008f73c85",
   "metadata": {},
   "outputs": [
    {
     "data": {
      "text/plain": [
       "GPT2LMHeadModel(\n",
       "  (transformer): GPT2Model(\n",
       "    (wte): Embedding(50257, 768)\n",
       "    (wpe): Embedding(1024, 768)\n",
       "    (drop): Dropout(p=0.1, inplace=False)\n",
       "    (h): ModuleList(\n",
       "      (0-11): 12 x GPT2Block(\n",
       "        (ln_1): LayerNorm((768,), eps=1e-05, elementwise_affine=True)\n",
       "        (attn): GPT2Attention(\n",
       "          (c_attn): Conv1D()\n",
       "          (c_proj): Conv1D()\n",
       "          (attn_dropout): Dropout(p=0.1, inplace=False)\n",
       "          (resid_dropout): Dropout(p=0.1, inplace=False)\n",
       "        )\n",
       "        (ln_2): LayerNorm((768,), eps=1e-05, elementwise_affine=True)\n",
       "        (mlp): GPT2MLP(\n",
       "          (c_fc): Conv1D()\n",
       "          (c_proj): Conv1D()\n",
       "          (act): NewGELUActivation()\n",
       "          (dropout): Dropout(p=0.1, inplace=False)\n",
       "        )\n",
       "      )\n",
       "    )\n",
       "    (ln_f): LayerNorm((768,), eps=1e-05, elementwise_affine=True)\n",
       "  )\n",
       "  (lm_head): Linear(in_features=768, out_features=50257, bias=False)\n",
       ")"
      ]
     },
     "execution_count": 3,
     "metadata": {},
     "output_type": "execute_result"
    }
   ],
   "source": [
    "model"
   ]
  },
  {
   "cell_type": "markdown",
   "id": "c4c83e4e-9e6e-4639-ac87-0ecce3eeb47d",
   "metadata": {},
   "source": [
    "# KV Caching"
   ]
  },
  {
   "cell_type": "code",
   "execution_count": 4,
   "id": "86362ca3-f80a-4b17-904f-68f03044f9e6",
   "metadata": {},
   "outputs": [],
   "source": [
    "prompt = \"The quick brown fox jumped over the\""
   ]
  },
  {
   "cell_type": "code",
   "execution_count": 5,
   "id": "40f7709b-fb37-49f0-9add-2fdfd83da0d2",
   "metadata": {},
   "outputs": [
    {
     "data": {
      "text/plain": [
       "{'input_ids': tensor([[  464,  2068,  7586, 21831, 11687,   625,   262]]), 'attention_mask': tensor([[1, 1, 1, 1, 1, 1, 1]])}"
      ]
     },
     "execution_count": 5,
     "metadata": {},
     "output_type": "execute_result"
    }
   ],
   "source": [
    "inputs = tokenizer(prompt, return_tensors='pt')\n",
    "inputs"
   ]
  },
  {
   "cell_type": "code",
   "execution_count": 6,
   "id": "768c036d-f2e8-4771-89e8-29b57053c75c",
   "metadata": {},
   "outputs": [
    {
     "data": {
      "text/plain": [
       "tensor([[[ -36.2874,  -35.0114,  -38.0793,  ...,  -40.5163,  -41.3760,\n",
       "           -34.9193],\n",
       "         [ -62.3139,  -61.5645,  -66.4938,  ...,  -68.1286,  -68.3227,\n",
       "           -63.5829],\n",
       "         [ -66.3240,  -66.7452,  -72.1618,  ...,  -75.1955,  -73.4651,\n",
       "           -68.1786],\n",
       "         ...,\n",
       "         [-128.5381, -132.0339, -138.6297,  ..., -143.2243, -139.4765,\n",
       "          -134.6457],\n",
       "         [ -79.0953,  -81.2003,  -86.2657,  ...,  -90.5052,  -87.8185,\n",
       "           -83.2593],\n",
       "         [ -92.9353,  -92.3160,  -96.0634,  ...,  -95.3960,  -96.1433,\n",
       "           -94.6932]]])"
      ]
     },
     "execution_count": 6,
     "metadata": {},
     "output_type": "execute_result"
    }
   ],
   "source": [
    "with torch.no_grad():\n",
    "    outputs = model(**inputs)\n",
    "logits = outputs.logits\n",
    "logits"
   ]
  },
  {
   "cell_type": "code",
   "execution_count": 7,
   "id": "9d83cd4c-105b-4415-8374-ec80a7d60228",
   "metadata": {},
   "outputs": [
    {
     "data": {
      "text/plain": [
       "torch.Size([1, 7, 50257])"
      ]
     },
     "execution_count": 7,
     "metadata": {},
     "output_type": "execute_result"
    }
   ],
   "source": [
    "logits.shape"
   ]
  },
  {
   "cell_type": "code",
   "execution_count": 8,
   "id": "812db354-4b5d-4fe3-adb7-86512304dff3",
   "metadata": {},
   "outputs": [
    {
     "data": {
      "text/plain": [
       "(tensor([-92.9353, -92.3160, -96.0634,  ..., -95.3960, -96.1433, -94.6932]),\n",
       " 50257)"
      ]
     },
     "execution_count": 8,
     "metadata": {},
     "output_type": "execute_result"
    }
   ],
   "source": [
    "last_logits = logits[0, -1, :]\n",
    "last_logits, len(last_logits)"
   ]
  },
  {
   "cell_type": "code",
   "execution_count": 9,
   "id": "2626c491-7f15-4eea-ba7c-79ccf3e8ac16",
   "metadata": {},
   "outputs": [
    {
     "data": {
      "text/plain": [
       "tensor(13990)"
      ]
     },
     "execution_count": 9,
     "metadata": {},
     "output_type": "execute_result"
    }
   ],
   "source": [
    "next_token_id = last_logits.argmax()\n",
    "next_token_id"
   ]
  },
  {
   "cell_type": "code",
   "execution_count": 10,
   "id": "a08608a3-d32f-470a-9b18-0ff3356ceb35",
   "metadata": {},
   "outputs": [
    {
     "data": {
      "text/plain": [
       "' fence'"
      ]
     },
     "execution_count": 10,
     "metadata": {},
     "output_type": "execute_result"
    }
   ],
   "source": [
    "tokenizer.decode(next_token_id)"
   ]
  },
  {
   "cell_type": "code",
   "execution_count": 11,
   "id": "168e9c5a-745a-4c86-9683-373d91ffd97c",
   "metadata": {},
   "outputs": [
    {
     "data": {
      "text/plain": [
       "torch.return_types.topk(\n",
       "values=tensor([-81.8955, -82.3976, -82.9707, -83.0715, -83.2480, -83.5198, -83.5478,\n",
       "        -83.8078, -83.8791, -83.8842]),\n",
       "indices=tensor([13990,  5743, 47590,  3355,  3084,  5509,  1353,  3753,  2323,  1735]))"
      ]
     },
     "execution_count": 11,
     "metadata": {},
     "output_type": "execute_result"
    }
   ],
   "source": [
    "top_k = torch.topk(last_logits, k=10)\n",
    "top_k"
   ]
  },
  {
   "cell_type": "code",
   "execution_count": 12,
   "id": "f7fcf3b7-e06d-42de-87b6-8d31dba4f4a3",
   "metadata": {},
   "outputs": [
    {
     "data": {
      "text/plain": [
       "[' fence',\n",
       " ' edge',\n",
       " ' railing',\n",
       " ' wall',\n",
       " ' table',\n",
       " ' tree',\n",
       " ' top',\n",
       " ' counter',\n",
       " ' ground',\n",
       " ' side']"
      ]
     },
     "execution_count": 12,
     "metadata": {},
     "output_type": "execute_result"
    }
   ],
   "source": [
    "tokens = [tokenizer.decode(tk) for tk in top_k.indices]\n",
    "tokens"
   ]
  },
  {
   "cell_type": "code",
   "execution_count": 13,
   "id": "7267128f-1bb3-405f-94f6-6be52a30059f",
   "metadata": {},
   "outputs": [],
   "source": [
    "next_inputs = {\n",
    "    \"input_ids\": torch.cat(\n",
    "        [inputs[\"input_ids\"], next_token_id.reshape((1, 1))],\n",
    "        dim=1\n",
    "    ),\n",
    "    \"attention_mask\": torch.cat(\n",
    "        [inputs[\"attention_mask\"], torch.tensor([[1]])],\n",
    "        dim=1\n",
    "    ),\n",
    "}"
   ]
  },
  {
   "cell_type": "code",
   "execution_count": 14,
   "id": "4189ebce-97e3-44b5-bea9-4a9204340d27",
   "metadata": {},
   "outputs": [
    {
     "data": {
      "text/plain": [
       "(tensor([[  464,  2068,  7586, 21831, 11687,   625,   262, 13990]]),\n",
       " torch.Size([1, 8]))"
      ]
     },
     "execution_count": 14,
     "metadata": {},
     "output_type": "execute_result"
    }
   ],
   "source": [
    "next_inputs[\"input_ids\"], next_inputs[\"input_ids\"].shape"
   ]
  },
  {
   "cell_type": "code",
   "execution_count": 15,
   "id": "8b8db6ba-2a1c-40f8-a466-1ee2b9ad51f1",
   "metadata": {},
   "outputs": [
    {
     "data": {
      "text/plain": [
       "(tensor([[1, 1, 1, 1, 1, 1, 1, 1]]), torch.Size([1, 8]))"
      ]
     },
     "execution_count": 15,
     "metadata": {},
     "output_type": "execute_result"
    }
   ],
   "source": [
    "next_inputs[\"attention_mask\"], next_inputs[\"attention_mask\"].shape"
   ]
  },
  {
   "cell_type": "markdown",
   "id": "1949bc8b-db4d-4e3b-88dd-f21e189d732e",
   "metadata": {},
   "source": [
    "## without KV Cache"
   ]
  },
  {
   "cell_type": "code",
   "execution_count": 16,
   "id": "b2020b79-d946-47d0-aa81-c0b35ad72278",
   "metadata": {},
   "outputs": [],
   "source": [
    "def generate_token(inputs):\n",
    "    with torch.no_grad():\n",
    "        outputs = model(**inputs)\n",
    "\n",
    "    logits = outputs.logits\n",
    "    last_logits = logits[0, -1, :]\n",
    "    next_token_id = last_logits.argmax()\n",
    "    return next_token_id"
   ]
  },
  {
   "cell_type": "code",
   "execution_count": 17,
   "id": "98858881-904b-43f0-ac0e-3e2c6b8a7392",
   "metadata": {},
   "outputs": [
    {
     "name": "stdout",
     "output_type": "stream",
     "text": [
      "소요시간: 0.8474619388580322\n",
      "[' fence', ' and', ' ran', ' of', ' the', ' fence', ' and', ' ran', ' of', ' the']\n"
     ]
    }
   ],
   "source": [
    "generated_tokens = []\n",
    "next_inputs = inputs\n",
    "durations_s = []\n",
    "\n",
    "for _ in range(10):\n",
    "    t0 = time.time()\n",
    "    next_token_id = generate_token(next_inputs)\n",
    "    durations_s += [time.time() - t0]\n",
    "\n",
    "    next_inputs = { \n",
    "        \"input_ids\": torch.cat(\n",
    "            [inputs[\"input_ids\"], next_token_id.reshape((1, 1))],\n",
    "            dim=1\n",
    "            ),\n",
    "        \"attention_mask\": torch.cat(\n",
    "            [inputs[\"attention_mask\"], torch.tensor([[1]])],\n",
    "            dim=1\n",
    "            ),\n",
    "        }\n",
    "    next_token = tokenizer.decode(next_token_id)\n",
    "    generated_tokens.append(next_token)\n",
    "\n",
    "print(f\"소요시간: {sum(durations_s)}\")\n",
    "print(generated_tokens)"
   ]
  },
  {
   "cell_type": "code",
   "execution_count": 18,
   "id": "d082ea85-ba18-4557-a8a8-1c184a4b8a2b",
   "metadata": {},
   "outputs": [
    {
     "data": {
      "image/png": "[encoded data removed]",
      "text/plain": [
       "<Figure size 640x480 with 1 Axes>"
      ]
     },
     "metadata": {},
     "output_type": "display_data"
    }
   ],
   "source": [
    "plt.plot(durations_s)\n",
    "plt.show()"
   ]
  },
  {
   "cell_type": "markdown",
   "id": "79851084-0683-425f-9d9a-9d5e8be1dcf3",
   "metadata": {},
   "source": [
    "## with KV Cache"
   ]
  },
  {
   "cell_type": "code",
   "execution_count": 19,
   "id": "1a52b098-cb04-4b3f-b372-c8cf71ee4cad",
   "metadata": {},
   "outputs": [],
   "source": [
    "def generate_token_with_past(inputs):\n",
    "    with torch.no_grad():\n",
    "        outputs = model(**inputs)\n",
    "\n",
    "    logits = outputs.logits\n",
    "    last_logits = logits[0, -1, :]\n",
    "    next_token_id = last_logits.argmax()\n",
    "    return next_token_id, outputs.past_key_values"
   ]
  },
  {
   "cell_type": "code",
   "execution_count": 20,
   "id": "dffa08b1-728c-4f0b-94c2-b46645d60025",
   "metadata": {},
   "outputs": [
    {
     "name": "stdout",
     "output_type": "stream",
     "text": [
      "소요시간: 0.7301609516143799\n",
      "[' fence', ' and', ' ran', ' to', ' the', ' other', ' side', ' of', ' the', ' fence']\n"
     ]
    }
   ],
   "source": [
    "generated_tokens = []\n",
    "next_inputs = inputs\n",
    "durations_cached_s = []\n",
    "\n",
    "for _ in range(10):\n",
    "    t0 = time.time()\n",
    "    next_token_id, past_key_values = generate_token_with_past(next_inputs)\n",
    "    durations_cached_s += [time.time() - t0]\n",
    "\n",
    "    next_inputs = { \n",
    "        \"input_ids\": next_token_id.reshape((1, 1)),\n",
    "        \"attention_mask\": torch.cat(\n",
    "            [next_inputs[\"attention_mask\"], torch.tensor([[1]])],\n",
    "            dim=1),\n",
    "        \"past_key_values\": past_key_values,\n",
    "        }\n",
    "    next_token = tokenizer.decode(next_token_id)\n",
    "    generated_tokens.append(next_token)\n",
    "\n",
    "print(f\"소요시간: {sum(durations_cached_s)}\")\n",
    "print(generated_tokens)"
   ]
  },
  {
   "cell_type": "code",
   "execution_count": 21,
   "id": "820792bb-6a66-45c5-ba12-b697929ca929",
   "metadata": {},
   "outputs": [
    {
     "data": {
      "image/png": "[encoded data removed]",
      "text/plain": [
       "<Figure size 640x480 with 1 Axes>"
      ]
     },
     "metadata": {},
     "output_type": "display_data"
    }
   ],
   "source": [
    "plt.plot(durations_s)\n",
    "plt.plot(durations_cached_s)\n",
    "plt.show()"
   ]
  },
  {
   "cell_type": "markdown",
   "id": "389fb00f-45f4-4039-bf87-0ae32c41aeb2",
   "metadata": {},
   "source": [
    "# Batching - issues with multiple inputs"
   ]
  },
  {
   "cell_type": "markdown",
   "id": "30141745-b6cf-4ea4-8077-568a21f9eb2b",
   "metadata": {},
   "source": [
    "## Single Input"
   ]
  },
  {
   "cell_type": "code",
   "execution_count": 22,
   "id": "40eab60c-a088-4603-926f-113f6cddcf6e",
   "metadata": {},
   "outputs": [
    {
     "data": {
      "text/plain": [
       "' fence and ran to the other side of the fence'"
      ]
     },
     "execution_count": 22,
     "metadata": {},
     "output_type": "execute_result"
    }
   ],
   "source": [
    "prompt = \"The quick brown fox jumped over the\"\n",
    "inputs = tokenizer(prompt, return_tensors='pt')\n",
    "\n",
    "def generate_token_with_past(inputs):\n",
    "    with torch.no_grad():\n",
    "        outputs = model(**inputs)\n",
    "\n",
    "    logits = outputs.logits\n",
    "    last_logits = logits[0, -1, :]\n",
    "    next_token_id = last_logits.argmax()\n",
    "    return next_token_id, outputs.past_key_values\n",
    "\n",
    "def generate(inputs, max_tokens):\n",
    "    generated_tokens = []\n",
    "    next_inputs = inputs\n",
    "    for _ in range(max_tokens):\n",
    "        next_token_id, past_key_values = generate_token_with_past(next_inputs)\n",
    "    \n",
    "        next_inputs = { \n",
    "            \"input_ids\": next_token_id.reshape((1, 1)),\n",
    "            \"attention_mask\": torch.cat(\n",
    "                [next_inputs[\"attention_mask\"], torch.tensor([[1]])],\n",
    "                dim=1),\n",
    "            \"past_key_values\": past_key_values,\n",
    "            }\n",
    "        next_token = tokenizer.decode(next_token_id)\n",
    "        generated_tokens.append(next_token)\n",
    "    return \"\".join(generated_tokens)\n",
    "    \n",
    "tokens = generate(inputs, max_tokens=10)\n",
    "tokens"
   ]
  },
  {
   "cell_type": "markdown",
   "id": "e2a93bc0-0772-4c45-bbf8-9be8373b8d88",
   "metadata": {},
   "source": [
    "## Multiple inputs"
   ]
  },
  {
   "cell_type": "code",
   "execution_count": 23,
   "id": "49d3ee39-856f-4429-897e-b3d6a702aca6",
   "metadata": {},
   "outputs": [],
   "source": [
    "# Define PAD Token = EOS Token = 50256\n",
    "tokenizer.pad_token = tokenizer.eos_token\n",
    "model.config.pad_token_id = model.config.eos_token_id"
   ]
  },
  {
   "cell_type": "code",
   "execution_count": 24,
   "id": "8cadbd1f-5d23-421d-b033-ad5cd43d13d6",
   "metadata": {},
   "outputs": [],
   "source": [
    "# Pad on the left so we can append new tokens on the right\n",
    "tokenizer.padding_side = \"left\"\n",
    "tokenizer.truncation_siede = \"left\""
   ]
  },
  {
   "cell_type": "code",
   "execution_count": 25,
   "id": "83a31e71-6ff9-49c2-b9de-45e45167e5f2",
   "metadata": {},
   "outputs": [
    {
     "data": {
      "text/plain": [
       "{'input_ids': tensor([[  464,  2068,  7586, 21831, 11687,   625,   262],\n",
       "        [50256, 50256,   464,  6290,   287,  8602,  8953],\n",
       "        [50256, 50256, 50256,  2061,  2058,   510,  1276]]), 'attention_mask': tensor([[1, 1, 1, 1, 1, 1, 1],\n",
       "        [0, 0, 1, 1, 1, 1, 1],\n",
       "        [0, 0, 0, 1, 1, 1, 1]])}"
      ]
     },
     "execution_count": 25,
     "metadata": {},
     "output_type": "execute_result"
    }
   ],
   "source": [
    "# mutiple prompts of varying lengths to send to the model at once\n",
    "prompts = [\n",
    "    \"The quick brown fox jumped over the\",\n",
    "    \"The rain in Spain falls\",\n",
    "    \"What comes up must\"\n",
    "]\n",
    "# note: padding=True ensures the padding tokens\n",
    "# will be inserted into the tokenized tensors\n",
    "inputs = tokenizer(prompts, padding=True, return_tensors=\"pt\")\n",
    "inputs"
   ]
  },
  {
   "cell_type": "code",
   "execution_count": 26,
   "id": "c343ffbc-670a-4ce5-84ac-f400eeca07fb",
   "metadata": {},
   "outputs": [
    {
     "data": {
      "text/plain": [
       "torch.Size([3, 7])"
      ]
     },
     "execution_count": 26,
     "metadata": {},
     "output_type": "execute_result"
    }
   ],
   "source": [
    "inputs[\"input_ids\"].shape"
   ]
  },
  {
   "cell_type": "code",
   "execution_count": 27,
   "id": "9200e72c-e528-442b-99f5-ec08d7138f56",
   "metadata": {},
   "outputs": [
    {
     "name": "stdout",
     "output_type": "stream",
     "text": [
      "tensor([[ 0,  1,  2,  3,  4,  5,  6],\n",
      "        [-1, -1,  0,  1,  2,  3,  4],\n",
      "        [-1, -1, -1,  0,  1,  2,  3]])\n"
     ]
    },
    {
     "data": {
      "text/plain": [
       "tensor([[0, 1, 2, 3, 4, 5, 6],\n",
       "        [1, 1, 0, 1, 2, 3, 4],\n",
       "        [1, 1, 1, 0, 1, 2, 3]])"
      ]
     },
     "execution_count": 27,
     "metadata": {},
     "output_type": "execute_result"
    }
   ],
   "source": [
    "# position_ids tell the transformer the ordinal position of each token in the input sequence\n",
    "# for single input inference, this is just [0, ..n]\n",
    "# for n tokens, but for batch inference, \n",
    "# we need to 0 out the padding tokens at the start of the sequence\n",
    "\n",
    "attention_mask = inputs[\"attention_mask\"]\n",
    "position_ids = attention_mask.long().cumsum(-1) - 1  # 모든항에서 1씩 빼고\n",
    "print(position_ids)\n",
    "position_ids.masked_fill_(attention_mask == 0, 1)  # 어텐션마스크가 0인 곳은 1로 변경"
   ]
  },
  {
   "cell_type": "code",
   "execution_count": 28,
   "id": "463c6aae-b036-4176-8af8-635028bc987a",
   "metadata": {},
   "outputs": [
    {
     "data": {
      "text/plain": [
       "tensor([[[ -36.2874,  -35.0114,  -38.0793,  ...,  -40.5163,  -41.3760,\n",
       "           -34.9193],\n",
       "         [ -62.3139,  -61.5645,  -66.4938,  ...,  -68.1286,  -68.3227,\n",
       "           -63.5829],\n",
       "         [ -66.3240,  -66.7452,  -72.1618,  ...,  -75.1955,  -73.4651,\n",
       "           -68.1786],\n",
       "         ...,\n",
       "         [-128.5381, -132.0339, -138.6297,  ..., -143.2243, -139.4765,\n",
       "          -134.6457],\n",
       "         [ -79.0953,  -81.2003,  -86.2657,  ...,  -90.5052,  -87.8185,\n",
       "           -83.2593],\n",
       "         [ -92.9353,  -92.3160,  -96.0634,  ...,  -95.3960,  -96.1433,\n",
       "           -94.6932]],\n",
       "\n",
       "        [[ -82.9563,  -81.2288,  -85.6027,  ...,  -90.0016,  -87.0977,\n",
       "           -81.3762],\n",
       "         [ -79.6378,  -77.1435,  -80.7339,  ...,  -88.2952,  -85.1466,\n",
       "           -78.3022],\n",
       "         [ -36.2874,  -35.0114,  -38.0793,  ...,  -40.5163,  -41.3760,\n",
       "           -34.9193],\n",
       "         ...,\n",
       "         [ -83.7137,  -83.1081,  -86.4281,  ...,  -89.6049,  -90.0962,\n",
       "           -85.0687],\n",
       "         [-107.7989, -107.0251, -112.7462,  ..., -119.6170, -114.0065,\n",
       "          -109.9520],\n",
       "         [-134.3496, -134.5265, -141.9093,  ..., -143.6232, -143.3913,\n",
       "          -136.7095]],\n",
       "\n",
       "        [[ -85.2328,  -82.9763,  -87.1348,  ...,  -92.1220,  -92.0004,\n",
       "           -85.3675],\n",
       "         [ -85.2858,  -81.9927,  -85.6311,  ...,  -92.7831,  -92.2918,\n",
       "           -85.2974],\n",
       "         [ -82.2846,  -78.2875,  -81.7771,  ...,  -90.3285,  -89.5250,\n",
       "           -82.4402],\n",
       "         ...,\n",
       "         [-101.3391,  -99.8455, -107.2442,  ..., -111.0902, -110.0598,\n",
       "          -102.0834],\n",
       "         [-110.7833, -111.7963, -118.6071,  ..., -120.2002, -123.8817,\n",
       "          -113.0866],\n",
       "         [ -69.8395,  -70.2566,  -75.9295,  ...,  -77.3883,  -79.3200,\n",
       "           -73.0099]]])"
      ]
     },
     "execution_count": 28,
     "metadata": {},
     "output_type": "execute_result"
    }
   ],
   "source": [
    "# same as before, but include the position_ids\n",
    "with torch.no_grad():\n",
    "    outputs = model(position_ids=position_ids, **inputs)\n",
    "logits = outputs.logits\n",
    "logits"
   ]
  },
  {
   "cell_type": "code",
   "execution_count": 29,
   "id": "43080f58-8382-418d-9b4d-3c93275abfbb",
   "metadata": {},
   "outputs": [
    {
     "data": {
      "text/plain": [
       "tensor([[ -92.9353,  -92.3160,  -96.0634,  ...,  -95.3960,  -96.1433,\n",
       "          -94.6932],\n",
       "        [-134.3496, -134.5265, -141.9093,  ..., -143.6232, -143.3913,\n",
       "         -136.7095],\n",
       "        [ -69.8395,  -70.2566,  -75.9295,  ...,  -77.3883,  -79.3200,\n",
       "          -73.0099]])"
      ]
     },
     "execution_count": 29,
     "metadata": {},
     "output_type": "execute_result"
    }
   ],
   "source": [
    "last_logits = logits[:, -1, :]\n",
    "last_logits"
   ]
  },
  {
   "cell_type": "code",
   "execution_count": 30,
   "id": "21c3edc8-5fc1-4c1f-9604-05745f9c9634",
   "metadata": {},
   "outputs": [
    {
     "data": {
      "text/plain": [
       "tensor([13990,   319,   307])"
      ]
     },
     "execution_count": 30,
     "metadata": {},
     "output_type": "execute_result"
    }
   ],
   "source": [
    "next_token_ids = last_logits.argmax(dim=1)\n",
    "next_token_ids"
   ]
  },
  {
   "cell_type": "code",
   "execution_count": 31,
   "id": "d06b2c62-10d3-4b87-9e31-ab52a3c43c0d",
   "metadata": {},
   "outputs": [
    {
     "data": {
      "text/plain": [
       "[' fence', ' on', ' be']"
      ]
     },
     "execution_count": 31,
     "metadata": {},
     "output_type": "execute_result"
    }
   ],
   "source": [
    "next_tokens = tokenizer.batch_decode(next_token_ids)\n",
    "next_tokens"
   ]
  },
  {
   "cell_type": "code",
   "execution_count": 32,
   "id": "34b6c3e8-7904-4448-8935-4d57002c2123",
   "metadata": {},
   "outputs": [],
   "source": [
    "def generate_batch_tokens_with_past(inputs):\n",
    "    with torch.no_grad():\n",
    "        outputs = model(**inputs)\n",
    "\n",
    "    logits = outputs.logits\n",
    "    last_logits = logits[:, -1, :]\n",
    "    next_token_ids = last_logits.argmax(dim=1)\n",
    "    return next_token_ids, outputs.past_key_values"
   ]
  },
  {
   "cell_type": "code",
   "execution_count": 33,
   "id": "7ae043ff-6894-4cda-82d3-d13c6abbc2ba",
   "metadata": {},
   "outputs": [],
   "source": [
    "def generate_batch(inputs, max_tokens):\n",
    "    generated_tokens = [\n",
    "        [] for _ in range(inputs[\"input_ids\"].shape[0])\n",
    "    ]\n",
    "    attention_mask = inputs[\"attention_mask\"]\n",
    "    position_ids = attention_mask.long().cumsum(-1) - 1\n",
    "    position_ids.masked_fill_(attention_mask == 0, 1)\n",
    "\n",
    "    next_inputs = {\n",
    "        \"position_ids\": position_ids,\n",
    "        **inputs\n",
    "        }\n",
    "    \n",
    "    for _ in range(max_tokens):\n",
    "        next_token_ids, past_key_values = generate_batch_tokens_with_past(next_inputs)\n",
    "    \n",
    "        next_inputs = { \n",
    "            \"input_ids\": next_token_ids.reshape((-1, 1)),\n",
    "            \"position_ids\": next_inputs[\"position_ids\"][:,-1].unsqueeze(-1) + 1,\n",
    "            \"attention_mask\": torch.cat([\n",
    "                next_inputs[\"attention_mask\"], \n",
    "                torch.ones((next_token_ids.shape[0], 1))\n",
    "            ], dim=1),\n",
    "            \"past_key_values\": past_key_values,\n",
    "            }\n",
    "        next_tokens = tokenizer.batch_decode(next_token_ids)\n",
    "        for i, token in enumerate(next_tokens):\n",
    "            generated_tokens[i].append(token)\n",
    "    return [\"\".join(tokens) for tokens in generated_tokens]"
   ]
  },
  {
   "cell_type": "code",
   "execution_count": 34,
   "id": "76af38f7-4cc5-4e26-a36c-eb632de2080e",
   "metadata": {},
   "outputs": [
    {
     "data": {
      "text/plain": [
       "[' fence and ran to the other side of the fence',\n",
       " ' on the first day of the month, and the',\n",
       " ' be a good idea.\\n\\n\"I think']"
      ]
     },
     "execution_count": 34,
     "metadata": {},
     "output_type": "execute_result"
    }
   ],
   "source": [
    "generated_tokens = generate_batch(inputs, max_tokens=10)\n",
    "generated_tokens"
   ]
  },
  {
   "cell_type": "code",
   "execution_count": 35,
   "id": "b8b194e3-42b3-4ce4-a011-88406133df80",
   "metadata": {},
   "outputs": [
    {
     "name": "stdout",
     "output_type": "stream",
     "text": [
      "The quick brown fox jumped over the \u001b[31m fence and ran to the other side of the fence\u001b[0m\n",
      "\n",
      "The rain in Spain falls \u001b[31m on the first day of the month, and the\u001b[0m\n",
      "\n",
      "What comes up must \u001b[31m be a good idea.\n",
      "\n",
      "\"I think\u001b[0m\n",
      "\n"
     ]
    }
   ],
   "source": [
    "for prompt, generated in zip(prompts, generated_tokens):\n",
    "    print(prompt, f\"\\x1b[31m{generated}\\x1b[0m\\n\")"
   ]
  },
  {
   "cell_type": "markdown",
   "id": "16136129-2c5b-4e1e-bcf7-f72d4b07393b",
   "metadata": {},
   "source": [
    "## Throughput vs. Latency"
   ]
  },
  {
   "cell_type": "code",
   "execution_count": 36,
   "id": "b7774cf1-0fbd-4194-b6f0-dacd0811094c",
   "metadata": {},
   "outputs": [],
   "source": [
    "# contants\n",
    "max_tokens = 10\n",
    "\n",
    "# observations\n",
    "durations = []\n",
    "throughputs = []\n",
    "latencies = []"
   ]
  },
  {
   "cell_type": "code",
   "execution_count": 37,
   "id": "e0ba7b7f-b518-4aa2-87bc-2c49cc26adc4",
   "metadata": {},
   "outputs": [
    {
     "data": {
      "text/plain": [
       "[1, 2, 4, 8, 16, 32, 64, 128]"
      ]
     },
     "execution_count": 37,
     "metadata": {},
     "output_type": "execute_result"
    }
   ],
   "source": [
    "batch_sizes = [2**p for p in range(8)]\n",
    "batch_sizes"
   ]
  },
  {
   "cell_type": "code",
   "execution_count": 38,
   "id": "354921fd-ec75-48a5-803c-b7242865275c",
   "metadata": {},
   "outputs": [
    {
     "name": "stdout",
     "output_type": "stream",
     "text": [
      "bs: 1\n",
      "ntokens: 10\n",
      "duration_s: 0.702742338180542\n",
      "throughput: 14.229966598982532\n",
      "avg_latency: 0.0702742338180542\n",
      "\n",
      "bs: 2\n",
      "ntokens: 20\n",
      "duration_s: 0.6892168521881104\n",
      "throughput: 29.018443087258305\n",
      "avg_latency: 0.06892168521881104\n",
      "\n",
      "bs: 4\n",
      "ntokens: 40\n",
      "duration_s: 0.7129073143005371\n",
      "throughput: 56.10827550457335\n",
      "avg_latency: 0.07129073143005371\n",
      "\n",
      "bs: 8\n",
      "ntokens: 80\n",
      "duration_s: 0.893730878829956\n",
      "throughput: 89.51240456717065\n",
      "avg_latency: 0.08937308788299561\n",
      "\n",
      "bs: 16\n",
      "ntokens: 160\n",
      "duration_s: 1.0521368980407715\n",
      "throughput: 152.07146550790372\n",
      "avg_latency: 0.10521368980407715\n",
      "\n",
      "bs: 32\n",
      "ntokens: 320\n",
      "duration_s: 1.4413349628448486\n",
      "throughput: 222.0164002463362\n",
      "avg_latency: 0.14413349628448485\n",
      "\n",
      "bs: 64\n",
      "ntokens: 640\n",
      "duration_s: 2.6276538372039795\n",
      "throughput: 243.56328483549717\n",
      "avg_latency: 0.2627653837203979\n",
      "\n",
      "bs: 128\n",
      "ntokens: 1280\n",
      "duration_s: 4.67971658706665\n",
      "throughput: 273.52083746642705\n",
      "avg_latency: 0.467971658706665\n",
      "\n"
     ]
    }
   ],
   "source": [
    "for batch_size in batch_sizes:\n",
    "    print(f\"bs: {batch_size}\")\n",
    "\n",
    "    # generate tokens for batch and record duration\n",
    "    t0 = time.time()\n",
    "    batch_prompts = [\n",
    "        prompts[i % len(prompts)] for i in range(batch_size)\n",
    "    ]\n",
    "    inputs = tokenizer(\n",
    "        batch_prompts, padding=True, return_tensors=\"pt\"\n",
    "    )\n",
    "    generated_tokens = generate_batch(inputs, max_tokens=max_tokens)\n",
    "    duration_s = time.time() - t0\n",
    "\n",
    "    ntokens = batch_size * max_tokens\n",
    "    throughput = ntokens / duration_s\n",
    "    avg_latency = duration_s / max_tokens\n",
    "    print(f\"ntokens: {ntokens}\")\n",
    "    print(f\"duration_s: {duration_s}\")\n",
    "    print(f\"throughput: {throughput}\")\n",
    "    print(f\"avg_latency: {avg_latency}\")\n",
    "    print()\n",
    "\n",
    "    durations.append(duration_s)\n",
    "    throughputs.append(throughput)\n",
    "    latencies.append(avg_latency)"
   ]
  },
  {
   "cell_type": "code",
   "execution_count": 39,
   "id": "c1dca8d2-33bb-4771-8006-f67b7812476b",
   "metadata": {},
   "outputs": [],
   "source": [
    "def render_plot(x, y1, y2, x_label, y1_label, y2_label):\n",
    "    fig, ax1 = plt.subplots()\n",
    "\n",
    "    color = 'tab:red'\n",
    "    ax1.set_xlabel(x_label)\n",
    "    ax1.set_ylabel(y1_label, color=color)\n",
    "    ax1.plot(x, y1, color = color)\n",
    "    ax1.tick_params(axis='y', labelcolor=color)\n",
    "\n",
    "    ax1.set_xscale('log', base=2)\n",
    "\n",
    "    ax2 = ax1.twinx()\n",
    "    color = 'tab:blue'\n",
    "    ax2.set_ylabel(y2_label, color=color)\n",
    "    ax2.plot(x, y2, color=color)\n",
    "    ax2.tick_params(axis='y', labelcolor=color)\n",
    "\n",
    "    plt.show()\n",
    "    "
   ]
  },
  {
   "cell_type": "code",
   "execution_count": 40,
   "id": "598ea71a-31ef-451d-afe2-6144dcf4a374",
   "metadata": {},
   "outputs": [
    {
     "data": {
      "image/png": "[encoded data removed]",
      "text/plain": [
       "<Figure size 640x480 with 2 Axes>"
      ]
     },
     "metadata": {},
     "output_type": "display_data"
    }
   ],
   "source": [
    "render_plot(\n",
    "    batch_sizes,\n",
    "    throughputs,\n",
    "    latencies,\n",
    "    \"Batch Size\",\n",
    "    \"Throughput\",\n",
    "    \"Latency\"\n",
    ")"
   ]
  },
  {
   "cell_type": "markdown",
   "id": "b7c1f7b1-68a7-4b11-aa25-5b4aef1529c3",
   "metadata": {},
   "source": [
    "# Continuous Batching"
   ]
  },
  {
   "cell_type": "code",
   "execution_count": 41,
   "id": "501b5f7f-55da-40f1-ba54-bfbe14a5b596",
   "metadata": {},
   "outputs": [],
   "source": [
    "import copy\n",
    "import random\n",
    "import torch.nn.functional as F"
   ]
  },
  {
   "cell_type": "code",
   "execution_count": 42,
   "id": "184b4e7f-a6b1-4a33-bca7-e6785317f7be",
   "metadata": {},
   "outputs": [],
   "source": [
    "tokenizer.pad_token = tokenizer.eos_token\n",
    "model.config.pad_token_id = model.config.eos_token_id\n",
    "tokenizer.padding_side = \"left\"\n",
    "tokenizer.truncation_siede = \"left\""
   ]
  },
  {
   "cell_type": "code",
   "execution_count": 43,
   "id": "6a0ba0e5-41f2-465d-8ff9-ef202e5ca656",
   "metadata": {},
   "outputs": [
    {
     "data": {
      "text/plain": [
       "{'input_ids': tensor([[  464,  2068,  7586, 21831, 11687,   625,   262],\n",
       "        [50256, 50256,   464,  6290,   287,  8602,  8953],\n",
       "        [50256, 50256, 50256,  2061,  2058,   510,  1276]]), 'attention_mask': tensor([[1, 1, 1, 1, 1, 1, 1],\n",
       "        [0, 0, 1, 1, 1, 1, 1],\n",
       "        [0, 0, 0, 1, 1, 1, 1]])}"
      ]
     },
     "execution_count": 43,
     "metadata": {},
     "output_type": "execute_result"
    }
   ],
   "source": [
    "# mutiple prompts of varying lengths to send to the model at once\n",
    "prompts = [\n",
    "    \"The quick brown fox jumped over the\",\n",
    "    \"The rain in Spain falls\",\n",
    "    \"What comes up must\"\n",
    "]\n",
    "\n",
    "inputs = tokenizer(prompts, padding=True, return_tensors=\"pt\")\n",
    "inputs"
   ]
  },
  {
   "cell_type": "code",
   "execution_count": 44,
   "id": "073b792a-9fcc-4173-87bd-df68815e824e",
   "metadata": {},
   "outputs": [],
   "source": [
    "def generate_batch_tokens_with_past(inputs):\n",
    "    with torch.no_grad():\n",
    "        outputs = model(**inputs)\n",
    "\n",
    "    logits = outputs.logits\n",
    "    last_logits = logits[:, -1, :]\n",
    "    next_token_ids = last_logits.argmax(dim=1)\n",
    "    return next_token_ids, outputs.past_key_values"
   ]
  },
  {
   "cell_type": "code",
   "execution_count": 45,
   "id": "c2098e5e-abea-4315-8d3a-47445158f252",
   "metadata": {},
   "outputs": [],
   "source": [
    "def generate_batch(inputs, max_tokens):\n",
    "    generated_tokens = [\n",
    "        [] for _ in range(inputs[\"input_ids\"].shape[0])\n",
    "    ]\n",
    "    attention_mask = inputs[\"attention_mask\"]\n",
    "    position_ids = attention_mask.long().cumsum(-1) - 1\n",
    "    position_ids.masked_fill_(attention_mask == 0, 1)\n",
    "\n",
    "    next_inputs = {\n",
    "        \"position_ids\": position_ids,\n",
    "        **inputs\n",
    "        }\n",
    "    \n",
    "    for _ in range(max_tokens):\n",
    "        next_token_ids, past_key_values = generate_batch_tokens_with_past(next_inputs)\n",
    "    \n",
    "        next_inputs = { \n",
    "            \"input_ids\": next_token_ids.reshape((-1, 1)),\n",
    "            \"position_ids\": next_inputs[\"position_ids\"][:,-1].unsqueeze(-1) + 1,\n",
    "            \"attention_mask\": torch.cat([\n",
    "                next_inputs[\"attention_mask\"], \n",
    "                torch.ones((next_token_ids.shape[0], 1))\n",
    "            ], dim=1),\n",
    "            \"past_key_values\": past_key_values,\n",
    "            }\n",
    "        next_tokens = tokenizer.batch_decode(next_token_ids)\n",
    "        for i, token in enumerate(next_tokens):\n",
    "            generated_tokens[i].append(token)\n",
    "    return [\"\".join(tokens) for tokens in generated_tokens]"
   ]
  },
  {
   "cell_type": "code",
   "execution_count": 46,
   "id": "2e910499-2eaf-4623-83f6-4bdb5a65f708",
   "metadata": {},
   "outputs": [],
   "source": [
    "random.seed(42)\n",
    "\n",
    "# constants\n",
    "queue_size = 32\n",
    "batch_size = 8\n",
    "\n",
    "# requests waiting to be processed\n",
    "# requests are tuples (prompt, max_tokens)\n",
    "request_queue = [\n",
    "    (prompts[0], 100 if i % batch_size == 0 else 10)\n",
    "    for i in range(queue_size)\n",
    "]\n",
    "\n",
    "batches = [\n",
    "    request_queue[i:i + batch_size]\n",
    "    for i in range(0, len(request_queue), batch_size)\n",
    "]"
   ]
  },
  {
   "cell_type": "code",
   "execution_count": 47,
   "id": "0a64a0d2-d3b7-4ed5-b3c5-dbf2ea6a85d9",
   "metadata": {},
   "outputs": [
    {
     "data": {
      "text/plain": [
       "[('The quick brown fox jumped over the', 100),\n",
       " ('The quick brown fox jumped over the', 10),\n",
       " ('The quick brown fox jumped over the', 10),\n",
       " ('The quick brown fox jumped over the', 10),\n",
       " ('The quick brown fox jumped over the', 10),\n",
       " ('The quick brown fox jumped over the', 10),\n",
       " ('The quick brown fox jumped over the', 10),\n",
       " ('The quick brown fox jumped over the', 10)]"
      ]
     },
     "execution_count": 47,
     "metadata": {},
     "output_type": "execute_result"
    }
   ],
   "source": [
    "request_queue[:8]"
   ]
  },
  {
   "cell_type": "code",
   "execution_count": 48,
   "id": "f6700745-ce9a-441f-9ada-e8bcff9a6f45",
   "metadata": {},
   "outputs": [
    {
     "data": {
      "text/plain": [
       "4"
      ]
     },
     "execution_count": 48,
     "metadata": {},
     "output_type": "execute_result"
    }
   ],
   "source": [
    "len(batches)"
   ]
  },
  {
   "cell_type": "code",
   "execution_count": 49,
   "id": "f1e5ee26-85ab-48c7-97ec-a2b82e9c275c",
   "metadata": {},
   "outputs": [
    {
     "data": {
      "text/plain": [
       "[[('The quick brown fox jumped over the', 100),\n",
       "  ('The quick brown fox jumped over the', 10),\n",
       "  ('The quick brown fox jumped over the', 10),\n",
       "  ('The quick brown fox jumped over the', 10),\n",
       "  ('The quick brown fox jumped over the', 10),\n",
       "  ('The quick brown fox jumped over the', 10),\n",
       "  ('The quick brown fox jumped over the', 10),\n",
       "  ('The quick brown fox jumped over the', 10)]]"
      ]
     },
     "execution_count": 49,
     "metadata": {},
     "output_type": "execute_result"
    }
   ],
   "source": [
    "batches[:1]"
   ]
  },
  {
   "cell_type": "code",
   "execution_count": 50,
   "id": "48e9b4c4-9286-4967-9a9c-1f1ee0daf40a",
   "metadata": {},
   "outputs": [
    {
     "name": "stderr",
     "output_type": "stream",
     "text": [
      "bs: 8: 100%|████████████| 4/4 [00:34<00:00,  8.65s/it, max_tokens=100]\n"
     ]
    },
    {
     "data": {
      "text/plain": [
       "34.622780561447144"
      ]
     },
     "execution_count": 50,
     "metadata": {},
     "output_type": "execute_result"
    }
   ],
   "source": [
    "# generate tokens for all batches and record duration\n",
    "\n",
    "t0 = time.time()\n",
    "with tqdm(total=len(batches), desc=f\"bs: {batch_size}\") as pbar:\n",
    "    for i, batch in enumerate(batches):\n",
    "        # to accomplish all the requests with out current implementation, we take the max of all the tokens to generate among the requests\n",
    "        batch_max_tokens = [b[1] for b in batch]\n",
    "        max_tokens = max(batch_max_tokens)\n",
    "        pbar.set_postfix({'max_tokens': max_tokens})\n",
    "\n",
    "        batch_prompts = [b[0] for b in batch]\n",
    "        inputs = tokenizer(\n",
    "            batch_prompts, padding=True, return_tensors=\"pt\")\n",
    "        generate_batch(inputs, max_tokens=max_tokens)\n",
    "\n",
    "        pbar.update(1)\n",
    "duration_s = time.time() - t0\n",
    "duration_s"
   ]
  },
  {
   "cell_type": "markdown",
   "id": "35c21bdd-c455-4af0-99b7-14058cce6f67",
   "metadata": {},
   "source": [
    "## 개선해보기"
   ]
  },
  {
   "cell_type": "code",
   "execution_count": 53,
   "id": "5bcedd75-e1b1-47f1-8ac5-2b21fabe0d0a",
   "metadata": {},
   "outputs": [
    {
     "ename": "ImportError",
     "evalue": "cannot import name 'init_batch' from 'helpers' (D:\\GG_env\\llm_env\\lib\\site-packages\\helpers\\__init__.py)",
     "output_type": "error",
     "traceback": [
      "\u001b[1;31m-----------------------------------------------------------------------\u001b[0m",
      "\u001b[1;31mImportError\u001b[0m                           Traceback (most recent call last)",
      "Cell \u001b[1;32mIn[53], line 2\u001b[0m\n\u001b[0;32m      1\u001b[0m \u001b[38;5;28;01mimport\u001b[39;00m \u001b[38;5;21;01mhelpers\u001b[39;00m\n\u001b[1;32m----> 2\u001b[0m \u001b[38;5;28;01mfrom\u001b[39;00m \u001b[38;5;21;01mhelpers\u001b[39;00m \u001b[38;5;28;01mimport\u001b[39;00m init_batch, generate_next_token\n\u001b[0;32m      3\u001b[0m \u001b[38;5;28;01mfrom\u001b[39;00m \u001b[38;5;21;01mhelpers\u001b[39;00m \u001b[38;5;28;01mimport\u001b[39;00m merge_batches, filter_batches\n",
      "\u001b[1;31mImportError\u001b[0m: cannot import name 'init_batch' from 'helpers' (D:\\GG_env\\llm_env\\lib\\site-packages\\helpers\\__init__.py)"
     ]
    }
   ],
   "source": [
    "import helpers\n",
    "from helpers import init_batch, generate_next_token\n",
    "from helpers import merge_batches, filter_batches"
   ]
  },
  {
   "cell_type": "code",
   "execution_count": null,
   "id": "cdd8f659-1271-4b52-aa6a-f9297a5ef27e",
   "metadata": {},
   "outputs": [],
   "source": [
    "random.seed(42)\n",
    "\n",
    "# constants\n",
    "queue_size = 32\n",
    "batch_size = 8\n",
    "\n",
    "# requests waiting to be processed\n",
    "# requests are tuples (prompt, max_tokens)\n",
    "request_queue = [\n",
    "    (prompts[0], 100 if i % batch_size == 0 else 10)\n",
    "    for i in range(queue_size)\n",
    "]\n",
    "\n",
    "\n",
    "t0 = time.time()\n",
    "with tqdm(total=len(batches), desc=f\"bs: {batch_size}\") as pbar:\n",
    "    # first, let's seed the initial cached_batch\n",
    "    # with the first 'batch_size' input\n",
    "    # and run the initial prefill step\n",
    "    batch = init_batch(request_queue[:batch_size])\n",
    "    cached_batch = generate_next_token(batch)\n",
    "    request_queue = request_queue[batch_size:]\n",
    "\n",
    "    # continue until both the request queue is fully drained and every input within the cached_batch has completed generation\n",
    "    while (\n",
    "        len(request_queue) > 0 or\n",
    "        cached_batch['input_ids'].size(0) > 0\n",
    "    ):\n",
    "        batch_capacity = (\n",
    "            batch_size - cached_batch[\"input_ids\"].size(0)\n",
    "        )\n",
    "        if batch_capacity > 0 and len(request_queue) > 0:\n",
    "            # prefill\n",
    "            new_batch = init_batch(request_queue[:batch_capacity])\n",
    "            new_batch = generate_next_token(new_batch)\n",
    "            request_queue = request_queue[batch_capacity:]\n",
    "\n",
    "            # merge\n",
    "            cached_batch = merge_batches(cached_batch, new_batch)\n",
    "\n",
    "        # decode\n",
    "        cached_batch = generate_next_token(cached_batch)\n",
    "\n",
    "        # remove any inputs that have finished generation\n",
    "        cached_batch, removed_indices = filter_batch(cached_batch)\n",
    "        pbar.update(len(removed_indices))\n",
    "    \n",
    "duration_s = time.time() - t0\n",
    "duration_s"
   ]
  },
  {
   "cell_type": "code",
   "execution_count": null,
   "id": "10abe88f-5bc8-4a9d-86a3-ec29b9945001",
   "metadata": {},
   "outputs": [],
   "source": []
  }
 ],
 "metadata": {
  "kernelspec": {
   "display_name": "Python 3 (ipykernel)",
   "language": "python",
   "name": "python3"
  },
  "language_info": {
   "codemirror_mode": {
    "name": "ipython",
    "version": 3
   },
   "file_extension": ".py",
   "mimetype": "text/x-python",
   "name": "python",
   "nbconvert_exporter": "python",
   "pygments_lexer": "ipython3",
   "version": "3.10.11"
  }
 },
 "nbformat": 4,
 "nbformat_minor": 5
}
