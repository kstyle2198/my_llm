{
 "cells": [
  {
   "cell_type": "code",
   "execution_count": 87,
   "id": "8f2d4d97-0168-4469-9cfe-9437f59387a6",
   "metadata": {},
   "outputs": [],
   "source": [
    "import copy\n",
    "import matplotlib.pyplot as plt\n",
    "import numpy as np\n",
    "import random\n",
    "import time\n",
    "import torch\n",
    "import torch.nn.functional as F\n",
    "from tqdm import tqdm"
   ]
  },
  {
   "cell_type": "code",
   "execution_count": 88,
   "id": "b41ee44b-307d-48ef-aae2-618e8eaa91a6",
   "metadata": {},
   "outputs": [
    {
     "data": {
      "text/plain": [
       "<torch._C.Generator at 0x235ca1596f0>"
      ]
     },
     "execution_count": 88,
     "metadata": {},
     "output_type": "execute_result"
    }
   ],
   "source": [
    "torch.manual_seed(42)"
   ]
  },
  {
   "cell_type": "code",
   "execution_count": 89,
   "id": "5930f8d6-1d48-4f1a-923c-adc088e6792b",
   "metadata": {},
   "outputs": [],
   "source": [
    "class TestModel(torch.nn.Module):\n",
    "    def __init__(self, hidden_size):\n",
    "        super().__init__()\n",
    "        self.embedding = torch.nn.Embedding(10, hidden_size)\n",
    "        self.linear = torch.nn.Linear(hidden_size, hidden_size)\n",
    "        self.lm_head = torch.nn.Linear(hidden_size, 10)\n",
    "    def forward(self, input_ids):\n",
    "        x = self.embedding(input_ids)\n",
    "        x = self.linear(x)\n",
    "        x = self.lm_head(x)\n",
    "        return x"
   ]
  },
  {
   "cell_type": "code",
   "execution_count": 90,
   "id": "a16865e3-c5c6-4faa-89d1-988ac2d50e2f",
   "metadata": {},
   "outputs": [
    {
     "data": {
      "text/plain": [
       "TestModel(\n",
       "  (embedding): Embedding(10, 1024)\n",
       "  (linear): Linear(in_features=1024, out_features=1024, bias=True)\n",
       "  (lm_head): Linear(in_features=1024, out_features=10, bias=True)\n",
       ")"
      ]
     },
     "execution_count": 90,
     "metadata": {},
     "output_type": "execute_result"
    }
   ],
   "source": [
    "# Set a reasonably large hidden size to illustrate the small fraction\n",
    "# params needed to be added for LoRA\n",
    "hidden_size = 1024\n",
    "model = TestModel(hidden_size)\n",
    "model"
   ]
  },
  {
   "cell_type": "code",
   "execution_count": 91,
   "id": "82c11fe9-2d0b-47aa-b5fd-a1fd404ceac6",
   "metadata": {},
   "outputs": [],
   "source": [
    "# dummy inputs\n",
    "input_ids = torch.LongTensor([[0, 1, 2, 3, 4, 5, 6, 7]])"
   ]
  },
  {
   "cell_type": "code",
   "execution_count": 92,
   "id": "17ee8dcf-3525-4772-ac19-466d674d3636",
   "metadata": {},
   "outputs": [],
   "source": [
    "# toy example of a detokenizer. the vocabular only consists of 10 words(colors)\n",
    "detokenizer = [\n",
    "    \"red\",\n",
    "    \"orange\",\n",
    "    \"yellow\",\n",
    "    \"green\",\n",
    "    \"blue\",\n",
    "    \"indigo\",\n",
    "    \"violet\",\n",
    "    \"magenta\",\n",
    "    \"marigold\",\n",
    "    \"chartreuse\",\n",
    "]"
   ]
  },
  {
   "cell_type": "code",
   "execution_count": 93,
   "id": "930f14c7-a3e0-40fa-89bf-e677fe7e2bae",
   "metadata": {},
   "outputs": [],
   "source": [
    "def generate_token(model, **kwargs):\n",
    "    with torch.no_grad():\n",
    "        logits = model(**kwargs)\n",
    "    last_logits = logits[:, -1, :]\n",
    "    next_token_ids = last_logits.argmax(dim=1)\n",
    "    return [detokenizer[token_id] for token_id in next_token_ids]"
   ]
  },
  {
   "cell_type": "code",
   "execution_count": 94,
   "id": "3588839b-95c9-4077-b5d1-7d909182eb7b",
   "metadata": {},
   "outputs": [
    {
     "data": {
      "text/plain": [
       "'magenta'"
      ]
     },
     "execution_count": 94,
     "metadata": {},
     "output_type": "execute_result"
    }
   ],
   "source": [
    "# generate one token\n",
    "next_token = generate_token(model, input_ids = input_ids)[0]\n",
    "next_token"
   ]
  },
  {
   "cell_type": "markdown",
   "id": "c1958a65-84f9-4fe1-a805-ff62e472d978",
   "metadata": {},
   "source": [
    "### 파인튜닝후에는 다른 토큰을 리턴할까?"
   ]
  },
  {
   "cell_type": "code",
   "execution_count": 95,
   "id": "d5becba4-8452-44e8-b6e8-aed8a7476b87",
   "metadata": {},
   "outputs": [
    {
     "data": {
      "text/plain": [
       "tensor([[[ 0.4333, -1.3517, -0.8030,  ..., -1.0855,  3.2371, -1.4757],\n",
       "         [ 0.9492,  0.5531,  0.8596,  ...,  1.1852, -0.9520,  1.4142],\n",
       "         [-1.0038, -0.1944, -0.1730,  ...,  0.8175, -2.7022,  1.8578],\n",
       "         ...,\n",
       "         [ 0.4469,  2.3303,  1.6584,  ...,  0.6878, -1.8856, -1.2131],\n",
       "         [ 1.2963,  2.1563, -1.4809,  ...,  0.4633, -0.4596, -1.7364],\n",
       "         [ 0.8114, -0.1914, -0.0934,  ...,  0.4458,  1.4660, -0.1785]]])"
      ]
     },
     "execution_count": 95,
     "metadata": {},
     "output_type": "execute_result"
    }
   ],
   "source": [
    "# dummy input tensor\n",
    "# shape: (batch_size, sequence_length, hidden_size)\n",
    "X = torch.randn(1, 8, 1024)\n",
    "X"
   ]
  },
  {
   "cell_type": "code",
   "execution_count": 96,
   "id": "d25a7b80-7463-4876-93a0-142570b4c161",
   "metadata": {},
   "outputs": [
    {
     "data": {
      "text/plain": [
       "tensor([[ 0.3235,  0.7884, -0.9153,  ..., -0.4534,  0.8730,  0.3989],\n",
       "        [ 1.1461,  0.3800,  1.0853,  ..., -0.9835, -0.0224, -0.7409]])"
      ]
     },
     "execution_count": 96,
     "metadata": {},
     "output_type": "execute_result"
    }
   ],
   "source": [
    "# LoRA A and B tensors\n",
    "# A has shape (hidden_size, rank)\n",
    "# B has shape (rank, hidden_size)\n",
    "\n",
    "lora_a = torch.rand(1024, 2)\n",
    "lora_b = torch.randn(2, 1024)\n",
    "lora_b"
   ]
  },
  {
   "cell_type": "code",
   "execution_count": 97,
   "id": "465277ac-71f6-4abb-a33e-da52f4efca97",
   "metadata": {},
   "outputs": [
    {
     "data": {
      "text/plain": [
       "(Parameter containing:\n",
       " tensor([[-0.0051, -0.0010,  0.0130,  ...,  0.0187, -0.0248, -0.0170],\n",
       "         [ 0.0167,  0.0076, -0.0195,  ...,  0.0023, -0.0163, -0.0182],\n",
       "         [-0.0007,  0.0109, -0.0289,  ...,  0.0252,  0.0312, -0.0050],\n",
       "         ...,\n",
       "         [ 0.0164,  0.0051,  0.0104,  ..., -0.0112, -0.0014, -0.0035],\n",
       "         [ 0.0232,  0.0213,  0.0242,  ..., -0.0245, -0.0309,  0.0131],\n",
       "         [ 0.0124, -0.0065, -0.0124,  ..., -0.0310,  0.0094,  0.0193]],\n",
       "        requires_grad=True),\n",
       " torch.Size([1024, 1024]))"
      ]
     },
     "execution_count": 97,
     "metadata": {},
     "output_type": "execute_result"
    }
   ],
   "source": [
    "W = model.linear.weight\n",
    "W, W.shape"
   ]
  },
  {
   "cell_type": "code",
   "execution_count": 98,
   "id": "e170c62e-f593-4ada-a523-3b06a716ea1c",
   "metadata": {},
   "outputs": [
    {
     "data": {
      "text/plain": [
       "torch.Size([1024, 1024])"
      ]
     },
     "execution_count": 98,
     "metadata": {},
     "output_type": "execute_result"
    }
   ],
   "source": [
    "W2 = lora_a @ lora_b\n",
    "W2.shape"
   ]
  },
  {
   "cell_type": "code",
   "execution_count": 99,
   "id": "d26cc0d7-c38a-4ceb-9988-c04fca76ded2",
   "metadata": {},
   "outputs": [
    {
     "name": "stdout",
     "output_type": "stream",
     "text": [
      "|A+B| / |w|: 0.00390625\n"
     ]
    }
   ],
   "source": [
    "# compare number of elements of A and B with number of elements of W\n",
    "# W here has shape (hidden_size, hidden_size)\n",
    "\n",
    "lora_numel = lora_a.numel() + lora_b.numel()\n",
    "base_numel = W.numel()\n",
    "print(f\"|A+B| / |w|: {lora_numel / base_numel}\")"
   ]
  },
  {
   "cell_type": "code",
   "execution_count": 100,
   "id": "a72dc27e-eedc-490f-b6e0-13bf8ae873cc",
   "metadata": {},
   "outputs": [
    {
     "data": {
      "text/plain": [
       "torch.Size([1, 8, 1024])"
      ]
     },
     "execution_count": 100,
     "metadata": {},
     "output_type": "execute_result"
    }
   ],
   "source": [
    "# compute the output of X @ W (the original linear layer)\n",
    "base_output = model.linear(X)\n",
    "\n",
    "# compute the output of X @ A @ B (the added lora adapter)\n",
    "lora_output = X @ lora_a @ lora_b\n",
    "\n",
    "# sum them together\n",
    "total_output = base_output + lora_output\n",
    "\n",
    "# output should have the same shape as the original output:\n",
    "# (batch_size, squence_length, hidden_size)\n",
    "total_output.shape"
   ]
  },
  {
   "cell_type": "code",
   "execution_count": 101,
   "id": "de5ca2b9-f751-4073-80d3-997f4a8b56ab",
   "metadata": {},
   "outputs": [],
   "source": [
    "# class LoraLayer(torch.nn.Module):\n",
    "#     def __init__(self, base_layer, r):\n",
    "#         super().__init__()\n",
    "#         self.base_layer = base_layer\n",
    "\n",
    "#         d_in, d_out = self.base_layer.weight.shape\n",
    "#         self.lora_a = torch.randn(d_in, r)\n",
    "#         self.lora_b = torch.randn(r, d_out)\n",
    "\n",
    "#     def forward(self, x):\n",
    "#         y1 = self.base_layer(x)\n",
    "#         y2 = x @ self.lora_a @ self.lora_b\n",
    "#         return y1 + y2"
   ]
  },
  {
   "cell_type": "code",
   "execution_count": 102,
   "id": "ea7f7a34-3caa-4698-95f2-0a728390fa67",
   "metadata": {},
   "outputs": [],
   "source": [
    "class LoraLayer(torch.nn.Module):\n",
    "    def __init__(self, base_layer, r):\n",
    "        super().__init__()\n",
    "        self.base_layer = base_layer\n",
    "\n",
    "        if isinstance(base_layer, torch.nn.Embedding):\n",
    "            # If base_layer is an embedding layer\n",
    "            self.embedding = True\n",
    "        elif isinstance(base_layer, torch.nn.Linear):\n",
    "            # If base_layer is a linear layer\n",
    "            d_in, d_out = self.base_layer.weight.shape\n",
    "            self.lora_a = torch.randn(d_in, r)\n",
    "            self.lora_b = torch.randn(r, d_out)\n",
    "            self.embedding = False\n",
    "        else:\n",
    "            raise ValueError(\"Unsupported base_layer type\")\n",
    "\n",
    "    def forward(self, x):\n",
    "        if self.embedding:\n",
    "            y1 = self.base_layer(x)\n",
    "            return y1\n",
    "        else:\n",
    "            y1 = self.base_layer(x)\n",
    "            y2 = x @ self.lora_a @ self.lora_b\n",
    "            return y1 + y2"
   ]
  },
  {
   "cell_type": "code",
   "execution_count": 103,
   "id": "9606b954-f0a6-469d-b49a-4894396ab8a8",
   "metadata": {},
   "outputs": [
    {
     "data": {
      "text/plain": [
       "torch.Size([1, 8, 1024])"
      ]
     },
     "execution_count": 103,
     "metadata": {},
     "output_type": "execute_result"
    }
   ],
   "source": [
    "# wrap the linear layer of our toy model, use rank 2\n",
    "hidden_size = 1024\n",
    "model = TestModel(hidden_size)\n",
    "lora_layer = LoraLayer(model.linear, 2)\n",
    "lora_layer(X).shape"
   ]
  },
  {
   "cell_type": "code",
   "execution_count": 104,
   "id": "ae9e4e99-5a03-41cc-bf9f-5924858c4a0e",
   "metadata": {},
   "outputs": [
    {
     "data": {
      "text/plain": [
       "LoraLayer(\n",
       "  (base_layer): Linear(in_features=1024, out_features=1024, bias=True)\n",
       ")"
      ]
     },
     "execution_count": 104,
     "metadata": {},
     "output_type": "execute_result"
    }
   ],
   "source": [
    "lora_layer"
   ]
  },
  {
   "cell_type": "code",
   "execution_count": 105,
   "id": "f9fb0379-2436-4171-a7d4-f0bdc476ac85",
   "metadata": {},
   "outputs": [
    {
     "data": {
      "text/plain": [
       "TestModel(\n",
       "  (embedding): Embedding(10, 1024)\n",
       "  (linear): Linear(in_features=1024, out_features=1024, bias=True)\n",
       "  (lm_head): Linear(in_features=1024, out_features=10, bias=True)\n",
       ")"
      ]
     },
     "execution_count": 105,
     "metadata": {},
     "output_type": "execute_result"
    }
   ],
   "source": [
    "model"
   ]
  },
  {
   "cell_type": "code",
   "execution_count": 106,
   "id": "50ae06b0-651f-43de-8419-39f9b828f2bb",
   "metadata": {},
   "outputs": [
    {
     "data": {
      "text/plain": [
       "'blue'"
      ]
     },
     "execution_count": 106,
     "metadata": {},
     "output_type": "execute_result"
    }
   ],
   "source": [
    "next_token = generate_token(model, input_ids = input_ids)[0]\n",
    "next_token"
   ]
  },
  {
   "cell_type": "code",
   "execution_count": null,
   "id": "76552916-dff4-4af6-8a03-f189de6b7ce7",
   "metadata": {},
   "outputs": [],
   "source": []
  }
 ],
 "metadata": {
  "kernelspec": {
   "display_name": "Python 3 (ipykernel)",
   "language": "python",
   "name": "python3"
  },
  "language_info": {
   "codemirror_mode": {
    "name": "ipython",
    "version": 3
   },
   "file_extension": ".py",
   "mimetype": "text/x-python",
   "name": "python",
   "nbconvert_exporter": "python",
   "pygments_lexer": "ipython3",
   "version": "3.10.11"
  }
 },
 "nbformat": 4,
 "nbformat_minor": 5
}
