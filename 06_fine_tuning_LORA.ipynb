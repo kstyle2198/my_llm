{
 "cells": [
  {
   "cell_type": "markdown",
   "id": "352aabc0-a327-422b-aa35-c090fd55c79b",
   "metadata": {},
   "source": [
    "# 검토 프로세스\n",
    "- Google Alert으로 경쟁사 뉴스를 수집한다.\n",
    "\n",
    "- IFTTT를 활용하여 수집된 뉴스를 Google Sheet에 저장(모음)\n",
    "\n",
    "- Google API 활용하여 Python 으로 Google Sheet 데이터 불러온다.(service_account.json 파일 생성)\n",
    "\n",
    "- 대상 google sheet 우상단 share 버튼 클릭후, 서비스계정 이메일을 추가한다.\n",
    "\n",
    "- Bert 모델 불러온후, Fine tunning 한다.\n",
    "\n",
    "- Best Model을 활용하여 경쟁사 뉴스에 대해 감정 분류를 한다."
   ]
  },
  {
   "cell_type": "markdown",
   "id": "b458b69a-a112-4ec2-b131-ab9320bf9dce",
   "metadata": {},
   "source": [
    "# Get Data from GoogleSheet"
   ]
  },
  {
   "cell_type": "code",
   "execution_count": 1,
   "id": "51a2e02d-6877-488a-b48c-1b410cb958a6",
   "metadata": {},
   "outputs": [],
   "source": [
    "import gspread"
   ]
  },
  {
   "cell_type": "code",
   "execution_count": 2,
   "id": "32e700a3-5267-40a8-8298-8baed7fad490",
   "metadata": {},
   "outputs": [
    {
     "data": {
      "text/plain": [
       "[['March 28, 2024 at 01:38AM',\n",
       "  '한화솔루션, 이사회 의장에 첫 사외이사 선임 - 문화저널21',\n",
       "  'https://www.mhj21.com/160140',\n",
       "  '... (한화솔루션), 조지 P. 부시(<b>한화오션</b>) 등 외국인 사외이사를 선임하며 이사회 다양성과 전문성 확보를 위해 노력해왔다. 한화그룹 측은 &quot;한화솔루션의 첫&nbsp;...',\n",
       "  'Google Alert - 한화오션',\n",
       "  'https://www.google.com/alerts/feeds/03846553419935279766/11817066535797571903'],\n",
       " ['March 28, 2024 at 04:02AM',\n",
       "  \"한국형 차기 구축함, 방산물자 지정…HD현대重·한화오션 '수주전' - 네이트 뉴스\",\n",
       "  'https://news.nate.com/view/20240327n26903?mid=n0200',\n",
       "  'KDDX의 기본설계를 했던 HD현대중공업이 상세설계 및 선도함 건조 사업을 맡게 될지, 아니면 <b>한화오션</b>이 참가하는 경쟁 구도가 만들어질지 주목된다. 27일&nbsp;...',\n",
       "  'Google Alert - 한화오션',\n",
       "  'https://www.google.com/alerts/feeds/03846553419935279766/11817066535797571903']]"
      ]
     },
     "execution_count": 2,
     "metadata": {},
     "output_type": "execute_result"
    }
   ],
   "source": [
    "sa = gspread.service_account(\"./apikey/news-sentiment-410622-343461f18c24.json\")\n",
    "sh = sa.open(\"한화오션\")  #\"삼성중공업\" 도 가능\n",
    "wks = sh.worksheet(\"Sheet1\")\n",
    "list_data = wks.get_all_values()\n",
    "list_data[-2:]"
   ]
  },
  {
   "cell_type": "markdown",
   "id": "0bea0c13-f931-4412-b9e1-b6244d78da08",
   "metadata": {},
   "source": [
    "# Dataframe 변환후 전처리"
   ]
  },
  {
   "cell_type": "code",
   "execution_count": 3,
   "id": "8134809b-bd4b-4fa2-b222-6d7283358842",
   "metadata": {},
   "outputs": [
    {
     "data": {
      "text/html": [
       "<div>\n",
       "<style scoped>\n",
       "    .dataframe tbody tr th:only-of-type {\n",
       "        vertical-align: middle;\n",
       "    }\n",
       "\n",
       "    .dataframe tbody tr th {\n",
       "        vertical-align: top;\n",
       "    }\n",
       "\n",
       "    .dataframe thead th {\n",
       "        text-align: right;\n",
       "    }\n",
       "</style>\n",
       "<table border=\"1\" class=\"dataframe\">\n",
       "  <thead>\n",
       "    <tr style=\"text-align: right;\">\n",
       "      <th></th>\n",
       "      <th>Timestamp</th>\n",
       "      <th>Title</th>\n",
       "      <th>URL</th>\n",
       "      <th>Content</th>\n",
       "      <th>Source</th>\n",
       "      <th>Source URL</th>\n",
       "    </tr>\n",
       "  </thead>\n",
       "  <tbody>\n",
       "    <tr>\n",
       "      <th>0</th>\n",
       "      <td>March 06, 2024 at 09:11PM</td>\n",
       "      <td>[보도국 지금] 특수선 양강 구도 한화오션-HD현대중공업, 갈등 거세져 - 헬로tv뉴스</td>\n",
       "      <td>http://news.lghellovision.net/news/articleView...</td>\n",
       "      <td>[앵커]약 8조 원 규모의 사업인 한국형 차기 구축함 KDDX를 두고 특수선 사업 ...</td>\n",
       "      <td>Google Alert - 한화오션</td>\n",
       "      <td>https://www.google.com/alerts/feeds/0384655341...</td>\n",
       "    </tr>\n",
       "    <tr>\n",
       "      <th>1</th>\n",
       "      <td>March 06, 2024 at 09:16PM</td>\n",
       "      <td>한화오션 “현대重 임원 기밀유출 개입 정황… 엄중 수사를” - 경남신문</td>\n",
       "      <td>https://m.knnews.co.kr/mView.php?idxno=1427195...</td>\n",
       "      <td>&lt;b&gt;한화오션&lt;/b&gt;은 6일 거제시청 브리핑룸에서 한국형 차기구축함(KDDX) 사업...</td>\n",
       "      <td>Google Alert - 한화오션</td>\n",
       "      <td>https://www.google.com/alerts/feeds/0384655341...</td>\n",
       "    </tr>\n",
       "    <tr>\n",
       "      <th>2</th>\n",
       "      <td>March 06, 2024 at 09:18PM</td>\n",
       "      <td>7조 원대 구축함 수주전…한화오션, HD현대 고발 '확전' / KBS 2024.03...</td>\n",
       "      <td>https://www.youtube.com/watch?v=GnvQyft9x_E</td>\n",
       "      <td>[앵커] &lt;b&gt;한화오션&lt;/b&gt;이 경쟁사인 HD현대중공업 임원을 경찰에 고발했습니다....</td>\n",
       "      <td>Google Alert - 한화오션</td>\n",
       "      <td>https://www.google.com/alerts/feeds/0384655341...</td>\n",
       "    </tr>\n",
       "    <tr>\n",
       "      <th>3</th>\n",
       "      <td>March 06, 2024 at 09:50PM</td>\n",
       "      <td>중국과 경쟁하기 바쁜데…우리 조선업계는 '전쟁 중'?</td>\n",
       "      <td>https://news.kbs.co.kr/news/view.do?ncd=7906866</td>\n",
       "      <td>&lt;b&gt;한화오션&lt;/b&gt;은 즉각 반발했습니다. 그제(4일) 경찰청 국가수사본부에 HD현...</td>\n",
       "      <td>Google Alert - 한화오션</td>\n",
       "      <td>https://www.google.com/alerts/feeds/0384655341...</td>\n",
       "    </tr>\n",
       "    <tr>\n",
       "      <th>4</th>\n",
       "      <td>March 06, 2024 at 10:07PM</td>\n",
       "      <td>정규직 용접공 8700만원, 하청 4500만원… 위기 때마다 하청만 깎여 - 조선일보</td>\n",
       "      <td>https://www.chosun.com/national/national_gener...</td>\n",
       "      <td>... 하청 35년 차 용접공의 한숨 경남 거제의 &lt;b&gt;한화오션&lt;/b&gt;옛 대우조선해...</td>\n",
       "      <td>Google Alert - 한화오션</td>\n",
       "      <td>https://www.google.com/alerts/feeds/0384655341...</td>\n",
       "    </tr>\n",
       "  </tbody>\n",
       "</table>\n",
       "</div>"
      ],
      "text/plain": [
       "                   Timestamp  \\\n",
       "0  March 06, 2024 at 09:11PM   \n",
       "1  March 06, 2024 at 09:16PM   \n",
       "2  March 06, 2024 at 09:18PM   \n",
       "3  March 06, 2024 at 09:50PM   \n",
       "4  March 06, 2024 at 10:07PM   \n",
       "\n",
       "                                               Title  \\\n",
       "0   [보도국 지금] 특수선 양강 구도 한화오션-HD현대중공업, 갈등 거세져 - 헬로tv뉴스   \n",
       "1            한화오션 “현대重 임원 기밀유출 개입 정황… 엄중 수사를” - 경남신문   \n",
       "2  7조 원대 구축함 수주전…한화오션, HD현대 고발 '확전' / KBS 2024.03...   \n",
       "3                      중국과 경쟁하기 바쁜데…우리 조선업계는 '전쟁 중'?   \n",
       "4    정규직 용접공 8700만원, 하청 4500만원… 위기 때마다 하청만 깎여 - 조선일보   \n",
       "\n",
       "                                                 URL  \\\n",
       "0  http://news.lghellovision.net/news/articleView...   \n",
       "1  https://m.knnews.co.kr/mView.php?idxno=1427195...   \n",
       "2        https://www.youtube.com/watch?v=GnvQyft9x_E   \n",
       "3    https://news.kbs.co.kr/news/view.do?ncd=7906866   \n",
       "4  https://www.chosun.com/national/national_gener...   \n",
       "\n",
       "                                             Content               Source  \\\n",
       "0  [앵커]약 8조 원 규모의 사업인 한국형 차기 구축함 KDDX를 두고 특수선 사업 ...  Google Alert - 한화오션   \n",
       "1  <b>한화오션</b>은 6일 거제시청 브리핑룸에서 한국형 차기구축함(KDDX) 사업...  Google Alert - 한화오션   \n",
       "2  [앵커] <b>한화오션</b>이 경쟁사인 HD현대중공업 임원을 경찰에 고발했습니다....  Google Alert - 한화오션   \n",
       "3  <b>한화오션</b>은 즉각 반발했습니다. 그제(4일) 경찰청 국가수사본부에 HD현...  Google Alert - 한화오션   \n",
       "4  ... 하청 35년 차 용접공의 한숨 경남 거제의 <b>한화오션</b>옛 대우조선해...  Google Alert - 한화오션   \n",
       "\n",
       "                                          Source URL  \n",
       "0  https://www.google.com/alerts/feeds/0384655341...  \n",
       "1  https://www.google.com/alerts/feeds/0384655341...  \n",
       "2  https://www.google.com/alerts/feeds/0384655341...  \n",
       "3  https://www.google.com/alerts/feeds/0384655341...  \n",
       "4  https://www.google.com/alerts/feeds/0384655341...  "
      ]
     },
     "execution_count": 3,
     "metadata": {},
     "output_type": "execute_result"
    }
   ],
   "source": [
    "import pandas as pd\n",
    "columns = ['Timestamp', 'Title', 'URL', 'Content', 'Source', 'Source URL']\n",
    "df = pd.DataFrame(list_data, columns=columns)\n",
    "df.head()"
   ]
  },
  {
   "cell_type": "code",
   "execution_count": 4,
   "id": "d7049ba3-3a20-47aa-bb96-40801f79cc24",
   "metadata": {},
   "outputs": [],
   "source": [
    "def convert_datetime(date_string):\n",
    "  datetime_value = pd.to_datetime(date_string, format='%B %d, %Y at %I:%M%p')\n",
    "  return datetime_value"
   ]
  },
  {
   "cell_type": "code",
   "execution_count": 5,
   "id": "8b69259b-e9d8-4931-8a68-c5012662e6ad",
   "metadata": {},
   "outputs": [],
   "source": [
    "df[\"Timestamp\"] = df[\"Timestamp\"].apply(convert_datetime)"
   ]
  },
  {
   "cell_type": "code",
   "execution_count": 6,
   "id": "f7717fad-f46d-4337-b23d-a216922f6971",
   "metadata": {},
   "outputs": [],
   "source": [
    "df['date'] = df[\"Timestamp\"].dt.date\n",
    "df['month'] = df[\"Timestamp\"].dt.month"
   ]
  },
  {
   "cell_type": "code",
   "execution_count": 7,
   "id": "1b9b87e3-f5fc-4df0-9903-b3ce90b9c034",
   "metadata": {},
   "outputs": [
    {
     "data": {
      "text/html": [
       "<div>\n",
       "<style scoped>\n",
       "    .dataframe tbody tr th:only-of-type {\n",
       "        vertical-align: middle;\n",
       "    }\n",
       "\n",
       "    .dataframe tbody tr th {\n",
       "        vertical-align: top;\n",
       "    }\n",
       "\n",
       "    .dataframe thead th {\n",
       "        text-align: right;\n",
       "    }\n",
       "</style>\n",
       "<table border=\"1\" class=\"dataframe\">\n",
       "  <thead>\n",
       "    <tr style=\"text-align: right;\">\n",
       "      <th></th>\n",
       "      <th>Timestamp</th>\n",
       "      <th>Title</th>\n",
       "      <th>URL</th>\n",
       "      <th>Content</th>\n",
       "      <th>Source</th>\n",
       "      <th>Source URL</th>\n",
       "      <th>date</th>\n",
       "      <th>month</th>\n",
       "    </tr>\n",
       "  </thead>\n",
       "  <tbody>\n",
       "    <tr>\n",
       "      <th>1325</th>\n",
       "      <td>2024-03-28 01:38:00</td>\n",
       "      <td>한화솔루션, 이사회 의장에 첫 사외이사 선임 - 문화저널21</td>\n",
       "      <td>https://www.mhj21.com/160140</td>\n",
       "      <td>... (한화솔루션), 조지 P. 부시(&lt;b&gt;한화오션&lt;/b&gt;) 등 외국인 사외이사를...</td>\n",
       "      <td>Google Alert - 한화오션</td>\n",
       "      <td>https://www.google.com/alerts/feeds/0384655341...</td>\n",
       "      <td>2024-03-28</td>\n",
       "      <td>3</td>\n",
       "    </tr>\n",
       "    <tr>\n",
       "      <th>1326</th>\n",
       "      <td>2024-03-28 04:02:00</td>\n",
       "      <td>한국형 차기 구축함, 방산물자 지정…HD현대重·한화오션 '수주전' - 네이트 뉴스</td>\n",
       "      <td>https://news.nate.com/view/20240327n26903?mid=...</td>\n",
       "      <td>KDDX의 기본설계를 했던 HD현대중공업이 상세설계 및 선도함 건조 사업을 맡게 될...</td>\n",
       "      <td>Google Alert - 한화오션</td>\n",
       "      <td>https://www.google.com/alerts/feeds/0384655341...</td>\n",
       "      <td>2024-03-28</td>\n",
       "      <td>3</td>\n",
       "    </tr>\n",
       "  </tbody>\n",
       "</table>\n",
       "</div>"
      ],
      "text/plain": [
       "               Timestamp                                          Title  \\\n",
       "1325 2024-03-28 01:38:00              한화솔루션, 이사회 의장에 첫 사외이사 선임 - 문화저널21   \n",
       "1326 2024-03-28 04:02:00  한국형 차기 구축함, 방산물자 지정…HD현대重·한화오션 '수주전' - 네이트 뉴스   \n",
       "\n",
       "                                                    URL  \\\n",
       "1325                       https://www.mhj21.com/160140   \n",
       "1326  https://news.nate.com/view/20240327n26903?mid=...   \n",
       "\n",
       "                                                Content               Source  \\\n",
       "1325  ... (한화솔루션), 조지 P. 부시(<b>한화오션</b>) 등 외국인 사외이사를...  Google Alert - 한화오션   \n",
       "1326  KDDX의 기본설계를 했던 HD현대중공업이 상세설계 및 선도함 건조 사업을 맡게 될...  Google Alert - 한화오션   \n",
       "\n",
       "                                             Source URL        date  month  \n",
       "1325  https://www.google.com/alerts/feeds/0384655341...  2024-03-28      3  \n",
       "1326  https://www.google.com/alerts/feeds/0384655341...  2024-03-28      3  "
      ]
     },
     "execution_count": 7,
     "metadata": {},
     "output_type": "execute_result"
    }
   ],
   "source": [
    "df.tail(2)"
   ]
  },
  {
   "cell_type": "code",
   "execution_count": 8,
   "id": "bfb6282f-2c54-49d8-a638-7277d8de7755",
   "metadata": {},
   "outputs": [
    {
     "name": "stderr",
     "output_type": "stream",
     "text": [
      "[nltk_data] Downloading package stopwords to\n",
      "[nltk_data]     C:\\Users\\jongb\\AppData\\Roaming\\nltk_data...\n",
      "[nltk_data]   Package stopwords is already up-to-date!\n",
      "[nltk_data] Downloading package punkt to\n",
      "[nltk_data]     C:\\Users\\jongb\\AppData\\Roaming\\nltk_data...\n",
      "[nltk_data]   Package punkt is already up-to-date!\n"
     ]
    },
    {
     "data": {
      "text/plain": [
       "True"
      ]
     },
     "execution_count": 8,
     "metadata": {},
     "output_type": "execute_result"
    }
   ],
   "source": [
    "import nltk\n",
    "nltk.download('stopwords')\n",
    "nltk.download('punkt')"
   ]
  },
  {
   "cell_type": "code",
   "execution_count": 9,
   "id": "717e9a63-16c0-48f9-b857-c998f2b7b0e3",
   "metadata": {},
   "outputs": [],
   "source": [
    "add_stopwords = [\"\", \".\", \"...\", \"·\", \"for\", \"to\", \"with\", \"is\", \"%\", \"(\", \")\", \"?\", \"[\", \"]\", \"{\", \"}\", \",\", \";\", \":\", \"-\", \"./\", \"/\", \"”\",\"’\", \"*\", \"&\", \"“\", \"``\", \"'\",\n",
    "                \"내\", \"1\", \"2\", \"3\", \"4\", \"5\", \"6\", \"7\", \"8\", \"9\", \"10\", \"11\", \"12\", \"13\", \"14\", \"15\", \"16\", \"17\", \"18\", \"19\", \"20\", '==', 'etc…', 'p+',\n",
    "                \"kg㎠\", \"shall\", \"one\", \"two\", \"three\"]"
   ]
  },
  {
   "cell_type": "code",
   "execution_count": 10,
   "id": "d8b9eb89-7ec1-4773-82ea-becd72e41944",
   "metadata": {},
   "outputs": [],
   "source": [
    "from nltk.corpus import stopwords\n",
    "from nltk.tokenize import word_tokenize\n",
    "import re\n",
    "from nltk.stem import PorterStemmer\n",
    "from nltk.stem import WordNetLemmatizer\n",
    "\n",
    "def clean_text(\n",
    "    string:str,\n",
    "    punctuations=r'''!()-[]{};:'\"\\,<>./?@#$%^&*_~''',\n",
    "    stop_words=['the', 'a', 'and', 'is', 'be', 'will']) -> str:\n",
    "    \"\"\"\n",
    "    A method to clean text\n",
    "    \"\"\"\n",
    "    global add_stopwords\n",
    "    stop_words_list = stopwords.words('english')\n",
    "    stop_words_list = stop_words_list + add_stopwords\n",
    "\n",
    "    # Cleaning the urls\n",
    "    string = re.sub(r'https?://\\S+|www\\.\\S+', '', string)\n",
    "\n",
    "    # Cleaning the html elements\n",
    "    string = re.sub(r'<.*?>', '', string)\n",
    "\n",
    "    # 한글 제거\n",
    "    # string = re.sub(r'[가-힣]+', '', string)\n",
    "\n",
    "    # 텍스트내 숫자만 제거\n",
    "    # string1=\"\"\n",
    "    # for t in string:\n",
    "    #     t1 = re.sub(r'\\b\\d+\\b', '', t)\n",
    "    #     string1 += t1\n",
    "    # string = string1\n",
    "\n",
    "    # Removing the punctuations\n",
    "    for x in string.lower():\n",
    "        # x = re.sub(r'\\b\\d+\\b', '', x)\n",
    "        if x in punctuations:\n",
    "            string = string.replace(x, \"\")\n",
    "\n",
    "    # Converting the text to lower\n",
    "    string = string.lower()\n",
    "\n",
    "    # Cleaning the whitespaces\n",
    "    string = re.sub(r'\\s+', ' ', string).strip()\n",
    "\n",
    "\n",
    "    return string"
   ]
  },
  {
   "cell_type": "code",
   "execution_count": 11,
   "id": "2d2d6be4-5bc6-45ef-9123-622a55fd2f16",
   "metadata": {},
   "outputs": [],
   "source": [
    "df[\"Content\"] = df[\"Content\"].apply(clean_text)"
   ]
  },
  {
   "cell_type": "code",
   "execution_count": 12,
   "id": "21f21069-b66a-4c9b-8fdc-b1d03fc94b89",
   "metadata": {},
   "outputs": [
    {
     "data": {
      "text/html": [
       "<div>\n",
       "<style scoped>\n",
       "    .dataframe tbody tr th:only-of-type {\n",
       "        vertical-align: middle;\n",
       "    }\n",
       "\n",
       "    .dataframe tbody tr th {\n",
       "        vertical-align: top;\n",
       "    }\n",
       "\n",
       "    .dataframe thead th {\n",
       "        text-align: right;\n",
       "    }\n",
       "</style>\n",
       "<table border=\"1\" class=\"dataframe\">\n",
       "  <thead>\n",
       "    <tr style=\"text-align: right;\">\n",
       "      <th></th>\n",
       "      <th>Timestamp</th>\n",
       "      <th>Title</th>\n",
       "      <th>URL</th>\n",
       "      <th>Content</th>\n",
       "      <th>Source</th>\n",
       "      <th>Source URL</th>\n",
       "      <th>date</th>\n",
       "      <th>month</th>\n",
       "    </tr>\n",
       "  </thead>\n",
       "  <tbody>\n",
       "    <tr>\n",
       "      <th>1322</th>\n",
       "      <td>2024-03-27 22:30:00</td>\n",
       "      <td>[MTN머니로 상한가 포착] MS와 AI기반 사이버보안 기술 개발 헙무협약, 샌즈랩 급등</td>\n",
       "      <td>https://news.mt.co.kr/mtview.php?no=2024032713...</td>\n",
       "      <td>머니로 top랭킹에 따르면 현재 종목랭킹은 아래와 같다 종목검색순위 hb솔루션 네오...</td>\n",
       "      <td>Google Alert - 한화오션</td>\n",
       "      <td>https://www.google.com/alerts/feeds/0384655341...</td>\n",
       "      <td>2024-03-27</td>\n",
       "      <td>3</td>\n",
       "    </tr>\n",
       "    <tr>\n",
       "      <th>1323</th>\n",
       "      <td>2024-03-28 00:31:00</td>\n",
       "      <td>막 숨통 트인 조선업계, 노조에 발목 잡힐라 '전정긍긍' - 국민일보</td>\n",
       "      <td>https://www.kmib.co.kr/article/view.asp?arcid=...</td>\n",
       "      <td>한화오션은 지난해 매출액 7조4000억원과 영업손실 1965억원을 기록했다 hd현대...</td>\n",
       "      <td>Google Alert - 한화오션</td>\n",
       "      <td>https://www.google.com/alerts/feeds/0384655341...</td>\n",
       "      <td>2024-03-28</td>\n",
       "      <td>3</td>\n",
       "    </tr>\n",
       "    <tr>\n",
       "      <th>1324</th>\n",
       "      <td>2024-03-28 00:46:00</td>\n",
       "      <td>\"고령층 뇌 질환 보험금 청구, 10년새 3배↑···30∙40대는 부정맥 주의해야\"...</td>\n",
       "      <td>https://www.4th.kr/news/articleView.html?idxno...</td>\n",
       "      <td>연령대별 뇌혈관질환 발생고객 추이사진=한화생명 포쓰저널=박소연 10 한화오션 권혁웅...</td>\n",
       "      <td>Google Alert - 한화오션</td>\n",
       "      <td>https://www.google.com/alerts/feeds/0384655341...</td>\n",
       "      <td>2024-03-28</td>\n",
       "      <td>3</td>\n",
       "    </tr>\n",
       "    <tr>\n",
       "      <th>1325</th>\n",
       "      <td>2024-03-28 01:38:00</td>\n",
       "      <td>한화솔루션, 이사회 의장에 첫 사외이사 선임 - 문화저널21</td>\n",
       "      <td>https://www.mhj21.com/160140</td>\n",
       "      <td>한화솔루션 조지 p 부시한화오션 등 외국인 사외이사를 선임하며 이사회 다양성과 전문...</td>\n",
       "      <td>Google Alert - 한화오션</td>\n",
       "      <td>https://www.google.com/alerts/feeds/0384655341...</td>\n",
       "      <td>2024-03-28</td>\n",
       "      <td>3</td>\n",
       "    </tr>\n",
       "    <tr>\n",
       "      <th>1326</th>\n",
       "      <td>2024-03-28 04:02:00</td>\n",
       "      <td>한국형 차기 구축함, 방산물자 지정…HD현대重·한화오션 '수주전' - 네이트 뉴스</td>\n",
       "      <td>https://news.nate.com/view/20240327n26903?mid=...</td>\n",
       "      <td>kddx의 기본설계를 했던 hd현대중공업이 상세설계 및 선도함 건조 사업을 맡게 될...</td>\n",
       "      <td>Google Alert - 한화오션</td>\n",
       "      <td>https://www.google.com/alerts/feeds/0384655341...</td>\n",
       "      <td>2024-03-28</td>\n",
       "      <td>3</td>\n",
       "    </tr>\n",
       "  </tbody>\n",
       "</table>\n",
       "</div>"
      ],
      "text/plain": [
       "               Timestamp                                              Title  \\\n",
       "1322 2024-03-27 22:30:00  [MTN머니로 상한가 포착] MS와 AI기반 사이버보안 기술 개발 헙무협약, 샌즈랩 급등   \n",
       "1323 2024-03-28 00:31:00             막 숨통 트인 조선업계, 노조에 발목 잡힐라 '전정긍긍' - 국민일보   \n",
       "1324 2024-03-28 00:46:00  \"고령층 뇌 질환 보험금 청구, 10년새 3배↑···30∙40대는 부정맥 주의해야\"...   \n",
       "1325 2024-03-28 01:38:00                  한화솔루션, 이사회 의장에 첫 사외이사 선임 - 문화저널21   \n",
       "1326 2024-03-28 04:02:00      한국형 차기 구축함, 방산물자 지정…HD현대重·한화오션 '수주전' - 네이트 뉴스   \n",
       "\n",
       "                                                    URL  \\\n",
       "1322  https://news.mt.co.kr/mtview.php?no=2024032713...   \n",
       "1323  https://www.kmib.co.kr/article/view.asp?arcid=...   \n",
       "1324  https://www.4th.kr/news/articleView.html?idxno...   \n",
       "1325                       https://www.mhj21.com/160140   \n",
       "1326  https://news.nate.com/view/20240327n26903?mid=...   \n",
       "\n",
       "                                                Content               Source  \\\n",
       "1322  머니로 top랭킹에 따르면 현재 종목랭킹은 아래와 같다 종목검색순위 hb솔루션 네오...  Google Alert - 한화오션   \n",
       "1323  한화오션은 지난해 매출액 7조4000억원과 영업손실 1965억원을 기록했다 hd현대...  Google Alert - 한화오션   \n",
       "1324  연령대별 뇌혈관질환 발생고객 추이사진=한화생명 포쓰저널=박소연 10 한화오션 권혁웅...  Google Alert - 한화오션   \n",
       "1325  한화솔루션 조지 p 부시한화오션 등 외국인 사외이사를 선임하며 이사회 다양성과 전문...  Google Alert - 한화오션   \n",
       "1326  kddx의 기본설계를 했던 hd현대중공업이 상세설계 및 선도함 건조 사업을 맡게 될...  Google Alert - 한화오션   \n",
       "\n",
       "                                             Source URL        date  month  \n",
       "1322  https://www.google.com/alerts/feeds/0384655341...  2024-03-27      3  \n",
       "1323  https://www.google.com/alerts/feeds/0384655341...  2024-03-28      3  \n",
       "1324  https://www.google.com/alerts/feeds/0384655341...  2024-03-28      3  \n",
       "1325  https://www.google.com/alerts/feeds/0384655341...  2024-03-28      3  \n",
       "1326  https://www.google.com/alerts/feeds/0384655341...  2024-03-28      3  "
      ]
     },
     "execution_count": 12,
     "metadata": {},
     "output_type": "execute_result"
    }
   ],
   "source": [
    "df.tail()"
   ]
  },
  {
   "cell_type": "markdown",
   "id": "905dd342-ccc4-46bb-8860-cde353ee5ce4",
   "metadata": {},
   "source": [
    "# Load Pre-Trained LLM"
   ]
  },
  {
   "cell_type": "code",
   "execution_count": 13,
   "id": "5ca2173e-af78-4fc8-bd9c-c717492899f3",
   "metadata": {},
   "outputs": [
    {
     "name": "stdout",
     "output_type": "stream",
     "text": [
      "WARNING:tensorflow:From D:\\GG_env\\llm_env\\lib\\site-packages\\tf_keras\\src\\losses.py:2976: The name tf.losses.sparse_softmax_cross_entropy is deprecated. Please use tf.compat.v1.losses.sparse_softmax_cross_entropy instead.\n",
      "\n"
     ]
    }
   ],
   "source": [
    "import os\n",
    "import pandas as pd\n",
    "import numpy as np\n",
    "import re\n",
    "from tqdm import tqdm\n",
    "import urllib.request\n",
    "import seaborn as sns\n",
    "import matplotlib.pyplot as plt\n",
    "# import tensorflow_addons as tfa\n",
    "import tensorflow as tf\n",
    "from tensorflow.keras.callbacks import EarlyStopping, ModelCheckpoint\n",
    "from transformers import BertTokenizer, TFBertForSequenceClassification\n",
    "from sklearn.model_selection import train_test_split\n",
    "from sklearn.metrics import accuracy_score, f1_score, precision_score, recall_score, \\\n",
    "                            roc_auc_score, confusion_matrix, classification_report, \\\n",
    "                            matthews_corrcoef, cohen_kappa_score, log_loss\n",
    "# from tensorflow import keras"
   ]
  },
  {
   "cell_type": "code",
   "execution_count": 14,
   "id": "3889cffa-f981-4d8c-a3bd-823a882273a9",
   "metadata": {},
   "outputs": [
    {
     "name": "stderr",
     "output_type": "stream",
     "text": [
      "Some weights of BertForSequenceClassification were not initialized from the model checkpoint at klue/bert-base and are newly initialized: ['classifier.bias', 'classifier.weight']\n",
      "You should probably TRAIN this model on a down-stream task to be able to use it for predictions and inference.\n"
     ]
    }
   ],
   "source": [
    "from transformers import AutoTokenizer,  AutoModelForSequenceClassification\n",
    "MODEL_NAME = \"klue/bert-base\"\n",
    "tokenizer = AutoTokenizer.from_pretrained(MODEL_NAME)\n",
    "model = AutoModelForSequenceClassification.from_pretrained(MODEL_NAME, num_labels=3)"
   ]
  },
  {
   "cell_type": "code",
   "execution_count": 16,
   "id": "6a7fb74a-57f2-44bc-b9eb-f87e4ed132fc",
   "metadata": {},
   "outputs": [
    {
     "name": "stdout",
     "output_type": "stream",
     "text": [
      "GPU 미작동 중\n"
     ]
    }
   ],
   "source": [
    "device_name = tf.test.gpu_device_name()\n",
    "if device_name == '/device:GPU:0':\n",
    "  print(\"GPU 작동 중\")\n",
    "  mirrored_strategy = tf.distribute.MirroredStrategy()\n",
    "else:\n",
    "  print(\"GPU 미작동 중\")"
   ]
  },
  {
   "cell_type": "markdown",
   "id": "6ed5e171-4c19-4272-a085-6c73e1a511b7",
   "metadata": {},
   "source": [
    "# Fine tuinig Data 준비"
   ]
  },
  {
   "cell_type": "code",
   "execution_count": 17,
   "id": "bcabf988-efd7-470b-b810-d9530ee37171",
   "metadata": {},
   "outputs": [],
   "source": [
    "# fine-tunning 데이터 준비\n",
    "DATASET_URL = \"https://raw.githubusercontent.com/ukairia777/finance_sentiment_corpus/main/finance_data.csv\"\n",
    "DATASET_NAME = \"finance_data.csv\""
   ]
  },
  {
   "cell_type": "code",
   "execution_count": 18,
   "id": "b1a16abd-8050-40f4-931f-9656ce9dfe5c",
   "metadata": {},
   "outputs": [
    {
     "data": {
      "text/plain": [
       "('finance_data.csv', <http.client.HTTPMessage at 0x1b5500fcd60>)"
      ]
     },
     "execution_count": 18,
     "metadata": {},
     "output_type": "execute_result"
    }
   ],
   "source": [
    "urllib.request.urlretrieve(DATASET_URL,\n",
    "                           filename = DATASET_NAME\n",
    "                           )\n"
   ]
  },
  {
   "cell_type": "code",
   "execution_count": 19,
   "id": "9a32146f-8f20-4237-aa44-70833ce2eed7",
   "metadata": {},
   "outputs": [
    {
     "data": {
      "text/html": [
       "<div>\n",
       "<style scoped>\n",
       "    .dataframe tbody tr th:only-of-type {\n",
       "        vertical-align: middle;\n",
       "    }\n",
       "\n",
       "    .dataframe tbody tr th {\n",
       "        vertical-align: top;\n",
       "    }\n",
       "\n",
       "    .dataframe thead th {\n",
       "        text-align: right;\n",
       "    }\n",
       "</style>\n",
       "<table border=\"1\" class=\"dataframe\">\n",
       "  <thead>\n",
       "    <tr style=\"text-align: right;\">\n",
       "      <th></th>\n",
       "      <th>labels</th>\n",
       "      <th>sentence</th>\n",
       "      <th>kor_sentence</th>\n",
       "    </tr>\n",
       "  </thead>\n",
       "  <tbody>\n",
       "    <tr>\n",
       "      <th>0</th>\n",
       "      <td>neutral</td>\n",
       "      <td>According to Gran, the company has no plans to...</td>\n",
       "      <td>Gran에 따르면, 그 회사는 회사가 성장하고 있는 곳이지만, 모든 생산을 러시아로...</td>\n",
       "    </tr>\n",
       "    <tr>\n",
       "      <th>1</th>\n",
       "      <td>neutral</td>\n",
       "      <td>Technopolis plans to develop in stages an area...</td>\n",
       "      <td>테크노폴리스는 컴퓨터 기술과 통신 분야에서 일하는 회사들을 유치하기 위해 10만 평...</td>\n",
       "    </tr>\n",
       "    <tr>\n",
       "      <th>2</th>\n",
       "      <td>negative</td>\n",
       "      <td>The international electronic industry company ...</td>\n",
       "      <td>국제 전자산업 회사인 엘코텍은 탈린 공장에서 수십 명의 직원을 해고했으며, 이전의 ...</td>\n",
       "    </tr>\n",
       "    <tr>\n",
       "      <th>3</th>\n",
       "      <td>positive</td>\n",
       "      <td>With the new production plant the company woul...</td>\n",
       "      <td>새로운 생산공장으로 인해 회사는 예상되는 수요 증가를 충족시킬 수 있는 능력을 증가...</td>\n",
       "    </tr>\n",
       "    <tr>\n",
       "      <th>4</th>\n",
       "      <td>positive</td>\n",
       "      <td>According to the company's updated strategy fo...</td>\n",
       "      <td>2009-2012년 회사의 업데이트된 전략에 따르면, Basware는 20% - 4...</td>\n",
       "    </tr>\n",
       "  </tbody>\n",
       "</table>\n",
       "</div>"
      ],
      "text/plain": [
       "     labels                                           sentence  \\\n",
       "0   neutral  According to Gran, the company has no plans to...   \n",
       "1   neutral  Technopolis plans to develop in stages an area...   \n",
       "2  negative  The international electronic industry company ...   \n",
       "3  positive  With the new production plant the company woul...   \n",
       "4  positive  According to the company's updated strategy fo...   \n",
       "\n",
       "                                        kor_sentence  \n",
       "0  Gran에 따르면, 그 회사는 회사가 성장하고 있는 곳이지만, 모든 생산을 러시아로...  \n",
       "1  테크노폴리스는 컴퓨터 기술과 통신 분야에서 일하는 회사들을 유치하기 위해 10만 평...  \n",
       "2  국제 전자산업 회사인 엘코텍은 탈린 공장에서 수십 명의 직원을 해고했으며, 이전의 ...  \n",
       "3  새로운 생산공장으로 인해 회사는 예상되는 수요 증가를 충족시킬 수 있는 능력을 증가...  \n",
       "4  2009-2012년 회사의 업데이트된 전략에 따르면, Basware는 20% - 4...  "
      ]
     },
     "execution_count": 19,
     "metadata": {},
     "output_type": "execute_result"
    }
   ],
   "source": [
    "dataset = pd.read_csv(DATASET_NAME)\n",
    "dataset.head()"
   ]
  },
  {
   "cell_type": "code",
   "execution_count": 20,
   "id": "7dcc2001-4335-46bd-8cdb-35ea567675ad",
   "metadata": {},
   "outputs": [],
   "source": [
    "del dataset['sentence']"
   ]
  },
  {
   "cell_type": "code",
   "execution_count": 21,
   "id": "3aba061f-8c3a-4638-bd31-776e10c3f456",
   "metadata": {},
   "outputs": [
    {
     "name": "stderr",
     "output_type": "stream",
     "text": [
      "C:\\Users\\jongb\\AppData\\Local\\Temp\\ipykernel_14496\\705710288.py:1: FutureWarning: Downcasting behavior in `replace` is deprecated and will be removed in a future version. To retain the old behavior, explicitly call `result.infer_objects(copy=False)`. To opt-in to the future behavior, set `pd.set_option('future.no_silent_downcasting', True)`\n",
      "  dataset['labels'] = dataset['labels'].replace(['neutral', 'positive', 'negative'],[0, 1, 2])\n"
     ]
    },
    {
     "data": {
      "text/html": [
       "<div>\n",
       "<style scoped>\n",
       "    .dataframe tbody tr th:only-of-type {\n",
       "        vertical-align: middle;\n",
       "    }\n",
       "\n",
       "    .dataframe tbody tr th {\n",
       "        vertical-align: top;\n",
       "    }\n",
       "\n",
       "    .dataframe thead th {\n",
       "        text-align: right;\n",
       "    }\n",
       "</style>\n",
       "<table border=\"1\" class=\"dataframe\">\n",
       "  <thead>\n",
       "    <tr style=\"text-align: right;\">\n",
       "      <th></th>\n",
       "      <th>labels</th>\n",
       "      <th>kor_sentence</th>\n",
       "    </tr>\n",
       "  </thead>\n",
       "  <tbody>\n",
       "    <tr>\n",
       "      <th>0</th>\n",
       "      <td>0</td>\n",
       "      <td>Gran에 따르면, 그 회사는 회사가 성장하고 있는 곳이지만, 모든 생산을 러시아로...</td>\n",
       "    </tr>\n",
       "    <tr>\n",
       "      <th>1</th>\n",
       "      <td>0</td>\n",
       "      <td>테크노폴리스는 컴퓨터 기술과 통신 분야에서 일하는 회사들을 유치하기 위해 10만 평...</td>\n",
       "    </tr>\n",
       "    <tr>\n",
       "      <th>2</th>\n",
       "      <td>2</td>\n",
       "      <td>국제 전자산업 회사인 엘코텍은 탈린 공장에서 수십 명의 직원을 해고했으며, 이전의 ...</td>\n",
       "    </tr>\n",
       "    <tr>\n",
       "      <th>3</th>\n",
       "      <td>1</td>\n",
       "      <td>새로운 생산공장으로 인해 회사는 예상되는 수요 증가를 충족시킬 수 있는 능력을 증가...</td>\n",
       "    </tr>\n",
       "    <tr>\n",
       "      <th>4</th>\n",
       "      <td>1</td>\n",
       "      <td>2009-2012년 회사의 업데이트된 전략에 따르면, Basware는 20% - 4...</td>\n",
       "    </tr>\n",
       "  </tbody>\n",
       "</table>\n",
       "</div>"
      ],
      "text/plain": [
       "   labels                                       kor_sentence\n",
       "0       0  Gran에 따르면, 그 회사는 회사가 성장하고 있는 곳이지만, 모든 생산을 러시아로...\n",
       "1       0  테크노폴리스는 컴퓨터 기술과 통신 분야에서 일하는 회사들을 유치하기 위해 10만 평...\n",
       "2       2  국제 전자산업 회사인 엘코텍은 탈린 공장에서 수십 명의 직원을 해고했으며, 이전의 ...\n",
       "3       1  새로운 생산공장으로 인해 회사는 예상되는 수요 증가를 충족시킬 수 있는 능력을 증가...\n",
       "4       1  2009-2012년 회사의 업데이트된 전략에 따르면, Basware는 20% - 4..."
      ]
     },
     "execution_count": 21,
     "metadata": {},
     "output_type": "execute_result"
    }
   ],
   "source": [
    "dataset['labels'] = dataset['labels'].replace(['neutral', 'positive', 'negative'],[0, 1, 2])\n",
    "dataset.head()"
   ]
  },
  {
   "cell_type": "code",
   "execution_count": 22,
   "id": "25511f1b-e5ab-4390-ac90-41c49956554d",
   "metadata": {},
   "outputs": [
    {
     "data": {
      "text/html": [
       "<div>\n",
       "<style scoped>\n",
       "    .dataframe tbody tr th:only-of-type {\n",
       "        vertical-align: middle;\n",
       "    }\n",
       "\n",
       "    .dataframe tbody tr th {\n",
       "        vertical-align: top;\n",
       "    }\n",
       "\n",
       "    .dataframe thead th {\n",
       "        text-align: right;\n",
       "    }\n",
       "</style>\n",
       "<table border=\"1\" class=\"dataframe\">\n",
       "  <thead>\n",
       "    <tr style=\"text-align: right;\">\n",
       "      <th></th>\n",
       "      <th>labels</th>\n",
       "      <th>kor_sentence</th>\n",
       "    </tr>\n",
       "  </thead>\n",
       "  <tbody>\n",
       "    <tr>\n",
       "      <th>79</th>\n",
       "      <td>1</td>\n",
       "      <td>텔레콤월드와이어-2006년 4월 7일-TJ 그룹은 모닝 디지털 디자인 Oy 핀란드 ...</td>\n",
       "    </tr>\n",
       "    <tr>\n",
       "      <th>789</th>\n",
       "      <td>0</td>\n",
       "      <td>그룹의 사업은 스포츠의 광범위한 포트폴리오와 모든 주요 시장에서의 입지에 의해 균형...</td>\n",
       "    </tr>\n",
       "    <tr>\n",
       "      <th>1099</th>\n",
       "      <td>0</td>\n",
       "      <td>이 발표 내용에 대한 책임은 전적으로 발행자에게 있습니다.</td>\n",
       "    </tr>\n",
       "    <tr>\n",
       "      <th>1394</th>\n",
       "      <td>0</td>\n",
       "      <td>핀란드 헬싱키에 본사를 둔 레민카이넨 그룹은 토목 공학, 건축 계약, 기술 건축 서...</td>\n",
       "    </tr>\n",
       "    <tr>\n",
       "      <th>1416</th>\n",
       "      <td>0</td>\n",
       "      <td>이 보고서는 블랙 앤 데커, 피스카스, 피스카스 브랜드, 후스크바르나 아웃도어 프로...</td>\n",
       "    </tr>\n",
       "    <tr>\n",
       "      <th>2396</th>\n",
       "      <td>0</td>\n",
       "      <td>알스트롬의 주가는 나스닥 OMX 헬싱키에서 인용되고 있다.</td>\n",
       "    </tr>\n",
       "    <tr>\n",
       "      <th>2567</th>\n",
       "      <td>0</td>\n",
       "      <td>SSH 통신 보안 코퍼레이션은 핀란드 헬싱키에 본사를 두고 있다.</td>\n",
       "    </tr>\n",
       "    <tr>\n",
       "      <th>2889</th>\n",
       "      <td>0</td>\n",
       "      <td>재정적인 세부사항은 공개되지 않았다.</td>\n",
       "    </tr>\n",
       "    <tr>\n",
       "      <th>2890</th>\n",
       "      <td>0</td>\n",
       "      <td>재정적인 세부사항은 공개되지 않았다.</td>\n",
       "    </tr>\n",
       "    <tr>\n",
       "      <th>2892</th>\n",
       "      <td>0</td>\n",
       "      <td>금융 조건은 공개되지 않았다.</td>\n",
       "    </tr>\n",
       "    <tr>\n",
       "      <th>3050</th>\n",
       "      <td>0</td>\n",
       "      <td>재정적인 세부사항은 제공되지 않았다.</td>\n",
       "    </tr>\n",
       "    <tr>\n",
       "      <th>3051</th>\n",
       "      <td>0</td>\n",
       "      <td>재정적인 세부사항은 공개되지 않았다.</td>\n",
       "    </tr>\n",
       "    <tr>\n",
       "      <th>3094</th>\n",
       "      <td>0</td>\n",
       "      <td>Proha Plc (Euronext :7327)는 오늘 (5월 19일) 완전 소유 ...</td>\n",
       "    </tr>\n",
       "    <tr>\n",
       "      <th>3206</th>\n",
       "      <td>0</td>\n",
       "      <td>공정 및 자원, 산업기계, 건축, 건축, 건설, 전기, 운송, 전자, 화학, 석유화...</td>\n",
       "    </tr>\n",
       "    <tr>\n",
       "      <th>3350</th>\n",
       "      <td>0</td>\n",
       "      <td>판매 가격은 공개되지 않았다.</td>\n",
       "    </tr>\n",
       "    <tr>\n",
       "      <th>3538</th>\n",
       "      <td>0</td>\n",
       "      <td>아스포의 그룹 구조와 비즈니스 운영은 미리 정의된 일정 없이 지속적으로 개발됩니다.</td>\n",
       "    </tr>\n",
       "    <tr>\n",
       "      <th>3605</th>\n",
       "      <td>0</td>\n",
       "      <td>핀란드 탐페레에 본사를 둔 Glaston은 성장하고 있는 국제적인 유리 기술 회사입니다.</td>\n",
       "    </tr>\n",
       "    <tr>\n",
       "      <th>3617</th>\n",
       "      <td>0</td>\n",
       "      <td>2007년에 에트플랜은 125.2m의 회전율을 기록했다.</td>\n",
       "    </tr>\n",
       "    <tr>\n",
       "      <th>3938</th>\n",
       "      <td>0</td>\n",
       "      <td>그 거래의 가치는 공개되지 않았다.</td>\n",
       "    </tr>\n",
       "  </tbody>\n",
       "</table>\n",
       "</div>"
      ],
      "text/plain": [
       "      labels                                       kor_sentence\n",
       "79         1  텔레콤월드와이어-2006년 4월 7일-TJ 그룹은 모닝 디지털 디자인 Oy 핀란드 ...\n",
       "789        0  그룹의 사업은 스포츠의 광범위한 포트폴리오와 모든 주요 시장에서의 입지에 의해 균형...\n",
       "1099       0                   이 발표 내용에 대한 책임은 전적으로 발행자에게 있습니다.\n",
       "1394       0  핀란드 헬싱키에 본사를 둔 레민카이넨 그룹은 토목 공학, 건축 계약, 기술 건축 서...\n",
       "1416       0  이 보고서는 블랙 앤 데커, 피스카스, 피스카스 브랜드, 후스크바르나 아웃도어 프로...\n",
       "2396       0                   알스트롬의 주가는 나스닥 OMX 헬싱키에서 인용되고 있다.\n",
       "2567       0               SSH 통신 보안 코퍼레이션은 핀란드 헬싱키에 본사를 두고 있다.\n",
       "2889       0                               재정적인 세부사항은 공개되지 않았다.\n",
       "2890       0                               재정적인 세부사항은 공개되지 않았다.\n",
       "2892       0                                   금융 조건은 공개되지 않았다.\n",
       "3050       0                               재정적인 세부사항은 제공되지 않았다.\n",
       "3051       0                               재정적인 세부사항은 공개되지 않았다.\n",
       "3094       0  Proha Plc (Euronext :7327)는 오늘 (5월 19일) 완전 소유 ...\n",
       "3206       0  공정 및 자원, 산업기계, 건축, 건축, 건설, 전기, 운송, 전자, 화학, 석유화...\n",
       "3350       0                                   판매 가격은 공개되지 않았다.\n",
       "3538       0     아스포의 그룹 구조와 비즈니스 운영은 미리 정의된 일정 없이 지속적으로 개발됩니다.\n",
       "3605       0  핀란드 탐페레에 본사를 둔 Glaston은 성장하고 있는 국제적인 유리 기술 회사입니다.\n",
       "3617       0                    2007년에 에트플랜은 125.2m의 회전율을 기록했다.\n",
       "3938       0                                그 거래의 가치는 공개되지 않았다."
      ]
     },
     "execution_count": 22,
     "metadata": {},
     "output_type": "execute_result"
    }
   ],
   "source": [
    "# 중복 데이터 확인\n",
    "dataset[dataset['kor_sentence'].duplicated()]"
   ]
  },
  {
   "cell_type": "code",
   "execution_count": 23,
   "id": "b21222f9-d45f-403d-9622-b5eff91d78f2",
   "metadata": {},
   "outputs": [],
   "source": [
    "from datasets import Dataset, DatasetDict\n",
    "import pandas as pd\n",
    "from sklearn.model_selection import train_test_split\n",
    "\n",
    "def df_to_hg_dataset_dict(df):\n",
    "    '''\n",
    "    SFT(Supervised Fine-Tuning을 위해 Pandas df를 Huggingface Dataset_dict으로 변환하는 함수\n",
    "    df columns --> \"text\", \"label\"\n",
    "    '''\n",
    "    train_df, test_df = train_test_split(df, test_size=0.3, random_state=42)\n",
    "    \n",
    "    train_dataset = Dataset.from_pandas(train_df)\n",
    "    train_dataset = train_dataset.remove_columns([\"__index_level_0__\"])\n",
    "\n",
    "    test_dataset = Dataset.from_pandas(test_df)\n",
    "    test_dataset = test_dataset.remove_columns([\"__index_level_0__\"])\n",
    "\n",
    "    dataset_dict = DatasetDict({'train': train_dataset, 'test': test_dataset})\n",
    "    return dataset_dict"
   ]
  },
  {
   "cell_type": "code",
   "execution_count": 24,
   "id": "b79c29db-d33a-4561-80d2-7e98bfb81827",
   "metadata": {},
   "outputs": [
    {
     "data": {
      "text/plain": [
       "DatasetDict({\n",
       "    train: Dataset({\n",
       "        features: ['labels', 'kor_sentence'],\n",
       "        num_rows: 3392\n",
       "    })\n",
       "    test: Dataset({\n",
       "        features: ['labels', 'kor_sentence'],\n",
       "        num_rows: 1454\n",
       "    })\n",
       "})"
      ]
     },
     "execution_count": 24,
     "metadata": {},
     "output_type": "execute_result"
    }
   ],
   "source": [
    "dataset1 = df_to_hg_dataset_dict(dataset)\n",
    "dataset1"
   ]
  },
  {
   "cell_type": "code",
   "execution_count": 25,
   "id": "a61107b9-ae52-4e0c-871c-ae68d5331e1d",
   "metadata": {},
   "outputs": [],
   "source": [
    "def tokenize_function(examples):\n",
    "    return tokenizer(examples[\"kor_sentence\"], padding=\"max_length\", truncation=True)"
   ]
  },
  {
   "cell_type": "code",
   "execution_count": 26,
   "id": "cb33b4b6-609f-4ea9-8209-5a2191608279",
   "metadata": {},
   "outputs": [
    {
     "data": {
      "application/vnd.jupyter.widget-view+json": {
       "model_id": "443856e53fbd447a82ace0c72067d5e7",
       "version_major": 2,
       "version_minor": 0
      },
      "text/plain": [
       "Map:   0%|          | 0/3392 [00:00<?, ? examples/s]"
      ]
     },
     "metadata": {},
     "output_type": "display_data"
    },
    {
     "data": {
      "application/vnd.jupyter.widget-view+json": {
       "model_id": "be61652912164373ad4fbc5c4eaacecd",
       "version_major": 2,
       "version_minor": 0
      },
      "text/plain": [
       "Map:   0%|          | 0/1454 [00:00<?, ? examples/s]"
      ]
     },
     "metadata": {},
     "output_type": "display_data"
    },
    {
     "data": {
      "text/plain": [
       "DatasetDict({\n",
       "    train: Dataset({\n",
       "        features: ['labels', 'kor_sentence', 'input_ids', 'token_type_ids', 'attention_mask'],\n",
       "        num_rows: 3392\n",
       "    })\n",
       "    test: Dataset({\n",
       "        features: ['labels', 'kor_sentence', 'input_ids', 'token_type_ids', 'attention_mask'],\n",
       "        num_rows: 1454\n",
       "    })\n",
       "})"
      ]
     },
     "execution_count": 26,
     "metadata": {},
     "output_type": "execute_result"
    }
   ],
   "source": [
    "tokenized_datasets = dataset1.map(tokenize_function, batched=True)\n",
    "tokenized_datasets"
   ]
  },
  {
   "cell_type": "code",
   "execution_count": 27,
   "id": "84719ce5-01bf-487a-8794-c16515eaf214",
   "metadata": {},
   "outputs": [
    {
     "data": {
      "text/plain": [
       "((100, 5), (50, 5))"
      ]
     },
     "execution_count": 27,
     "metadata": {},
     "output_type": "execute_result"
    }
   ],
   "source": [
    "small_train_dataset = tokenized_datasets[\"train\"].shuffle(seed=42).select(range(100))\n",
    "small_eval_dataset = tokenized_datasets[\"test\"].shuffle(seed=42).select(range(50))\n",
    "small_train_dataset.shape, small_eval_dataset.shape"
   ]
  },
  {
   "cell_type": "markdown",
   "id": "9010976f-ff42-42f6-8546-391b348bd362",
   "metadata": {},
   "source": [
    "# Fine Tuning - PEFT + LORA"
   ]
  },
  {
   "cell_type": "code",
   "execution_count": 28,
   "id": "37c9cd96-505b-44c3-a9ac-525a048e72e2",
   "metadata": {},
   "outputs": [],
   "source": [
    "import numpy as np\n",
    "import evaluate\n",
    "metric = evaluate.load(\"accuracy\")\n",
    "\n",
    "def compute_metrics(eval_pred):\n",
    "    logits, labels = eval_pred\n",
    "    predictions = np.argmax(logits, axis=-1)\n",
    "    return metric.compute(predictions=predictions, references=labels)"
   ]
  },
  {
   "cell_type": "code",
   "execution_count": 29,
   "id": "85db1363-5f45-44e2-8e49-b8ce5f23a2e8",
   "metadata": {},
   "outputs": [],
   "source": [
    "# from transformers import TrainingArguments\n",
    "# output_dir=\"test_trainer1\"\n",
    "# training_args = TrainingArguments(output_dir=output_dir)"
   ]
  },
  {
   "cell_type": "code",
   "execution_count": 30,
   "id": "dc242a1c-f51f-4e60-99ec-84f44b55b73b",
   "metadata": {},
   "outputs": [
    {
     "name": "stdout",
     "output_type": "stream",
     "text": [
      "function 'cadam32bit_grad_fp32' not found\n"
     ]
    },
    {
     "name": "stderr",
     "output_type": "stream",
     "text": [
      "D:\\GG_env\\llm_env\\lib\\site-packages\\bitsandbytes\\cextension.py:31: UserWarning: The installed version of bitsandbytes was compiled without GPU support. 8-bit optimizers, 8-bit multiplication, and GPU quantization are unavailable.\n",
      "  warn(\"The installed version of bitsandbytes was compiled without GPU support. \"\n"
     ]
    }
   ],
   "source": [
    "from transformers import TrainingArguments, Trainer, DataCollatorWithPadding\n",
    "from peft import PeftModel, PeftConfig, get_peft_model, LoraConfig"
   ]
  },
  {
   "cell_type": "code",
   "execution_count": 31,
   "id": "339dd88f-c75d-40e3-91f7-741870eed3ed",
   "metadata": {},
   "outputs": [],
   "source": [
    "peft_config = LoraConfig(task_type=\"SEQ_CLS\", # Sequence Classification.\n",
    "                        r=4,  # Intrinsic rank of trainable weight matrix.\n",
    "                        lora_alpha=32,  # similar to Learning rate.\n",
    "                        lora_dropout=0.01, # probability of dropout nodes.\n",
    "                        target_modules = ['query']) # LoRA is applied to the query layer."
   ]
  },
  {
   "cell_type": "code",
   "execution_count": 32,
   "id": "4f40634f-c2aa-4c9f-81e0-f75a2fb1da4d",
   "metadata": {},
   "outputs": [
    {
     "name": "stdout",
     "output_type": "stream",
     "text": [
      "trainable params: 76,035 || all params: 110,695,686 || trainable%: 0.06868831365298192\n"
     ]
    }
   ],
   "source": [
    "model = get_peft_model(model, peft_config)\n",
    "model.print_trainable_parameters()"
   ]
  },
  {
   "cell_type": "code",
   "execution_count": 33,
   "id": "b29b5cf6-58f0-41ac-a977-37e82eb9d0b1",
   "metadata": {},
   "outputs": [],
   "source": [
    "# Hyperparameters\n",
    "lr = 1e-3 # size of optimization step\n",
    "batch_size = 4 # No.of.examples processed per optimization step\n",
    "num_epochs = 3 # No.of.times the model runs through training data.\n",
    "output_dir=\"test_trainer1\"\n",
    "# training arguments\n",
    "training_args = TrainingArguments(\n",
    "    output_dir= output_dir,\n",
    "    learning_rate=lr,\n",
    "    per_device_train_batch_size=batch_size,\n",
    "    per_device_eval_batch_size=batch_size,\n",
    "    num_train_epochs=num_epochs,\n",
    "    weight_decay=0.01,\n",
    "    evaluation_strategy=\"epoch\",\n",
    "    save_strategy=\"epoch\",\n",
    "    load_best_model_at_end=True,\n",
    ")"
   ]
  },
  {
   "cell_type": "code",
   "execution_count": 34,
   "id": "e58085bf-890e-41af-b797-eeb501e4f5ba",
   "metadata": {},
   "outputs": [],
   "source": [
    "data_collator = DataCollatorWithPadding(tokenizer=tokenizer)"
   ]
  },
  {
   "cell_type": "code",
   "execution_count": 35,
   "id": "388ca707-2dba-4baa-ad1c-f2da68e17c58",
   "metadata": {},
   "outputs": [],
   "source": [
    "trainer = Trainer(\n",
    "    model=model, # Our PEFT Model, here it is distilbert\n",
    "    args=training_args, # Hyperparamaters\n",
    "    train_dataset=small_train_dataset, # training data\n",
    "    eval_dataset=small_eval_dataset, # validation data\n",
    "    tokenizer=tokenizer, # tokenizer\n",
    "    data_collator=data_collator, # dynamic sequence padding\n",
    "    compute_metrics=compute_metrics,  # model perfomance evaluation metric\n",
    ")\n"
   ]
  },
  {
   "cell_type": "code",
   "execution_count": 36,
   "id": "950822c7-e718-4fe9-bc6f-ec2376890b14",
   "metadata": {
    "scrolled": true
   },
   "outputs": [
    {
     "data": {
      "text/html": [
       "\n",
       "    <div>\n",
       "      \n",
       "      <progress value='75' max='75' style='width:300px; height:20px; vertical-align: middle;'></progress>\n",
       "      [75/75 16:12, Epoch 3/3]\n",
       "    </div>\n",
       "    <table border=\"1\" class=\"dataframe\">\n",
       "  <thead>\n",
       " <tr style=\"text-align: left;\">\n",
       "      <th>Epoch</th>\n",
       "      <th>Training Loss</th>\n",
       "      <th>Validation Loss</th>\n",
       "      <th>Accuracy</th>\n",
       "    </tr>\n",
       "  </thead>\n",
       "  <tbody>\n",
       "    <tr>\n",
       "      <td>1</td>\n",
       "      <td>No log</td>\n",
       "      <td>0.912222</td>\n",
       "      <td>0.600000</td>\n",
       "    </tr>\n",
       "    <tr>\n",
       "      <td>2</td>\n",
       "      <td>No log</td>\n",
       "      <td>0.806083</td>\n",
       "      <td>0.720000</td>\n",
       "    </tr>\n",
       "    <tr>\n",
       "      <td>3</td>\n",
       "      <td>No log</td>\n",
       "      <td>0.791480</td>\n",
       "      <td>0.740000</td>\n",
       "    </tr>\n",
       "  </tbody>\n",
       "</table><p>"
      ],
      "text/plain": [
       "<IPython.core.display.HTML object>"
      ]
     },
     "metadata": {},
     "output_type": "display_data"
    },
    {
     "data": {
      "text/plain": [
       "TrainOutput(global_step=75, training_loss=0.7543916829427083, metrics={'train_runtime': 981.5656, 'train_samples_per_second': 0.306, 'train_steps_per_second': 0.076, 'total_flos': 79004099174400.0, 'train_loss': 0.7543916829427083, 'epoch': 3.0})"
      ]
     },
     "execution_count": 36,
     "metadata": {},
     "output_type": "execute_result"
    }
   ],
   "source": [
    "trainer.train()"
   ]
  },
  {
   "cell_type": "code",
   "execution_count": 37,
   "id": "fcd53d4b-a7ad-4cbe-963f-82639a7b5e00",
   "metadata": {},
   "outputs": [
    {
     "data": {
      "text/html": [
       "\n",
       "    <div>\n",
       "      \n",
       "      <progress value='13' max='13' style='width:300px; height:20px; vertical-align: middle;'></progress>\n",
       "      [13/13 01:04]\n",
       "    </div>\n",
       "    "
      ],
      "text/plain": [
       "<IPython.core.display.HTML object>"
      ]
     },
     "metadata": {},
     "output_type": "display_data"
    },
    {
     "data": {
      "text/plain": [
       "{'eval_loss': 0.7914796471595764,\n",
       " 'eval_accuracy': 0.74,\n",
       " 'eval_runtime': 69.2544,\n",
       " 'eval_samples_per_second': 0.722,\n",
       " 'eval_steps_per_second': 0.188,\n",
       " 'epoch': 3.0}"
      ]
     },
     "execution_count": 37,
     "metadata": {},
     "output_type": "execute_result"
    }
   ],
   "source": [
    "metrics = trainer.evaluate(eval_dataset=small_eval_dataset)\n",
    "metrics"
   ]
  },
  {
   "cell_type": "code",
   "execution_count": 38,
   "id": "0c6b43f0-37cf-4530-95e3-afa0e027c26b",
   "metadata": {},
   "outputs": [],
   "source": [
    "# Save the fine-tuned model\n",
    "trainer.model.save_pretrained(output_dir)"
   ]
  },
  {
   "cell_type": "markdown",
   "id": "2c17d520-d157-40ab-9be3-c666186300d1",
   "metadata": {},
   "source": [
    "# Load Fine Tuned Model and Test"
   ]
  },
  {
   "cell_type": "code",
   "execution_count": 42,
   "id": "e57a304d-c061-4dce-83f7-f249f16cd756",
   "metadata": {},
   "outputs": [
    {
     "name": "stderr",
     "output_type": "stream",
     "text": [
      "Some weights of BertForSequenceClassification were not initialized from the model checkpoint at klue/bert-base and are newly initialized: ['classifier.bias', 'classifier.weight']\n",
      "You should probably TRAIN this model on a down-stream task to be able to use it for predictions and inference.\n"
     ]
    },
    {
     "data": {
      "text/plain": [
       "BertForSequenceClassification(\n",
       "  (bert): BertModel(\n",
       "    (embeddings): BertEmbeddings(\n",
       "      (word_embeddings): Embedding(32000, 768, padding_idx=0)\n",
       "      (position_embeddings): Embedding(512, 768)\n",
       "      (token_type_embeddings): Embedding(2, 768)\n",
       "      (LayerNorm): LayerNorm((768,), eps=1e-12, elementwise_affine=True)\n",
       "      (dropout): Dropout(p=0.1, inplace=False)\n",
       "    )\n",
       "    (encoder): BertEncoder(\n",
       "      (layer): ModuleList(\n",
       "        (0-11): 12 x BertLayer(\n",
       "          (attention): BertAttention(\n",
       "            (self): BertSelfAttention(\n",
       "              (query): lora.Linear(\n",
       "                (base_layer): Linear(in_features=768, out_features=768, bias=True)\n",
       "                (lora_dropout): ModuleDict(\n",
       "                  (default): Dropout(p=0.01, inplace=False)\n",
       "                )\n",
       "                (lora_A): ModuleDict(\n",
       "                  (default): Linear(in_features=768, out_features=4, bias=False)\n",
       "                )\n",
       "                (lora_B): ModuleDict(\n",
       "                  (default): Linear(in_features=4, out_features=768, bias=False)\n",
       "                )\n",
       "                (lora_embedding_A): ParameterDict()\n",
       "                (lora_embedding_B): ParameterDict()\n",
       "              )\n",
       "              (key): Linear(in_features=768, out_features=768, bias=True)\n",
       "              (value): Linear(in_features=768, out_features=768, bias=True)\n",
       "              (dropout): Dropout(p=0.1, inplace=False)\n",
       "            )\n",
       "            (output): BertSelfOutput(\n",
       "              (dense): Linear(in_features=768, out_features=768, bias=True)\n",
       "              (LayerNorm): LayerNorm((768,), eps=1e-12, elementwise_affine=True)\n",
       "              (dropout): Dropout(p=0.1, inplace=False)\n",
       "            )\n",
       "          )\n",
       "          (intermediate): BertIntermediate(\n",
       "            (dense): Linear(in_features=768, out_features=3072, bias=True)\n",
       "            (intermediate_act_fn): GELUActivation()\n",
       "          )\n",
       "          (output): BertOutput(\n",
       "            (dense): Linear(in_features=3072, out_features=768, bias=True)\n",
       "            (LayerNorm): LayerNorm((768,), eps=1e-12, elementwise_affine=True)\n",
       "            (dropout): Dropout(p=0.1, inplace=False)\n",
       "          )\n",
       "        )\n",
       "      )\n",
       "    )\n",
       "    (pooler): BertPooler(\n",
       "      (dense): Linear(in_features=768, out_features=768, bias=True)\n",
       "      (activation): Tanh()\n",
       "    )\n",
       "  )\n",
       "  (dropout): Dropout(p=0.1, inplace=False)\n",
       "  (classifier): Linear(in_features=768, out_features=3, bias=True)\n",
       ")"
      ]
     },
     "execution_count": 42,
     "metadata": {},
     "output_type": "execute_result"
    }
   ],
   "source": [
    "# Load the saved fine-tuned model\n",
    "ft_model = AutoModelForSequenceClassification.from_pretrained(output_dir, num_labels=3)\n",
    "ft_model"
   ]
  },
  {
   "cell_type": "code",
   "execution_count": 49,
   "id": "72218440-6c92-4de6-b967-321a72f55108",
   "metadata": {},
   "outputs": [],
   "source": [
    "# text = \"한화오션은 지난해 말부터 카타르에너지로부터 lng 운반선 40척 계약을 수주했습니다...\t\"\n",
    "# text = \"대한민국은 출산율이 너무 낮아서 국가 소멸위기에 처하고 있습니다.\"\n",
    "text = \"국제 전자산업 회사인 엘코텍은 탈린 공장에서 수십 명의 직원을 해고했으며, 이전의 ...\""
   ]
  },
  {
   "cell_type": "code",
   "execution_count": 50,
   "id": "6faf8a04-26be-477d-87b3-ce24505c2be7",
   "metadata": {},
   "outputs": [
    {
     "name": "stdout",
     "output_type": "stream",
     "text": [
      "{'input_ids': tensor([[    2,  3854,  4299,  7138,  3769,  2179,  1424,  2258,  2229,  2073,\n",
      "          1764,  2466,  4345, 27135,  6106,  8918,  4070,  2069,  7208,  2371,\n",
      "          4007,    16,  4176,  2079,    18,    18,    18,     3]]), 'token_type_ids': tensor([[0, 0, 0, 0, 0, 0, 0, 0, 0, 0, 0, 0, 0, 0, 0, 0, 0, 0, 0, 0, 0, 0, 0, 0,\n",
      "         0, 0, 0, 0]]), 'attention_mask': tensor([[1, 1, 1, 1, 1, 1, 1, 1, 1, 1, 1, 1, 1, 1, 1, 1, 1, 1, 1, 1, 1, 1, 1, 1,\n",
      "         1, 1, 1, 1]])}\n",
      "tensor([[-0.3889,  0.5740, -0.6841]])\n",
      "1\n"
     ]
    }
   ],
   "source": [
    "import torch\n",
    "inputs = tokenizer(text, return_tensors=\"pt\")\n",
    "print(inputs)\n",
    "# Perform inference\n",
    "with torch.no_grad():\n",
    "    outputs = ft_model(**inputs)\n",
    "print(outputs.logits)\n",
    "# Get the predicted label\n",
    "predicted_label = torch.argmax(outputs.logits).item()\n",
    "print(predicted_label)"
   ]
  },
  {
   "cell_type": "code",
   "execution_count": null,
   "id": "b2821dae-0dd2-4fbf-b18d-7295f7fc50ff",
   "metadata": {},
   "outputs": [],
   "source": []
  }
 ],
 "metadata": {
  "kernelspec": {
   "display_name": "Python 3 (ipykernel)",
   "language": "python",
   "name": "python3"
  },
  "language_info": {
   "codemirror_mode": {
    "name": "ipython",
    "version": 3
   },
   "file_extension": ".py",
   "mimetype": "text/x-python",
   "name": "python",
   "nbconvert_exporter": "python",
   "pygments_lexer": "ipython3",
   "version": "3.10.11"
  }
 },
 "nbformat": 4,
 "nbformat_minor": 5
}
