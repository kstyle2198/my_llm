{
 "cells": [
  {
   "cell_type": "markdown",
   "id": "a0e4ba08-c660-45e0-9b51-c5623e5910ac",
   "metadata": {},
   "source": [
    "https://x-tabdeveloping.github.io/turftopic/"
   ]
  },
  {
   "cell_type": "markdown",
   "id": "c62f977f-e640-431c-a4cd-818c12a7863a",
   "metadata": {},
   "source": [
    "Turftopic is a topic modeling library which intends to simplify and streamline the usage of contextually sensitive topic models. We provide stable, minimal and scalable implementations of several types of models along with extensive documentation, so that you can make an informed choice about which model suits you best in the light of a given task or research question."
   ]
  },
  {
   "cell_type": "markdown",
   "id": "e4165c1a-26e3-44f2-9494-53154e5185ea",
   "metadata": {},
   "source": [
    "# Load Data"
   ]
  },
  {
   "cell_type": "code",
   "execution_count": 149,
   "id": "c83c68dc-ef2c-4688-b801-ae13ebbc32a5",
   "metadata": {},
   "outputs": [],
   "source": [
    "from datasets import Dataset, DatasetDict\n",
    "import pandas as pd\n",
    "from sklearn.model_selection import train_test_split\n",
    "\n",
    "def df_to_hg_dataset_dict(df):\n",
    "    '''\n",
    "    SFT(Supervised Fine-Tuning을 위해 Pandas df를 Huggingface Dataset_dict으로 변환하는 함수\n",
    "    df columns --> \"text\", \"label\"\n",
    "    '''\n",
    "    train_df, test_df = train_test_split(df, test_size=0.3, random_state=42)\n",
    "    \n",
    "    train_dataset = Dataset.from_pandas(train_df)\n",
    "    train_dataset = train_dataset.remove_columns([\"__index_level_0__\"])\n",
    "\n",
    "    test_dataset = Dataset.from_pandas(test_df)\n",
    "    test_dataset = test_dataset.remove_columns([\"__index_level_0__\"])\n",
    "\n",
    "    dataset_dict = DatasetDict({'train': train_dataset, 'test': test_dataset})\n",
    "    return dataset_dict"
   ]
  },
  {
   "cell_type": "code",
   "execution_count": 150,
   "id": "9e0f7e65-ab01-48e6-92a5-f30603d30209",
   "metadata": {},
   "outputs": [],
   "source": [
    "df = pd.read_csv(\"finance_data.csv\")"
   ]
  },
  {
   "cell_type": "code",
   "execution_count": 151,
   "id": "8c4ed317-4d17-428a-b3f0-ca0616fb032e",
   "metadata": {},
   "outputs": [
    {
     "data": {
      "text/plain": [
       "DatasetDict({\n",
       "    train: Dataset({\n",
       "        features: ['labels', 'sentence', 'kor_sentence'],\n",
       "        num_rows: 3392\n",
       "    })\n",
       "    test: Dataset({\n",
       "        features: ['labels', 'sentence', 'kor_sentence'],\n",
       "        num_rows: 1454\n",
       "    })\n",
       "})"
      ]
     },
     "execution_count": 151,
     "metadata": {},
     "output_type": "execute_result"
    }
   ],
   "source": [
    "datadict = df_to_hg_dataset_dict(df)\n",
    "datadict"
   ]
  },
  {
   "cell_type": "code",
   "execution_count": 152,
   "id": "515b3395-7eb3-4e47-81f6-373d3c93ae32",
   "metadata": {
    "scrolled": true
   },
   "outputs": [
    {
     "data": {
      "text/plain": [
       "['Operating profit for 2009 lower than outlook published earlier.',\n",
       " 'Net sales of the Lehdentekijat unit was approximately EUR 14 million in 2007 and it had 70 employees.',\n",
       " 'Community gardening has become a popular activity, especially to raise vegetables.',\n",
       " 'Alfa group will have 43.9 % of voting stock in the new company and Telenor 35.4 % with a free float of 20.7 %.',\n",
       " 'Of this, EUR 38.8 mn was net interest income.',\n",
       " \"In January-November 2009, the group's sales totalled EUR 7,801.7 mn, which was a drop of 12.6 % from the same period of 2008.\",\n",
       " \"These include software development for internet and mobile telephone content, communications, value-added software, financial services, security applications, systems integration and electronics,'' EBRD informed.\",\n",
       " \"For the fiscal year ending September 30, 2009 the revenue from these customers was $ 10.012 million or around 11.0 % of the transportation group's revenue.\",\n",
       " \"With Aldata, we can help retailers ensure that their merchandising and selections reflect customer demand and their evolving shopping behavior.''\",\n",
       " 'The last job losses related to these reductions will take place during 2010.',\n",
       " 'Previously, the company expected its 2008 financial performance to remain at the same level as in 2008.',\n",
       " 'LONDON AFX - Fortum said it has agreed to sell its industrial maintenance service operations to funds managed by CapMan for an undisclosed sum.',\n",
       " 'According to the original merger plan, Scanfil would get a 79 % stake in the combined business.',\n",
       " 'At 1411 CET, ArcelorMittal had lost 7.26 % to EUR 17.38 on Euronext Paris, coming at the lead of the blue-chip fallers.',\n",
       " 'Profit after taxes was EUR 0.1 mn, compared to EUR -0.4 mn the previous year.',\n",
       " 'Donations to universities The Annual General Meeting authorized the Board of Directors to donate max.',\n",
       " 'Finnish silicon wafer technology company Okmetic Oyj OMX Helsinki : OKM1V said on Wednesday 17 September that it will invest EUR6m in its sensor wafer business during 2009.',\n",
       " \"Aspo's net sales in 2006 totaled EUR 225.9 million.\",\n",
       " 'Consolidated operating profit from continuing operations decreased by 62.3 % to EUR 51.2 mn from EUR 135.7 mn in 2007.',\n",
       " 'Operating profit rose to EUR 103.4 mn from EUR 23.2 in the corresponding period in 2006.',\n",
       " 'Aldata to Share Space Optimization Vision at Apollo User Group and 2009 Category Management Association Conferences ; Company Will Unveil New Solution that Combines Business Intelligence with Space Planning Data at Conferences',\n",
       " 'Pretax profit rose to EUR 1,019 mn from EUR 1,007 in the corresponding period in 2005.',\n",
       " \"Ahlstrom's 5,700 employees serve customers via sales offices and production facilities in more than 20 countries on six continents.\",\n",
       " 'This is the second successful effort for the financial investor this year.',\n",
       " 'At first the contract envisaged the construction of three ferryboats with an option for two more units, further confirmed at a total value of 500 mln euro ( $ 645.8 mln ).',\n",
       " \"Following the issue, the new shares will constitute 10 percent of the firm's capital.\",\n",
       " 'Unit prices for straddle carriers vary between EUR700 ,000 and EUR900 ,000, the company added.',\n",
       " 'The deal means that ten persons in three countries will transfer to Tieto.',\n",
       " 'Consumption is forecast to grow by about 2 %.',\n",
       " 'Marathon now has a 4.6 percent stake in PLX, it said, according to Bloomberg.',\n",
       " 'It also turned to earnings per share ( EPS ) of EUR 0.08 versus loss per share of EUR 0.04.',\n",
       " 'To see a slide show of all the newest product releases from Fiskars.',\n",
       " 'Bids or offers include at least 1,000 shares and the value of the shares must correspond to at least EUR4 ,000.',\n",
       " 'TomTom has given assurances that it will continue to sell maps to competitors if it wins EU approval.',\n",
       " 'Member of the HK Ruokatalo Group in Finland, Scan, is launching a joint venture slaughterhouse with Team Ugglarp in Sk+_ne, southern Sweden.',\n",
       " \"Harold W. Young is an independent broker working closely with several retailers including Ahold USA, Market Basket, CVS, BJ's Wholesale Club, Hannaford and Cumberland Farms.\",\n",
       " 'Construction volumes meanwhile grow at a rate of 10-15 percent annually.',\n",
       " \"Metso's delivery will include a complete coated board line with related air systems and two winders.\",\n",
       " 'U.S.-based T Corp. is in talks with Scandinavian telecoms company TeliaSonera to sell its stake in Uzbek cellular operator Coscom, an executive at Coscom told Interfax.',\n",
       " 'The business to be divested generates consolidated net sales of EUR 60 million annually and currently has some 640 employees.',\n",
       " 'Finnish Suominen Flexible Packaging is cutting 48 jobs in its unit in Tampere and two in Nastola, in Finland.',\n",
       " 'ADPnews - Sep 28, 2009 - Finnish silicon wafers maker Okmetic Oyj HEL : OKM1V said it will reduce the number of its clerical workers by 22 worldwide as a result of personnel negotiations completed today.',\n",
       " 'Based on negotiations with personnel, some 20 % have indicated their willingness to move to the new location.',\n",
       " \"Metso Paper's delivery will comprise an Advantage DCT 200 tissue machine including quality control and distributed control systems ( QCS-DCS ).\",\n",
       " 'Boomeranger Boats Oy specialises in boat building and designs, manufactures and sells customised Rigid Inflatable Boats RIB primarily for the Baltic Sea market.',\n",
       " 'The original name Componenta +_m+_l, as a subsidiary of the Finnish Componenta Group, has been changed to +_m+_l Components and the company has seen a 63 % growth in Q1 2010, in comparison to Q1 2009.',\n",
       " 'Bosse added that Trygvesta does not have the financial strength to acquire the entire unit.',\n",
       " 'M-real plans to discontinue production of standard coated fine paper in the Hallein and Gohrsm++hle mills.',\n",
       " '19 May 2010 - Finnish company Lemminkainen Oyj ( HEL : LEM1S ) said today that it will construct an office building at Toolonlahti in downtown Helsinki, without disclosing financial details.',\n",
       " 'Finnish consulting and engineering group Poyry Plc ( OMX Helsinki : POY ) said on Wednesday ( 1 October ) that it has been awarded a contract by Tanqia Dibba FZC as owner-engineer for the wastewater system of Dibba, Emirate of Fujairah, UAE.',\n",
       " 'Operating profit totalled EUR 83.0 mn, up from EUR 23.5 mn year-on-year.',\n",
       " '21 October 2010 - Finnish fishing tackle company Rapala VMC Corp ( HEL : RAP1V ) said today its net profit rose to EUR18 .9 m for the first nine months of 2010 from EUR15 .1 m for the same period a year earlier.',\n",
       " 'The operating profit for Grain Trading increased to EUR 2.0 mn from EUR 1.4 mn in 2005.',\n",
       " 'The Board of Directors has proposed the Extraordinary General Meeting to authorise the Board to decide on the issuance of a maximum of 30mn new shares in one or more share issues.',\n",
       " 'The growth of net sales in the first half of 2008 has been 28 % compared with the first half of 2007.',\n",
       " 'As a result, the distribution companies will start to distribute, in addition to their current product offering, Shimano reels, rods and other Shimano fishing tackle products on an exclusive basis.',\n",
       " 'The developers of that project predict that once it is completed in April 2009, Skanssi will attract some 4.5 million visitors annually.',\n",
       " 'Espoon kaupunki awarded contracts for personal care products.',\n",
       " 'When new types of network elements are added to the network, the conversion file is updated by adding the information required for converting the message format of the new network element type to the format understood by the management system.',\n",
       " \"Dubai Nokia has announced the launch of `` Comes with Music'', its ground-breaking service which introduces a new way for people to enjoy music.\",\n",
       " 'The energy-efficient data center will be built by combining an effective energy solution with state-of-the-art technology.',\n",
       " 'Being successful requires providing a level of quality that satisfies our customers and partners.',\n",
       " 'Both companies will keep their commercial independence and continue to market their traditional products individually.',\n",
       " 'Mr. Mika Korpinen, APAC Vice President for Comptel concludes : `` Comptel is once again demonstrating the importance of providing reliable delivery and enabling time-to-market.',\n",
       " 'The oil shale feeder-supply solution will deliver crushed oil shale to the shale oil refinery already in operation as well as to the novel Enefit-280 shale oil technology processing plant.',\n",
       " 'These restrictions do not apply to statutory dividends.',\n",
       " 'Currently the quarterly applied surcharges differ significantly from the actual market prices.',\n",
       " 'The cosmetics collection includes an eye shadow, face powder, lip gloss, mascara and accessories.',\n",
       " 'Tikkurila acquired a majority stake in Kolorit Paints in the autumn of 2004.',\n",
       " \"com, and we are constantly planning new ways to serve our customers online on a more comprehensive basis,'' says Matti Leminen, President of Anttila Oy.\",\n",
       " \"Capacity of the facility made by Finland's Vaahto Group is 86,000 tons of light coated paper.\",\n",
       " 'Berling Capital, Umo Capital and Veikko Laine are the biggest shareholders in Amanda Capital.',\n",
       " \"I am looking forward to contribute to SRV's success with my competence'', says Taneli Hassinen.\",\n",
       " 'M+Ækel+Æ is demanding a new Board for the company as well as discussions on the merger of Alma media and media company Talentum.',\n",
       " 'The full-function PC weighs 1.25 kilograms and measures slightly more than two centimeters thin.',\n",
       " 'In the fourth quarter of 2008, net sales increased by 2 % to EUR 1,050.7 mn from EUR 1,027.0 mn in the fourth quarter of 2007.',\n",
       " \"Moreover, Konecranes and Kito intend to transfer the hoist distribution business of Konecranes' Japanese joint venture MHS Konecranes to Kito.\",\n",
       " 'Talvivaara has secured a 10-year off-take agreement for 100 per cent of its main output of nickel and cobalt to Norilsk Nickel and entered into a long-term zinc streaming agreement with Nyrstar NV.',\n",
       " 'Operating cash flow after investments totalled EUR 61.3 mn compared to EUR 75.3 mn in the corresponding period in 2007.',\n",
       " \"At the request of Finnish media company Alma Media's newspapers, research manager Jari Kaivo-oja at the Finland Futures Research Centre at the Turku School of Economics has drawn up a future scenario for Finland's national economy by using a model developed by the University of Denver.\",\n",
       " 'Other measures included increasing synergies and economies of scale within the Grimaldi Group and personnel adjustments, divestments and redelivery of excess tonnage.',\n",
       " '`` Stonesoft sees great promise in the future of IPv6.',\n",
       " 'Sales of security and system packaging increased slightly.',\n",
       " 'After the transaction, Tikkurila has no powder coatings related operations.',\n",
       " \"The company estimates that the trend in demand for sports equipment will be steady in 2006,'' Amer's report said.\",\n",
       " \"First Industrial will seek LEED designation for Uponor's new building and a 282,000 square-foot speculative distribution center at First Park Lakeville.\",\n",
       " 'Raw materials prices have surged in the past year, fueled in part because of the rapid industrialization of China, India and other developing nations.',\n",
       " 'The add-on order contains, among others, control valves and instrumentation as well as complete mill engineering and electrification with Metso drive controls.',\n",
       " 'So far, Mr. Galvan he has been able to avoid laying off workers.',\n",
       " \"The secondary antenna can also be used for reception of the high power signal of the radar to calibrate the transmission channels of the radar.''\",\n",
       " 'It makes a wide range of mobile devices with services and software that enable people to experience music, navigation, video, television, imaging, games and business mobility.',\n",
       " \"Ramirent's net sales in the second quarterended June 30 were EURO 128.7 million about U.S. $ 163 million, a 3.3-percent increase compared with EURO 124.6 million for thesecond quarter last year.\",\n",
       " 'The District Court of Helsinki dismissed all charges as the court of first instance in 2005.',\n",
       " 'Stora Chief Executive Jouko Karvinen has described the Russian tariff hikes as a threat to the future of the forest products industry in Finland.',\n",
       " 'Virala Oy Ab was allocated by the Board of Directors an amount of EUR 1,9 million which is EUR 0,25 million lower than maximum announced on 12/30/2010.',\n",
       " \"The pilot project proved that RIFD technology is ideal for our purposes'', comments Olli Saarinen, Material Handling Supervisor at Yara.\",\n",
       " \"Ruukki's delivery volumes and selling prices showed favourable development and the company's comparable net sales grew by 50 % year-on-year to EUR647m, CEO Sakari Tamminen said.\",\n",
       " 'In addition to the Tulikivi Corporation, he is also currently a member of the Board of the following companies : Altia Corporation, J+Ærvi-Suomen Portti Osuuskunta, Osuuskunta KPY, Profile Vehicles Oy and Voimatel Oy.',\n",
       " 'Insurance policies should be simple.',\n",
       " 'The group said it intends to initiate within this year the process of buyout of minority shareholders of Ragutis with the aim of becoming the sole owner of the company.',\n",
       " \"Tekla Group's net sales for 2006 were approximately 50 million euros and operating result 13.6 million euros.\",\n",
       " 'The order also covers design services, hardware, software licences, as well as maintenance services over six years.',\n",
       " 'As a result of the merger, the largest professional electronics and telecommunications technology contract manufacturing center in Finland will be formed in Sievi.',\n",
       " \"The Network Test Business is part of Elektrobit's Test and Automation Business Segment and employs 39 people in Finland and 22 people abroad, mainly in the US and Asia.\",\n",
       " 'Return on investment was 5.0 %, compared to a negative 4.1 % in 2009.',\n",
       " 'Ramirent s Danish subsidiary Ramirent A-S has today signed an agreement to acquire the business assets of the machinery rental company Jydsk Materiel Udlejning located in West Jutland.',\n",
       " \"The aim of the CEO's Q&A sessions is to give further clarity on information, which has been made public already earlier.\",\n",
       " 'SRV will raise its holding in the company so that by the summer of 2008, it will have a majority.',\n",
       " \"`` Last year, Finnair recorded a 32.6-percent growth on the Asian sector, carrying more than 1.10 million passengers between the two continents.''\",\n",
       " 'The Tekla Structures product box, if needed, is now made from recycled material.',\n",
       " 'Finnish broadband data communication systems provider Teleste Oyj HEL : TLT1V said yesterday it returned to a net profit of EUR 2.7 million USD 3.8 m for the first nine months of 2010 versus a net loss of EUR 579,000 for the same period of 2009.',\n",
       " 'The program included operational improvements and reductions in personnel, mainly in the Netherlands.',\n",
       " 'As a part of the plan, the Board of Directors decided to transfer a maximum of 330,000 shares held by the company in a share issue against payment directed to Aspo Management Oy, a holding company acquired by the management.',\n",
       " 'RusHydro has an agreement to transfer its stakes in OESK and the five ERCs into the trust management of Inter RAO.',\n",
       " 'International operations accounted for over 80 % of net sales.',\n",
       " \"Founded in 1649, Fiskars has over 360 years of product quality excellence and is Finland's oldest company.\",\n",
       " 'This would be a huge process.',\n",
       " 'The airline was targeting travel agents, tour operators and travel management companies to raise awareness first before targeting consumers, he added.',\n",
       " 'SAMPO PLC Jarmo Salonen Head of Investor Relations and Group Communications tel. +358 10 516 0030 Distribution : NASDAQ OMX Helsinki The principal media Financial Supervisory Authority www.sampo.com This announcement is distributed by Thomson Reuters on behalf of Thomson Reuters clients.',\n",
       " \"Componenta's objective with this agreement is to increase business on its existing production lines.\",\n",
       " 'GENEVA, Feb. 10 -- Tero Aaltonen, Finland has developed a radio resource control method.',\n",
       " \"`` Our design team has long admired Marimekko's vivid patterns and colors.\",\n",
       " 'HELSINKI (Thomson Financial)- Kemira GrowHow swung into profit in its first quarter earnings on improved sales, especially in its fertilizer business in Europe, which is normally stronger during the first quarter.',\n",
       " 'Stichting Pensioenfonds ABP : 4 118 122 shares representing 5.19 % of the share capital and voting rights.',\n",
       " \"Elisa has commissioned Finland's Poyry Telecom Oy to conduct a study of reception in some of Estonia's largest cities besides Tallinn.\",\n",
       " 'And when it has lifted the veil on the various types of customer for which it designs its phones, the result is social stereotyping taken to a fine art.',\n",
       " 'At a press conference, Lattelecom board chairman Nils Melngailis explained that Blackstone had been chosen for its experience in the IT sector as well as its financial strength.',\n",
       " 'The purchase of sites worth 300 million in the Thames Gateway will provide more than 1,200 homes.',\n",
       " 'Tornio Works employs 2,300 of whom more than 1,800 have been in the scope of the fixed-period or part-time temporary layoffs in April-October period.',\n",
       " 'The most significant challengers in the market are Logset and Sampo-Rosenlew.',\n",
       " 'The Committee proposes the following remuneration : a monthly remuneration of EUR 5,000 for the Chairman, EUR 3,500 for the Deputy Chairman, and EUR 2,500 for the other Board members.',\n",
       " \"`` As a part of the Eseries business promise, the Nokia E50 has been equipped with a variety of email solutions in a small and stylised package,'' said Dave Grannan, general manager, Enterprise Solutions, Nokia.\",\n",
       " 'Following the registration, the number of issued and outstanding shares of Basware is 12,890,829.',\n",
       " 'Net profit in the period in 2009 was ( EURO ) 29 million.',\n",
       " 'Finnish insurance company Fennia and Kesko Group are ending their loyal customer cooperation.',\n",
       " 'EQT has completed its exit from Salcomp, a Finnish company that makes mobile phone chargers, by selling its remaining stake to Swedish investment group Nordstjernan for about ( EURO ) 35 million ( $ 47 million ).',\n",
       " 'Unlisted British Biologicals makes B - and D - proteins, and other disease-specific supplements that cover diabetes, hepatitis, asthma and other cardiovascular ailments.',\n",
       " 'The personnel s expertise and high level of technology play a major role in Exel Composites operations.',\n",
       " 'Capman, the Finnish alternative asset manager, has made an acquisition for its Helsinki-focused vehicle, Real Estate Fund I. The fund has bought a seven-story office built in 1973 that underwent refurbishment at the end of the 1990s.',\n",
       " \"The fair value of CapMan Plc's own investments on 30 September 2008 amounted to MEUR 59.8.\",\n",
       " \"For the last quarter of 2010, Componenta's net sales doubled to EUR131m from EUR76m for the same period a year earlier, while it moved to a zero pre-tax profit from a pre-tax loss of EUR7m.\",\n",
       " \"`` We've been feeling quite positive about the region as a whole.\",\n",
       " 'MILAN ( AFX ) - The Italian shipping group Grimaldi has increased its stake in the Finnish company Finnlines to 35.4 pct from the 30.5 pct held in June, according to news agency ANSA.',\n",
       " 'Please inform IR Johanna Koskinen of your participation no later than 20 April at 10 a.m. A telephone conference for financial analysts and investors, conducted in English, will begin at 3:00 p.m. Finnish time ( EET ).',\n",
       " 'ADPnews - Feb 5, 2010 - Finnish real estate investor Sponda Oyj HEL : SDA1V said today that it slipped to a net loss of EUR 81.5 million USD 11.8 m in 2009 from a profit of EUR 29.3 million in 2008.',\n",
       " 'Eero Katajavuori, currently Group Vice President, Human Resources, will take a year-long sabbatical starting from October 1, 2010.',\n",
       " 'Net sales will, however, increase from 2005.',\n",
       " 'Finnish forest machinery manufacturer Ponsse has issued a profit warning.',\n",
       " 'At 12.01 pm, the OMX Helsinki 25 was down 0.66 pct to 3,143.57 and the OMX Helsinki was 0.67 pct lower at 10,530.74 on 253 mln eur turnover.',\n",
       " 'efficiency improvement measures 20 January 2010 - Finnish stationery and gift retailer Tiimari HEL : TII1V said today that it will continue to improve its operational efficiency, by focusing on its profitable core operations.',\n",
       " \"Ahlstrom's share is quoted on the NASDAQ OMX Helsinki.\",\n",
       " 'The company will publish its financial statement for 2008 on February 25, 2009.',\n",
       " 'The sales of the Tiimari segment fell by 4.0 % year-on-year to EUR3 .3 m in June 2010.',\n",
       " 'Decisions are to be made as quickly as possible.',\n",
       " 'Established in 1987, the SRV Group is a private Finnish construction concern with operations in Finland, the Baltic countries and Russia.',\n",
       " 'HELSINKI ( Thomson Financial ) - M-real said it will exercise an option to buy a 50MW natural gas power plant and land in Kyroskoski, Finland, for around 13 mln eur from Kyro Oyj.',\n",
       " \"The company's board of directors will propose a dividend of EUR 0.14 for 2008 at the annual general meeting.\",\n",
       " 'Finnish lifting equipment maker Konecranes Oyj said on July 30, 2008 that its net profit rose to 71.2 mln euro ( $ 111.1 mln ) for the first half of 2008 from 57.1 mln euro ( $ 89.1 mln ) for the same period of 2007.',\n",
       " \"`` Rapala is excited to be partnering with RBFF and other industry leaders on this holiday promotion.''\",\n",
       " \"The divestment is in line with the company's plans to focus on selected growth segments and streamline corporate structure, the company explained.\",\n",
       " \"EB will hold the exclusive rights to market the new entity's product.\",\n",
       " 'Together, Yahoo and Nokia said they will continue to deliver Internet experiences that address the core needs of consumers, developers, operators and advertisers.',\n",
       " 'SSH Communications Security Corporation is headquartered in Helsinki, Finland.',\n",
       " \"The online ice chart shows no ice in the area of Estonia's sea ports on the coast of the Gulf of Finland.\",\n",
       " 'The Efore plant at Saarijarvi in central Finland is one of the largest employers in the region.',\n",
       " \"The Tekla Structures 16 installation has been built according to Microsoft's requirements for the Windows 7 certification, the Company added.\",\n",
       " \"Thus the group's balance sheet will have about EUR25 .8 m in goodwill for 2010, the company added.\",\n",
       " \"`` Our decision and resolve on MeeGo is only stronger,'' she continued.\",\n",
       " 'You are warmly welcome!',\n",
       " 'Revenues at the same time grew 14 percent to 43 million euros.',\n",
       " 'He confirmed his view on July 6.',\n",
       " \"The company's profit totaled Ls 134,700.\",\n",
       " 'Re-use back into PET bottles has also steadily increased and the rate of use in strapping tape has picked up again after a dip in 2005, Petcore said previously.',\n",
       " \"One of Uponor's promising future products is a hydronic cooling system.\",\n",
       " \"The manufacture of CPPs will be undertaken at the existing Export Oriented Unit EOU at Wartsila's factory at Khopoli, near Mumbai.\",\n",
       " 'Its market share widened to 48.51 percent from 48.31 percent a year earlier.',\n",
       " 'Only the driver was left in the car with the suspect, who was kidnapped and forced at gunpoint to drive to Durham.',\n",
       " 'According to Scanfil, demand for telecommunications network products has fluctuated significantly in the third quarter of 2006, and the situation is expected to remain unstable for the rest of the year.',\n",
       " \"Under the agreement, Pfizer has been funding Biotie's research activities on the PDE10 phosphodiesterase 10 inhibitor program since its start in late 2006 and has the sole authority to develop discovered compounds.\",\n",
       " 'Harju Elekter was founded in 1968, and is the leading producer of electrical equipment and materials in the Baltic States.',\n",
       " 'The shares represented 4.998 % of total share capital and 2.14 % of total voting rights.',\n",
       " 'The utility will also provide services related to electricity management, such as hedging trades and risk management and reporting.',\n",
       " 'Shares will be acquired in accordance with section 5 of the rules of NASDAQ OMX Helsinki and other rules applicable to the acquisition of own shares.',\n",
       " \"Finnish Rautaruukki's engineering division Ruukki Engineering will re-organise its operations in the Mo i Rana plant in Norway.\",\n",
       " \"As earlier reported, Nokian Tyres is building a plant in the town of Vsevolozhsk in Russia's Leningrad Region with an annual production capacity of 4 million tires.\",\n",
       " 'The representative body of Swedish Meats approved an improved offer from Finnish HK Ruokatalo to acquire the company.',\n",
       " 'The relocation of Ragot has already started and will be completed in the next few weeks, with the Waterqueen and Tortue moves planned for mid-2008 and VMC Europe during the third quarter of 2008.',\n",
       " 'Operating profit was EUR 11.4 mn, up from EUR 7.5 mn.',\n",
       " 'The firm generated sales of 187 mln eur in 2005.',\n",
       " 'Then, it said the contract was estimated to contribute more than EUR150m to its net sales in 2010.',\n",
       " \"The value of the firm's forestry holdings increased by SEK 3.6 bn.\",\n",
       " \"HELSINKI, Finland, Sept. 18, 2009 ( GLOBE NEWSWIRE ) -- Ixonos Plc expands the company's smartphone R&D services and establishes a new next-generation smartphone design unit in connection with Ixonos' site in Jyvaeskylae.\",\n",
       " 'In 2008, the deal is likely to bring savings of EUR 20mn-25mn.',\n",
       " \"Estonia's Agriculture Minister Helir-Valdor Seeder is in Finland on a two-day visit, in the course of which he will meet with his Finnish counterpart Sirkka-Liisa Anttila.\",\n",
       " 'In Sweden, there is an oversupply of pharmacies.',\n",
       " 'Our purchase to pay solutions enable companies to gain visibility and control over business-critical financial processes.',\n",
       " 'This is the first time Finnair has been awarded an agreement with the UK government.',\n",
       " 'wins 98 % acceptance 23 December 2009 - Finnish industrial machinery company Metso Oyj ( HEL : MEO1V ) said today it will complete its takeover offer for textile company Tamfelt Oyj Abp ( HEL : TAFKS ), after acquiring 98 % of its shares and votes.',\n",
       " \"Ms Laakso will be responsible for HKScan's HR functions and for their development in all of the Group ` smarket areas.\",\n",
       " 'In the building and home improvement trade, sales decreased by 6.3 %, totalling EUR 154.1 mn.',\n",
       " \"In addition to the Indian market, the new plant will serve Salcomp's customers globally, the company said.\",\n",
       " 'Cash Flow from Operations for the most recent quarter also reached a eight year low.',\n",
       " 'The insurance division turned a EUR120m profit.',\n",
       " 'Altimo previously agreed a similar deal with Telenor to merge their stakes in VimpelCom and Kyivstar-GSM.',\n",
       " \"The Stockmann department store will have a total floor space of over 8,000 square metres and Stockmann's investment in the project will have a price tag of about EUR 12 million.\",\n",
       " 'A local waste management company, Turun Seudun J+Ætehuolto, has planned to set up a 150,000 tonne waste-burning facility.',\n",
       " 'NASDAQ-listed Yahoo Inc has introduced a new service that enables Malaysians to take their favorite Internet content and services with them on their mobile phones.',\n",
       " 'The companies signed the letter of intent for the sale on 17 September 2010 and envisaged to seal the actual agreement on 1 January 2011.',\n",
       " 'The total capacity of the factory will be approximately 100 engines a year.',\n",
       " 'Finnish Sampo-Rosenlew manufactures approximately seven forest machines monthly, and about half of machines are exported.',\n",
       " 'Nordea sees a return to positive growth for the Baltic countries in 2011.',\n",
       " 'Operating profit totalled EUR 9.6 mn, down from EUR 42.0 mn the year before.',\n",
       " \"In contrast, the company's net loss for the third quarter of 2009 contracted to EUR 76 million from EUR 256 million for the corresponding period a year ago.\",\n",
       " 'It grew in Finland, Norway, Denmark and the Baltic countries.',\n",
       " 'The natural source of isoprene is the tree species Hevea brasiliensis, also known as the rubber tree.',\n",
       " \"The opening of the portal is part of the expansion strategy of Alma Media's Marketplaces business unit.\",\n",
       " 'The Company turnover amounted to MEUR 27.9 in 2007.',\n",
       " \"The iTunes-based material will be accessible on Windows-based or Macintosh computers and transferable to portable devices, including Apple's iPods.\",\n",
       " \"` This order is included in Wartsila's order book in the second quarter,' the company added.\",\n",
       " \"It's very difficult to become a Google Analytics channel partner.\",\n",
       " 'The customer is then forwarded to the site, and unknown to him logged in with the first number.',\n",
       " \"Its market share is 6 percent according to AC Nielsen's 2008 data.\",\n",
       " 'Atria said its offer would give the Swedish company continued ownership and control of its slaughtering and cutting operations.',\n",
       " \"After the acquisition, Basware's preliminary pro forma net sales for 2005 amount to EUR 52.6 mn, and preliminary pro forma operating profit amounts to EUR 7.1 mn.\",\n",
       " 'The unit is planned to be operational during the second half of 2007 and in full stream in 2008.',\n",
       " \"The composite body is coated with a hard coating layer produced by thermal spraying, and the coating is ground.''\",\n",
       " 'The turbines are expected to be launched by the end of 2012.',\n",
       " \"German Commerzbank AG's Hamburg Branch and US JP Morgan ( NYSE : JPM ) participated as arrangers, and Dutch ING ( AMS : INGA ) as co-arranger.\",\n",
       " \"`` The implementation of these programs has had, and will have, negative impacts on 2006 and 2007 earnings,'' Mr Meiklejohn said.\",\n",
       " \"The company's strength is its Apetit brand.\",\n",
       " 'Previously, it projected the figure to be slightly lower than in 2009.',\n",
       " 'Work on the assignment has already started and is due for completion in spring 2011.',\n",
       " \"Anttila's online department store - NetAnttila - has an established position as the best-known, most visited and most shopped online store in Finland .\",\n",
       " 'The approximately 20,000 dwt vessel has been ordered from India.',\n",
       " '`` Social networking and location-based service trends comprise a significant share of the Internet traffic today and are appealing to MID users.',\n",
       " 'Jeder Beta-Tester erh+Ælt kostenlos sechs Monate lang Updates und hat laut eigener Aussage die M+?glichkeit, die finale Version zu beeinflussen.',\n",
       " 'The authorization is in force for a period of 18 months from the resolution by the General Meeting.',\n",
       " \"Clothing chain Sepp+Æl+Æ's net sales increased by 7.0 % to EUR 30.8 mn.\",\n",
       " 'The Finnish textiles and clothing company Marimekko Corporation ( OMX Helsinki : MMO1V ) reported on Wednesday ( 5 November ) an operating profit of EUR8 .1 m on net sales of EUR59m for the period from January to September 2008.',\n",
       " 'Music is provided by all major international and regional labels including Universal Music Group, Sony Music Entertainment, Warner Music, EMI Music, Rotana, Mazzika, Melody Music, Platinum Records, and leading content aggregator The Orchard, as well as thousands of independent labels.',\n",
       " 'It is planned to set up the A class business center in the two top storeys of the complex.',\n",
       " 'Pohjola will act as the manager of the issue and the bond will be listed on NASDAQ OMX Helsinki Ltd..',\n",
       " \"It has been agreed with the company's Board of Directors that she will be available in an advisory role.\",\n",
       " 'The bond has a value of EUR150m and a maturity of 4 years.',\n",
       " 'Finnish publisher Alma Media ( HEL : ALN1V ) said Wednesday it has decided to further extend its EUR1 .85 ( USD2 .75 ) apiece mandatory tender offer for media group Talentum ( HEL : TTM1V ), which started on 19 August, until 16 November.',\n",
       " 'The company said that it has started to investigate streamlining its operations in order to meet the tightening competition on the mobile phone charger market.',\n",
       " 'Stockholm, 3 March 2011 About Cybercom The Cybercom Group is a high-tech consultancy that offers global sourcing for end-to-end solutions.',\n",
       " 'LONDON ( AFX ) - Intertek Group PLC, a testing and inspection company, said its commercial and electrical division has bought Finland-based company Natlabs Oy from Etteplan Oyj for 1.3 mln eur in cash.',\n",
       " 'Aspocomp said it will spin off its Chinese and Indian units, and some equipment from its Salo plant in Finland, into a newly-formed unit, most of which it will then sell on to Hong Kong-listed Meadville.',\n",
       " 'The order was valued at USD12 .2 m.',\n",
       " \"This one was at one time targeted for June 5, but if we had to guess, it's been pushed back -- maybe we're crazy, but we feel like it has n't leaked enough to meet that date at this point.\",\n",
       " '`` I see my new post as an inspiring challenge.',\n",
       " 'Pharmaceuticals - Netherlands This brand-new market analysis gives a clear overview of the actual situation and future outlook of the pharmaceutical market in Netherlands.',\n",
       " 'We are adjusting to the present situation by cutting our capacity and costs without, however, jeopardising our Asia strategy over the longer term.',\n",
       " 'Kone shares dropped 4.1 percent to  x20ac 43 US$ 55.77 in Helsinki.',\n",
       " \"The business has sales of about ( Euro ) 35 million ( $ 44million ), and has been responsible for sales and marketing of Lanxess's paper chemicals business, which Kemira bought for ( Euro ) 88 million early this year ( CW, Jan. 11, p. 22 ).\",\n",
       " 'The appointments will be in force until the new CEO has been appointed.',\n",
       " 'Patrick Jeambar will also continue being responsible for Innovation and Health, safety and environment HSEA functions of Ahlstrom Corporation.',\n",
       " 'In beers, Olvi retained its market position.',\n",
       " 'Tiimari Latvian representative Ineta Zaharova said that the company earned LVL 122,000 in 2005 profit, which is 20 times more that in 2004.',\n",
       " \"Efore's CEO Reijo Maihaniemi said that the company has developed and already delivered power supply units to respective systems based on this technology to Chinese sector company ZTE Corp SHE : 000063.\",\n",
       " 'The maximum grade of the veneer yield is calculated, based on the dimensions and grades of the veneer products, as well as by iterating the places of the peeling axes and simulating the peeling process.',\n",
       " 'Now, Nokia has announced the launch of Bicycle Charger Kit that is compatible with all Nokia phones that have a 2 mm charging interface.',\n",
       " 'The solvency capital ratio of both companies was 2.7 times the solvency limit.',\n",
       " 'Igor and Oleg Yankov, who currently manage Moron and Vitim, will hold onto the 25 % stake for now.',\n",
       " 'According to Schmardin, Nordea will most likely try to win customers over from other pension fund providers.',\n",
       " 'Finnish forest machinery and equipment maker Ponsse Oyj said on October 5, 2007 it will deliver a total of 67 cut-to-length method forest machines and 44 harvester heads to Brazilian paper maker Bahia Pulp and to unnamed Uruguayan wood harvesting contractors.',\n",
       " 'It operates under three distinct brands : United Supermarkets, Market Street and United Supermercado.',\n",
       " \"In the meantime the CEO's duties will be assumed by Outotec's Deputy CEO Seppo Rantakari.\",\n",
       " \"According to Nordic financial group Nordea's analyst Sami Sarkamies, this makes Nokia's portfolio competitive again.\",\n",
       " 'One of the opportunities would be to bring all Baltic meat processing to Rakvere, like processing was concentrated at the Vantaa meat-packing unit in Finland, the paper wrote.',\n",
       " 'As of July 2, 2007, the market cap segments will be updated according to the average price in May 2007.',\n",
       " \"Finnish M-real's Kyro mill is starting negotiations to cut staff.\",\n",
       " \"The growth in the activeness of Talentum's customers, which started at the end of 2009, continued during the reporting period, the company stated.\",\n",
       " 'In 2010, Sanoma Magazines expects net sales to be at the 2009 level.',\n",
       " \"Global Markets Direct's Pohjola Bank plc - Financial Analysis Review is an in-depth business, financial analysis of Pohjola Bank plc..\",\n",
       " \"The platen edges in contact with the band are provided with a seal having a protrusion directed towards the middle area of the platen, and means are provided to exert and maintain a pressure in the volume defined by the platen, the band and the seal.''\",\n",
       " \"Technopolis, St. Petersburg's Telecommunications University and the Russian Support Fund for Legislative Initiatives signed a protocol of intent in May of this year to set up a technopark in St. Petersburg on the base of the St. Petersburg Telecommunications University.\",\n",
       " 'The capital structure of Solidium may be complemented by other financial instruments in the future.',\n",
       " 'The company turned to earnings per share ( EPS ) of EUR 0.03 versus loss per share of EUR 0.01.',\n",
       " 'Meanwhile, Nokia said that it will be able to deliver a complete range of services from deployment operations to consulting and integration to managed services as a result of the buyout.',\n",
       " 'Through the new production lines at the Novator mill in Veliky Ustjug, Vologda Oblast, Sveza will change its current 1.5 m by 1.5 m birch plywood production targeting the domestic market to produce 1.5 m by 3.0 m overlaid birch plywood for the global market.',\n",
       " 'Talvivaara Mining Company PLC ( Talvivaara Mining ) ( LSE : TALV ), a Finland-based nickel mining business, has installed its second production line at its metals recovery plant on June 9, 2010.',\n",
       " \"Rautaruukki Corporation Stock exchange release 3 December 2009 at 12 noon Ruukki's construction and engineering divisions are to further improve and adjust their operations in Finland.\",\n",
       " \"According to Vauramo, the plant's lifting equipment is suitable for Asian and for some Chinese trucks.\",\n",
       " 'Elisa Corporation, headquartered in Helsinki, is a Finnish telecomms company offering private and corporate customers a comprehensive range of telecomms services.',\n",
       " 'After the renovation the biggest moulding line in the Orhangazi foundry is the most modern line in Europe.',\n",
       " \"Last month, Outokumpu sold more than 80 percent of its technology unit, Outokumpu Technology Oyj, to further its strategic goal of becoming the world's largest stainless steel maker.\",\n",
       " 'The company also estimates the already carried out investments to lead to an increase in its net sales for 2010 from 2009 when they reached EUR 141.7 million.',\n",
       " \"Under the agreement Ponsse will provide forest machine maintenance services to Stora Enso's Russian wood procurement operations.\",\n",
       " 'Net sales revenue per passenger is expected to increase.',\n",
       " '20 October 2010 - Finnish metal products company Componenta Oyj HEL : CTH1V said yesterday that its net loss narrowed to EUR7m for the first nine months of 2010 from EUR23 .3 m for the same period of 2009.',\n",
       " 'A survey conducted by Taloustutkimus for Sampo Life shows that companies are badly prepared to losing key staff members.',\n",
       " '`` This is a win for all OEMs targeting to develop WiMAX products.',\n",
       " 'Veracel is preparing an appeal in the issue and has asked the court for clarification of the judgement.',\n",
       " \"The impact of Cableway to Teleste's net sales in 2009 is estimated to be EUR 4 million.\",\n",
       " 'The huge bridge girders will be delivered to the site from our plant in Ylivieska, Finland.',\n",
       " 'Ramirent Finland is the domestic unit of machinery rental company Ramirent Oyj HEL : RMR1V.',\n",
       " 'Net sales in 2007 totalled EUR 329 million and the operating margin was above 19 %.',\n",
       " 'According to CEO Matti Karppinen, Frozen Foods posted a good result in 2010, as it did in 2009.',\n",
       " 'The order was worth EUR 8mn.',\n",
       " '4 February 2011 - Finnish broadband data communication systems provider Teleste Oyj HEL : TLT1V saw its net profit jump to EUR2 .1 m for the last quarter of 2010 from EUR995 ,000 for the same period of 2009.',\n",
       " \"In the first quarter of 2008, Sacanfil's net sales totalled EUR 50.0 mn and its operating profit EUR 4.7 mn.\",\n",
       " '( ADP News ) - Feb 4, 2009 - Finnish broadband data communication systems and solutions company Teleste Oyj ( HEL : TLT1V ) said today its net profit decreased to EUR 5.5 million ( USD 7.2 m ) for 2008 from EUR 9.4 million for 200',\n",
       " 'The optimization of the steel components heating process will reduce the energy consumption.',\n",
       " 'Risk exposure by Non-life Insurance  Moving 12-month  Expenses by function in Non-life Insurance excluding expenses for investment management and expenses for other services rendered Non-life Insurance investment portfolio by allocation',\n",
       " 'A downloadable instruction sheet, instructional video, and project ideas for the award-winning Everywhere Punch TM Window System can be found at www.fiskars.com.',\n",
       " 'Finnish power company Fortum reports 89 % of its electricity was generated without carbon dioxide emissions in 2007.',\n",
       " 'The value of the multi-year agreement is over EUR 2mn a year.',\n",
       " 'For example, net sales increased by 5.9 % from the first quarter, and EBITDA increased from a negative EUR 0.2 mn in the first quarter of 2009.',\n",
       " \"The acquisition does not have to be from the frozen foods or fish sector, as long as it has synergies with L+Ænnen Tehtaat's other businesses.\",\n",
       " 'Fortum holds 90.2 pct of the share capital and 94.4 pct of the voting rights in the company, which it now plans to delist from the Warsaw Stock Exchange.',\n",
       " 'Also Finnish Industry Investment, a government-owned investment company, will participate in the project.',\n",
       " 'A memorandum of understanding on cooperation between the Finnish Global Chemical Company KEMIRA and Vietnam National Chemicals Group ( Vinachem ) was signed on this occasion.',\n",
       " 'Creating interfaces that are more similar to interactions in the real world can enable experiences that are more natural and intuitive, in the same way that modern games and movies are more immersive through the use of realistic 3-D graphics.',\n",
       " 'According to the company, in addition to normal seasonal fluctuation the market situation has weakened during autumn 2008.',\n",
       " 'The other two sellers were the Finnish National Fund for R&D ( Sitra ) and Oras Invest Oy, which also sold half of their shareholdings, leaving them with 3.8 pct and 3.2 pct of the company respectively.',\n",
       " \"The Swedish subsidiary holds 1.0 % net smelter return `` NSR'' royalties over two advanced copper projects in northern Sweden - the Viscaria and Adak Projects - being developed by Avalon Minerals Ltd. ASX : AVI.\",\n",
       " \"The biggest sellers in the chain's supermarkets in Finland are organic Pirkka tomatoes, carrots, eggs, and meat products.\",\n",
       " 'The beers differ slightly from mainstream beers.',\n",
       " 'In the Asia-Pacific region, Visa Wave is available in Malaysia, Taiwan and South Korea and will be expanded to Japan and Southeast Asia this year, Jung added.',\n",
       " \"Marimekko Group's full-year net sales are estimated to increase by about 10 %.\",\n",
       " 'Atria will launch a campaign in September to promote the CampoMos brand on the Moscow market, he said.',\n",
       " 'The company has 120 employees and annual sales of approximately EUR16m.',\n",
       " 'Delivery will start immediately in June 2008 and will be completed in 2008.',\n",
       " 'The first ship has been delayed and is estimated to be completed in spring 2010.',\n",
       " 'Helsinki on October 22, 2008 SSH COMMUNICATIONS SECURITY CORP Board of Directors For further information, please contact : Tomi Laamanen, Chairman, tel. +358 0 400 609 544 Distribution : NASDAQ OMX Helsinki Ltd..',\n",
       " 'On the route between Helsinki in Finland and Tallinn in Estonia, cargo volumes increased by 36 %, while cargo volumes between Finland and Sweden fell by 9 %.',\n",
       " \"The subsidiary is setting up a facility for manufacturing high-density interconnection printed circuit boards or PCBs at Nokia's special economic zone at Sriperumbudur near Chennai.\",\n",
       " 'The volume of investments in the two phases of the project is estimated at USD 300mn ( EUR 215.03 mn ).',\n",
       " \"`` The biggest challenge was to make the piece look raw,'' Hansen said.\",\n",
       " 'The hack had been extra nefarious because the tweets activated without being clicked on - it was enough for Web surfers to move their mouse cursors over them.',\n",
       " 'In February the Elcoteq group sold its St Petersburg facility ; according to unconfirmed information the reason could have been supply problems because of the Russian customs service.',\n",
       " 'Pretax loss totalled EUR 49.9 mn, compared to a loss of EUR 15.4 mn in the corresponding period in 2008.',\n",
       " 'comparable operating profit totaled EUR 854mn, up from EUR 730mn in 2004.',\n",
       " 'Finnish W+Ærtsil+Æ that provides power solutions for the marine and energy markets has opened a Service Centre in Murmansk, in Russia.',\n",
       " 'Mursula said they tried to gather macro-economic perspective to see how Malaysia was doing.',\n",
       " 'ALEXANDRIA, Va., June 7 -- Michael G. Williams of Newbury Park, Calif., has developed a network device.',\n",
       " 'In February 2011, new wording of Identity Documents Act that makes Mobile ID a state-approved electronic document as of February 1st 2011 entered into force.',\n",
       " \"at 9:00 EET Alma Media's Annual Report for 2009 is scheduled to be published in calendar week 9.\",\n",
       " 'Mr. Koistinen joins from Nokia Siemens Networks where he has held various senior sales management and business development positions since 1997.',\n",
       " 'Kesko pursues a strategy of healthy, focused growth concentrating on sales and services to consumer-customers.',\n",
       " 'The company will pay a dividend of EUR 0.50 per share, a total of EUR 14mn.',\n",
       " 'Net sales surged by 18.5 % to EUR167 .8 m. Teleste said that EUR20 .4 m, or 12.2 %, of the sales came from the acquisitions made in 2009.',\n",
       " \"narrows to EUR2 .8 m 9-mo'09 29 October 2009 - Finnish software and hardware developer Elektrobit Oyj HEL : EBG1V, or EB, said today that its net loss narrowed to EUR2 .8 m for the first nine months of 2009 from EUR35 .6 m for the same period a year ago.\",\n",
       " 'Temporary lay-offs, affecting the entire workforce, will also be implemented.',\n",
       " \"According to Scanfil's President Harri Takanen, Scanfil's investment activity proceeded according to the strategy on several fronts in 2010.\",\n",
       " 'Both operating profit and turnover for the nine-month period increased, respectively from EUR2 .4 m and EUR43 .8 m, as compared to the corresponding period a year ago.',\n",
       " 'The change in holdings in accordance with Chapter 2, Section 9 of the Finnish Securities Markets Act is described below.',\n",
       " 'It has80 branches in Finland with annual revenue in Finland of?',\n",
       " 'Finnish investment group Panostaja Oyj said its net profit went up to 8.6 mln euro $ 11.4 mln in fiscal 2005-06, ended October 31, 2006, from 2.8 mln euro $ 3.7 mln in the same period of fiscal 2004-05.',\n",
       " 'hu will offer a further discount of between 25 % and 50 % on selected books.',\n",
       " \"We warmly welcome him to Satama'', states Jussi Lansio, chairman of the Board.\",\n",
       " \"In the reporting period, the company's operating profit grew by 43.2 % to EUR 6 million.\",\n",
       " 'The business had gross written premiums of EUR152 .4 m (  91.5 m ) in 2000, a net combined ratio of 133 % and 175 staff in total with offices in the UK, Germany and Benelux.',\n",
       " 'Aspocomp Group, headquartered in Helsinki, Finland, develops interconnection solutions for the electronics industry.',\n",
       " 'The Daily Graphic newspaper, in October, reported an initiative being embarked upon by the Fidelity Bank to partner Ghana Post, which has offices across the country, to offer financial services to the unbanked and under-banked in the country.',\n",
       " 'Baltic Pearl CJSC, a subsidiary of Shanghai Foreign Joint Investment Company, is developing a project in St Petersburg, comprising about a million square meters of residential space, two hospitals and several schools and nurseries.',\n",
       " '9 September 2010 - Finnish stationery and gift retailer Tiimari HEL : TII1V said today its net sales rose by 2 % year-on-year to EUR5 .7 m in August 2010, driven by growth in Finland, while demand in the Baltics remained weak.',\n",
       " 'Earnings per share ( EPS ) amounted to EUR1 .37, down from EUR2 .30.',\n",
       " 'The company, which makes garden tools, scissors and other consumer goods, said earnings were boosted by 6.9 mln eur of income it received from its 16.7 pct shareholding in Finnish engineering group Wartsila.',\n",
       " 'Finnish Suominen Corporation that makes wipes, nonwovens, and flexible packaging, has a plant near Warsaw, in Poland, that makes flexible packaging.',\n",
       " 'At the moment, there are approximately 20 Vianor sales offices in Russia.',\n",
       " '`` As defences mature, attackers develop Trojans that are equipped with content filters to detect online banking activity for capturing account details using methods such as form grabbing, screen shots, video captures, keylogging and injection of form fields.',\n",
       " 'Finnish paints and coatings company Tikkurila Oyj ( HEL : TIK1V ) announced today the launch of Tikkurila ProHouse method for protection of wooden surfaces via treatment with Ultra Pro waterborne products.',\n",
       " 'Strand Associates is expanding its Madison corporate headquarters with space to add about 100 employees to the engineering firm.',\n",
       " '( ADP News ) - Feb 12, 2009 - Finnish construction company Lemminkainen Oyj ( HEL : LEM1S ) said today its net profit decreased to EUR 63.5 million ( USD 81.1 m ) for 2008 from EUR 80.6 million for 2007.',\n",
       " \"Okmetic's silicon wafers are part of a further processing chain that produces end products that improve human interaction and quality of life.\",\n",
       " 'Bluewin Security is available as a monthly subscription.',\n",
       " 'Technical indicators for the stock are bullish and S&P gives NOK a positive 4 STARS out of 5 buy ranking.',\n",
       " 'Unit costs for flight operations fell by 6.4 percent.',\n",
       " 'The acquired business main asset is a mobile authentication and signing solution, branded as Tectia MobileID, which provides authentication to web e-mail, SSL-VPN, MS SharePoint, Tectia Secure Solutions and other applications and resources.',\n",
       " 'Finnish consumer packaging manufacturer Huhtamaki Oyj said it swung to a net profit of 84.1 mln euro $ 105.6 mln in the first nine months of 2006 from a net loss of 2.6 mln euro $ 3.3 mln in the same period of 2005.',\n",
       " 'With the new arrangement, customer responsibilities will become mainly regional.',\n",
       " \"At the end of March 2009, the company's loans amounted to EUR 10.113 mn.\",\n",
       " 'In addition to its stake in MegaFon, Telecominvest currently owns 100 % of shares in Web Plus and St. Petersburg Payphones, 51 % in telecom equipment producer Peter-Servis and a number of other minor assets.',\n",
       " \"Cargotec Corporation, Press Release, April 28, 2008 at 2.00 p.m. Finnish time Cargotec's MacGREGOR business area providing marine cargo handling and offshore load handling solutions has received significant hatch cover orders for bulk carriers.\",\n",
       " 'Finnish cargo handling solutions company Cargotec Oyj said on June 17, 2008 that it will acquire New Zealand tailgates distributor Zepro Tailgate ( 1987 ) Limited for an undisclosed sum.',\n",
       " 'Pretax profit rose to EUR 17.8 mn from EUR 14.9 mn in 2005.',\n",
       " 'Status : Agreed',\n",
       " \"The EU Commission said earlier it had fined ThyssenKrupp, United Technologies Corp's Otis, Schindler AG and Kone Oyj a total of 992.3 mln eur for alleged cartel activity in the lift market going back twelve years.\",\n",
       " \"The 50-50 joint venture, to be called Nokia Siemens Networks, will be comprised of Nokia's network business group and Siemens' carrier-related operations, creating estimated synergies of 1.5 billion euros ( $ 1.9 billion ) by 2010, Nokia said.\",\n",
       " 'There did not seem to be enough hours in a day for Pekkarinen.',\n",
       " \"With sales of $ 12.7 billion over the last twelve months ending October, 2010 and over 9,200 stores in 35 states, Dollar General is the nation's largest small box discount retailer.\",\n",
       " 'An Android app will be coming soon.',\n",
       " \"`` We have a group of 120 volunteers made up of Digicel employees who will manage the distribution ... Over the next week, they will distribute the 19,000 tents to more than 150 organizations,'' Digicel Haiti CEO Maarten Boute said.\",\n",
       " 'Linde acts responsibly towards its shareholders, business partners, employees, society and the environment - in every one of its business areas, regions and locations across the globe.',\n",
       " 'Dirk Jones, head of Financial Institutions Client Sales Management, GTS, Citigroup, Inc, said, ` Citi is extremely pleased to be providing global custody services to Pohjola Group Bank.',\n",
       " 'The highest growth would be in China, while weakening demand would continue in North America, UPM said.',\n",
       " 'The company said that currently the French distribution unit Ragot is located in Loudeac, Normandy, the distribution unit Waterqueen and line supplier Tortue in Saint Marcel in mid-France and the hook manufacturing unit VMC and hook distribution unit VMC Europe in Morvillars.',\n",
       " 'CDLI highlights the companies that provided the most comprehensive response to the Carbon Disclosure Project CDP information request.',\n",
       " 'For 2009, net profit was EUR 3 million and the company paid a dividend of EUR 1.30 apiece.',\n",
       " 'Paper stocks were among the biggest fallers, with Stora Enso down 2.30 pct to 14.01 eur, M-real down 2.86 pct to 5.09 eur and UPM-Kymmene 1.14 pct lower at 19.10 eur.',\n",
       " 'Country : ; Germany Sector : Construction-Real Estate ; Machinery-Engineering Target : Caverion GmbH Buyer : YIT Oyj Deal size in USD : 90.3 m Type : Corporate acquisition Status : Agreed',\n",
       " 'There have been 15 initial public offerings announced in Sweden this year, compared with two during the same period a year earlier, Bloomberg data shows.',\n",
       " 'STOCK EXCHANGE ANNOUNCEMENT 20 July 2006 1 ( 1 ) BASWARE SHARE SUBSCRIPTIONS WITH WARRANTS AND INCREASE IN SHARE CAPITAL A total of 119 850 shares have been subscribed with BasWare Warrant Program.',\n",
       " 'The Bank of Tokyo-Mitsubishi UFJ, Ltd acted as agent for the loan.',\n",
       " \"Markets had been expecting a poor performance, and the company's stock was up 6 percent at  x20ac 23.89 US$ 33.84 in early afternoon trading in Helsinki.\",\n",
       " 'Incap estimates it will generate a revenue of 10 mln euro ( $ 13.2 mln ) from its Indian operations for 2007.',\n",
       " 'The poorest index figure was given to Finnish power company Fortum, 4.5.',\n",
       " \"Aspo's Group structure and business operations are continually developed without any predefined schedules.\",\n",
       " 'Finnish silicon wafers maker Okmetic Oyj said on September 17, 2008 that it will invest a total of 15 mln euro $ 21.3 mln in its sensor wafer business.',\n",
       " 'Finnish automation solutions developer Cencorp Corporation ( OMX Helsinki : CNC1V ) issued on Thursday ( 18 September ) a profit warning for the third quarter of 2008.',\n",
       " 'Fortum had previously bought the state-held stake in TGK-10 from RAO UES during its reform.',\n",
       " 'Shares in Royal and Sun Alliance continued to slide back from a 12-month high of 172p last month, after a potential suitor ruled itself out of a takeover bid.',\n",
       " \"In January-September 2007, Finnlines' net sales rose to EUR 505.4 mn from EUR 473.5 mn in the corresponding period in 2006.\",\n",
       " 'On Dec. 1, Grimaldi acquired 1.5 million shares and a 50.1-percent stake in Finnlines.',\n",
       " 'The layoff talks were first announced in August.',\n",
       " 'The net sales decreased to EUR 49.8 million from EUR 59.9 million.',\n",
       " 'Finnish Componenta has published its new long-term strategy for the period 2011-2015 with the aim of growing together with its customers.',\n",
       " 'High winds also toppled three semi-trailers on I-15 north of Barstow.',\n",
       " \"The company will be part of Teleste's Video and Broadband Solutions business area.\",\n",
       " 'firm 28 October 2009 - Finnish lifting equipment maker Konecranes Oyj HEL : KCR1V said today it acquired US Machine Tool Solutions Unlimited in Cincinnati, Ohio, for an undisclosed sum.',\n",
       " \"Before Kemira's installation NordAlu was producing 3,500 tons of liquid and solid aluminum waste per year.\",\n",
       " 'Operating profit, excluding non-recurring items, totalled EUR 2.2 mn, down from EUR 2.7 mn in the corresponding period in 2008.',\n",
       " 'In the spring 2006, a total of 386,530 Stock Options 2002 B were annulled.',\n",
       " \"The terms and conditions of the Stock Option Scheme 2008 are available on the Company's internet pages www.sanoma.com.\",\n",
       " 'The value of the orders is over EUR 10mn.',\n",
       " \"According to Sweden's Minister for Local Government and Financial Markets, Mats Odell, the decision to sell the State's shares in telecom group TeliaSonera can only be carried out in cooperation with the State of Finland.\",\n",
       " 'Finnish Talvivaara Mining Co HEL : TLV1V said Thursday it had picked BofA Merrill Lynch and JPMorgan NYSE : JPM as joint bookrunners of its planned issue of convertible notes worth up to EUR250m USD332m.',\n",
       " \"Customers wave cards in front of the reader to make payments, similar to `` touch and go'' cards used in transport systems.\",\n",
       " 'Finnish laboratory liquid handling and diagnostic test systems developer Biohit Oyj OMX Helsinki : BIOBV issued on Tuesday 3 June a profit warning for the financial year 2008.',\n",
       " 'The Finnish investment company Sponda is conducting negotiations to acquire the business center Dukat Palace-2 located in the center of Moscow, from London & Regional Properties.',\n",
       " 'EMSA Deputy Chairman of the Board Juri Lember told BNS on Wednesday that this was the first time he heard about the strike as the Swedish side had not informed the Estonian union yet.',\n",
       " 'UPM is talking to Myllykoski+?s creditor banks -- Nordea ( STO : NDA ), Nordic Investment Bank and Danske Bank+?s ( CPH : DANSKE ) Sampo Bank -- over a deal, the paper said.',\n",
       " 'The new B shares carry the right to dividend and other shareholder rights with effect from today.',\n",
       " 'The total donation amount is EUR 1,115,000.',\n",
       " \"A total of 15,000 new Citycon shares with a nominal value of EUR 1.35 per share were subscribed between 17 and 23 March 2006 exercising the A-B-C options based on the company's stock option plan 1999.\",\n",
       " 'The inventors are Mukkavilli Krishna Kiran, Sabharwal Ashutosh and Aazhang Behnaam.',\n",
       " \"The divested company is part of TietoEnator's business area Government, Manufacturing & Retail.\",\n",
       " \"`` Overall, we're pleased with the startup curve ... and we're pleased with the quality of the paper,'' Stora spokeswoman Patricia Dietz said Tuesday.\",\n",
       " 'The adjustment measures will be carried out in phases to secure the delivery capability.',\n",
       " \"Founded in 1923, Finnair is one of the world's oldest airlines and flies to 60 destinations with a fleet of 63 aircraft, employing 9,500 people.\",\n",
       " 'The EPS improved to EUR0 .38 from EUR0 .27.',\n",
       " 'Svyturys-Utenos Alus, which is controlled by the Nordic group Baltic Beverages Holding ( BBH ), posted a 6.1 percent growth in beer sales for January-September to 101.99 million liters.',\n",
       " 'With the measures, Suominen Corporation aims to ensure the competitiveness of the Flexible Packaging business in the long term.',\n",
       " \"Okmetic Board of Directors has also decided on a new share ownership program directed to the company's top management.\",\n",
       " 'Earnings per share were at loss of EUR0 .24.',\n",
       " 'The company has established a 3G base station at about 17,000 feet at the foot of Mount Everest that will enable mountain climbers at the 29,035-foot summit to surf the Internet and even send videos of their exploits.',\n",
       " 'The company also said that the deployment of the Danish 4G network continues and it expects to cover 75 % of the Danish population in 2011.',\n",
       " 'The proposal of the shareholders to elect Mr. Hannu Krogerus to the Board is based on his long and unrivalled experience and knowledge of all matters related to Elcoteq.',\n",
       " 'Tiimari operates 194 stores in six countries -- including its core Finnish market -- and generated a turnover of 76.5 mln eur in 2005.',\n",
       " 'According to the Act, universities can now acquire private funding.',\n",
       " 'Based on the 2005 calendar year the combined company had EUR15 .8 bn in pro forma annual revenues and is expected to start operations with 60,000 employees.',\n",
       " 'It is also 7.7 pct above the 12-month volume weighted average price of the stock.',\n",
       " 'Established in 1989, CapMan manages Nordic buyout, mezzanine, technology, life science and real estate funds with approximately EURO 3 billion $ 4 billion in total capital.',\n",
       " 'Pre-tax loss totaled EUR 0.3 mn, compared to a loss of EUR 2.2 mn in the first quarter of 2005.',\n",
       " 'Lieksaare Oy has earlier been regarded under the control of Saarelainen Oy and the individual shareholders under the shareholder agreement.',\n",
       " 'Compared with the FTSE 100 index, which rose 94.9 points ( or 1.6 % ) on the day, this was a relative price change of -0.4 %.',\n",
       " \"It is the most awkward thing to use if you're holding the phone with one hand.\",\n",
       " 'LIGHTS OUT Before curfew, curl up with the latest bestseller and treat your eyes to the perfect reading light from Luceplan.',\n",
       " \"In Q1 of 2009, the company's result before taxes from continuing operations, excluding non-recurring items, totalled EUR -0.4 mn, compared to EUR -0.1 mn in the corresponding period in 2008.\",\n",
       " 'Latvenergo has ordered a significant expansion to the Tekla Xpower network information system.',\n",
       " 'The Moscow Metro ( www.mosmetro.ru ) was the first metro system in Europe to implement smart cards together with a new type of magnetic card in 1998.',\n",
       " 'New Delhi, July 17 -- Sahlberg Teppo, Kallio Timo and Mustonen Tuomas of M Real OYJ, Espoo, Finland have developed novel markings and methods of producing the same.',\n",
       " 'At 12.59 pm, the OMX Helsinki 25 index was 0.32 pct lower at 2,694.81.',\n",
       " \"Elcoteq SE is Europe's largest contract electronics maker and has set up a unit in Bangalore in association with Avista Advisory of Mumbai.\",\n",
       " 'In addition to software development, the new design unit will provide for mechanical engineering and electronics design.',\n",
       " 'Finnish steel maker Rautaruukki Oyj ( Ruukki ) said on July 7, 2008 that it won a 9.0 mln euro ( $ 14.1 mln ) contract to supply and install steel superstructures for Partihallsforbindelsen bridge project in Gothenburg, western Sweden.',\n",
       " 'One of the challenges in the oil production in the North Sea is scale formation that can plug pipelines and halt production.',\n",
       " 'In addition, Cramo and Peab have signed exclusive five-year rental agreements in Finland and have extended their existing rental agreements in the Swedish market for another five years.',\n",
       " 'Finnish Aldata Solution has signed a contract of supply its G.O.L.D. system to two French retail chains.',\n",
       " \"Kalnapilio-Tauro Grupe ( Kalnapilis-Tauras Group ), which is owned by Denmark's Royal Unibrew, raised its market share to 25.18 percent from 23.74 percent, as beer sales for the seven months jumped by 14.5 percent to 40.5 million liters.\",\n",
       " 'The company now estimates its net sales in 2010 to increase considerably from 2009 and its operating result to be clearly positive.',\n",
       " \"TELE2 Affarsvarlden gave a `` buy'' recommendation on mobile operator Tele2 AB and a share price target of 142 crowns ( $ 23.54 - 15.19 euro ).\",\n",
       " 'The end-to-end delivery combines the competencies and services from TietoEnators Telecom & Media, Processing & Network and Digital Innovations Business Areas.',\n",
       " 'The corrected chapter is in its entirety below.',\n",
       " \"According to Finnish financial services group Sampo's CEO, Bj+?rn Wahlroos, Danish Danske Bank's acquisition of Sampo Bank for EUR 4bn was the largest cash deal in Finland's economic history.\",\n",
       " 'As a result, the company has decided it will implement fixed-term temporary lay-offs.',\n",
       " \"In the second quarter of 2010, the group's net profit rose to EUR3 .1 m from EUR2 .5 m in April-June 2009.\",\n",
       " 'Elsewhere, the tendency is towards more developed packaging than before.',\n",
       " \"India's trade with Russia currently stands at four billion dollars, growing 9.6 per cent in fiscal 2007.\",\n",
       " \"Since inception in 1999, Access' stable management team has remained disciplined and focused on the proactive screening, selection and management of European small to mid-market buy-out funds of funds and mandates.\",\n",
       " \"A quick `` one-stop-shop'' to understand the company.\",\n",
       " 'Svyturys-Utenos Alus, which is controlled by the Nordic group Baltic Beverages Holding ( BBH ), posted a 4.7-per-cent growth in beer sales for January-May to 46.22 million litres.',\n",
       " '( ADP News ) - Dec 11, 2008 - Finnish power-supply solutions provider Efore Oyj ( OMX : EFO1V ) said yesterday it opened a technology research and development ( R&D ) laboratory at Helsinki University of Technology.',\n",
       " \"Benefon's target is to lay off temporarily of permanently up to 20 % of the Salo plant's staff.\",\n",
       " \"Metso said it has won an order worth around 40 mln eur to supply a kraftliner board machine to China's Lee & Man Paper Co..\",\n",
       " 'The total value of the project is estimated to be over 3.0 mln euro $ 4.4 mln, of which the services will be over 2.0 mln euro $ 2.9 mln and third-party licences more than 1.0 mln euro $ 1.5 mln.',\n",
       " 'Earnings per share EPS amounted to EUR0 .01.',\n",
       " \"Kalnapilio-Tauro Grupe ( Kalnapilis-Tauras Group ), which is owned by Denmark's Royal Unibrew, raised its market share to 25.2 percent from 23.91 percent, as beer sales for the nine months jumped by 11.4 percent to 52.99 million liters.\",\n",
       " 'The shares shall be repurchased through public trading, for which reason the shares are repurchased otherwise than in proportion to the holdings of the shareholders.',\n",
       " 'Honkarakenne also decided yesterday to sell 88,500 of its B-series shares to key staff members for EUR 2.90 per share.',\n",
       " 'Blyk is launching first in the UK market in mid-2007, with other markets to follow.',\n",
       " 'Therefore, Phase III of the research will not be conducted by Abbott.',\n",
       " \"Exel Composites' long-term growth prospects remain favourable, however.\",\n",
       " 'The Samsung Mobile Applications Store was launched in January 2009 by Samsung Mobile Innovator, a program which enables mobile software developers to create applications for use across Samsung mobile devices.',\n",
       " 'Altogether CapMan employs approximately 150 people in Helsinki, Stockholm, Copenhagen, Oslo, Moscow and Luxembourg.',\n",
       " 'The segments through which the company operates are Frozen Food business, Seafoods, Vegetable Oil business, Grain Trading and Other business operations.',\n",
       " \"UK's Sarantel to outsource part of its processes to Elcoteq plant in Estonia LONDON, Oct 13, BNS - The British miniature antennas maker Sarantel has signed an agreement to outsource its assembly test and supply chain processes to the plant of Elcoteq in the Estonian capital Tallinn.\",\n",
       " \"Dolce & Gabbana has asked the European Union to declare Marimekko Corporation's `` Unikko'' floral pattern trademark invalid, in a continuing dispute between the two companies.\",\n",
       " 'Pharmaceutical market in Belgium Global Research & Data Services published recently a market analysis about the pharmaceutical markets in Belgium.',\n",
       " 'Finnish newspaper publisher Sanoma, of media group SanomaWSOY, is merging its free sheets Uutislehti 100 and Metro as of mid-September 2008 to form a new free sheet to be named Metro.',\n",
       " 'Sponda is a property investment company, specialising in commercial properties in the largest cities in Finland and Russia.',\n",
       " \"They will cover all Forest Industry's units and employees in Finland and concern temporary and permanent lay-offs.\",\n",
       " \"Lemcon has also signed a pre-contract for the purchase of the park's entire 130-hectare site.\",\n",
       " 'Kesko has about 2,000 stores engaged in chain operations in the Nordic and Baltic countries, Russia, and Belarus.',\n",
       " 'Tekla will implement the renewal in software versions which will be introduced in spring 2011.',\n",
       " 'The new name of the Sanoma Division will be Sanoma News.',\n",
       " 'By combining its existing solutions into a single platform, Comptel said that it has reduced the cost of deployment.']"
      ]
     },
     "execution_count": 152,
     "metadata": {},
     "output_type": "execute_result"
    }
   ],
   "source": [
    "ds = datadict[\"train\"]\n",
    "target_ds = ds[\"sentence\"][:500]\n",
    "target_ds"
   ]
  },
  {
   "cell_type": "code",
   "execution_count": 153,
   "id": "47a4c235-8661-4bf4-8035-d8eb9284b501",
   "metadata": {
    "scrolled": true
   },
   "outputs": [
    {
     "data": {
      "text/plain": [
       "array(['Operating profit for  lower than outlook published earlier.',\n",
       "       'Net sales of the Lehdentekijat unit was approximately EUR  million in  and it had  employees.'],\n",
       "      dtype='<U286')"
      ]
     },
     "execution_count": 153,
     "metadata": {},
     "output_type": "execute_result"
    }
   ],
   "source": [
    "import re\n",
    "\n",
    "def remove_numbers(text):\n",
    "    return re.sub(r'\\d+', '', text)\n",
    "\n",
    "target_ds = np.array([remove_numbers(text) for text in target_ds])\n",
    "target_ds = np.array([text for text in target_ds if len(text)>2])\n",
    "target_ds[:2]"
   ]
  },
  {
   "cell_type": "markdown",
   "id": "77977b8a-47a2-47c2-a61b-b12ea7ee4005",
   "metadata": {},
   "source": [
    "# KeyNMF"
   ]
  },
  {
   "cell_type": "code",
   "execution_count": 154,
   "id": "e364cc3c-2b0d-49a8-bc7e-6368d419f826",
   "metadata": {},
   "outputs": [
    {
     "data": {
      "application/vnd.jupyter.widget-view+json": {
       "model_id": "",
       "version_major": 2,
       "version_minor": 0
      },
      "text/plain": [
       "Output()"
      ]
     },
     "metadata": {},
     "output_type": "display_data"
    },
    {
     "data": {
      "text/html": [
       "<pre style=\"white-space:pre;overflow-x:auto;line-height:normal;font-family:Menlo,'DejaVu Sans Mono',consolas,'Courier New',monospace\"><span style=\"color: #7fbfbf; text-decoration-color: #7fbfbf\">[20:05:19] </span>Documents encoded.                                                                         <a href=\"file://D:\\GG_env\\llm_env\\lib\\site-packages\\turftopic\\models\\keynmf.py\" target=\"_blank\"><span style=\"color: #7f7f7f; text-decoration-color: #7f7f7f\">keynmf.py</span></a><span style=\"color: #7f7f7f; text-decoration-color: #7f7f7f\">:</span><a href=\"file://D:\\GG_env\\llm_env\\lib\\site-packages\\turftopic\\models\\keynmf.py#270\" target=\"_blank\"><span style=\"color: #7f7f7f; text-decoration-color: #7f7f7f\">270</span></a>\n",
       "</pre>\n"
      ],
      "text/plain": [
       "\u001b[2;36m[20:05:19]\u001b[0m\u001b[2;36m \u001b[0mDocuments encoded.                                                                         \u001b]8;id=904604;file://D:\\GG_env\\llm_env\\lib\\site-packages\\turftopic\\models\\keynmf.py\u001b\\\u001b[2mkeynmf.py\u001b[0m\u001b]8;;\u001b\\\u001b[2m:\u001b[0m\u001b]8;id=375461;file://D:\\GG_env\\llm_env\\lib\\site-packages\\turftopic\\models\\keynmf.py#270\u001b\\\u001b[2m270\u001b[0m\u001b]8;;\u001b\\\n"
      ]
     },
     "metadata": {},
     "output_type": "display_data"
    },
    {
     "data": {
      "text/html": [
       "<pre style=\"white-space:pre;overflow-x:auto;line-height:normal;font-family:Menlo,'DejaVu Sans Mono',consolas,'Courier New',monospace\"><span style=\"color: #7fbfbf; text-decoration-color: #7fbfbf\">[20:05:20] </span>Keyword extraction done.                                                                   <a href=\"file://D:\\GG_env\\llm_env\\lib\\site-packages\\turftopic\\models\\keynmf.py\" target=\"_blank\"><span style=\"color: #7f7f7f; text-decoration-color: #7f7f7f\">keynmf.py</span></a><span style=\"color: #7f7f7f; text-decoration-color: #7f7f7f\">:</span><a href=\"file://D:\\GG_env\\llm_env\\lib\\site-packages\\turftopic\\models\\keynmf.py#276\" target=\"_blank\"><span style=\"color: #7f7f7f; text-decoration-color: #7f7f7f\">276</span></a>\n",
       "</pre>\n"
      ],
      "text/plain": [
       "\u001b[2;36m[20:05:20]\u001b[0m\u001b[2;36m \u001b[0mKeyword extraction done.                                                                   \u001b]8;id=676390;file://D:\\GG_env\\llm_env\\lib\\site-packages\\turftopic\\models\\keynmf.py\u001b\\\u001b[2mkeynmf.py\u001b[0m\u001b]8;;\u001b\\\u001b[2m:\u001b[0m\u001b]8;id=255132;file://D:\\GG_env\\llm_env\\lib\\site-packages\\turftopic\\models\\keynmf.py#276\u001b\\\u001b[2m276\u001b[0m\u001b]8;;\u001b\\\n"
      ]
     },
     "metadata": {},
     "output_type": "display_data"
    },
    {
     "data": {
      "text/html": [
       "<pre style=\"white-space:pre;overflow-x:auto;line-height:normal;font-family:Menlo,'DejaVu Sans Mono',consolas,'Courier New',monospace\"><span style=\"color: #7fbfbf; text-decoration-color: #7fbfbf\">           </span>Model fitting done.                                                                        <a href=\"file://D:\\GG_env\\llm_env\\lib\\site-packages\\turftopic\\models\\keynmf.py\" target=\"_blank\"><span style=\"color: #7f7f7f; text-decoration-color: #7f7f7f\">keynmf.py</span></a><span style=\"color: #7f7f7f; text-decoration-color: #7f7f7f\">:</span><a href=\"file://D:\\GG_env\\llm_env\\lib\\site-packages\\turftopic\\models\\keynmf.py#288\" target=\"_blank\"><span style=\"color: #7f7f7f; text-decoration-color: #7f7f7f\">288</span></a>\n",
       "</pre>\n"
      ],
      "text/plain": [
       "\u001b[2;36m          \u001b[0m\u001b[2;36m \u001b[0mModel fitting done.                                                                        \u001b]8;id=877517;file://D:\\GG_env\\llm_env\\lib\\site-packages\\turftopic\\models\\keynmf.py\u001b\\\u001b[2mkeynmf.py\u001b[0m\u001b]8;;\u001b\\\u001b[2m:\u001b[0m\u001b]8;id=754366;file://D:\\GG_env\\llm_env\\lib\\site-packages\\turftopic\\models\\keynmf.py#288\u001b\\\u001b[2m288\u001b[0m\u001b]8;;\u001b\\\n"
      ]
     },
     "metadata": {},
     "output_type": "display_data"
    },
    {
     "data": {
      "text/html": [
       "<pre style=\"white-space:pre;overflow-x:auto;line-height:normal;font-family:Menlo,'DejaVu Sans Mono',consolas,'Courier New',monospace\"></pre>\n"
      ],
      "text/plain": []
     },
     "metadata": {},
     "output_type": "display_data"
    },
    {
     "data": {
      "text/html": [
       "<pre style=\"white-space:pre;overflow-x:auto;line-height:normal;font-family:Menlo,'DejaVu Sans Mono',consolas,'Courier New',monospace\">┏━━━━━━━━━━┳━━━━━━━━━━━━━━━━━━━━━━━━━━━━━━━━━━━━━━━━━━━━━━━━━━━━━━━━━━━━━━━━━━━━━━━━━━━━━━━━━━━━━━━━━━━━━━━━┓\n",
       "┃<span style=\"font-weight: bold\"> Topic ID </span>┃<span style=\"font-weight: bold\"> Highest Ranking                                                                                </span>┃\n",
       "┡━━━━━━━━━━╇━━━━━━━━━━━━━━━━━━━━━━━━━━━━━━━━━━━━━━━━━━━━━━━━━━━━━━━━━━━━━━━━━━━━━━━━━━━━━━━━━━━━━━━━━━━━━━━━┩\n",
       "│<span style=\"color: #000080; text-decoration-color: #000080\">        0 </span>│<span style=\"color: #800080; text-decoration-color: #800080\"> profit, net, operating, million, omx, quarter, june, corporation, oyj, hel                     </span>│\n",
       "├──────────┼────────────────────────────────────────────────────────────────────────────────────────────────┤\n",
       "│<span style=\"color: #000080; text-decoration-color: #000080\">        1 </span>│<span style=\"color: #800080; text-decoration-color: #800080\"> sales, net, million, eurm, growth, year, percent, group, september, quarter                    </span>│\n",
       "├──────────┼────────────────────────────────────────────────────────────────────────────────────────────────┤\n",
       "│<span style=\"color: #000080; text-decoration-color: #000080\">        2 </span>│<span style=\"color: #800080; text-decoration-color: #800080\"> company, finnish, oyj, eurm, operations, business, group, share, stock, year                   </span>│\n",
       "├──────────┼────────────────────────────────────────────────────────────────────────────────────────────────┤\n",
       "│<span style=\"color: #000080; text-decoration-color: #000080\">        3 </span>│<span style=\"color: #800080; text-decoration-color: #800080\"> eur, loss, net, hel, million, quarter, period, year, october, said                             </span>│\n",
       "├──────────┼────────────────────────────────────────────────────────────────────────────────────────────────┤\n",
       "│<span style=\"color: #000080; text-decoration-color: #000080\">        4 </span>│<span style=\"color: #800080; text-decoration-color: #800080\"> shares, share, capital, percent, stock, market, board, value, total, stake                     </span>│\n",
       "├──────────┼────────────────────────────────────────────────────────────────────────────────────────────────┤\n",
       "│<span style=\"color: #000080; text-decoration-color: #000080\">        5 </span>│<span style=\"color: #800080; text-decoration-color: #800080\"> finland, baltic, finnish, group, paper, unit, plant, growth, financial, real                   </span>│\n",
       "├──────────┼────────────────────────────────────────────────────────────────────────────────────────────────┤\n",
       "│<span style=\"color: #000080; text-decoration-color: #000080\">        6 </span>│<span style=\"color: #800080; text-decoration-color: #800080\"> business, financial, services, companies, omx, operations, management, total, group, according </span>│\n",
       "├──────────┼────────────────────────────────────────────────────────────────────────────────────────────────┤\n",
       "│<span style=\"color: #000080; text-decoration-color: #000080\">        7 </span>│<span style=\"color: #800080; text-decoration-color: #800080\"> finnish, mln, oyj, euro, net, hel, investment, loss, value, total                              </span>│\n",
       "├──────────┼────────────────────────────────────────────────────────────────────────────────────────────────┤\n",
       "│<span style=\"color: #000080; text-decoration-color: #000080\">        8 </span>│<span style=\"color: #800080; text-decoration-color: #800080\"> helsinki, omx, eurm, corporation, services, stock, oyj, technology, finnish, october           </span>│\n",
       "├──────────┼────────────────────────────────────────────────────────────────────────────────────────────────┤\n",
       "│<span style=\"color: #000080; text-decoration-color: #000080\">        9 </span>│<span style=\"color: #800080; text-decoration-color: #800080\"> mn, eur, increased, operating, operations, agreement, sales, compared, value, profit           </span>│\n",
       "└──────────┴────────────────────────────────────────────────────────────────────────────────────────────────┘\n",
       "</pre>\n"
      ],
      "text/plain": [
       "┏━━━━━━━━━━┳━━━━━━━━━━━━━━━━━━━━━━━━━━━━━━━━━━━━━━━━━━━━━━━━━━━━━━━━━━━━━━━━━━━━━━━━━━━━━━━━━━━━━━━━━━━━━━━━┓\n",
       "┃\u001b[1m \u001b[0m\u001b[1mTopic ID\u001b[0m\u001b[1m \u001b[0m┃\u001b[1m \u001b[0m\u001b[1mHighest Ranking                                                                               \u001b[0m\u001b[1m \u001b[0m┃\n",
       "┡━━━━━━━━━━╇━━━━━━━━━━━━━━━━━━━━━━━━━━━━━━━━━━━━━━━━━━━━━━━━━━━━━━━━━━━━━━━━━━━━━━━━━━━━━━━━━━━━━━━━━━━━━━━━┩\n",
       "│\u001b[34m \u001b[0m\u001b[34m       0\u001b[0m\u001b[34m \u001b[0m│\u001b[35m \u001b[0m\u001b[35mprofit, net, operating, million, omx, quarter, june, corporation, oyj, hel                    \u001b[0m\u001b[35m \u001b[0m│\n",
       "├──────────┼────────────────────────────────────────────────────────────────────────────────────────────────┤\n",
       "│\u001b[34m \u001b[0m\u001b[34m       1\u001b[0m\u001b[34m \u001b[0m│\u001b[35m \u001b[0m\u001b[35msales, net, million, eurm, growth, year, percent, group, september, quarter                   \u001b[0m\u001b[35m \u001b[0m│\n",
       "├──────────┼────────────────────────────────────────────────────────────────────────────────────────────────┤\n",
       "│\u001b[34m \u001b[0m\u001b[34m       2\u001b[0m\u001b[34m \u001b[0m│\u001b[35m \u001b[0m\u001b[35mcompany, finnish, oyj, eurm, operations, business, group, share, stock, year                  \u001b[0m\u001b[35m \u001b[0m│\n",
       "├──────────┼────────────────────────────────────────────────────────────────────────────────────────────────┤\n",
       "│\u001b[34m \u001b[0m\u001b[34m       3\u001b[0m\u001b[34m \u001b[0m│\u001b[35m \u001b[0m\u001b[35meur, loss, net, hel, million, quarter, period, year, october, said                            \u001b[0m\u001b[35m \u001b[0m│\n",
       "├──────────┼────────────────────────────────────────────────────────────────────────────────────────────────┤\n",
       "│\u001b[34m \u001b[0m\u001b[34m       4\u001b[0m\u001b[34m \u001b[0m│\u001b[35m \u001b[0m\u001b[35mshares, share, capital, percent, stock, market, board, value, total, stake                    \u001b[0m\u001b[35m \u001b[0m│\n",
       "├──────────┼────────────────────────────────────────────────────────────────────────────────────────────────┤\n",
       "│\u001b[34m \u001b[0m\u001b[34m       5\u001b[0m\u001b[34m \u001b[0m│\u001b[35m \u001b[0m\u001b[35mfinland, baltic, finnish, group, paper, unit, plant, growth, financial, real                  \u001b[0m\u001b[35m \u001b[0m│\n",
       "├──────────┼────────────────────────────────────────────────────────────────────────────────────────────────┤\n",
       "│\u001b[34m \u001b[0m\u001b[34m       6\u001b[0m\u001b[34m \u001b[0m│\u001b[35m \u001b[0m\u001b[35mbusiness, financial, services, companies, omx, operations, management, total, group, according\u001b[0m\u001b[35m \u001b[0m│\n",
       "├──────────┼────────────────────────────────────────────────────────────────────────────────────────────────┤\n",
       "│\u001b[34m \u001b[0m\u001b[34m       7\u001b[0m\u001b[34m \u001b[0m│\u001b[35m \u001b[0m\u001b[35mfinnish, mln, oyj, euro, net, hel, investment, loss, value, total                             \u001b[0m\u001b[35m \u001b[0m│\n",
       "├──────────┼────────────────────────────────────────────────────────────────────────────────────────────────┤\n",
       "│\u001b[34m \u001b[0m\u001b[34m       8\u001b[0m\u001b[34m \u001b[0m│\u001b[35m \u001b[0m\u001b[35mhelsinki, omx, eurm, corporation, services, stock, oyj, technology, finnish, october          \u001b[0m\u001b[35m \u001b[0m│\n",
       "├──────────┼────────────────────────────────────────────────────────────────────────────────────────────────┤\n",
       "│\u001b[34m \u001b[0m\u001b[34m       9\u001b[0m\u001b[34m \u001b[0m│\u001b[35m \u001b[0m\u001b[35mmn, eur, increased, operating, operations, agreement, sales, compared, value, profit          \u001b[0m\u001b[35m \u001b[0m│\n",
       "└──────────┴────────────────────────────────────────────────────────────────────────────────────────────────┘\n"
      ]
     },
     "metadata": {},
     "output_type": "display_data"
    }
   ],
   "source": [
    "from turftopic import KeyNMF\n",
    "\n",
    "model = KeyNMF(10).fit(target_ds)\n",
    "model.print_topics()"
   ]
  },
  {
   "cell_type": "code",
   "execution_count": 155,
   "id": "f22af9a5-7388-4f4d-a69a-5f2d91f2f1d8",
   "metadata": {},
   "outputs": [
    {
     "data": {
      "text/plain": [
       "(63,\n",
       " array(['according', 'agreement', 'baltic', 'based', 'board', 'business',\n",
       "        'capital', 'companies', 'company', 'compared', 'corporation',\n",
       "        'customers', 'eur', 'eurm', 'euro', 'financial', 'finland',\n",
       "        'finnish', 'group', 'growth', 'hel', 'helsinki', 'increased',\n",
       "        'investment', 'june', 'loss', 'management', 'market', 'million',\n",
       "        'mln', 'mn', 'net', 'new', 'october', 'omx', 'operating',\n",
       "        'operations', 'oyj', 'paper', 'percent', 'period', 'plant',\n",
       "        'products', 'profit', 'project', 'quarter', 'real', 'result',\n",
       "        'said', 'sales', 'september', 'services', 'share', 'shares',\n",
       "        'solutions', 'stake', 'stock', 'technology', 'today', 'total',\n",
       "        'unit', 'value', 'year'], dtype=object))"
      ]
     },
     "execution_count": 155,
     "metadata": {},
     "output_type": "execute_result"
    }
   ],
   "source": [
    "import numpy as np\n",
    "vocab = model.get_vocab()\n",
    "len(vocab), vocab"
   ]
  },
  {
   "cell_type": "code",
   "execution_count": 156,
   "id": "da69b3e7-c0c5-47e2-b9d1-933c1c5c618d",
   "metadata": {
    "scrolled": true
   },
   "outputs": [
    {
     "data": {
      "text/plain": [
       "array([ 18,  12,  10,  12,  18,  36,  12,  10,  91,  11,  12,  11, 129,\n",
       "        12,  21,  21,  40,  62,  42,  12,  20,  28,  11,  13,  10,  14,\n",
       "        15,  29,  45,  34,  51,  48,  31,  12,  14,  18,  22,  30,  10,\n",
       "        21,  29,  14,  12,  37,  10,  18,  10,  10,  60,  48,  12,  19,\n",
       "        26,  22,  15,  10,  10,  12,  15,  16,  19,  10,  39], dtype=int64)"
      ]
     },
     "execution_count": 156,
     "metadata": {},
     "output_type": "execute_result"
    }
   ],
   "source": [
    "# We will produce a BoW matrix to extract term frequencies\n",
    "document_term_matrix = model.vectorizer.transform(target_ds)\n",
    "frequencies = document_term_matrix.sum(axis=0)\n",
    "frequencies = np.squeeze(np.asarray(frequencies))\n",
    "frequencies"
   ]
  },
  {
   "cell_type": "code",
   "execution_count": 157,
   "id": "bf5ec8f3-9041-4ff3-9b15-b2d63021d014",
   "metadata": {
    "scrolled": true
   },
   "outputs": [
    {
     "data": {
      "text/plain": [
       "array([False, False, False, False, False, False, False, False, False,\n",
       "       False, False, False,  True, False, False, False, False, False,\n",
       "       False, False, False, False, False, False, False, False, False,\n",
       "       False, False, False, False, False, False, False, False, False,\n",
       "       False, False, False, False, False, False, False, False, False,\n",
       "       False, False, False, False, False, False, False, False, False,\n",
       "       False, False, False, False, False, False, False, False, False])"
      ]
     },
     "execution_count": 157,
     "metadata": {},
     "output_type": "execute_result"
    }
   ],
   "source": [
    "# We select the 99th percentile\n",
    "selected_terms_mask = frequencies > np.quantile(frequencies, 0.99)\n",
    "selected_terms_mask"
   ]
  },
  {
   "cell_type": "code",
   "execution_count": 158,
   "id": "7023a83f-1d6f-4019-8c64-9f9a74fd80cb",
   "metadata": {},
   "outputs": [],
   "source": [
    "import pandas as pd\n",
    "terms_with_axes = pd.DataFrame({\n",
    "    \"inference\": model.components_[7][:],\n",
    "    \"measurement_devices\": model.components_[1][:],\n",
    "    \"noise\": model.components_[6][:],\n",
    "    \"term\": vocab[:]\n",
    " })"
   ]
  },
  {
   "cell_type": "code",
   "execution_count": 159,
   "id": "339a2d62-9c55-46e8-9802-9a8b0f893e15",
   "metadata": {
    "scrolled": true
   },
   "outputs": [
    {
     "data": {
      "text/html": [
       "<div>\n",
       "<style scoped>\n",
       "    .dataframe tbody tr th:only-of-type {\n",
       "        vertical-align: middle;\n",
       "    }\n",
       "\n",
       "    .dataframe tbody tr th {\n",
       "        vertical-align: top;\n",
       "    }\n",
       "\n",
       "    .dataframe thead th {\n",
       "        text-align: right;\n",
       "    }\n",
       "</style>\n",
       "<table border=\"1\" class=\"dataframe\">\n",
       "  <thead>\n",
       "    <tr style=\"text-align: right;\">\n",
       "      <th></th>\n",
       "      <th>inference</th>\n",
       "      <th>measurement_devices</th>\n",
       "      <th>noise</th>\n",
       "      <th>term</th>\n",
       "    </tr>\n",
       "  </thead>\n",
       "  <tbody>\n",
       "    <tr>\n",
       "      <th>0</th>\n",
       "      <td>0.001127</td>\n",
       "      <td>0.000000</td>\n",
       "      <td>0.032869</td>\n",
       "      <td>according</td>\n",
       "    </tr>\n",
       "    <tr>\n",
       "      <th>1</th>\n",
       "      <td>0.000000</td>\n",
       "      <td>0.000000</td>\n",
       "      <td>0.030993</td>\n",
       "      <td>agreement</td>\n",
       "    </tr>\n",
       "    <tr>\n",
       "      <th>2</th>\n",
       "      <td>0.000000</td>\n",
       "      <td>0.048124</td>\n",
       "      <td>0.000000</td>\n",
       "      <td>baltic</td>\n",
       "    </tr>\n",
       "    <tr>\n",
       "      <th>3</th>\n",
       "      <td>0.000000</td>\n",
       "      <td>0.000000</td>\n",
       "      <td>0.004100</td>\n",
       "      <td>based</td>\n",
       "    </tr>\n",
       "    <tr>\n",
       "      <th>4</th>\n",
       "      <td>0.000249</td>\n",
       "      <td>0.000000</td>\n",
       "      <td>0.000000</td>\n",
       "      <td>board</td>\n",
       "    </tr>\n",
       "    <tr>\n",
       "      <th>...</th>\n",
       "      <td>...</td>\n",
       "      <td>...</td>\n",
       "      <td>...</td>\n",
       "      <td>...</td>\n",
       "    </tr>\n",
       "    <tr>\n",
       "      <th>58</th>\n",
       "      <td>0.032529</td>\n",
       "      <td>0.003751</td>\n",
       "      <td>0.000000</td>\n",
       "      <td>today</td>\n",
       "    </tr>\n",
       "    <tr>\n",
       "      <th>59</th>\n",
       "      <td>0.078625</td>\n",
       "      <td>0.000000</td>\n",
       "      <td>0.041730</td>\n",
       "      <td>total</td>\n",
       "    </tr>\n",
       "    <tr>\n",
       "      <th>60</th>\n",
       "      <td>0.000000</td>\n",
       "      <td>0.014696</td>\n",
       "      <td>0.000000</td>\n",
       "      <td>unit</td>\n",
       "    </tr>\n",
       "    <tr>\n",
       "      <th>61</th>\n",
       "      <td>0.080617</td>\n",
       "      <td>0.000000</td>\n",
       "      <td>0.000000</td>\n",
       "      <td>value</td>\n",
       "    </tr>\n",
       "    <tr>\n",
       "      <th>62</th>\n",
       "      <td>0.000000</td>\n",
       "      <td>0.091509</td>\n",
       "      <td>0.000000</td>\n",
       "      <td>year</td>\n",
       "    </tr>\n",
       "  </tbody>\n",
       "</table>\n",
       "<p>63 rows × 4 columns</p>\n",
       "</div>"
      ],
      "text/plain": [
       "    inference  measurement_devices     noise       term\n",
       "0    0.001127             0.000000  0.032869  according\n",
       "1    0.000000             0.000000  0.030993  agreement\n",
       "2    0.000000             0.048124  0.000000     baltic\n",
       "3    0.000000             0.000000  0.004100      based\n",
       "4    0.000249             0.000000  0.000000      board\n",
       "..        ...                  ...       ...        ...\n",
       "58   0.032529             0.003751  0.000000      today\n",
       "59   0.078625             0.000000  0.041730      total\n",
       "60   0.000000             0.014696  0.000000       unit\n",
       "61   0.080617             0.000000  0.000000      value\n",
       "62   0.000000             0.091509  0.000000       year\n",
       "\n",
       "[63 rows x 4 columns]"
      ]
     },
     "execution_count": 159,
     "metadata": {},
     "output_type": "execute_result"
    }
   ],
   "source": [
    "terms_with_axes"
   ]
  },
  {
   "cell_type": "code",
   "execution_count": 160,
   "id": "fa4290f5-79c2-4bc2-8a3e-038e096ac633",
   "metadata": {
    "scrolled": true
   },
   "outputs": [
    {
     "data": {
      "application/vnd.plotly.v1+json": {
       "config": {
        "plotlyServerURL": "https://plot.ly"
       },
       "data": [
        {
         "hovertemplate": "inference=%{x}<br>noise=%{y}<br>term=%{text}<br>measurement_devices=%{marker.color}<extra></extra>",
         "legendgroup": "",
         "marker": {
          "color": [
           0,
           0,
           0.048123980007677467,
           0,
           0,
           0.019441273437608236,
           0,
           0,
           0,
           0.012483817090895216,
           0.0020237621454135156,
           0.04937055818444133,
           0,
           0.20461673501204647,
           0.058809415778570934,
           0,
           0,
           0,
           0.07958562475836933,
           0.17532014367650914,
           0,
           0,
           0.050382870485517275,
           0,
           0.03944381812418464,
           0,
           0.019523646520123332,
           0.04173668679694638,
           0.31674479138780887,
           0,
           0,
           0.4014488609348856,
           0,
           0,
           0,
           0,
           0.010994298759902585,
           0,
           0.01499954077640575,
           0.0906049646995778,
           0,
           0,
           0,
           0,
           0,
           0.061106727894243214,
           0,
           0.044107615028229616,
           0,
           1.6562659430954068,
           0.06182326562191958,
           0,
           0.01398683009559732,
           0,
           0,
           0,
           0,
           0,
           0.0037511854564309154,
           0,
           0.014696020288861337,
           0,
           0.09150927737563753
          ],
          "coloraxis": "coloraxis",
          "line": {
           "color": "white",
           "width": 2
          },
          "size": 12,
          "symbol": "circle"
         },
         "mode": "markers+text",
         "name": "",
         "orientation": "v",
         "showlegend": false,
         "text": [
          "according",
          "agreement",
          "baltic",
          "based",
          "board",
          "business",
          "capital",
          "companies",
          "company",
          "compared",
          "corporation",
          "customers",
          "eur",
          "eurm",
          "euro",
          "financial",
          "finland",
          "finnish",
          "group",
          "growth",
          "hel",
          "helsinki",
          "increased",
          "investment",
          "june",
          "loss",
          "management",
          "market",
          "million",
          "mln",
          "mn",
          "net",
          "new",
          "october",
          "omx",
          "operating",
          "operations",
          "oyj",
          "paper",
          "percent",
          "period",
          "plant",
          "products",
          "profit",
          "project",
          "quarter",
          "real",
          "result",
          "said",
          "sales",
          "september",
          "services",
          "share",
          "shares",
          "solutions",
          "stake",
          "stock",
          "technology",
          "today",
          "total",
          "unit",
          "value",
          "year"
         ],
         "textposition": "top center",
         "type": "scatter",
         "x": [
          0.0011267227023180112,
          0,
          0,
          0,
          0.0002490800314045782,
          0,
          0,
          0,
          0,
          0.0045101520435816235,
          0,
          0.0011409171183537794,
          0,
          0,
          0.5521676207298827,
          0,
          0,
          1.0306145421246378,
          0.026838239637549596,
          0,
          0.15268263334240387,
          0,
          0.004871204251616454,
          0.1466634233623151,
          0.0091011237632262,
          0.09651656848052717,
          0,
          0.03584730330047222,
          0.07180459211845681,
          0.8608143134223467,
          0,
          0.24308238223893885,
          0.017689606409078264,
          0.050823342288186336,
          0.004284275576970306,
          0,
          0,
          0.5933925801778701,
          0.02368785208035683,
          0.008751808548155854,
          0.026043882864010336,
          0.0036395888314546213,
          0.02244219911887967,
          0,
          0.02496766000696897,
          0,
          0.009689223521005635,
          0,
          0.06698972981150363,
          0,
          0.002741138975178274,
          0.008132670875077337,
          0,
          0,
          0.024491317860663192,
          0.008269230846259752,
          0,
          0.016050108156409473,
          0.032529205264322555,
          0.07862514652754875,
          0,
          0.08061709522690226,
          0
         ],
         "xaxis": "x",
         "y": [
          0.03286902466119137,
          0.030993026196477137,
          0,
          0.004100274627068318,
          0,
          0.9296138920516246,
          0,
          0.16889089797391904,
          0,
          0,
          0,
          0,
          0.002620584392946878,
          0,
          0.032671749965967826,
          0.8914900364256382,
          0,
          0,
          0.04008678747174185,
          0,
          0,
          0,
          0,
          0,
          0.01120486167061192,
          0,
          0.047663225894600994,
          0,
          0.009918553958070097,
          0,
          0,
          0,
          0,
          0,
          0.053249152939569604,
          0,
          0.05177859459983412,
          0.0025244996113584855,
          0.030711414580745996,
          0,
          0,
          0.017472667894792744,
          0.002606879784929188,
          0.006714012622842882,
          0,
          0,
          0,
          0,
          0.0015091676690681054,
          0.013851556552488438,
          0,
          0.1988827130759181,
          0,
          0,
          0.017094839351897515,
          0.0064900647263959966,
          0,
          0.007439069960242028,
          0,
          0.04173016960485878,
          0,
          0,
          0
         ],
         "yaxis": "y"
        }
       ],
       "layout": {
        "coloraxis": {
         "colorbar": {
          "title": {
           "text": "measurement_devices"
          }
         },
         "colorscale": [
          [
           0,
           "rgb(0,0,255)"
          ],
          [
           1,
           "rgb(255,0,0)"
          ]
         ]
        },
        "height": 800,
        "legend": {
         "tracegroupgap": 0
        },
        "margin": {
         "t": 60
        },
        "template": {
         "data": {
          "bar": [
           {
            "error_x": {
             "color": "#2a3f5f"
            },
            "error_y": {
             "color": "#2a3f5f"
            },
            "marker": {
             "line": {
              "color": "white",
              "width": 0.5
             },
             "pattern": {
              "fillmode": "overlay",
              "size": 10,
              "solidity": 0.2
             }
            },
            "type": "bar"
           }
          ],
          "barpolar": [
           {
            "marker": {
             "line": {
              "color": "white",
              "width": 0.5
             },
             "pattern": {
              "fillmode": "overlay",
              "size": 10,
              "solidity": 0.2
             }
            },
            "type": "barpolar"
           }
          ],
          "carpet": [
           {
            "aaxis": {
             "endlinecolor": "#2a3f5f",
             "gridcolor": "#C8D4E3",
             "linecolor": "#C8D4E3",
             "minorgridcolor": "#C8D4E3",
             "startlinecolor": "#2a3f5f"
            },
            "baxis": {
             "endlinecolor": "#2a3f5f",
             "gridcolor": "#C8D4E3",
             "linecolor": "#C8D4E3",
             "minorgridcolor": "#C8D4E3",
             "startlinecolor": "#2a3f5f"
            },
            "type": "carpet"
           }
          ],
          "choropleth": [
           {
            "colorbar": {
             "outlinewidth": 0,
             "ticks": ""
            },
            "type": "choropleth"
           }
          ],
          "contour": [
           {
            "colorbar": {
             "outlinewidth": 0,
             "ticks": ""
            },
            "colorscale": [
             [
              0,
              "#0d0887"
             ],
             [
              0.1111111111111111,
              "#46039f"
             ],
             [
              0.2222222222222222,
              "#7201a8"
             ],
             [
              0.3333333333333333,
              "#9c179e"
             ],
             [
              0.4444444444444444,
              "#bd3786"
             ],
             [
              0.5555555555555556,
              "#d8576b"
             ],
             [
              0.6666666666666666,
              "#ed7953"
             ],
             [
              0.7777777777777778,
              "#fb9f3a"
             ],
             [
              0.8888888888888888,
              "#fdca26"
             ],
             [
              1,
              "#f0f921"
             ]
            ],
            "type": "contour"
           }
          ],
          "contourcarpet": [
           {
            "colorbar": {
             "outlinewidth": 0,
             "ticks": ""
            },
            "type": "contourcarpet"
           }
          ],
          "heatmap": [
           {
            "colorbar": {
             "outlinewidth": 0,
             "ticks": ""
            },
            "colorscale": [
             [
              0,
              "#0d0887"
             ],
             [
              0.1111111111111111,
              "#46039f"
             ],
             [
              0.2222222222222222,
              "#7201a8"
             ],
             [
              0.3333333333333333,
              "#9c179e"
             ],
             [
              0.4444444444444444,
              "#bd3786"
             ],
             [
              0.5555555555555556,
              "#d8576b"
             ],
             [
              0.6666666666666666,
              "#ed7953"
             ],
             [
              0.7777777777777778,
              "#fb9f3a"
             ],
             [
              0.8888888888888888,
              "#fdca26"
             ],
             [
              1,
              "#f0f921"
             ]
            ],
            "type": "heatmap"
           }
          ],
          "heatmapgl": [
           {
            "colorbar": {
             "outlinewidth": 0,
             "ticks": ""
            },
            "colorscale": [
             [
              0,
              "#0d0887"
             ],
             [
              0.1111111111111111,
              "#46039f"
             ],
             [
              0.2222222222222222,
              "#7201a8"
             ],
             [
              0.3333333333333333,
              "#9c179e"
             ],
             [
              0.4444444444444444,
              "#bd3786"
             ],
             [
              0.5555555555555556,
              "#d8576b"
             ],
             [
              0.6666666666666666,
              "#ed7953"
             ],
             [
              0.7777777777777778,
              "#fb9f3a"
             ],
             [
              0.8888888888888888,
              "#fdca26"
             ],
             [
              1,
              "#f0f921"
             ]
            ],
            "type": "heatmapgl"
           }
          ],
          "histogram": [
           {
            "marker": {
             "pattern": {
              "fillmode": "overlay",
              "size": 10,
              "solidity": 0.2
             }
            },
            "type": "histogram"
           }
          ],
          "histogram2d": [
           {
            "colorbar": {
             "outlinewidth": 0,
             "ticks": ""
            },
            "colorscale": [
             [
              0,
              "#0d0887"
             ],
             [
              0.1111111111111111,
              "#46039f"
             ],
             [
              0.2222222222222222,
              "#7201a8"
             ],
             [
              0.3333333333333333,
              "#9c179e"
             ],
             [
              0.4444444444444444,
              "#bd3786"
             ],
             [
              0.5555555555555556,
              "#d8576b"
             ],
             [
              0.6666666666666666,
              "#ed7953"
             ],
             [
              0.7777777777777778,
              "#fb9f3a"
             ],
             [
              0.8888888888888888,
              "#fdca26"
             ],
             [
              1,
              "#f0f921"
             ]
            ],
            "type": "histogram2d"
           }
          ],
          "histogram2dcontour": [
           {
            "colorbar": {
             "outlinewidth": 0,
             "ticks": ""
            },
            "colorscale": [
             [
              0,
              "#0d0887"
             ],
             [
              0.1111111111111111,
              "#46039f"
             ],
             [
              0.2222222222222222,
              "#7201a8"
             ],
             [
              0.3333333333333333,
              "#9c179e"
             ],
             [
              0.4444444444444444,
              "#bd3786"
             ],
             [
              0.5555555555555556,
              "#d8576b"
             ],
             [
              0.6666666666666666,
              "#ed7953"
             ],
             [
              0.7777777777777778,
              "#fb9f3a"
             ],
             [
              0.8888888888888888,
              "#fdca26"
             ],
             [
              1,
              "#f0f921"
             ]
            ],
            "type": "histogram2dcontour"
           }
          ],
          "mesh3d": [
           {
            "colorbar": {
             "outlinewidth": 0,
             "ticks": ""
            },
            "type": "mesh3d"
           }
          ],
          "parcoords": [
           {
            "line": {
             "colorbar": {
              "outlinewidth": 0,
              "ticks": ""
             }
            },
            "type": "parcoords"
           }
          ],
          "pie": [
           {
            "automargin": true,
            "type": "pie"
           }
          ],
          "scatter": [
           {
            "fillpattern": {
             "fillmode": "overlay",
             "size": 10,
             "solidity": 0.2
            },
            "type": "scatter"
           }
          ],
          "scatter3d": [
           {
            "line": {
             "colorbar": {
              "outlinewidth": 0,
              "ticks": ""
             }
            },
            "marker": {
             "colorbar": {
              "outlinewidth": 0,
              "ticks": ""
             }
            },
            "type": "scatter3d"
           }
          ],
          "scattercarpet": [
           {
            "marker": {
             "colorbar": {
              "outlinewidth": 0,
              "ticks": ""
             }
            },
            "type": "scattercarpet"
           }
          ],
          "scattergeo": [
           {
            "marker": {
             "colorbar": {
              "outlinewidth": 0,
              "ticks": ""
             }
            },
            "type": "scattergeo"
           }
          ],
          "scattergl": [
           {
            "marker": {
             "colorbar": {
              "outlinewidth": 0,
              "ticks": ""
             }
            },
            "type": "scattergl"
           }
          ],
          "scattermapbox": [
           {
            "marker": {
             "colorbar": {
              "outlinewidth": 0,
              "ticks": ""
             }
            },
            "type": "scattermapbox"
           }
          ],
          "scatterpolar": [
           {
            "marker": {
             "colorbar": {
              "outlinewidth": 0,
              "ticks": ""
             }
            },
            "type": "scatterpolar"
           }
          ],
          "scatterpolargl": [
           {
            "marker": {
             "colorbar": {
              "outlinewidth": 0,
              "ticks": ""
             }
            },
            "type": "scatterpolargl"
           }
          ],
          "scatterternary": [
           {
            "marker": {
             "colorbar": {
              "outlinewidth": 0,
              "ticks": ""
             }
            },
            "type": "scatterternary"
           }
          ],
          "surface": [
           {
            "colorbar": {
             "outlinewidth": 0,
             "ticks": ""
            },
            "colorscale": [
             [
              0,
              "#0d0887"
             ],
             [
              0.1111111111111111,
              "#46039f"
             ],
             [
              0.2222222222222222,
              "#7201a8"
             ],
             [
              0.3333333333333333,
              "#9c179e"
             ],
             [
              0.4444444444444444,
              "#bd3786"
             ],
             [
              0.5555555555555556,
              "#d8576b"
             ],
             [
              0.6666666666666666,
              "#ed7953"
             ],
             [
              0.7777777777777778,
              "#fb9f3a"
             ],
             [
              0.8888888888888888,
              "#fdca26"
             ],
             [
              1,
              "#f0f921"
             ]
            ],
            "type": "surface"
           }
          ],
          "table": [
           {
            "cells": {
             "fill": {
              "color": "#EBF0F8"
             },
             "line": {
              "color": "white"
             }
            },
            "header": {
             "fill": {
              "color": "#C8D4E3"
             },
             "line": {
              "color": "white"
             }
            },
            "type": "table"
           }
          ]
         },
         "layout": {
          "annotationdefaults": {
           "arrowcolor": "#2a3f5f",
           "arrowhead": 0,
           "arrowwidth": 1
          },
          "autotypenumbers": "strict",
          "coloraxis": {
           "colorbar": {
            "outlinewidth": 0,
            "ticks": ""
           }
          },
          "colorscale": {
           "diverging": [
            [
             0,
             "#8e0152"
            ],
            [
             0.1,
             "#c51b7d"
            ],
            [
             0.2,
             "#de77ae"
            ],
            [
             0.3,
             "#f1b6da"
            ],
            [
             0.4,
             "#fde0ef"
            ],
            [
             0.5,
             "#f7f7f7"
            ],
            [
             0.6,
             "#e6f5d0"
            ],
            [
             0.7,
             "#b8e186"
            ],
            [
             0.8,
             "#7fbc41"
            ],
            [
             0.9,
             "#4d9221"
            ],
            [
             1,
             "#276419"
            ]
           ],
           "sequential": [
            [
             0,
             "#0d0887"
            ],
            [
             0.1111111111111111,
             "#46039f"
            ],
            [
             0.2222222222222222,
             "#7201a8"
            ],
            [
             0.3333333333333333,
             "#9c179e"
            ],
            [
             0.4444444444444444,
             "#bd3786"
            ],
            [
             0.5555555555555556,
             "#d8576b"
            ],
            [
             0.6666666666666666,
             "#ed7953"
            ],
            [
             0.7777777777777778,
             "#fb9f3a"
            ],
            [
             0.8888888888888888,
             "#fdca26"
            ],
            [
             1,
             "#f0f921"
            ]
           ],
           "sequentialminus": [
            [
             0,
             "#0d0887"
            ],
            [
             0.1111111111111111,
             "#46039f"
            ],
            [
             0.2222222222222222,
             "#7201a8"
            ],
            [
             0.3333333333333333,
             "#9c179e"
            ],
            [
             0.4444444444444444,
             "#bd3786"
            ],
            [
             0.5555555555555556,
             "#d8576b"
            ],
            [
             0.6666666666666666,
             "#ed7953"
            ],
            [
             0.7777777777777778,
             "#fb9f3a"
            ],
            [
             0.8888888888888888,
             "#fdca26"
            ],
            [
             1,
             "#f0f921"
            ]
           ]
          },
          "colorway": [
           "#636efa",
           "#EF553B",
           "#00cc96",
           "#ab63fa",
           "#FFA15A",
           "#19d3f3",
           "#FF6692",
           "#B6E880",
           "#FF97FF",
           "#FECB52"
          ],
          "font": {
           "color": "#2a3f5f"
          },
          "geo": {
           "bgcolor": "white",
           "lakecolor": "white",
           "landcolor": "white",
           "showlakes": true,
           "showland": true,
           "subunitcolor": "#C8D4E3"
          },
          "hoverlabel": {
           "align": "left"
          },
          "hovermode": "closest",
          "mapbox": {
           "style": "light"
          },
          "paper_bgcolor": "white",
          "plot_bgcolor": "white",
          "polar": {
           "angularaxis": {
            "gridcolor": "#EBF0F8",
            "linecolor": "#EBF0F8",
            "ticks": ""
           },
           "bgcolor": "white",
           "radialaxis": {
            "gridcolor": "#EBF0F8",
            "linecolor": "#EBF0F8",
            "ticks": ""
           }
          },
          "scene": {
           "xaxis": {
            "backgroundcolor": "white",
            "gridcolor": "#DFE8F3",
            "gridwidth": 2,
            "linecolor": "#EBF0F8",
            "showbackground": true,
            "ticks": "",
            "zerolinecolor": "#EBF0F8"
           },
           "yaxis": {
            "backgroundcolor": "white",
            "gridcolor": "#DFE8F3",
            "gridwidth": 2,
            "linecolor": "#EBF0F8",
            "showbackground": true,
            "ticks": "",
            "zerolinecolor": "#EBF0F8"
           },
           "zaxis": {
            "backgroundcolor": "white",
            "gridcolor": "#DFE8F3",
            "gridwidth": 2,
            "linecolor": "#EBF0F8",
            "showbackground": true,
            "ticks": "",
            "zerolinecolor": "#EBF0F8"
           }
          },
          "shapedefaults": {
           "line": {
            "color": "#2a3f5f"
           }
          },
          "ternary": {
           "aaxis": {
            "gridcolor": "#DFE8F3",
            "linecolor": "#A2B1C6",
            "ticks": ""
           },
           "baxis": {
            "gridcolor": "#DFE8F3",
            "linecolor": "#A2B1C6",
            "ticks": ""
           },
           "bgcolor": "white",
           "caxis": {
            "gridcolor": "#DFE8F3",
            "linecolor": "#A2B1C6",
            "ticks": ""
           }
          },
          "title": {
           "x": 0.05
          },
          "xaxis": {
           "automargin": true,
           "gridcolor": "#EBF0F8",
           "linecolor": "#EBF0F8",
           "ticks": "",
           "title": {
            "standoff": 15
           },
           "zerolinecolor": "#EBF0F8",
           "zerolinewidth": 2
          },
          "yaxis": {
           "automargin": true,
           "gridcolor": "#EBF0F8",
           "linecolor": "#EBF0F8",
           "ticks": "",
           "title": {
            "standoff": 15
           },
           "zerolinecolor": "#EBF0F8",
           "zerolinewidth": 2
          }
         }
        },
        "width": 1200,
        "xaxis": {
         "anchor": "y",
         "autorange": true,
         "domain": [
          0,
          1
         ],
         "range": [
          -0.06792657654331224,
          1.0985411186679501
         ],
         "title": {
          "text": "inference"
         },
         "type": "linear"
        },
        "yaxis": {
         "anchor": "x",
         "autorange": true,
         "domain": [
          0,
          1
         ],
         "range": [
          -0.06502480592070949,
          0.9946386979723341
         ],
         "title": {
          "text": "noise"
         },
         "type": "linear"
        }
       }
      },
      "image/png": "[encoded data removed]",
      "text/html": [
       "<div>                            <div id=\"3293abd3-7ef0-4ca7-9989-0d1d977f6edd\" class=\"plotly-graph-div\" style=\"height:800px; width:1200px;\"></div>            <script type=\"text/javascript\">                require([\"plotly\"], function(Plotly) {                    window.PLOTLYENV=window.PLOTLYENV || {};                                    if (document.getElementById(\"3293abd3-7ef0-4ca7-9989-0d1d977f6edd\")) {                    Plotly.newPlot(                        \"3293abd3-7ef0-4ca7-9989-0d1d977f6edd\",                        [{\"hovertemplate\":\"inference=%{x}\\u003cbr\\u003enoise=%{y}\\u003cbr\\u003eterm=%{text}\\u003cbr\\u003emeasurement_devices=%{marker.color}\\u003cextra\\u003e\\u003c\\u002fextra\\u003e\",\"legendgroup\":\"\",\"marker\":{\"color\":[0.0,0.0,0.048123980007677467,0.0,0.0,0.019441273437608236,0.0,0.0,0.0,0.012483817090895216,0.0020237621454135156,0.04937055818444133,0.0,0.20461673501204647,0.058809415778570934,0.0,0.0,0.0,0.07958562475836933,0.17532014367650914,0.0,0.0,0.050382870485517275,0.0,0.03944381812418464,0.0,0.019523646520123332,0.04173668679694638,0.31674479138780887,0.0,0.0,0.4014488609348856,0.0,0.0,0.0,0.0,0.010994298759902585,0.0,0.01499954077640575,0.0906049646995778,0.0,0.0,0.0,0.0,0.0,0.061106727894243214,0.0,0.044107615028229616,0.0,1.6562659430954068,0.06182326562191958,0.0,0.01398683009559732,0.0,0.0,0.0,0.0,0.0,0.0037511854564309154,0.0,0.014696020288861337,0.0,0.09150927737563753],\"coloraxis\":\"coloraxis\",\"symbol\":\"circle\",\"line\":{\"color\":\"white\",\"width\":2},\"size\":12},\"mode\":\"markers+text\",\"name\":\"\",\"orientation\":\"v\",\"showlegend\":false,\"text\":[\"according\",\"agreement\",\"baltic\",\"based\",\"board\",\"business\",\"capital\",\"companies\",\"company\",\"compared\",\"corporation\",\"customers\",\"eur\",\"eurm\",\"euro\",\"financial\",\"finland\",\"finnish\",\"group\",\"growth\",\"hel\",\"helsinki\",\"increased\",\"investment\",\"june\",\"loss\",\"management\",\"market\",\"million\",\"mln\",\"mn\",\"net\",\"new\",\"october\",\"omx\",\"operating\",\"operations\",\"oyj\",\"paper\",\"percent\",\"period\",\"plant\",\"products\",\"profit\",\"project\",\"quarter\",\"real\",\"result\",\"said\",\"sales\",\"september\",\"services\",\"share\",\"shares\",\"solutions\",\"stake\",\"stock\",\"technology\",\"today\",\"total\",\"unit\",\"value\",\"year\"],\"x\":[0.0011267227023180112,0.0,0.0,0.0,0.0002490800314045782,0.0,0.0,0.0,0.0,0.0045101520435816235,0.0,0.0011409171183537794,0.0,0.0,0.5521676207298827,0.0,0.0,1.0306145421246378,0.026838239637549596,0.0,0.15268263334240387,0.0,0.004871204251616454,0.1466634233623151,0.0091011237632262,0.09651656848052717,0.0,0.03584730330047222,0.07180459211845681,0.8608143134223467,0.0,0.24308238223893885,0.017689606409078264,0.050823342288186336,0.004284275576970306,0.0,0.0,0.5933925801778701,0.02368785208035683,0.008751808548155854,0.026043882864010336,0.0036395888314546213,0.02244219911887967,0.0,0.02496766000696897,0.0,0.009689223521005635,0.0,0.06698972981150363,0.0,0.002741138975178274,0.008132670875077337,0.0,0.0,0.024491317860663192,0.008269230846259752,0.0,0.016050108156409473,0.032529205264322555,0.07862514652754875,0.0,0.08061709522690226,0.0],\"xaxis\":\"x\",\"y\":[0.03286902466119137,0.030993026196477137,0.0,0.004100274627068318,0.0,0.9296138920516246,0.0,0.16889089797391904,0.0,0.0,0.0,0.0,0.002620584392946878,0.0,0.032671749965967826,0.8914900364256382,0.0,0.0,0.04008678747174185,0.0,0.0,0.0,0.0,0.0,0.01120486167061192,0.0,0.047663225894600994,0.0,0.009918553958070097,0.0,0.0,0.0,0.0,0.0,0.053249152939569604,0.0,0.05177859459983412,0.0025244996113584855,0.030711414580745996,0.0,0.0,0.017472667894792744,0.002606879784929188,0.006714012622842882,0.0,0.0,0.0,0.0,0.0015091676690681054,0.013851556552488438,0.0,0.1988827130759181,0.0,0.0,0.017094839351897515,0.0064900647263959966,0.0,0.007439069960242028,0.0,0.04173016960485878,0.0,0.0,0.0],\"yaxis\":\"y\",\"type\":\"scatter\",\"textposition\":\"top center\"}],                        {\"template\":{\"data\":{\"barpolar\":[{\"marker\":{\"line\":{\"color\":\"white\",\"width\":0.5},\"pattern\":{\"fillmode\":\"overlay\",\"size\":10,\"solidity\":0.2}},\"type\":\"barpolar\"}],\"bar\":[{\"error_x\":{\"color\":\"#2a3f5f\"},\"error_y\":{\"color\":\"#2a3f5f\"},\"marker\":{\"line\":{\"color\":\"white\",\"width\":0.5},\"pattern\":{\"fillmode\":\"overlay\",\"size\":10,\"solidity\":0.2}},\"type\":\"bar\"}],\"carpet\":[{\"aaxis\":{\"endlinecolor\":\"#2a3f5f\",\"gridcolor\":\"#C8D4E3\",\"linecolor\":\"#C8D4E3\",\"minorgridcolor\":\"#C8D4E3\",\"startlinecolor\":\"#2a3f5f\"},\"baxis\":{\"endlinecolor\":\"#2a3f5f\",\"gridcolor\":\"#C8D4E3\",\"linecolor\":\"#C8D4E3\",\"minorgridcolor\":\"#C8D4E3\",\"startlinecolor\":\"#2a3f5f\"},\"type\":\"carpet\"}],\"choropleth\":[{\"colorbar\":{\"outlinewidth\":0,\"ticks\":\"\"},\"type\":\"choropleth\"}],\"contourcarpet\":[{\"colorbar\":{\"outlinewidth\":0,\"ticks\":\"\"},\"type\":\"contourcarpet\"}],\"contour\":[{\"colorbar\":{\"outlinewidth\":0,\"ticks\":\"\"},\"colorscale\":[[0.0,\"#0d0887\"],[0.1111111111111111,\"#46039f\"],[0.2222222222222222,\"#7201a8\"],[0.3333333333333333,\"#9c179e\"],[0.4444444444444444,\"#bd3786\"],[0.5555555555555556,\"#d8576b\"],[0.6666666666666666,\"#ed7953\"],[0.7777777777777778,\"#fb9f3a\"],[0.8888888888888888,\"#fdca26\"],[1.0,\"#f0f921\"]],\"type\":\"contour\"}],\"heatmapgl\":[{\"colorbar\":{\"outlinewidth\":0,\"ticks\":\"\"},\"colorscale\":[[0.0,\"#0d0887\"],[0.1111111111111111,\"#46039f\"],[0.2222222222222222,\"#7201a8\"],[0.3333333333333333,\"#9c179e\"],[0.4444444444444444,\"#bd3786\"],[0.5555555555555556,\"#d8576b\"],[0.6666666666666666,\"#ed7953\"],[0.7777777777777778,\"#fb9f3a\"],[0.8888888888888888,\"#fdca26\"],[1.0,\"#f0f921\"]],\"type\":\"heatmapgl\"}],\"heatmap\":[{\"colorbar\":{\"outlinewidth\":0,\"ticks\":\"\"},\"colorscale\":[[0.0,\"#0d0887\"],[0.1111111111111111,\"#46039f\"],[0.2222222222222222,\"#7201a8\"],[0.3333333333333333,\"#9c179e\"],[0.4444444444444444,\"#bd3786\"],[0.5555555555555556,\"#d8576b\"],[0.6666666666666666,\"#ed7953\"],[0.7777777777777778,\"#fb9f3a\"],[0.8888888888888888,\"#fdca26\"],[1.0,\"#f0f921\"]],\"type\":\"heatmap\"}],\"histogram2dcontour\":[{\"colorbar\":{\"outlinewidth\":0,\"ticks\":\"\"},\"colorscale\":[[0.0,\"#0d0887\"],[0.1111111111111111,\"#46039f\"],[0.2222222222222222,\"#7201a8\"],[0.3333333333333333,\"#9c179e\"],[0.4444444444444444,\"#bd3786\"],[0.5555555555555556,\"#d8576b\"],[0.6666666666666666,\"#ed7953\"],[0.7777777777777778,\"#fb9f3a\"],[0.8888888888888888,\"#fdca26\"],[1.0,\"#f0f921\"]],\"type\":\"histogram2dcontour\"}],\"histogram2d\":[{\"colorbar\":{\"outlinewidth\":0,\"ticks\":\"\"},\"colorscale\":[[0.0,\"#0d0887\"],[0.1111111111111111,\"#46039f\"],[0.2222222222222222,\"#7201a8\"],[0.3333333333333333,\"#9c179e\"],[0.4444444444444444,\"#bd3786\"],[0.5555555555555556,\"#d8576b\"],[0.6666666666666666,\"#ed7953\"],[0.7777777777777778,\"#fb9f3a\"],[0.8888888888888888,\"#fdca26\"],[1.0,\"#f0f921\"]],\"type\":\"histogram2d\"}],\"histogram\":[{\"marker\":{\"pattern\":{\"fillmode\":\"overlay\",\"size\":10,\"solidity\":0.2}},\"type\":\"histogram\"}],\"mesh3d\":[{\"colorbar\":{\"outlinewidth\":0,\"ticks\":\"\"},\"type\":\"mesh3d\"}],\"parcoords\":[{\"line\":{\"colorbar\":{\"outlinewidth\":0,\"ticks\":\"\"}},\"type\":\"parcoords\"}],\"pie\":[{\"automargin\":true,\"type\":\"pie\"}],\"scatter3d\":[{\"line\":{\"colorbar\":{\"outlinewidth\":0,\"ticks\":\"\"}},\"marker\":{\"colorbar\":{\"outlinewidth\":0,\"ticks\":\"\"}},\"type\":\"scatter3d\"}],\"scattercarpet\":[{\"marker\":{\"colorbar\":{\"outlinewidth\":0,\"ticks\":\"\"}},\"type\":\"scattercarpet\"}],\"scattergeo\":[{\"marker\":{\"colorbar\":{\"outlinewidth\":0,\"ticks\":\"\"}},\"type\":\"scattergeo\"}],\"scattergl\":[{\"marker\":{\"colorbar\":{\"outlinewidth\":0,\"ticks\":\"\"}},\"type\":\"scattergl\"}],\"scattermapbox\":[{\"marker\":{\"colorbar\":{\"outlinewidth\":0,\"ticks\":\"\"}},\"type\":\"scattermapbox\"}],\"scatterpolargl\":[{\"marker\":{\"colorbar\":{\"outlinewidth\":0,\"ticks\":\"\"}},\"type\":\"scatterpolargl\"}],\"scatterpolar\":[{\"marker\":{\"colorbar\":{\"outlinewidth\":0,\"ticks\":\"\"}},\"type\":\"scatterpolar\"}],\"scatter\":[{\"fillpattern\":{\"fillmode\":\"overlay\",\"size\":10,\"solidity\":0.2},\"type\":\"scatter\"}],\"scatterternary\":[{\"marker\":{\"colorbar\":{\"outlinewidth\":0,\"ticks\":\"\"}},\"type\":\"scatterternary\"}],\"surface\":[{\"colorbar\":{\"outlinewidth\":0,\"ticks\":\"\"},\"colorscale\":[[0.0,\"#0d0887\"],[0.1111111111111111,\"#46039f\"],[0.2222222222222222,\"#7201a8\"],[0.3333333333333333,\"#9c179e\"],[0.4444444444444444,\"#bd3786\"],[0.5555555555555556,\"#d8576b\"],[0.6666666666666666,\"#ed7953\"],[0.7777777777777778,\"#fb9f3a\"],[0.8888888888888888,\"#fdca26\"],[1.0,\"#f0f921\"]],\"type\":\"surface\"}],\"table\":[{\"cells\":{\"fill\":{\"color\":\"#EBF0F8\"},\"line\":{\"color\":\"white\"}},\"header\":{\"fill\":{\"color\":\"#C8D4E3\"},\"line\":{\"color\":\"white\"}},\"type\":\"table\"}]},\"layout\":{\"annotationdefaults\":{\"arrowcolor\":\"#2a3f5f\",\"arrowhead\":0,\"arrowwidth\":1},\"autotypenumbers\":\"strict\",\"coloraxis\":{\"colorbar\":{\"outlinewidth\":0,\"ticks\":\"\"}},\"colorscale\":{\"diverging\":[[0,\"#8e0152\"],[0.1,\"#c51b7d\"],[0.2,\"#de77ae\"],[0.3,\"#f1b6da\"],[0.4,\"#fde0ef\"],[0.5,\"#f7f7f7\"],[0.6,\"#e6f5d0\"],[0.7,\"#b8e186\"],[0.8,\"#7fbc41\"],[0.9,\"#4d9221\"],[1,\"#276419\"]],\"sequential\":[[0.0,\"#0d0887\"],[0.1111111111111111,\"#46039f\"],[0.2222222222222222,\"#7201a8\"],[0.3333333333333333,\"#9c179e\"],[0.4444444444444444,\"#bd3786\"],[0.5555555555555556,\"#d8576b\"],[0.6666666666666666,\"#ed7953\"],[0.7777777777777778,\"#fb9f3a\"],[0.8888888888888888,\"#fdca26\"],[1.0,\"#f0f921\"]],\"sequentialminus\":[[0.0,\"#0d0887\"],[0.1111111111111111,\"#46039f\"],[0.2222222222222222,\"#7201a8\"],[0.3333333333333333,\"#9c179e\"],[0.4444444444444444,\"#bd3786\"],[0.5555555555555556,\"#d8576b\"],[0.6666666666666666,\"#ed7953\"],[0.7777777777777778,\"#fb9f3a\"],[0.8888888888888888,\"#fdca26\"],[1.0,\"#f0f921\"]]},\"colorway\":[\"#636efa\",\"#EF553B\",\"#00cc96\",\"#ab63fa\",\"#FFA15A\",\"#19d3f3\",\"#FF6692\",\"#B6E880\",\"#FF97FF\",\"#FECB52\"],\"font\":{\"color\":\"#2a3f5f\"},\"geo\":{\"bgcolor\":\"white\",\"lakecolor\":\"white\",\"landcolor\":\"white\",\"showlakes\":true,\"showland\":true,\"subunitcolor\":\"#C8D4E3\"},\"hoverlabel\":{\"align\":\"left\"},\"hovermode\":\"closest\",\"mapbox\":{\"style\":\"light\"},\"paper_bgcolor\":\"white\",\"plot_bgcolor\":\"white\",\"polar\":{\"angularaxis\":{\"gridcolor\":\"#EBF0F8\",\"linecolor\":\"#EBF0F8\",\"ticks\":\"\"},\"bgcolor\":\"white\",\"radialaxis\":{\"gridcolor\":\"#EBF0F8\",\"linecolor\":\"#EBF0F8\",\"ticks\":\"\"}},\"scene\":{\"xaxis\":{\"backgroundcolor\":\"white\",\"gridcolor\":\"#DFE8F3\",\"gridwidth\":2,\"linecolor\":\"#EBF0F8\",\"showbackground\":true,\"ticks\":\"\",\"zerolinecolor\":\"#EBF0F8\"},\"yaxis\":{\"backgroundcolor\":\"white\",\"gridcolor\":\"#DFE8F3\",\"gridwidth\":2,\"linecolor\":\"#EBF0F8\",\"showbackground\":true,\"ticks\":\"\",\"zerolinecolor\":\"#EBF0F8\"},\"zaxis\":{\"backgroundcolor\":\"white\",\"gridcolor\":\"#DFE8F3\",\"gridwidth\":2,\"linecolor\":\"#EBF0F8\",\"showbackground\":true,\"ticks\":\"\",\"zerolinecolor\":\"#EBF0F8\"}},\"shapedefaults\":{\"line\":{\"color\":\"#2a3f5f\"}},\"ternary\":{\"aaxis\":{\"gridcolor\":\"#DFE8F3\",\"linecolor\":\"#A2B1C6\",\"ticks\":\"\"},\"baxis\":{\"gridcolor\":\"#DFE8F3\",\"linecolor\":\"#A2B1C6\",\"ticks\":\"\"},\"bgcolor\":\"white\",\"caxis\":{\"gridcolor\":\"#DFE8F3\",\"linecolor\":\"#A2B1C6\",\"ticks\":\"\"}},\"title\":{\"x\":0.05},\"xaxis\":{\"automargin\":true,\"gridcolor\":\"#EBF0F8\",\"linecolor\":\"#EBF0F8\",\"ticks\":\"\",\"title\":{\"standoff\":15},\"zerolinecolor\":\"#EBF0F8\",\"zerolinewidth\":2},\"yaxis\":{\"automargin\":true,\"gridcolor\":\"#EBF0F8\",\"linecolor\":\"#EBF0F8\",\"ticks\":\"\",\"title\":{\"standoff\":15},\"zerolinecolor\":\"#EBF0F8\",\"zerolinewidth\":2}}},\"xaxis\":{\"anchor\":\"y\",\"domain\":[0.0,1.0],\"title\":{\"text\":\"inference\"}},\"yaxis\":{\"anchor\":\"x\",\"domain\":[0.0,1.0],\"title\":{\"text\":\"noise\"}},\"coloraxis\":{\"colorbar\":{\"title\":{\"text\":\"measurement_devices\"}},\"colorscale\":[[0.0,\"rgb(0,0,255)\"],[1.0,\"rgb(255,0,0)\"]]},\"legend\":{\"tracegroupgap\":0},\"margin\":{\"t\":60},\"width\":1200,\"height\":800},                        {\"responsive\": true}                    ).then(function(){\n",
       "                            \n",
       "var gd = document.getElementById('3293abd3-7ef0-4ca7-9989-0d1d977f6edd');\n",
       "var x = new MutationObserver(function (mutations, observer) {{\n",
       "        var display = window.getComputedStyle(gd).display;\n",
       "        if (!display || display === 'none') {{\n",
       "            console.log([gd, 'removed!']);\n",
       "            Plotly.purge(gd);\n",
       "            observer.disconnect();\n",
       "        }}\n",
       "}});\n",
       "\n",
       "// Listen for the removal of the full notebook cells\n",
       "var notebookContainer = gd.closest('#notebook-container');\n",
       "if (notebookContainer) {{\n",
       "    x.observe(notebookContainer, {childList: true});\n",
       "}}\n",
       "\n",
       "// Listen for the clearing of the current output cell\n",
       "var outputEl = gd.closest('.output');\n",
       "if (outputEl) {{\n",
       "    x.observe(outputEl, {childList: true});\n",
       "}}\n",
       "\n",
       "                        })                };                });            </script>        </div>"
      ]
     },
     "metadata": {},
     "output_type": "display_data"
    }
   ],
   "source": [
    "import plotly.express as px\n",
    "\n",
    "px.scatter(\n",
    "    terms_with_axes,\n",
    "    text=\"term\",\n",
    "    x=\"inference\",\n",
    "    y=\"noise\",\n",
    "    color=\"measurement_devices\",\n",
    "    template=\"plotly_white\",\n",
    "    color_continuous_scale=\"Bluered\",\n",
    ").update_layout(\n",
    "    width=1200,\n",
    "    height=800\n",
    ").update_traces(\n",
    "    textposition=\"top center\",\n",
    "    marker=dict(size=12, line=dict(width=2, color=\"white\"))\n",
    ")"
   ]
  },
  {
   "cell_type": "markdown",
   "id": "701d9e25-b172-49b2-8593-dae681b9ecf0",
   "metadata": {},
   "source": [
    "# SemanticSignalSeparation"
   ]
  },
  {
   "cell_type": "code",
   "execution_count": 161,
   "id": "02d8bc4b-cb23-478a-93c6-628a82305730",
   "metadata": {},
   "outputs": [
    {
     "data": {
      "application/vnd.jupyter.widget-view+json": {
       "model_id": "",
       "version_major": 2,
       "version_minor": 0
      },
      "text/plain": [
       "Output()"
      ]
     },
     "metadata": {},
     "output_type": "display_data"
    },
    {
     "data": {
      "text/html": [
       "<pre style=\"white-space:pre;overflow-x:auto;line-height:normal;font-family:Menlo,'DejaVu Sans Mono',consolas,'Courier New',monospace\"><span style=\"color: #7fbfbf; text-decoration-color: #7fbfbf\">[20:05:32] </span>Documents encoded.                                                                          <a href=\"file://D:\\GG_env\\llm_env\\lib\\site-packages\\turftopic\\models\\decomp.py\" target=\"_blank\"><span style=\"color: #7f7f7f; text-decoration-color: #7f7f7f\">decomp.py</span></a><span style=\"color: #7f7f7f; text-decoration-color: #7f7f7f\">:</span><a href=\"file://D:\\GG_env\\llm_env\\lib\\site-packages\\turftopic\\models\\decomp.py#75\" target=\"_blank\"><span style=\"color: #7f7f7f; text-decoration-color: #7f7f7f\">75</span></a>\n",
       "</pre>\n"
      ],
      "text/plain": [
       "\u001b[2;36m[20:05:32]\u001b[0m\u001b[2;36m \u001b[0mDocuments encoded.                                                                          \u001b]8;id=860344;file://D:\\GG_env\\llm_env\\lib\\site-packages\\turftopic\\models\\decomp.py\u001b\\\u001b[2mdecomp.py\u001b[0m\u001b]8;;\u001b\\\u001b[2m:\u001b[0m\u001b]8;id=340483;file://D:\\GG_env\\llm_env\\lib\\site-packages\\turftopic\\models\\decomp.py#75\u001b\\\u001b[2m75\u001b[0m\u001b]8;;\u001b\\\n"
      ]
     },
     "metadata": {},
     "output_type": "display_data"
    },
    {
     "data": {
      "text/html": [
       "<pre style=\"white-space:pre;overflow-x:auto;line-height:normal;font-family:Menlo,'DejaVu Sans Mono',consolas,'Courier New',monospace\">D:\\GG_env\\llm_env\\lib\\site-packages\\sklearn\\decomposition\\_fastica.py:128: ConvergenceWarning:\n",
       "\n",
       "FastICA did not converge. Consider increasing tolerance or the maximum number of iterations.\n",
       "\n",
       "</pre>\n"
      ],
      "text/plain": [
       "D:\\GG_env\\llm_env\\lib\\site-packages\\sklearn\\decomposition\\_fastica.py:128: ConvergenceWarning:\n",
       "\n",
       "FastICA did not converge. Consider increasing tolerance or the maximum number of iterations.\n",
       "\n"
      ]
     },
     "metadata": {},
     "output_type": "display_data"
    },
    {
     "data": {
      "text/html": [
       "<pre style=\"white-space:pre;overflow-x:auto;line-height:normal;font-family:Menlo,'DejaVu Sans Mono',consolas,'Courier New',monospace\"><span style=\"color: #7fbfbf; text-decoration-color: #7fbfbf\">           </span>Decomposition done.                                                                         <a href=\"file://D:\\GG_env\\llm_env\\lib\\site-packages\\turftopic\\models\\decomp.py\" target=\"_blank\"><span style=\"color: #7f7f7f; text-decoration-color: #7f7f7f\">decomp.py</span></a><span style=\"color: #7f7f7f; text-decoration-color: #7f7f7f\">:</span><a href=\"file://D:\\GG_env\\llm_env\\lib\\site-packages\\turftopic\\models\\decomp.py#78\" target=\"_blank\"><span style=\"color: #7f7f7f; text-decoration-color: #7f7f7f\">78</span></a>\n",
       "</pre>\n"
      ],
      "text/plain": [
       "\u001b[2;36m          \u001b[0m\u001b[2;36m \u001b[0mDecomposition done.                                                                         \u001b]8;id=173621;file://D:\\GG_env\\llm_env\\lib\\site-packages\\turftopic\\models\\decomp.py\u001b\\\u001b[2mdecomp.py\u001b[0m\u001b]8;;\u001b\\\u001b[2m:\u001b[0m\u001b]8;id=169970;file://D:\\GG_env\\llm_env\\lib\\site-packages\\turftopic\\models\\decomp.py#78\u001b\\\u001b[2m78\u001b[0m\u001b]8;;\u001b\\\n"
      ]
     },
     "metadata": {},
     "output_type": "display_data"
    },
    {
     "data": {
      "text/html": [
       "<pre style=\"white-space:pre;overflow-x:auto;line-height:normal;font-family:Menlo,'DejaVu Sans Mono',consolas,'Courier New',monospace\"><span style=\"color: #7fbfbf; text-decoration-color: #7fbfbf\">           </span>Term extraction done.                                                                       <a href=\"file://D:\\GG_env\\llm_env\\lib\\site-packages\\turftopic\\models\\decomp.py\" target=\"_blank\"><span style=\"color: #7f7f7f; text-decoration-color: #7f7f7f\">decomp.py</span></a><span style=\"color: #7f7f7f; text-decoration-color: #7f7f7f\">:</span><a href=\"file://D:\\GG_env\\llm_env\\lib\\site-packages\\turftopic\\models\\decomp.py#81\" target=\"_blank\"><span style=\"color: #7f7f7f; text-decoration-color: #7f7f7f\">81</span></a>\n",
       "</pre>\n"
      ],
      "text/plain": [
       "\u001b[2;36m          \u001b[0m\u001b[2;36m \u001b[0mTerm extraction done.                                                                       \u001b]8;id=337937;file://D:\\GG_env\\llm_env\\lib\\site-packages\\turftopic\\models\\decomp.py\u001b\\\u001b[2mdecomp.py\u001b[0m\u001b]8;;\u001b\\\u001b[2m:\u001b[0m\u001b]8;id=585508;file://D:\\GG_env\\llm_env\\lib\\site-packages\\turftopic\\models\\decomp.py#81\u001b\\\u001b[2m81\u001b[0m\u001b]8;;\u001b\\\n"
      ]
     },
     "metadata": {},
     "output_type": "display_data"
    },
    {
     "data": {
      "text/html": [
       "<pre style=\"white-space:pre;overflow-x:auto;line-height:normal;font-family:Menlo,'DejaVu Sans Mono',consolas,'Courier New',monospace\"><span style=\"color: #7fbfbf; text-decoration-color: #7fbfbf\">           </span>Vocabulary encoded.                                                                         <a href=\"file://D:\\GG_env\\llm_env\\lib\\site-packages\\turftopic\\models\\decomp.py\" target=\"_blank\"><span style=\"color: #7f7f7f; text-decoration-color: #7f7f7f\">decomp.py</span></a><span style=\"color: #7f7f7f; text-decoration-color: #7f7f7f\">:</span><a href=\"file://D:\\GG_env\\llm_env\\lib\\site-packages\\turftopic\\models\\decomp.py#84\" target=\"_blank\"><span style=\"color: #7f7f7f; text-decoration-color: #7f7f7f\">84</span></a>\n",
       "</pre>\n"
      ],
      "text/plain": [
       "\u001b[2;36m          \u001b[0m\u001b[2;36m \u001b[0mVocabulary encoded.                                                                         \u001b]8;id=426402;file://D:\\GG_env\\llm_env\\lib\\site-packages\\turftopic\\models\\decomp.py\u001b\\\u001b[2mdecomp.py\u001b[0m\u001b]8;;\u001b\\\u001b[2m:\u001b[0m\u001b]8;id=677231;file://D:\\GG_env\\llm_env\\lib\\site-packages\\turftopic\\models\\decomp.py#84\u001b\\\u001b[2m84\u001b[0m\u001b]8;;\u001b\\\n"
      ]
     },
     "metadata": {},
     "output_type": "display_data"
    },
    {
     "data": {
      "text/html": [
       "<pre style=\"white-space:pre;overflow-x:auto;line-height:normal;font-family:Menlo,'DejaVu Sans Mono',consolas,'Courier New',monospace\"><span style=\"color: #7fbfbf; text-decoration-color: #7fbfbf\">           </span>Model fitting done.                                                                         <a href=\"file://D:\\GG_env\\llm_env\\lib\\site-packages\\turftopic\\models\\decomp.py\" target=\"_blank\"><span style=\"color: #7f7f7f; text-decoration-color: #7f7f7f\">decomp.py</span></a><span style=\"color: #7f7f7f; text-decoration-color: #7f7f7f\">:</span><a href=\"file://D:\\GG_env\\llm_env\\lib\\site-packages\\turftopic\\models\\decomp.py#88\" target=\"_blank\"><span style=\"color: #7f7f7f; text-decoration-color: #7f7f7f\">88</span></a>\n",
       "</pre>\n"
      ],
      "text/plain": [
       "\u001b[2;36m          \u001b[0m\u001b[2;36m \u001b[0mModel fitting done.                                                                         \u001b]8;id=291765;file://D:\\GG_env\\llm_env\\lib\\site-packages\\turftopic\\models\\decomp.py\u001b\\\u001b[2mdecomp.py\u001b[0m\u001b]8;;\u001b\\\u001b[2m:\u001b[0m\u001b]8;id=797450;file://D:\\GG_env\\llm_env\\lib\\site-packages\\turftopic\\models\\decomp.py#88\u001b\\\u001b[2m88\u001b[0m\u001b]8;;\u001b\\\n"
      ]
     },
     "metadata": {},
     "output_type": "display_data"
    },
    {
     "data": {
      "text/html": [
       "<pre style=\"white-space:pre;overflow-x:auto;line-height:normal;font-family:Menlo,'DejaVu Sans Mono',consolas,'Courier New',monospace\"></pre>\n"
      ],
      "text/plain": []
     },
     "metadata": {},
     "output_type": "display_data"
    },
    {
     "data": {
      "text/html": [
       "<pre style=\"white-space:pre;overflow-x:auto;line-height:normal;font-family:Menlo,'DejaVu Sans Mono',consolas,'Courier New',monospace\">┏━━━━━━━━━━┳━━━━━━━━━━━━━━━━━━━━━━━━━━━━━━━━━━━━━━━━━━━━━━━━━━━┳━━━━━━━━━━━━━━━━━━━━━━━━━━━━━━━━━━━━━━━━━━━━━━━━━━┓\n",
       "┃<span style=\"font-weight: bold\"> Topic ID </span>┃<span style=\"font-weight: bold\"> Highest Ranking                                   </span>┃<span style=\"font-weight: bold\"> Lowest Ranking                                   </span>┃\n",
       "┡━━━━━━━━━━╇━━━━━━━━━━━━━━━━━━━━━━━━━━━━━━━━━━━━━━━━━━━━━━━━━━━╇━━━━━━━━━━━━━━━━━━━━━━━━━━━━━━━━━━━━━━━━━━━━━━━━━━┩\n",
       "│<span style=\"color: #000080; text-decoration-color: #000080\">        0 </span>│<span style=\"color: #800080; text-decoration-color: #800080\"> shares, stock, share, capital, percent            </span>│<span style=\"color: #800000; text-decoration-color: #800000\"> oyj, eurm, loss, profit, technology              </span>│\n",
       "├──────────┼───────────────────────────────────────────────────┼──────────────────────────────────────────────────┤\n",
       "│<span style=\"color: #000080; text-decoration-color: #000080\">        1 </span>│<span style=\"color: #800080; text-decoration-color: #800080\"> customers, companies, services, net, sales        </span>│<span style=\"color: #800000; text-decoration-color: #800000\"> plant, eur, june, year, unit                     </span>│\n",
       "├──────────┼───────────────────────────────────────────────────┼──────────────────────────────────────────────────┤\n",
       "│<span style=\"color: #000080; text-decoration-color: #000080\">        2 </span>│<span style=\"color: #800080; text-decoration-color: #800080\"> company, corporation, companies, business, shares </span>│<span style=\"color: #800000; text-decoration-color: #800000\"> june, september, october, compared, today        </span>│\n",
       "├──────────┼───────────────────────────────────────────────────┼──────────────────────────────────────────────────┤\n",
       "│<span style=\"color: #000080; text-decoration-color: #000080\">        3 </span>│<span style=\"color: #800080; text-decoration-color: #800080\"> june, october, september, today, eurm             </span>│<span style=\"color: #800000; text-decoration-color: #800000\"> finland, helsinki, corporation, financial,       </span>│\n",
       "│<span style=\"color: #000080; text-decoration-color: #000080\">          </span>│<span style=\"color: #800080; text-decoration-color: #800080\">                                                   </span>│<span style=\"color: #800000; text-decoration-color: #800000\"> operations                                       </span>│\n",
       "├──────────┼───────────────────────────────────────────────────┼──────────────────────────────────────────────────┤\n",
       "│<span style=\"color: #000080; text-decoration-color: #000080\">        4 </span>│<span style=\"color: #800080; text-decoration-color: #800080\"> eur, euro, finland, finnish, helsinki             </span>│<span style=\"color: #800000; text-decoration-color: #800000\"> sales, stock, shares, products, loss             </span>│\n",
       "├──────────┼───────────────────────────────────────────────────┼──────────────────────────────────────────────────┤\n",
       "│<span style=\"color: #000080; text-decoration-color: #000080\">        5 </span>│<span style=\"color: #800080; text-decoration-color: #800080\"> eur, euro, paper, eurm, quarter                   </span>│<span style=\"color: #800000; text-decoration-color: #800000\"> growth, investment, profit, increased, project   </span>│\n",
       "├──────────┼───────────────────────────────────────────────────┼──────────────────────────────────────────────────┤\n",
       "│<span style=\"color: #000080; text-decoration-color: #000080\">        6 </span>│<span style=\"color: #800080; text-decoration-color: #800080\"> omx, oyj, said, stake, today                      </span>│<span style=\"color: #800000; text-decoration-color: #800000\"> sales, euro, customers, products, business       </span>│\n",
       "├──────────┼───────────────────────────────────────────────────┼──────────────────────────────────────────────────┤\n",
       "│<span style=\"color: #000080; text-decoration-color: #000080\">        7 </span>│<span style=\"color: #800080; text-decoration-color: #800080\"> technology, paper, plant, unit, project           </span>│<span style=\"color: #800000; text-decoration-color: #800000\"> shares, profit, market, sales, stock             </span>│\n",
       "├──────────┼───────────────────────────────────────────────────┼──────────────────────────────────────────────────┤\n",
       "│<span style=\"color: #000080; text-decoration-color: #000080\">        8 </span>│<span style=\"color: #800080; text-decoration-color: #800080\"> net, corporation, total, financial, mln           </span>│<span style=\"color: #800000; text-decoration-color: #800000\"> finland, helsinki, baltic, finnish, mn           </span>│\n",
       "├──────────┼───────────────────────────────────────────────────┼──────────────────────────────────────────────────┤\n",
       "│<span style=\"color: #000080; text-decoration-color: #000080\">        9 </span>│<span style=\"color: #800080; text-decoration-color: #800080\"> value, euro, finnish, unit, increased             </span>│<span style=\"color: #800000; text-decoration-color: #800000\"> management, operating, loss, companies,          </span>│\n",
       "│<span style=\"color: #000080; text-decoration-color: #000080\">          </span>│<span style=\"color: #800080; text-decoration-color: #800080\">                                                   </span>│<span style=\"color: #800000; text-decoration-color: #800000\"> operations                                       </span>│\n",
       "└──────────┴───────────────────────────────────────────────────┴──────────────────────────────────────────────────┘\n",
       "</pre>\n"
      ],
      "text/plain": [
       "┏━━━━━━━━━━┳━━━━━━━━━━━━━━━━━━━━━━━━━━━━━━━━━━━━━━━━━━━━━━━━━━━┳━━━━━━━━━━━━━━━━━━━━━━━━━━━━━━━━━━━━━━━━━━━━━━━━━━┓\n",
       "┃\u001b[1m \u001b[0m\u001b[1mTopic ID\u001b[0m\u001b[1m \u001b[0m┃\u001b[1m \u001b[0m\u001b[1mHighest Ranking                                  \u001b[0m\u001b[1m \u001b[0m┃\u001b[1m \u001b[0m\u001b[1mLowest Ranking                                  \u001b[0m\u001b[1m \u001b[0m┃\n",
       "┡━━━━━━━━━━╇━━━━━━━━━━━━━━━━━━━━━━━━━━━━━━━━━━━━━━━━━━━━━━━━━━━╇━━━━━━━━━━━━━━━━━━━━━━━━━━━━━━━━━━━━━━━━━━━━━━━━━━┩\n",
       "│\u001b[34m \u001b[0m\u001b[34m       0\u001b[0m\u001b[34m \u001b[0m│\u001b[35m \u001b[0m\u001b[35mshares, stock, share, capital, percent           \u001b[0m\u001b[35m \u001b[0m│\u001b[31m \u001b[0m\u001b[31moyj, eurm, loss, profit, technology             \u001b[0m\u001b[31m \u001b[0m│\n",
       "├──────────┼───────────────────────────────────────────────────┼──────────────────────────────────────────────────┤\n",
       "│\u001b[34m \u001b[0m\u001b[34m       1\u001b[0m\u001b[34m \u001b[0m│\u001b[35m \u001b[0m\u001b[35mcustomers, companies, services, net, sales       \u001b[0m\u001b[35m \u001b[0m│\u001b[31m \u001b[0m\u001b[31mplant, eur, june, year, unit                    \u001b[0m\u001b[31m \u001b[0m│\n",
       "├──────────┼───────────────────────────────────────────────────┼──────────────────────────────────────────────────┤\n",
       "│\u001b[34m \u001b[0m\u001b[34m       2\u001b[0m\u001b[34m \u001b[0m│\u001b[35m \u001b[0m\u001b[35mcompany, corporation, companies, business, shares\u001b[0m\u001b[35m \u001b[0m│\u001b[31m \u001b[0m\u001b[31mjune, september, october, compared, today       \u001b[0m\u001b[31m \u001b[0m│\n",
       "├──────────┼───────────────────────────────────────────────────┼──────────────────────────────────────────────────┤\n",
       "│\u001b[34m \u001b[0m\u001b[34m       3\u001b[0m\u001b[34m \u001b[0m│\u001b[35m \u001b[0m\u001b[35mjune, october, september, today, eurm            \u001b[0m\u001b[35m \u001b[0m│\u001b[31m \u001b[0m\u001b[31mfinland, helsinki, corporation, financial,      \u001b[0m\u001b[31m \u001b[0m│\n",
       "│\u001b[34m          \u001b[0m│\u001b[35m                                                   \u001b[0m│\u001b[31m \u001b[0m\u001b[31moperations                                      \u001b[0m\u001b[31m \u001b[0m│\n",
       "├──────────┼───────────────────────────────────────────────────┼──────────────────────────────────────────────────┤\n",
       "│\u001b[34m \u001b[0m\u001b[34m       4\u001b[0m\u001b[34m \u001b[0m│\u001b[35m \u001b[0m\u001b[35meur, euro, finland, finnish, helsinki            \u001b[0m\u001b[35m \u001b[0m│\u001b[31m \u001b[0m\u001b[31msales, stock, shares, products, loss            \u001b[0m\u001b[31m \u001b[0m│\n",
       "├──────────┼───────────────────────────────────────────────────┼──────────────────────────────────────────────────┤\n",
       "│\u001b[34m \u001b[0m\u001b[34m       5\u001b[0m\u001b[34m \u001b[0m│\u001b[35m \u001b[0m\u001b[35meur, euro, paper, eurm, quarter                  \u001b[0m\u001b[35m \u001b[0m│\u001b[31m \u001b[0m\u001b[31mgrowth, investment, profit, increased, project  \u001b[0m\u001b[31m \u001b[0m│\n",
       "├──────────┼───────────────────────────────────────────────────┼──────────────────────────────────────────────────┤\n",
       "│\u001b[34m \u001b[0m\u001b[34m       6\u001b[0m\u001b[34m \u001b[0m│\u001b[35m \u001b[0m\u001b[35momx, oyj, said, stake, today                     \u001b[0m\u001b[35m \u001b[0m│\u001b[31m \u001b[0m\u001b[31msales, euro, customers, products, business      \u001b[0m\u001b[31m \u001b[0m│\n",
       "├──────────┼───────────────────────────────────────────────────┼──────────────────────────────────────────────────┤\n",
       "│\u001b[34m \u001b[0m\u001b[34m       7\u001b[0m\u001b[34m \u001b[0m│\u001b[35m \u001b[0m\u001b[35mtechnology, paper, plant, unit, project          \u001b[0m\u001b[35m \u001b[0m│\u001b[31m \u001b[0m\u001b[31mshares, profit, market, sales, stock            \u001b[0m\u001b[31m \u001b[0m│\n",
       "├──────────┼───────────────────────────────────────────────────┼──────────────────────────────────────────────────┤\n",
       "│\u001b[34m \u001b[0m\u001b[34m       8\u001b[0m\u001b[34m \u001b[0m│\u001b[35m \u001b[0m\u001b[35mnet, corporation, total, financial, mln          \u001b[0m\u001b[35m \u001b[0m│\u001b[31m \u001b[0m\u001b[31mfinland, helsinki, baltic, finnish, mn          \u001b[0m\u001b[31m \u001b[0m│\n",
       "├──────────┼───────────────────────────────────────────────────┼──────────────────────────────────────────────────┤\n",
       "│\u001b[34m \u001b[0m\u001b[34m       9\u001b[0m\u001b[34m \u001b[0m│\u001b[35m \u001b[0m\u001b[35mvalue, euro, finnish, unit, increased            \u001b[0m\u001b[35m \u001b[0m│\u001b[31m \u001b[0m\u001b[31mmanagement, operating, loss, companies,         \u001b[0m\u001b[31m \u001b[0m│\n",
       "│\u001b[34m          \u001b[0m│\u001b[35m                                                   \u001b[0m│\u001b[31m \u001b[0m\u001b[31moperations                                      \u001b[0m\u001b[31m \u001b[0m│\n",
       "└──────────┴───────────────────────────────────────────────────┴──────────────────────────────────────────────────┘\n"
      ]
     },
     "metadata": {},
     "output_type": "display_data"
    }
   ],
   "source": [
    "from turftopic import SemanticSignalSeparation\n",
    "\n",
    "model = SemanticSignalSeparation(10, encoder=\"all-MiniLM-L12-v2\")#, objective=\"orthogonality\") # , objective=\"independence\")\n",
    "model.fit(target_ds)\n",
    "model.print_topics()"
   ]
  },
  {
   "cell_type": "code",
   "execution_count": 162,
   "id": "71e4b3ef-fe82-4a65-a916-b85f8f51452a",
   "metadata": {},
   "outputs": [],
   "source": [
    "vocab = model.get_vocab()\n",
    "\n",
    "document_term_matrix = model.vectorizer.transform(target_ds)\n",
    "frequencies = document_term_matrix.sum(axis=0)\n",
    "frequencies = np.squeeze(np.asarray(frequencies))\n",
    "\n",
    "selected_terms_mask = frequencies > np.quantile(frequencies, 0.99)\n",
    "\n",
    "terms_with_axes = pd.DataFrame({\n",
    "    \"inference\": model.components_[7][:],\n",
    "    \"measurement_devices\": model.components_[1][:],\n",
    "    \"noise\": model.components_[6][:],\n",
    "    \"term\": vocab[:]\n",
    " })"
   ]
  },
  {
   "cell_type": "code",
   "execution_count": 163,
   "id": "cbb3cc77-dd00-4020-874f-47652eb08f52",
   "metadata": {},
   "outputs": [
    {
     "data": {
      "text/html": [
       "<div>\n",
       "<style scoped>\n",
       "    .dataframe tbody tr th:only-of-type {\n",
       "        vertical-align: middle;\n",
       "    }\n",
       "\n",
       "    .dataframe tbody tr th {\n",
       "        vertical-align: top;\n",
       "    }\n",
       "\n",
       "    .dataframe thead th {\n",
       "        text-align: right;\n",
       "    }\n",
       "</style>\n",
       "<table border=\"1\" class=\"dataframe\">\n",
       "  <thead>\n",
       "    <tr style=\"text-align: right;\">\n",
       "      <th></th>\n",
       "      <th>inference</th>\n",
       "      <th>measurement_devices</th>\n",
       "      <th>noise</th>\n",
       "      <th>term</th>\n",
       "    </tr>\n",
       "  </thead>\n",
       "  <tbody>\n",
       "    <tr>\n",
       "      <th>0</th>\n",
       "      <td>0.606122</td>\n",
       "      <td>0.390032</td>\n",
       "      <td>1.401312</td>\n",
       "      <td>according</td>\n",
       "    </tr>\n",
       "    <tr>\n",
       "      <th>1</th>\n",
       "      <td>0.244835</td>\n",
       "      <td>-0.286035</td>\n",
       "      <td>1.194211</td>\n",
       "      <td>agreement</td>\n",
       "    </tr>\n",
       "    <tr>\n",
       "      <th>2</th>\n",
       "      <td>0.540790</td>\n",
       "      <td>-0.494858</td>\n",
       "      <td>0.636618</td>\n",
       "      <td>baltic</td>\n",
       "    </tr>\n",
       "    <tr>\n",
       "      <th>3</th>\n",
       "      <td>0.756383</td>\n",
       "      <td>0.958471</td>\n",
       "      <td>1.422692</td>\n",
       "      <td>based</td>\n",
       "    </tr>\n",
       "    <tr>\n",
       "      <th>4</th>\n",
       "      <td>0.490621</td>\n",
       "      <td>-0.042593</td>\n",
       "      <td>1.436462</td>\n",
       "      <td>board</td>\n",
       "    </tr>\n",
       "    <tr>\n",
       "      <th>...</th>\n",
       "      <td>...</td>\n",
       "      <td>...</td>\n",
       "      <td>...</td>\n",
       "      <td>...</td>\n",
       "    </tr>\n",
       "    <tr>\n",
       "      <th>58</th>\n",
       "      <td>0.491398</td>\n",
       "      <td>-0.100498</td>\n",
       "      <td>1.746754</td>\n",
       "      <td>today</td>\n",
       "    </tr>\n",
       "    <tr>\n",
       "      <th>59</th>\n",
       "      <td>-0.126722</td>\n",
       "      <td>-0.449587</td>\n",
       "      <td>0.272513</td>\n",
       "      <td>total</td>\n",
       "    </tr>\n",
       "    <tr>\n",
       "      <th>60</th>\n",
       "      <td>1.327345</td>\n",
       "      <td>-0.552536</td>\n",
       "      <td>0.070985</td>\n",
       "      <td>unit</td>\n",
       "    </tr>\n",
       "    <tr>\n",
       "      <th>61</th>\n",
       "      <td>0.015886</td>\n",
       "      <td>-0.114117</td>\n",
       "      <td>0.805936</td>\n",
       "      <td>value</td>\n",
       "    </tr>\n",
       "    <tr>\n",
       "      <th>62</th>\n",
       "      <td>0.363687</td>\n",
       "      <td>-0.586228</td>\n",
       "      <td>1.108438</td>\n",
       "      <td>year</td>\n",
       "    </tr>\n",
       "  </tbody>\n",
       "</table>\n",
       "<p>63 rows × 4 columns</p>\n",
       "</div>"
      ],
      "text/plain": [
       "    inference  measurement_devices     noise       term\n",
       "0    0.606122             0.390032  1.401312  according\n",
       "1    0.244835            -0.286035  1.194211  agreement\n",
       "2    0.540790            -0.494858  0.636618     baltic\n",
       "3    0.756383             0.958471  1.422692      based\n",
       "4    0.490621            -0.042593  1.436462      board\n",
       "..        ...                  ...       ...        ...\n",
       "58   0.491398            -0.100498  1.746754      today\n",
       "59  -0.126722            -0.449587  0.272513      total\n",
       "60   1.327345            -0.552536  0.070985       unit\n",
       "61   0.015886            -0.114117  0.805936      value\n",
       "62   0.363687            -0.586228  1.108438       year\n",
       "\n",
       "[63 rows x 4 columns]"
      ]
     },
     "execution_count": 163,
     "metadata": {},
     "output_type": "execute_result"
    }
   ],
   "source": [
    "terms_with_axes"
   ]
  },
  {
   "cell_type": "code",
   "execution_count": 164,
   "id": "1a0eb017-9717-481e-a2c9-69234a6593f0",
   "metadata": {},
   "outputs": [
    {
     "data": {
      "application/vnd.plotly.v1+json": {
       "config": {
        "plotlyServerURL": "https://plot.ly"
       },
       "data": [
        {
         "hovertemplate": "inference=%{x}<br>noise=%{y}<br>term=%{text}<br>measurement_devices=%{marker.color}<extra></extra>",
         "legendgroup": "",
         "marker": {
          "color": [
           0.39003164,
           -0.286035,
           -0.49485832,
           0.9584708,
           -0.042592686,
           1.5608072,
           0.5897015,
           1.9303198,
           1.0129923,
           0.8499074,
           0.83785367,
           2.742759,
           -0.68085146,
           -0.4232679,
           -0.35221604,
           0.9206671,
           -0.33415672,
           -0.5412621,
           0.5317099,
           0.12641747,
           0.49390388,
           0.09825677,
           -0.39411172,
           0.07876053,
           -0.67886865,
           0.5015116,
           0.9125972,
           1.5408263,
           -0.33723563,
           0.47456485,
           0.23312199,
           1.6978316,
           -0.058465563,
           -0.22447705,
           -0.15444952,
           -0.23661406,
           0.43917912,
           -0.022200644,
           0.3708294,
           0.733163,
           0.17141593,
           -0.7845117,
           0.8464002,
           0.5303295,
           -0.304335,
           0.13174902,
           0.06502635,
           0.21582048,
           0.33005005,
           1.6655004,
           -0.32933837,
           1.7221022,
           0.9064295,
           0.7924595,
           0.20846774,
           -0.47999924,
           0.7390373,
           1.3392313,
           -0.1004978,
           -0.44958735,
           -0.55253637,
           -0.11411711,
           -0.5862278
          ],
          "coloraxis": "coloraxis",
          "line": {
           "color": "white",
           "width": 2
          },
          "size": 12,
          "symbol": "circle"
         },
         "mode": "markers+text",
         "name": "",
         "orientation": "v",
         "showlegend": false,
         "text": [
          "according",
          "agreement",
          "baltic",
          "based",
          "board",
          "business",
          "capital",
          "companies",
          "company",
          "compared",
          "corporation",
          "customers",
          "eur",
          "eurm",
          "euro",
          "financial",
          "finland",
          "finnish",
          "group",
          "growth",
          "hel",
          "helsinki",
          "increased",
          "investment",
          "june",
          "loss",
          "management",
          "market",
          "million",
          "mln",
          "mn",
          "net",
          "new",
          "october",
          "omx",
          "operating",
          "operations",
          "oyj",
          "paper",
          "percent",
          "period",
          "plant",
          "products",
          "profit",
          "project",
          "quarter",
          "real",
          "result",
          "said",
          "sales",
          "september",
          "services",
          "share",
          "shares",
          "solutions",
          "stake",
          "stock",
          "technology",
          "today",
          "total",
          "unit",
          "value",
          "year"
         ],
         "textposition": "top center",
         "type": "scatter",
         "x": [
          0.606122,
          0.2448353,
          0.54078966,
          0.7563826,
          0.49062145,
          -0.32440263,
          -1.0716138,
          -0.7335371,
          -0.6760214,
          0.61933136,
          -0.58214206,
          -0.5635936,
          -0.30551738,
          -0.14278425,
          -0.2329995,
          -0.5129918,
          0.5458423,
          0.40521234,
          0.25255734,
          0.535382,
          0.3079831,
          0.3564913,
          0.11891129,
          -0.83488464,
          0.2164688,
          -0.56295913,
          0.16742605,
          -1.2109365,
          0.0310722,
          0.14477025,
          0.8056681,
          0.6754057,
          0.56110084,
          0.51522785,
          0.1884364,
          1.007195,
          0.7209429,
          -0.22480033,
          1.656351,
          -0.01766339,
          0.6801675,
          1.5315213,
          0.40001112,
          -1.4765284,
          1.0778188,
          0.7927469,
          0.5398128,
          0.42411828,
          0.43999162,
          -1.0948064,
          0.59985477,
          0.89122677,
          -0.99571204,
          -1.7945011,
          0.9732677,
          -0.5460916,
          -1.0776052,
          2.021902,
          0.49139822,
          -0.12672219,
          1.3273453,
          0.01588586,
          0.36368662
         ],
         "xaxis": "x",
         "y": [
          1.4013124,
          1.1942115,
          0.6366184,
          1.4226918,
          1.4364617,
          -0.34143773,
          1.6818624,
          0.2085782,
          0.5684812,
          1.2615201,
          0.9270832,
          -0.50307715,
          0.1144198,
          0.070002854,
          -0.52966833,
          1.1015055,
          0.8695616,
          1.265558,
          1.2454984,
          0.17238492,
          1.5892568,
          1.4713787,
          0.11031088,
          1.2615294,
          0.5406589,
          1.6372714,
          0.7204696,
          -0.30229568,
          0.44167453,
          0.7329838,
          0.34644046,
          0.26965868,
          1.5741117,
          0.5809117,
          2.3055367,
          0.9987667,
          0.6605698,
          1.9247799,
          1.0599053,
          0.5198537,
          1.0609251,
          0.83241355,
          -0.38795602,
          0.662264,
          1.311334,
          0.40750247,
          1.4803073,
          1.58892,
          1.9091887,
          -1.0874332,
          0.86303496,
          0.04972821,
          1.434311,
          1.3436463,
          0.15073213,
          1.7901354,
          0.915666,
          0.88454473,
          1.7467537,
          0.27251333,
          0.07098499,
          0.8059356,
          1.1084375
         ],
         "yaxis": "y"
        }
       ],
       "layout": {
        "coloraxis": {
         "colorbar": {
          "title": {
           "text": "measurement_devices"
          }
         },
         "colorscale": [
          [
           0,
           "rgb(0,0,255)"
          ],
          [
           1,
           "rgb(255,0,0)"
          ]
         ]
        },
        "height": 800,
        "legend": {
         "tracegroupgap": 0
        },
        "margin": {
         "t": 60
        },
        "template": {
         "data": {
          "bar": [
           {
            "error_x": {
             "color": "#2a3f5f"
            },
            "error_y": {
             "color": "#2a3f5f"
            },
            "marker": {
             "line": {
              "color": "white",
              "width": 0.5
             },
             "pattern": {
              "fillmode": "overlay",
              "size": 10,
              "solidity": 0.2
             }
            },
            "type": "bar"
           }
          ],
          "barpolar": [
           {
            "marker": {
             "line": {
              "color": "white",
              "width": 0.5
             },
             "pattern": {
              "fillmode": "overlay",
              "size": 10,
              "solidity": 0.2
             }
            },
            "type": "barpolar"
           }
          ],
          "carpet": [
           {
            "aaxis": {
             "endlinecolor": "#2a3f5f",
             "gridcolor": "#C8D4E3",
             "linecolor": "#C8D4E3",
             "minorgridcolor": "#C8D4E3",
             "startlinecolor": "#2a3f5f"
            },
            "baxis": {
             "endlinecolor": "#2a3f5f",
             "gridcolor": "#C8D4E3",
             "linecolor": "#C8D4E3",
             "minorgridcolor": "#C8D4E3",
             "startlinecolor": "#2a3f5f"
            },
            "type": "carpet"
           }
          ],
          "choropleth": [
           {
            "colorbar": {
             "outlinewidth": 0,
             "ticks": ""
            },
            "type": "choropleth"
           }
          ],
          "contour": [
           {
            "colorbar": {
             "outlinewidth": 0,
             "ticks": ""
            },
            "colorscale": [
             [
              0,
              "#0d0887"
             ],
             [
              0.1111111111111111,
              "#46039f"
             ],
             [
              0.2222222222222222,
              "#7201a8"
             ],
             [
              0.3333333333333333,
              "#9c179e"
             ],
             [
              0.4444444444444444,
              "#bd3786"
             ],
             [
              0.5555555555555556,
              "#d8576b"
             ],
             [
              0.6666666666666666,
              "#ed7953"
             ],
             [
              0.7777777777777778,
              "#fb9f3a"
             ],
             [
              0.8888888888888888,
              "#fdca26"
             ],
             [
              1,
              "#f0f921"
             ]
            ],
            "type": "contour"
           }
          ],
          "contourcarpet": [
           {
            "colorbar": {
             "outlinewidth": 0,
             "ticks": ""
            },
            "type": "contourcarpet"
           }
          ],
          "heatmap": [
           {
            "colorbar": {
             "outlinewidth": 0,
             "ticks": ""
            },
            "colorscale": [
             [
              0,
              "#0d0887"
             ],
             [
              0.1111111111111111,
              "#46039f"
             ],
             [
              0.2222222222222222,
              "#7201a8"
             ],
             [
              0.3333333333333333,
              "#9c179e"
             ],
             [
              0.4444444444444444,
              "#bd3786"
             ],
             [
              0.5555555555555556,
              "#d8576b"
             ],
             [
              0.6666666666666666,
              "#ed7953"
             ],
             [
              0.7777777777777778,
              "#fb9f3a"
             ],
             [
              0.8888888888888888,
              "#fdca26"
             ],
             [
              1,
              "#f0f921"
             ]
            ],
            "type": "heatmap"
           }
          ],
          "heatmapgl": [
           {
            "colorbar": {
             "outlinewidth": 0,
             "ticks": ""
            },
            "colorscale": [
             [
              0,
              "#0d0887"
             ],
             [
              0.1111111111111111,
              "#46039f"
             ],
             [
              0.2222222222222222,
              "#7201a8"
             ],
             [
              0.3333333333333333,
              "#9c179e"
             ],
             [
              0.4444444444444444,
              "#bd3786"
             ],
             [
              0.5555555555555556,
              "#d8576b"
             ],
             [
              0.6666666666666666,
              "#ed7953"
             ],
             [
              0.7777777777777778,
              "#fb9f3a"
             ],
             [
              0.8888888888888888,
              "#fdca26"
             ],
             [
              1,
              "#f0f921"
             ]
            ],
            "type": "heatmapgl"
           }
          ],
          "histogram": [
           {
            "marker": {
             "pattern": {
              "fillmode": "overlay",
              "size": 10,
              "solidity": 0.2
             }
            },
            "type": "histogram"
           }
          ],
          "histogram2d": [
           {
            "colorbar": {
             "outlinewidth": 0,
             "ticks": ""
            },
            "colorscale": [
             [
              0,
              "#0d0887"
             ],
             [
              0.1111111111111111,
              "#46039f"
             ],
             [
              0.2222222222222222,
              "#7201a8"
             ],
             [
              0.3333333333333333,
              "#9c179e"
             ],
             [
              0.4444444444444444,
              "#bd3786"
             ],
             [
              0.5555555555555556,
              "#d8576b"
             ],
             [
              0.6666666666666666,
              "#ed7953"
             ],
             [
              0.7777777777777778,
              "#fb9f3a"
             ],
             [
              0.8888888888888888,
              "#fdca26"
             ],
             [
              1,
              "#f0f921"
             ]
            ],
            "type": "histogram2d"
           }
          ],
          "histogram2dcontour": [
           {
            "colorbar": {
             "outlinewidth": 0,
             "ticks": ""
            },
            "colorscale": [
             [
              0,
              "#0d0887"
             ],
             [
              0.1111111111111111,
              "#46039f"
             ],
             [
              0.2222222222222222,
              "#7201a8"
             ],
             [
              0.3333333333333333,
              "#9c179e"
             ],
             [
              0.4444444444444444,
              "#bd3786"
             ],
             [
              0.5555555555555556,
              "#d8576b"
             ],
             [
              0.6666666666666666,
              "#ed7953"
             ],
             [
              0.7777777777777778,
              "#fb9f3a"
             ],
             [
              0.8888888888888888,
              "#fdca26"
             ],
             [
              1,
              "#f0f921"
             ]
            ],
            "type": "histogram2dcontour"
           }
          ],
          "mesh3d": [
           {
            "colorbar": {
             "outlinewidth": 0,
             "ticks": ""
            },
            "type": "mesh3d"
           }
          ],
          "parcoords": [
           {
            "line": {
             "colorbar": {
              "outlinewidth": 0,
              "ticks": ""
             }
            },
            "type": "parcoords"
           }
          ],
          "pie": [
           {
            "automargin": true,
            "type": "pie"
           }
          ],
          "scatter": [
           {
            "fillpattern": {
             "fillmode": "overlay",
             "size": 10,
             "solidity": 0.2
            },
            "type": "scatter"
           }
          ],
          "scatter3d": [
           {
            "line": {
             "colorbar": {
              "outlinewidth": 0,
              "ticks": ""
             }
            },
            "marker": {
             "colorbar": {
              "outlinewidth": 0,
              "ticks": ""
             }
            },
            "type": "scatter3d"
           }
          ],
          "scattercarpet": [
           {
            "marker": {
             "colorbar": {
              "outlinewidth": 0,
              "ticks": ""
             }
            },
            "type": "scattercarpet"
           }
          ],
          "scattergeo": [
           {
            "marker": {
             "colorbar": {
              "outlinewidth": 0,
              "ticks": ""
             }
            },
            "type": "scattergeo"
           }
          ],
          "scattergl": [
           {
            "marker": {
             "colorbar": {
              "outlinewidth": 0,
              "ticks": ""
             }
            },
            "type": "scattergl"
           }
          ],
          "scattermapbox": [
           {
            "marker": {
             "colorbar": {
              "outlinewidth": 0,
              "ticks": ""
             }
            },
            "type": "scattermapbox"
           }
          ],
          "scatterpolar": [
           {
            "marker": {
             "colorbar": {
              "outlinewidth": 0,
              "ticks": ""
             }
            },
            "type": "scatterpolar"
           }
          ],
          "scatterpolargl": [
           {
            "marker": {
             "colorbar": {
              "outlinewidth": 0,
              "ticks": ""
             }
            },
            "type": "scatterpolargl"
           }
          ],
          "scatterternary": [
           {
            "marker": {
             "colorbar": {
              "outlinewidth": 0,
              "ticks": ""
             }
            },
            "type": "scatterternary"
           }
          ],
          "surface": [
           {
            "colorbar": {
             "outlinewidth": 0,
             "ticks": ""
            },
            "colorscale": [
             [
              0,
              "#0d0887"
             ],
             [
              0.1111111111111111,
              "#46039f"
             ],
             [
              0.2222222222222222,
              "#7201a8"
             ],
             [
              0.3333333333333333,
              "#9c179e"
             ],
             [
              0.4444444444444444,
              "#bd3786"
             ],
             [
              0.5555555555555556,
              "#d8576b"
             ],
             [
              0.6666666666666666,
              "#ed7953"
             ],
             [
              0.7777777777777778,
              "#fb9f3a"
             ],
             [
              0.8888888888888888,
              "#fdca26"
             ],
             [
              1,
              "#f0f921"
             ]
            ],
            "type": "surface"
           }
          ],
          "table": [
           {
            "cells": {
             "fill": {
              "color": "#EBF0F8"
             },
             "line": {
              "color": "white"
             }
            },
            "header": {
             "fill": {
              "color": "#C8D4E3"
             },
             "line": {
              "color": "white"
             }
            },
            "type": "table"
           }
          ]
         },
         "layout": {
          "annotationdefaults": {
           "arrowcolor": "#2a3f5f",
           "arrowhead": 0,
           "arrowwidth": 1
          },
          "autotypenumbers": "strict",
          "coloraxis": {
           "colorbar": {
            "outlinewidth": 0,
            "ticks": ""
           }
          },
          "colorscale": {
           "diverging": [
            [
             0,
             "#8e0152"
            ],
            [
             0.1,
             "#c51b7d"
            ],
            [
             0.2,
             "#de77ae"
            ],
            [
             0.3,
             "#f1b6da"
            ],
            [
             0.4,
             "#fde0ef"
            ],
            [
             0.5,
             "#f7f7f7"
            ],
            [
             0.6,
             "#e6f5d0"
            ],
            [
             0.7,
             "#b8e186"
            ],
            [
             0.8,
             "#7fbc41"
            ],
            [
             0.9,
             "#4d9221"
            ],
            [
             1,
             "#276419"
            ]
           ],
           "sequential": [
            [
             0,
             "#0d0887"
            ],
            [
             0.1111111111111111,
             "#46039f"
            ],
            [
             0.2222222222222222,
             "#7201a8"
            ],
            [
             0.3333333333333333,
             "#9c179e"
            ],
            [
             0.4444444444444444,
             "#bd3786"
            ],
            [
             0.5555555555555556,
             "#d8576b"
            ],
            [
             0.6666666666666666,
             "#ed7953"
            ],
            [
             0.7777777777777778,
             "#fb9f3a"
            ],
            [
             0.8888888888888888,
             "#fdca26"
            ],
            [
             1,
             "#f0f921"
            ]
           ],
           "sequentialminus": [
            [
             0,
             "#0d0887"
            ],
            [
             0.1111111111111111,
             "#46039f"
            ],
            [
             0.2222222222222222,
             "#7201a8"
            ],
            [
             0.3333333333333333,
             "#9c179e"
            ],
            [
             0.4444444444444444,
             "#bd3786"
            ],
            [
             0.5555555555555556,
             "#d8576b"
            ],
            [
             0.6666666666666666,
             "#ed7953"
            ],
            [
             0.7777777777777778,
             "#fb9f3a"
            ],
            [
             0.8888888888888888,
             "#fdca26"
            ],
            [
             1,
             "#f0f921"
            ]
           ]
          },
          "colorway": [
           "#636efa",
           "#EF553B",
           "#00cc96",
           "#ab63fa",
           "#FFA15A",
           "#19d3f3",
           "#FF6692",
           "#B6E880",
           "#FF97FF",
           "#FECB52"
          ],
          "font": {
           "color": "#2a3f5f"
          },
          "geo": {
           "bgcolor": "white",
           "lakecolor": "white",
           "landcolor": "white",
           "showlakes": true,
           "showland": true,
           "subunitcolor": "#C8D4E3"
          },
          "hoverlabel": {
           "align": "left"
          },
          "hovermode": "closest",
          "mapbox": {
           "style": "light"
          },
          "paper_bgcolor": "white",
          "plot_bgcolor": "white",
          "polar": {
           "angularaxis": {
            "gridcolor": "#EBF0F8",
            "linecolor": "#EBF0F8",
            "ticks": ""
           },
           "bgcolor": "white",
           "radialaxis": {
            "gridcolor": "#EBF0F8",
            "linecolor": "#EBF0F8",
            "ticks": ""
           }
          },
          "scene": {
           "xaxis": {
            "backgroundcolor": "white",
            "gridcolor": "#DFE8F3",
            "gridwidth": 2,
            "linecolor": "#EBF0F8",
            "showbackground": true,
            "ticks": "",
            "zerolinecolor": "#EBF0F8"
           },
           "yaxis": {
            "backgroundcolor": "white",
            "gridcolor": "#DFE8F3",
            "gridwidth": 2,
            "linecolor": "#EBF0F8",
            "showbackground": true,
            "ticks": "",
            "zerolinecolor": "#EBF0F8"
           },
           "zaxis": {
            "backgroundcolor": "white",
            "gridcolor": "#DFE8F3",
            "gridwidth": 2,
            "linecolor": "#EBF0F8",
            "showbackground": true,
            "ticks": "",
            "zerolinecolor": "#EBF0F8"
           }
          },
          "shapedefaults": {
           "line": {
            "color": "#2a3f5f"
           }
          },
          "ternary": {
           "aaxis": {
            "gridcolor": "#DFE8F3",
            "linecolor": "#A2B1C6",
            "ticks": ""
           },
           "baxis": {
            "gridcolor": "#DFE8F3",
            "linecolor": "#A2B1C6",
            "ticks": ""
           },
           "bgcolor": "white",
           "caxis": {
            "gridcolor": "#DFE8F3",
            "linecolor": "#A2B1C6",
            "ticks": ""
           }
          },
          "title": {
           "x": 0.05
          },
          "xaxis": {
           "automargin": true,
           "gridcolor": "#EBF0F8",
           "linecolor": "#EBF0F8",
           "ticks": "",
           "title": {
            "standoff": 15
           },
           "zerolinecolor": "#EBF0F8",
           "zerolinewidth": 2
          },
          "yaxis": {
           "automargin": true,
           "gridcolor": "#EBF0F8",
           "linecolor": "#EBF0F8",
           "ticks": "",
           "title": {
            "standoff": 15
           },
           "zerolinecolor": "#EBF0F8",
           "zerolinewidth": 2
          }
         }
        },
        "width": 1200,
        "xaxis": {
         "anchor": "y",
         "autorange": true,
         "domain": [
          0,
          1
         ],
         "range": [
          -2.0460356812585414,
          2.273436581258541
         ],
         "title": {
          "text": "inference"
         },
         "type": "linear"
        },
        "yaxis": {
         "anchor": "x",
         "autorange": true,
         "domain": [
          0,
          1
         ],
         "range": [
          -1.3247652914507773,
          2.5428687914507773
         ],
         "title": {
          "text": "noise"
         },
         "type": "linear"
        }
       }
      },
      "image/png": "[encoded data removed]",
      "text/html": [
       "<div>                            <div id=\"aa160d13-4ed0-4aac-9bbd-3494cb076356\" class=\"plotly-graph-div\" style=\"height:800px; width:1200px;\"></div>            <script type=\"text/javascript\">                require([\"plotly\"], function(Plotly) {                    window.PLOTLYENV=window.PLOTLYENV || {};                                    if (document.getElementById(\"aa160d13-4ed0-4aac-9bbd-3494cb076356\")) {                    Plotly.newPlot(                        \"aa160d13-4ed0-4aac-9bbd-3494cb076356\",                        [{\"hovertemplate\":\"inference=%{x}\\u003cbr\\u003enoise=%{y}\\u003cbr\\u003eterm=%{text}\\u003cbr\\u003emeasurement_devices=%{marker.color}\\u003cextra\\u003e\\u003c\\u002fextra\\u003e\",\"legendgroup\":\"\",\"marker\":{\"color\":[0.39003164,-0.286035,-0.49485832,0.9584708,-0.042592686,1.5608072,0.5897015,1.9303198,1.0129923,0.8499074,0.83785367,2.742759,-0.68085146,-0.4232679,-0.35221604,0.9206671,-0.33415672,-0.5412621,0.5317099,0.12641747,0.49390388,0.09825677,-0.39411172,0.07876053,-0.67886865,0.5015116,0.9125972,1.5408263,-0.33723563,0.47456485,0.23312199,1.6978316,-0.058465563,-0.22447705,-0.15444952,-0.23661406,0.43917912,-0.022200644,0.3708294,0.733163,0.17141593,-0.7845117,0.8464002,0.5303295,-0.304335,0.13174902,0.06502635,0.21582048,0.33005005,1.6655004,-0.32933837,1.7221022,0.9064295,0.7924595,0.20846774,-0.47999924,0.7390373,1.3392313,-0.1004978,-0.44958735,-0.55253637,-0.11411711,-0.5862278],\"coloraxis\":\"coloraxis\",\"symbol\":\"circle\",\"line\":{\"color\":\"white\",\"width\":2},\"size\":12},\"mode\":\"markers+text\",\"name\":\"\",\"orientation\":\"v\",\"showlegend\":false,\"text\":[\"according\",\"agreement\",\"baltic\",\"based\",\"board\",\"business\",\"capital\",\"companies\",\"company\",\"compared\",\"corporation\",\"customers\",\"eur\",\"eurm\",\"euro\",\"financial\",\"finland\",\"finnish\",\"group\",\"growth\",\"hel\",\"helsinki\",\"increased\",\"investment\",\"june\",\"loss\",\"management\",\"market\",\"million\",\"mln\",\"mn\",\"net\",\"new\",\"october\",\"omx\",\"operating\",\"operations\",\"oyj\",\"paper\",\"percent\",\"period\",\"plant\",\"products\",\"profit\",\"project\",\"quarter\",\"real\",\"result\",\"said\",\"sales\",\"september\",\"services\",\"share\",\"shares\",\"solutions\",\"stake\",\"stock\",\"technology\",\"today\",\"total\",\"unit\",\"value\",\"year\"],\"x\":[0.606122,0.2448353,0.54078966,0.7563826,0.49062145,-0.32440263,-1.0716138,-0.7335371,-0.6760214,0.61933136,-0.58214206,-0.5635936,-0.30551738,-0.14278425,-0.2329995,-0.5129918,0.5458423,0.40521234,0.25255734,0.535382,0.3079831,0.3564913,0.11891129,-0.83488464,0.2164688,-0.56295913,0.16742605,-1.2109365,0.0310722,0.14477025,0.8056681,0.6754057,0.56110084,0.51522785,0.1884364,1.007195,0.7209429,-0.22480033,1.656351,-0.01766339,0.6801675,1.5315213,0.40001112,-1.4765284,1.0778188,0.7927469,0.5398128,0.42411828,0.43999162,-1.0948064,0.59985477,0.89122677,-0.99571204,-1.7945011,0.9732677,-0.5460916,-1.0776052,2.021902,0.49139822,-0.12672219,1.3273453,0.01588586,0.36368662],\"xaxis\":\"x\",\"y\":[1.4013124,1.1942115,0.6366184,1.4226918,1.4364617,-0.34143773,1.6818624,0.2085782,0.5684812,1.2615201,0.9270832,-0.50307715,0.1144198,0.070002854,-0.52966833,1.1015055,0.8695616,1.265558,1.2454984,0.17238492,1.5892568,1.4713787,0.11031088,1.2615294,0.5406589,1.6372714,0.7204696,-0.30229568,0.44167453,0.7329838,0.34644046,0.26965868,1.5741117,0.5809117,2.3055367,0.9987667,0.6605698,1.9247799,1.0599053,0.5198537,1.0609251,0.83241355,-0.38795602,0.662264,1.311334,0.40750247,1.4803073,1.58892,1.9091887,-1.0874332,0.86303496,0.04972821,1.434311,1.3436463,0.15073213,1.7901354,0.915666,0.88454473,1.7467537,0.27251333,0.07098499,0.8059356,1.1084375],\"yaxis\":\"y\",\"type\":\"scatter\",\"textposition\":\"top center\"}],                        {\"template\":{\"data\":{\"barpolar\":[{\"marker\":{\"line\":{\"color\":\"white\",\"width\":0.5},\"pattern\":{\"fillmode\":\"overlay\",\"size\":10,\"solidity\":0.2}},\"type\":\"barpolar\"}],\"bar\":[{\"error_x\":{\"color\":\"#2a3f5f\"},\"error_y\":{\"color\":\"#2a3f5f\"},\"marker\":{\"line\":{\"color\":\"white\",\"width\":0.5},\"pattern\":{\"fillmode\":\"overlay\",\"size\":10,\"solidity\":0.2}},\"type\":\"bar\"}],\"carpet\":[{\"aaxis\":{\"endlinecolor\":\"#2a3f5f\",\"gridcolor\":\"#C8D4E3\",\"linecolor\":\"#C8D4E3\",\"minorgridcolor\":\"#C8D4E3\",\"startlinecolor\":\"#2a3f5f\"},\"baxis\":{\"endlinecolor\":\"#2a3f5f\",\"gridcolor\":\"#C8D4E3\",\"linecolor\":\"#C8D4E3\",\"minorgridcolor\":\"#C8D4E3\",\"startlinecolor\":\"#2a3f5f\"},\"type\":\"carpet\"}],\"choropleth\":[{\"colorbar\":{\"outlinewidth\":0,\"ticks\":\"\"},\"type\":\"choropleth\"}],\"contourcarpet\":[{\"colorbar\":{\"outlinewidth\":0,\"ticks\":\"\"},\"type\":\"contourcarpet\"}],\"contour\":[{\"colorbar\":{\"outlinewidth\":0,\"ticks\":\"\"},\"colorscale\":[[0.0,\"#0d0887\"],[0.1111111111111111,\"#46039f\"],[0.2222222222222222,\"#7201a8\"],[0.3333333333333333,\"#9c179e\"],[0.4444444444444444,\"#bd3786\"],[0.5555555555555556,\"#d8576b\"],[0.6666666666666666,\"#ed7953\"],[0.7777777777777778,\"#fb9f3a\"],[0.8888888888888888,\"#fdca26\"],[1.0,\"#f0f921\"]],\"type\":\"contour\"}],\"heatmapgl\":[{\"colorbar\":{\"outlinewidth\":0,\"ticks\":\"\"},\"colorscale\":[[0.0,\"#0d0887\"],[0.1111111111111111,\"#46039f\"],[0.2222222222222222,\"#7201a8\"],[0.3333333333333333,\"#9c179e\"],[0.4444444444444444,\"#bd3786\"],[0.5555555555555556,\"#d8576b\"],[0.6666666666666666,\"#ed7953\"],[0.7777777777777778,\"#fb9f3a\"],[0.8888888888888888,\"#fdca26\"],[1.0,\"#f0f921\"]],\"type\":\"heatmapgl\"}],\"heatmap\":[{\"colorbar\":{\"outlinewidth\":0,\"ticks\":\"\"},\"colorscale\":[[0.0,\"#0d0887\"],[0.1111111111111111,\"#46039f\"],[0.2222222222222222,\"#7201a8\"],[0.3333333333333333,\"#9c179e\"],[0.4444444444444444,\"#bd3786\"],[0.5555555555555556,\"#d8576b\"],[0.6666666666666666,\"#ed7953\"],[0.7777777777777778,\"#fb9f3a\"],[0.8888888888888888,\"#fdca26\"],[1.0,\"#f0f921\"]],\"type\":\"heatmap\"}],\"histogram2dcontour\":[{\"colorbar\":{\"outlinewidth\":0,\"ticks\":\"\"},\"colorscale\":[[0.0,\"#0d0887\"],[0.1111111111111111,\"#46039f\"],[0.2222222222222222,\"#7201a8\"],[0.3333333333333333,\"#9c179e\"],[0.4444444444444444,\"#bd3786\"],[0.5555555555555556,\"#d8576b\"],[0.6666666666666666,\"#ed7953\"],[0.7777777777777778,\"#fb9f3a\"],[0.8888888888888888,\"#fdca26\"],[1.0,\"#f0f921\"]],\"type\":\"histogram2dcontour\"}],\"histogram2d\":[{\"colorbar\":{\"outlinewidth\":0,\"ticks\":\"\"},\"colorscale\":[[0.0,\"#0d0887\"],[0.1111111111111111,\"#46039f\"],[0.2222222222222222,\"#7201a8\"],[0.3333333333333333,\"#9c179e\"],[0.4444444444444444,\"#bd3786\"],[0.5555555555555556,\"#d8576b\"],[0.6666666666666666,\"#ed7953\"],[0.7777777777777778,\"#fb9f3a\"],[0.8888888888888888,\"#fdca26\"],[1.0,\"#f0f921\"]],\"type\":\"histogram2d\"}],\"histogram\":[{\"marker\":{\"pattern\":{\"fillmode\":\"overlay\",\"size\":10,\"solidity\":0.2}},\"type\":\"histogram\"}],\"mesh3d\":[{\"colorbar\":{\"outlinewidth\":0,\"ticks\":\"\"},\"type\":\"mesh3d\"}],\"parcoords\":[{\"line\":{\"colorbar\":{\"outlinewidth\":0,\"ticks\":\"\"}},\"type\":\"parcoords\"}],\"pie\":[{\"automargin\":true,\"type\":\"pie\"}],\"scatter3d\":[{\"line\":{\"colorbar\":{\"outlinewidth\":0,\"ticks\":\"\"}},\"marker\":{\"colorbar\":{\"outlinewidth\":0,\"ticks\":\"\"}},\"type\":\"scatter3d\"}],\"scattercarpet\":[{\"marker\":{\"colorbar\":{\"outlinewidth\":0,\"ticks\":\"\"}},\"type\":\"scattercarpet\"}],\"scattergeo\":[{\"marker\":{\"colorbar\":{\"outlinewidth\":0,\"ticks\":\"\"}},\"type\":\"scattergeo\"}],\"scattergl\":[{\"marker\":{\"colorbar\":{\"outlinewidth\":0,\"ticks\":\"\"}},\"type\":\"scattergl\"}],\"scattermapbox\":[{\"marker\":{\"colorbar\":{\"outlinewidth\":0,\"ticks\":\"\"}},\"type\":\"scattermapbox\"}],\"scatterpolargl\":[{\"marker\":{\"colorbar\":{\"outlinewidth\":0,\"ticks\":\"\"}},\"type\":\"scatterpolargl\"}],\"scatterpolar\":[{\"marker\":{\"colorbar\":{\"outlinewidth\":0,\"ticks\":\"\"}},\"type\":\"scatterpolar\"}],\"scatter\":[{\"fillpattern\":{\"fillmode\":\"overlay\",\"size\":10,\"solidity\":0.2},\"type\":\"scatter\"}],\"scatterternary\":[{\"marker\":{\"colorbar\":{\"outlinewidth\":0,\"ticks\":\"\"}},\"type\":\"scatterternary\"}],\"surface\":[{\"colorbar\":{\"outlinewidth\":0,\"ticks\":\"\"},\"colorscale\":[[0.0,\"#0d0887\"],[0.1111111111111111,\"#46039f\"],[0.2222222222222222,\"#7201a8\"],[0.3333333333333333,\"#9c179e\"],[0.4444444444444444,\"#bd3786\"],[0.5555555555555556,\"#d8576b\"],[0.6666666666666666,\"#ed7953\"],[0.7777777777777778,\"#fb9f3a\"],[0.8888888888888888,\"#fdca26\"],[1.0,\"#f0f921\"]],\"type\":\"surface\"}],\"table\":[{\"cells\":{\"fill\":{\"color\":\"#EBF0F8\"},\"line\":{\"color\":\"white\"}},\"header\":{\"fill\":{\"color\":\"#C8D4E3\"},\"line\":{\"color\":\"white\"}},\"type\":\"table\"}]},\"layout\":{\"annotationdefaults\":{\"arrowcolor\":\"#2a3f5f\",\"arrowhead\":0,\"arrowwidth\":1},\"autotypenumbers\":\"strict\",\"coloraxis\":{\"colorbar\":{\"outlinewidth\":0,\"ticks\":\"\"}},\"colorscale\":{\"diverging\":[[0,\"#8e0152\"],[0.1,\"#c51b7d\"],[0.2,\"#de77ae\"],[0.3,\"#f1b6da\"],[0.4,\"#fde0ef\"],[0.5,\"#f7f7f7\"],[0.6,\"#e6f5d0\"],[0.7,\"#b8e186\"],[0.8,\"#7fbc41\"],[0.9,\"#4d9221\"],[1,\"#276419\"]],\"sequential\":[[0.0,\"#0d0887\"],[0.1111111111111111,\"#46039f\"],[0.2222222222222222,\"#7201a8\"],[0.3333333333333333,\"#9c179e\"],[0.4444444444444444,\"#bd3786\"],[0.5555555555555556,\"#d8576b\"],[0.6666666666666666,\"#ed7953\"],[0.7777777777777778,\"#fb9f3a\"],[0.8888888888888888,\"#fdca26\"],[1.0,\"#f0f921\"]],\"sequentialminus\":[[0.0,\"#0d0887\"],[0.1111111111111111,\"#46039f\"],[0.2222222222222222,\"#7201a8\"],[0.3333333333333333,\"#9c179e\"],[0.4444444444444444,\"#bd3786\"],[0.5555555555555556,\"#d8576b\"],[0.6666666666666666,\"#ed7953\"],[0.7777777777777778,\"#fb9f3a\"],[0.8888888888888888,\"#fdca26\"],[1.0,\"#f0f921\"]]},\"colorway\":[\"#636efa\",\"#EF553B\",\"#00cc96\",\"#ab63fa\",\"#FFA15A\",\"#19d3f3\",\"#FF6692\",\"#B6E880\",\"#FF97FF\",\"#FECB52\"],\"font\":{\"color\":\"#2a3f5f\"},\"geo\":{\"bgcolor\":\"white\",\"lakecolor\":\"white\",\"landcolor\":\"white\",\"showlakes\":true,\"showland\":true,\"subunitcolor\":\"#C8D4E3\"},\"hoverlabel\":{\"align\":\"left\"},\"hovermode\":\"closest\",\"mapbox\":{\"style\":\"light\"},\"paper_bgcolor\":\"white\",\"plot_bgcolor\":\"white\",\"polar\":{\"angularaxis\":{\"gridcolor\":\"#EBF0F8\",\"linecolor\":\"#EBF0F8\",\"ticks\":\"\"},\"bgcolor\":\"white\",\"radialaxis\":{\"gridcolor\":\"#EBF0F8\",\"linecolor\":\"#EBF0F8\",\"ticks\":\"\"}},\"scene\":{\"xaxis\":{\"backgroundcolor\":\"white\",\"gridcolor\":\"#DFE8F3\",\"gridwidth\":2,\"linecolor\":\"#EBF0F8\",\"showbackground\":true,\"ticks\":\"\",\"zerolinecolor\":\"#EBF0F8\"},\"yaxis\":{\"backgroundcolor\":\"white\",\"gridcolor\":\"#DFE8F3\",\"gridwidth\":2,\"linecolor\":\"#EBF0F8\",\"showbackground\":true,\"ticks\":\"\",\"zerolinecolor\":\"#EBF0F8\"},\"zaxis\":{\"backgroundcolor\":\"white\",\"gridcolor\":\"#DFE8F3\",\"gridwidth\":2,\"linecolor\":\"#EBF0F8\",\"showbackground\":true,\"ticks\":\"\",\"zerolinecolor\":\"#EBF0F8\"}},\"shapedefaults\":{\"line\":{\"color\":\"#2a3f5f\"}},\"ternary\":{\"aaxis\":{\"gridcolor\":\"#DFE8F3\",\"linecolor\":\"#A2B1C6\",\"ticks\":\"\"},\"baxis\":{\"gridcolor\":\"#DFE8F3\",\"linecolor\":\"#A2B1C6\",\"ticks\":\"\"},\"bgcolor\":\"white\",\"caxis\":{\"gridcolor\":\"#DFE8F3\",\"linecolor\":\"#A2B1C6\",\"ticks\":\"\"}},\"title\":{\"x\":0.05},\"xaxis\":{\"automargin\":true,\"gridcolor\":\"#EBF0F8\",\"linecolor\":\"#EBF0F8\",\"ticks\":\"\",\"title\":{\"standoff\":15},\"zerolinecolor\":\"#EBF0F8\",\"zerolinewidth\":2},\"yaxis\":{\"automargin\":true,\"gridcolor\":\"#EBF0F8\",\"linecolor\":\"#EBF0F8\",\"ticks\":\"\",\"title\":{\"standoff\":15},\"zerolinecolor\":\"#EBF0F8\",\"zerolinewidth\":2}}},\"xaxis\":{\"anchor\":\"y\",\"domain\":[0.0,1.0],\"title\":{\"text\":\"inference\"}},\"yaxis\":{\"anchor\":\"x\",\"domain\":[0.0,1.0],\"title\":{\"text\":\"noise\"}},\"coloraxis\":{\"colorbar\":{\"title\":{\"text\":\"measurement_devices\"}},\"colorscale\":[[0.0,\"rgb(0,0,255)\"],[1.0,\"rgb(255,0,0)\"]]},\"legend\":{\"tracegroupgap\":0},\"margin\":{\"t\":60},\"width\":1200,\"height\":800},                        {\"responsive\": true}                    ).then(function(){\n",
       "                            \n",
       "var gd = document.getElementById('aa160d13-4ed0-4aac-9bbd-3494cb076356');\n",
       "var x = new MutationObserver(function (mutations, observer) {{\n",
       "        var display = window.getComputedStyle(gd).display;\n",
       "        if (!display || display === 'none') {{\n",
       "            console.log([gd, 'removed!']);\n",
       "            Plotly.purge(gd);\n",
       "            observer.disconnect();\n",
       "        }}\n",
       "}});\n",
       "\n",
       "// Listen for the removal of the full notebook cells\n",
       "var notebookContainer = gd.closest('#notebook-container');\n",
       "if (notebookContainer) {{\n",
       "    x.observe(notebookContainer, {childList: true});\n",
       "}}\n",
       "\n",
       "// Listen for the clearing of the current output cell\n",
       "var outputEl = gd.closest('.output');\n",
       "if (outputEl) {{\n",
       "    x.observe(outputEl, {childList: true});\n",
       "}}\n",
       "\n",
       "                        })                };                });            </script>        </div>"
      ]
     },
     "metadata": {},
     "output_type": "display_data"
    }
   ],
   "source": [
    "px.scatter(\n",
    "    terms_with_axes,\n",
    "    text=\"term\",\n",
    "    x=\"inference\",\n",
    "    y=\"noise\",\n",
    "    color=\"measurement_devices\",\n",
    "    template=\"plotly_white\",\n",
    "    color_continuous_scale=\"Bluered\",\n",
    ").update_layout(\n",
    "    width=1200,\n",
    "    height=800\n",
    ").update_traces(\n",
    "    textposition=\"top center\",\n",
    "    marker=dict(size=12, line=dict(width=2, color=\"white\"))\n",
    ")"
   ]
  },
  {
   "cell_type": "code",
   "execution_count": null,
   "id": "fcad82c1-9259-42c8-bbc0-173faff11424",
   "metadata": {},
   "outputs": [],
   "source": []
  },
  {
   "cell_type": "code",
   "execution_count": null,
   "id": "1f5645c8-a042-4996-910a-21e3bb189d02",
   "metadata": {},
   "outputs": [],
   "source": []
  },
  {
   "cell_type": "code",
   "execution_count": 165,
   "id": "1d2c2dcc-516d-4180-9534-f78f73265777",
   "metadata": {},
   "outputs": [
    {
     "data": {
      "text/html": [
       "<pre style=\"white-space:pre;overflow-x:auto;line-height:normal;font-family:Menlo,'DejaVu Sans Mono',consolas,'Courier New',monospace\">┏━━━━━━━━━━━━━━━━━━━━━━━━━━━━━━━━━━━━━━━━━━┳━━━━━━━┓\n",
       "┃<span style=\"font-weight: bold\"> Topic name                               </span>┃<span style=\"font-weight: bold\"> Score </span>┃\n",
       "┡━━━━━━━━━━━━━━━━━━━━━━━━━━━━━━━━━━━━━━━━━━╇━━━━━━━┩\n",
       "│<span style=\"color: #800080; text-decoration-color: #800080\"> 9_value_euro_finnish_unit                </span>│<span style=\"color: #000080; text-decoration-color: #000080\">  1.80 </span>│\n",
       "│<span style=\"color: #800080; text-decoration-color: #800080\"> 0_shares_stock_share_capital             </span>│<span style=\"color: #000080; text-decoration-color: #000080\">  0.36 </span>│\n",
       "│<span style=\"color: #800080; text-decoration-color: #800080\"> 3_june_october_september_today           </span>│<span style=\"color: #000080; text-decoration-color: #000080\">  0.19 </span>│\n",
       "│<span style=\"color: #800080; text-decoration-color: #800080\"> 7_technology_paper_plant_unit            </span>│<span style=\"color: #000080; text-decoration-color: #000080\"> -0.33 </span>│\n",
       "│<span style=\"color: #800080; text-decoration-color: #800080\"> 4_eur_euro_finland_finnish               </span>│<span style=\"color: #000080; text-decoration-color: #000080\"> -0.37 </span>│\n",
       "│<span style=\"color: #800080; text-decoration-color: #800080\"> 1_customers_companies_services_net       </span>│<span style=\"color: #000080; text-decoration-color: #000080\"> -0.46 </span>│\n",
       "│<span style=\"color: #800080; text-decoration-color: #800080\"> 6_omx_oyj_said_stake                     </span>│<span style=\"color: #000080; text-decoration-color: #000080\"> -0.77 </span>│\n",
       "│<span style=\"color: #800080; text-decoration-color: #800080\"> 5_eur_euro_paper_eurm                    </span>│<span style=\"color: #000080; text-decoration-color: #000080\"> -0.83 </span>│\n",
       "│<span style=\"color: #800080; text-decoration-color: #800080\"> 2_company_corporation_companies_business </span>│<span style=\"color: #000080; text-decoration-color: #000080\"> -1.11 </span>│\n",
       "│<span style=\"color: #800080; text-decoration-color: #800080\"> 8_net_corporation_total_financial        </span>│<span style=\"color: #000080; text-decoration-color: #000080\"> -1.73 </span>│\n",
       "└──────────────────────────────────────────┴───────┘\n",
       "</pre>\n"
      ],
      "text/plain": [
       "┏━━━━━━━━━━━━━━━━━━━━━━━━━━━━━━━━━━━━━━━━━━┳━━━━━━━┓\n",
       "┃\u001b[1m \u001b[0m\u001b[1mTopic name                              \u001b[0m\u001b[1m \u001b[0m┃\u001b[1m \u001b[0m\u001b[1mScore\u001b[0m\u001b[1m \u001b[0m┃\n",
       "┡━━━━━━━━━━━━━━━━━━━━━━━━━━━━━━━━━━━━━━━━━━╇━━━━━━━┩\n",
       "│\u001b[35m \u001b[0m\u001b[35m9_value_euro_finnish_unit               \u001b[0m\u001b[35m \u001b[0m│\u001b[34m \u001b[0m\u001b[34m 1.80\u001b[0m\u001b[34m \u001b[0m│\n",
       "│\u001b[35m \u001b[0m\u001b[35m0_shares_stock_share_capital            \u001b[0m\u001b[35m \u001b[0m│\u001b[34m \u001b[0m\u001b[34m 0.36\u001b[0m\u001b[34m \u001b[0m│\n",
       "│\u001b[35m \u001b[0m\u001b[35m3_june_october_september_today          \u001b[0m\u001b[35m \u001b[0m│\u001b[34m \u001b[0m\u001b[34m 0.19\u001b[0m\u001b[34m \u001b[0m│\n",
       "│\u001b[35m \u001b[0m\u001b[35m7_technology_paper_plant_unit           \u001b[0m\u001b[35m \u001b[0m│\u001b[34m \u001b[0m\u001b[34m-0.33\u001b[0m\u001b[34m \u001b[0m│\n",
       "│\u001b[35m \u001b[0m\u001b[35m4_eur_euro_finland_finnish              \u001b[0m\u001b[35m \u001b[0m│\u001b[34m \u001b[0m\u001b[34m-0.37\u001b[0m\u001b[34m \u001b[0m│\n",
       "│\u001b[35m \u001b[0m\u001b[35m1_customers_companies_services_net      \u001b[0m\u001b[35m \u001b[0m│\u001b[34m \u001b[0m\u001b[34m-0.46\u001b[0m\u001b[34m \u001b[0m│\n",
       "│\u001b[35m \u001b[0m\u001b[35m6_omx_oyj_said_stake                    \u001b[0m\u001b[35m \u001b[0m│\u001b[34m \u001b[0m\u001b[34m-0.77\u001b[0m\u001b[34m \u001b[0m│\n",
       "│\u001b[35m \u001b[0m\u001b[35m5_eur_euro_paper_eurm                   \u001b[0m\u001b[35m \u001b[0m│\u001b[34m \u001b[0m\u001b[34m-0.83\u001b[0m\u001b[34m \u001b[0m│\n",
       "│\u001b[35m \u001b[0m\u001b[35m2_company_corporation_companies_business\u001b[0m\u001b[35m \u001b[0m│\u001b[34m \u001b[0m\u001b[34m-1.11\u001b[0m\u001b[34m \u001b[0m│\n",
       "│\u001b[35m \u001b[0m\u001b[35m8_net_corporation_total_financial       \u001b[0m\u001b[35m \u001b[0m│\u001b[34m \u001b[0m\u001b[34m-1.73\u001b[0m\u001b[34m \u001b[0m│\n",
       "└──────────────────────────────────────────┴───────┘\n"
      ]
     },
     "metadata": {},
     "output_type": "display_data"
    }
   ],
   "source": [
    "model.print_topic_distribution(\n",
    "    \"The Lithuanian beer market made up 14.41 million liters in January, a rise of 0.8 percent from the year-earlier figure, the Lithuanian Brewers' Association reporting citing the results from its members.\"\n",
    ")\n"
   ]
  },
  {
   "cell_type": "markdown",
   "id": "23904ca8-41e5-4f87-8ced-509e2b0bdf9b",
   "metadata": {},
   "source": [
    "# topicwizard 시각화"
   ]
  },
  {
   "cell_type": "code",
   "execution_count": 166,
   "id": "ff03f7c6-5d00-4095-ab1f-3301eadb50bc",
   "metadata": {
    "scrolled": true
   },
   "outputs": [
    {
     "data": {
      "application/vnd.jupyter.widget-view+json": {
       "model_id": "",
       "version_major": 2,
       "version_minor": 0
      },
      "text/plain": [
       "Output()"
      ]
     },
     "metadata": {},
     "output_type": "display_data"
    },
    {
     "data": {
      "text/html": [
       "<pre style=\"white-space:pre;overflow-x:auto;line-height:normal;font-family:Menlo,'DejaVu Sans Mono',consolas,'Courier New',monospace\">D:\\GG_env\\llm_env\\lib\\site-packages\\sklearn\\decomposition\\_fastica.py:128: ConvergenceWarning:\n",
       "\n",
       "FastICA did not converge. Consider increasing tolerance or the maximum number of iterations.\n",
       "\n",
       "</pre>\n"
      ],
      "text/plain": [
       "D:\\GG_env\\llm_env\\lib\\site-packages\\sklearn\\decomposition\\_fastica.py:128: ConvergenceWarning:\n",
       "\n",
       "FastICA did not converge. Consider increasing tolerance or the maximum number of iterations.\n",
       "\n"
      ]
     },
     "metadata": {},
     "output_type": "display_data"
    },
    {
     "data": {
      "text/html": [
       "<pre style=\"white-space:pre;overflow-x:auto;line-height:normal;font-family:Menlo,'DejaVu Sans Mono',consolas,'Courier New',monospace\"><span style=\"color: #7fbfbf; text-decoration-color: #7fbfbf\">[20:05:45] </span>Decomposition done.                                                                         <a href=\"file://D:\\GG_env\\llm_env\\lib\\site-packages\\turftopic\\models\\decomp.py\" target=\"_blank\"><span style=\"color: #7f7f7f; text-decoration-color: #7f7f7f\">decomp.py</span></a><span style=\"color: #7f7f7f; text-decoration-color: #7f7f7f\">:</span><a href=\"file://D:\\GG_env\\llm_env\\lib\\site-packages\\turftopic\\models\\decomp.py#78\" target=\"_blank\"><span style=\"color: #7f7f7f; text-decoration-color: #7f7f7f\">78</span></a>\n",
       "</pre>\n"
      ],
      "text/plain": [
       "\u001b[2;36m[20:05:45]\u001b[0m\u001b[2;36m \u001b[0mDecomposition done.                                                                         \u001b]8;id=436967;file://D:\\GG_env\\llm_env\\lib\\site-packages\\turftopic\\models\\decomp.py\u001b\\\u001b[2mdecomp.py\u001b[0m\u001b]8;;\u001b\\\u001b[2m:\u001b[0m\u001b]8;id=204817;file://D:\\GG_env\\llm_env\\lib\\site-packages\\turftopic\\models\\decomp.py#78\u001b\\\u001b[2m78\u001b[0m\u001b]8;;\u001b\\\n"
      ]
     },
     "metadata": {},
     "output_type": "display_data"
    },
    {
     "data": {
      "text/html": [
       "<pre style=\"white-space:pre;overflow-x:auto;line-height:normal;font-family:Menlo,'DejaVu Sans Mono',consolas,'Courier New',monospace\"><span style=\"color: #7fbfbf; text-decoration-color: #7fbfbf\">           </span>Term extraction done.                                                                       <a href=\"file://D:\\GG_env\\llm_env\\lib\\site-packages\\turftopic\\models\\decomp.py\" target=\"_blank\"><span style=\"color: #7f7f7f; text-decoration-color: #7f7f7f\">decomp.py</span></a><span style=\"color: #7f7f7f; text-decoration-color: #7f7f7f\">:</span><a href=\"file://D:\\GG_env\\llm_env\\lib\\site-packages\\turftopic\\models\\decomp.py#81\" target=\"_blank\"><span style=\"color: #7f7f7f; text-decoration-color: #7f7f7f\">81</span></a>\n",
       "</pre>\n"
      ],
      "text/plain": [
       "\u001b[2;36m          \u001b[0m\u001b[2;36m \u001b[0mTerm extraction done.                                                                       \u001b]8;id=94279;file://D:\\GG_env\\llm_env\\lib\\site-packages\\turftopic\\models\\decomp.py\u001b\\\u001b[2mdecomp.py\u001b[0m\u001b]8;;\u001b\\\u001b[2m:\u001b[0m\u001b]8;id=76173;file://D:\\GG_env\\llm_env\\lib\\site-packages\\turftopic\\models\\decomp.py#81\u001b\\\u001b[2m81\u001b[0m\u001b]8;;\u001b\\\n"
      ]
     },
     "metadata": {},
     "output_type": "display_data"
    },
    {
     "data": {
      "text/html": [
       "<pre style=\"white-space:pre;overflow-x:auto;line-height:normal;font-family:Menlo,'DejaVu Sans Mono',consolas,'Courier New',monospace\"><span style=\"color: #7fbfbf; text-decoration-color: #7fbfbf\">           </span>Vocabulary encoded.                                                                         <a href=\"file://D:\\GG_env\\llm_env\\lib\\site-packages\\turftopic\\models\\decomp.py\" target=\"_blank\"><span style=\"color: #7f7f7f; text-decoration-color: #7f7f7f\">decomp.py</span></a><span style=\"color: #7f7f7f; text-decoration-color: #7f7f7f\">:</span><a href=\"file://D:\\GG_env\\llm_env\\lib\\site-packages\\turftopic\\models\\decomp.py#84\" target=\"_blank\"><span style=\"color: #7f7f7f; text-decoration-color: #7f7f7f\">84</span></a>\n",
       "</pre>\n"
      ],
      "text/plain": [
       "\u001b[2;36m          \u001b[0m\u001b[2;36m \u001b[0mVocabulary encoded.                                                                         \u001b]8;id=896012;file://D:\\GG_env\\llm_env\\lib\\site-packages\\turftopic\\models\\decomp.py\u001b\\\u001b[2mdecomp.py\u001b[0m\u001b]8;;\u001b\\\u001b[2m:\u001b[0m\u001b]8;id=583639;file://D:\\GG_env\\llm_env\\lib\\site-packages\\turftopic\\models\\decomp.py#84\u001b\\\u001b[2m84\u001b[0m\u001b]8;;\u001b\\\n"
      ]
     },
     "metadata": {},
     "output_type": "display_data"
    },
    {
     "data": {
      "text/html": [
       "<pre style=\"white-space:pre;overflow-x:auto;line-height:normal;font-family:Menlo,'DejaVu Sans Mono',consolas,'Courier New',monospace\"><span style=\"color: #7fbfbf; text-decoration-color: #7fbfbf\">           </span>Model fitting done.                                                                         <a href=\"file://D:\\GG_env\\llm_env\\lib\\site-packages\\turftopic\\models\\decomp.py\" target=\"_blank\"><span style=\"color: #7f7f7f; text-decoration-color: #7f7f7f\">decomp.py</span></a><span style=\"color: #7f7f7f; text-decoration-color: #7f7f7f\">:</span><a href=\"file://D:\\GG_env\\llm_env\\lib\\site-packages\\turftopic\\models\\decomp.py#88\" target=\"_blank\"><span style=\"color: #7f7f7f; text-decoration-color: #7f7f7f\">88</span></a>\n",
       "</pre>\n"
      ],
      "text/plain": [
       "\u001b[2;36m          \u001b[0m\u001b[2;36m \u001b[0mModel fitting done.                                                                         \u001b]8;id=47088;file://D:\\GG_env\\llm_env\\lib\\site-packages\\turftopic\\models\\decomp.py\u001b\\\u001b[2mdecomp.py\u001b[0m\u001b]8;;\u001b\\\u001b[2m:\u001b[0m\u001b]8;id=429502;file://D:\\GG_env\\llm_env\\lib\\site-packages\\turftopic\\models\\decomp.py#88\u001b\\\u001b[2m88\u001b[0m\u001b]8;;\u001b\\\n"
      ]
     },
     "metadata": {},
     "output_type": "display_data"
    },
    {
     "data": {
      "text/html": [
       "<pre style=\"white-space:pre;overflow-x:auto;line-height:normal;font-family:Menlo,'DejaVu Sans Mono',consolas,'Courier New',monospace\"></pre>\n"
      ],
      "text/plain": []
     },
     "metadata": {},
     "output_type": "display_data"
    },
    {
     "data": {
      "text/plain": [
       "{'corpus': array(['Operating profit for  lower than outlook published earlier.',\n",
       "        'Net sales of the Lehdentekijat unit was approximately EUR  million in  and it had  employees.',\n",
       "        'Community gardening has become a popular activity, especially to raise vegetables.',\n",
       "        'Alfa group will have . % of voting stock in the new company and Telenor . % with a free float of . %.',\n",
       "        'Of this, EUR . mn was net interest income.',\n",
       "        \"In January-November , the group's sales totalled EUR ,. mn, which was a drop of . % from the same period of .\",\n",
       "        \"These include software development for internet and mobile telephone content, communications, value-added software, financial services, security applications, systems integration and electronics,'' EBRD informed.\",\n",
       "        \"For the fiscal year ending September ,  the revenue from these customers was $ . million or around . % of the transportation group's revenue.\",\n",
       "        \"With Aldata, we can help retailers ensure that their merchandising and selections reflect customer demand and their evolving shopping behavior.''\",\n",
       "        'The last job losses related to these reductions will take place during .',\n",
       "        'Previously, the company expected its  financial performance to remain at the same level as in .',\n",
       "        'LONDON AFX - Fortum said it has agreed to sell its industrial maintenance service operations to funds managed by CapMan for an undisclosed sum.',\n",
       "        'According to the original merger plan, Scanfil would get a  % stake in the combined business.',\n",
       "        'At  CET, ArcelorMittal had lost . % to EUR . on Euronext Paris, coming at the lead of the blue-chip fallers.',\n",
       "        'Profit after taxes was EUR . mn, compared to EUR -. mn the previous year.',\n",
       "        'Donations to universities The Annual General Meeting authorized the Board of Directors to donate max.',\n",
       "        'Finnish silicon wafer technology company Okmetic Oyj OMX Helsinki : OKMV said on Wednesday  September that it will invest EURm in its sensor wafer business during .',\n",
       "        \"Aspo's net sales in  totaled EUR . million.\",\n",
       "        'Consolidated operating profit from continuing operations decreased by . % to EUR . mn from EUR . mn in .',\n",
       "        'Operating profit rose to EUR . mn from EUR . in the corresponding period in .',\n",
       "        'Aldata to Share Space Optimization Vision at Apollo User Group and  Category Management Association Conferences ; Company Will Unveil New Solution that Combines Business Intelligence with Space Planning Data at Conferences',\n",
       "        'Pretax profit rose to EUR , mn from EUR , in the corresponding period in .',\n",
       "        \"Ahlstrom's , employees serve customers via sales offices and production facilities in more than  countries on six continents.\",\n",
       "        'This is the second successful effort for the financial investor this year.',\n",
       "        'At first the contract envisaged the construction of three ferryboats with an option for two more units, further confirmed at a total value of  mln euro ( $ . mln ).',\n",
       "        \"Following the issue, the new shares will constitute  percent of the firm's capital.\",\n",
       "        'Unit prices for straddle carriers vary between EUR , and EUR ,, the company added.',\n",
       "        'The deal means that ten persons in three countries will transfer to Tieto.',\n",
       "        'Consumption is forecast to grow by about  %.',\n",
       "        'Marathon now has a . percent stake in PLX, it said, according to Bloomberg.',\n",
       "        'It also turned to earnings per share ( EPS ) of EUR . versus loss per share of EUR ..',\n",
       "        'To see a slide show of all the newest product releases from Fiskars.',\n",
       "        'Bids or offers include at least , shares and the value of the shares must correspond to at least EUR ,.',\n",
       "        'TomTom has given assurances that it will continue to sell maps to competitors if it wins EU approval.',\n",
       "        'Member of the HK Ruokatalo Group in Finland, Scan, is launching a joint venture slaughterhouse with Team Ugglarp in Sk+_ne, southern Sweden.',\n",
       "        \"Harold W. Young is an independent broker working closely with several retailers including Ahold USA, Market Basket, CVS, BJ's Wholesale Club, Hannaford and Cumberland Farms.\",\n",
       "        'Construction volumes meanwhile grow at a rate of - percent annually.',\n",
       "        \"Metso's delivery will include a complete coated board line with related air systems and two winders.\",\n",
       "        'U.S.-based T Corp. is in talks with Scandinavian telecoms company TeliaSonera to sell its stake in Uzbek cellular operator Coscom, an executive at Coscom told Interfax.',\n",
       "        'The business to be divested generates consolidated net sales of EUR  million annually and currently has some  employees.',\n",
       "        'Finnish Suominen Flexible Packaging is cutting  jobs in its unit in Tampere and two in Nastola, in Finland.',\n",
       "        'ADPnews - Sep ,  - Finnish silicon wafers maker Okmetic Oyj HEL : OKMV said it will reduce the number of its clerical workers by  worldwide as a result of personnel negotiations completed today.',\n",
       "        'Based on negotiations with personnel, some  % have indicated their willingness to move to the new location.',\n",
       "        \"Metso Paper's delivery will comprise an Advantage DCT  tissue machine including quality control and distributed control systems ( QCS-DCS ).\",\n",
       "        'Boomeranger Boats Oy specialises in boat building and designs, manufactures and sells customised Rigid Inflatable Boats RIB primarily for the Baltic Sea market.',\n",
       "        'The original name Componenta +_m+_l, as a subsidiary of the Finnish Componenta Group, has been changed to +_m+_l Components and the company has seen a  % growth in Q , in comparison to Q .',\n",
       "        'Bosse added that Trygvesta does not have the financial strength to acquire the entire unit.',\n",
       "        'M-real plans to discontinue production of standard coated fine paper in the Hallein and Gohrsm++hle mills.',\n",
       "        ' May  - Finnish company Lemminkainen Oyj ( HEL : LEMS ) said today that it will construct an office building at Toolonlahti in downtown Helsinki, without disclosing financial details.',\n",
       "        'Finnish consulting and engineering group Poyry Plc ( OMX Helsinki : POY ) said on Wednesday (  October ) that it has been awarded a contract by Tanqia Dibba FZC as owner-engineer for the wastewater system of Dibba, Emirate of Fujairah, UAE.',\n",
       "        'Operating profit totalled EUR . mn, up from EUR . mn year-on-year.',\n",
       "        ' October  - Finnish fishing tackle company Rapala VMC Corp ( HEL : RAPV ) said today its net profit rose to EUR . m for the first nine months of  from EUR . m for the same period a year earlier.',\n",
       "        'The operating profit for Grain Trading increased to EUR . mn from EUR . mn in .',\n",
       "        'The Board of Directors has proposed the Extraordinary General Meeting to authorise the Board to decide on the issuance of a maximum of mn new shares in one or more share issues.',\n",
       "        'The growth of net sales in the first half of  has been  % compared with the first half of .',\n",
       "        'As a result, the distribution companies will start to distribute, in addition to their current product offering, Shimano reels, rods and other Shimano fishing tackle products on an exclusive basis.',\n",
       "        'The developers of that project predict that once it is completed in April , Skanssi will attract some . million visitors annually.',\n",
       "        'Espoon kaupunki awarded contracts for personal care products.',\n",
       "        'When new types of network elements are added to the network, the conversion file is updated by adding the information required for converting the message format of the new network element type to the format understood by the management system.',\n",
       "        \"Dubai Nokia has announced the launch of `` Comes with Music'', its ground-breaking service which introduces a new way for people to enjoy music.\",\n",
       "        'The energy-efficient data center will be built by combining an effective energy solution with state-of-the-art technology.',\n",
       "        'Being successful requires providing a level of quality that satisfies our customers and partners.',\n",
       "        'Both companies will keep their commercial independence and continue to market their traditional products individually.',\n",
       "        'Mr. Mika Korpinen, APAC Vice President for Comptel concludes : `` Comptel is once again demonstrating the importance of providing reliable delivery and enabling time-to-market.',\n",
       "        'The oil shale feeder-supply solution will deliver crushed oil shale to the shale oil refinery already in operation as well as to the novel Enefit- shale oil technology processing plant.',\n",
       "        'These restrictions do not apply to statutory dividends.',\n",
       "        'Currently the quarterly applied surcharges differ significantly from the actual market prices.',\n",
       "        'The cosmetics collection includes an eye shadow, face powder, lip gloss, mascara and accessories.',\n",
       "        'Tikkurila acquired a majority stake in Kolorit Paints in the autumn of .',\n",
       "        \"com, and we are constantly planning new ways to serve our customers online on a more comprehensive basis,'' says Matti Leminen, President of Anttila Oy.\",\n",
       "        \"Capacity of the facility made by Finland's Vaahto Group is , tons of light coated paper.\",\n",
       "        'Berling Capital, Umo Capital and Veikko Laine are the biggest shareholders in Amanda Capital.',\n",
       "        \"I am looking forward to contribute to SRV's success with my competence'', says Taneli Hassinen.\",\n",
       "        'M+Ækel+Æ is demanding a new Board for the company as well as discussions on the merger of Alma media and media company Talentum.',\n",
       "        'The full-function PC weighs . kilograms and measures slightly more than two centimeters thin.',\n",
       "        'In the fourth quarter of , net sales increased by  % to EUR ,. mn from EUR ,. mn in the fourth quarter of .',\n",
       "        \"Moreover, Konecranes and Kito intend to transfer the hoist distribution business of Konecranes' Japanese joint venture MHS Konecranes to Kito.\",\n",
       "        'Talvivaara has secured a -year off-take agreement for  per cent of its main output of nickel and cobalt to Norilsk Nickel and entered into a long-term zinc streaming agreement with Nyrstar NV.',\n",
       "        'Operating cash flow after investments totalled EUR . mn compared to EUR . mn in the corresponding period in .',\n",
       "        \"At the request of Finnish media company Alma Media's newspapers, research manager Jari Kaivo-oja at the Finland Futures Research Centre at the Turku School of Economics has drawn up a future scenario for Finland's national economy by using a model developed by the University of Denver.\",\n",
       "        'Other measures included increasing synergies and economies of scale within the Grimaldi Group and personnel adjustments, divestments and redelivery of excess tonnage.',\n",
       "        '`` Stonesoft sees great promise in the future of IPv.',\n",
       "        'Sales of security and system packaging increased slightly.',\n",
       "        'After the transaction, Tikkurila has no powder coatings related operations.',\n",
       "        \"The company estimates that the trend in demand for sports equipment will be steady in ,'' Amer's report said.\",\n",
       "        \"First Industrial will seek LEED designation for Uponor's new building and a , square-foot speculative distribution center at First Park Lakeville.\",\n",
       "        'Raw materials prices have surged in the past year, fueled in part because of the rapid industrialization of China, India and other developing nations.',\n",
       "        'The add-on order contains, among others, control valves and instrumentation as well as complete mill engineering and electrification with Metso drive controls.',\n",
       "        'So far, Mr. Galvan he has been able to avoid laying off workers.',\n",
       "        \"The secondary antenna can also be used for reception of the high power signal of the radar to calibrate the transmission channels of the radar.''\",\n",
       "        'It makes a wide range of mobile devices with services and software that enable people to experience music, navigation, video, television, imaging, games and business mobility.',\n",
       "        \"Ramirent's net sales in the second quarterended June  were EURO . million about U.S. $  million, a .-percent increase compared with EURO . million for thesecond quarter last year.\",\n",
       "        'The District Court of Helsinki dismissed all charges as the court of first instance in .',\n",
       "        'Stora Chief Executive Jouko Karvinen has described the Russian tariff hikes as a threat to the future of the forest products industry in Finland.',\n",
       "        'Virala Oy Ab was allocated by the Board of Directors an amount of EUR , million which is EUR , million lower than maximum announced on //.',\n",
       "        \"The pilot project proved that RIFD technology is ideal for our purposes'', comments Olli Saarinen, Material Handling Supervisor at Yara.\",\n",
       "        \"Ruukki's delivery volumes and selling prices showed favourable development and the company's comparable net sales grew by  % year-on-year to EURm, CEO Sakari Tamminen said.\",\n",
       "        'In addition to the Tulikivi Corporation, he is also currently a member of the Board of the following companies : Altia Corporation, J+Ærvi-Suomen Portti Osuuskunta, Osuuskunta KPY, Profile Vehicles Oy and Voimatel Oy.',\n",
       "        'Insurance policies should be simple.',\n",
       "        'The group said it intends to initiate within this year the process of buyout of minority shareholders of Ragutis with the aim of becoming the sole owner of the company.',\n",
       "        \"Tekla Group's net sales for  were approximately  million euros and operating result . million euros.\",\n",
       "        'The order also covers design services, hardware, software licences, as well as maintenance services over six years.',\n",
       "        'As a result of the merger, the largest professional electronics and telecommunications technology contract manufacturing center in Finland will be formed in Sievi.',\n",
       "        \"The Network Test Business is part of Elektrobit's Test and Automation Business Segment and employs  people in Finland and  people abroad, mainly in the US and Asia.\",\n",
       "        'Return on investment was . %, compared to a negative . % in .',\n",
       "        'Ramirent s Danish subsidiary Ramirent A-S has today signed an agreement to acquire the business assets of the machinery rental company Jydsk Materiel Udlejning located in West Jutland.',\n",
       "        \"The aim of the CEO's Q&A sessions is to give further clarity on information, which has been made public already earlier.\",\n",
       "        'SRV will raise its holding in the company so that by the summer of , it will have a majority.',\n",
       "        \"`` Last year, Finnair recorded a .-percent growth on the Asian sector, carrying more than . million passengers between the two continents.''\",\n",
       "        'The Tekla Structures product box, if needed, is now made from recycled material.',\n",
       "        'Finnish broadband data communication systems provider Teleste Oyj HEL : TLTV said yesterday it returned to a net profit of EUR . million USD . m for the first nine months of  versus a net loss of EUR , for the same period of .',\n",
       "        'The program included operational improvements and reductions in personnel, mainly in the Netherlands.',\n",
       "        'As a part of the plan, the Board of Directors decided to transfer a maximum of , shares held by the company in a share issue against payment directed to Aspo Management Oy, a holding company acquired by the management.',\n",
       "        'RusHydro has an agreement to transfer its stakes in OESK and the five ERCs into the trust management of Inter RAO.',\n",
       "        'International operations accounted for over  % of net sales.',\n",
       "        \"Founded in , Fiskars has over  years of product quality excellence and is Finland's oldest company.\",\n",
       "        'This would be a huge process.',\n",
       "        'The airline was targeting travel agents, tour operators and travel management companies to raise awareness first before targeting consumers, he added.',\n",
       "        'SAMPO PLC Jarmo Salonen Head of Investor Relations and Group Communications tel. +    Distribution : NASDAQ OMX Helsinki The principal media Financial Supervisory Authority www.sampo.com This announcement is distributed by Thomson Reuters on behalf of Thomson Reuters clients.',\n",
       "        \"Componenta's objective with this agreement is to increase business on its existing production lines.\",\n",
       "        'GENEVA, Feb.  -- Tero Aaltonen, Finland has developed a radio resource control method.',\n",
       "        \"`` Our design team has long admired Marimekko's vivid patterns and colors.\",\n",
       "        'HELSINKI (Thomson Financial)- Kemira GrowHow swung into profit in its first quarter earnings on improved sales, especially in its fertilizer business in Europe, which is normally stronger during the first quarter.',\n",
       "        'Stichting Pensioenfonds ABP :    shares representing . % of the share capital and voting rights.',\n",
       "        \"Elisa has commissioned Finland's Poyry Telecom Oy to conduct a study of reception in some of Estonia's largest cities besides Tallinn.\",\n",
       "        'And when it has lifted the veil on the various types of customer for which it designs its phones, the result is social stereotyping taken to a fine art.',\n",
       "        'At a press conference, Lattelecom board chairman Nils Melngailis explained that Blackstone had been chosen for its experience in the IT sector as well as its financial strength.',\n",
       "        'The purchase of sites worth  million in the Thames Gateway will provide more than , homes.',\n",
       "        'Tornio Works employs , of whom more than , have been in the scope of the fixed-period or part-time temporary layoffs in April-October period.',\n",
       "        'The most significant challengers in the market are Logset and Sampo-Rosenlew.',\n",
       "        'The Committee proposes the following remuneration : a monthly remuneration of EUR , for the Chairman, EUR , for the Deputy Chairman, and EUR , for the other Board members.',\n",
       "        \"`` As a part of the Eseries business promise, the Nokia E has been equipped with a variety of email solutions in a small and stylised package,'' said Dave Grannan, general manager, Enterprise Solutions, Nokia.\",\n",
       "        'Following the registration, the number of issued and outstanding shares of Basware is ,,.',\n",
       "        'Net profit in the period in  was ( EURO )  million.',\n",
       "        'Finnish insurance company Fennia and Kesko Group are ending their loyal customer cooperation.',\n",
       "        'EQT has completed its exit from Salcomp, a Finnish company that makes mobile phone chargers, by selling its remaining stake to Swedish investment group Nordstjernan for about ( EURO )  million ( $  million ).',\n",
       "        'Unlisted British Biologicals makes B - and D - proteins, and other disease-specific supplements that cover diabetes, hepatitis, asthma and other cardiovascular ailments.',\n",
       "        'The personnel s expertise and high level of technology play a major role in Exel Composites operations.',\n",
       "        'Capman, the Finnish alternative asset manager, has made an acquisition for its Helsinki-focused vehicle, Real Estate Fund I. The fund has bought a seven-story office built in  that underwent refurbishment at the end of the s.',\n",
       "        \"The fair value of CapMan Plc's own investments on  September  amounted to MEUR ..\",\n",
       "        \"For the last quarter of , Componenta's net sales doubled to EURm from EURm for the same period a year earlier, while it moved to a zero pre-tax profit from a pre-tax loss of EURm.\",\n",
       "        \"`` We've been feeling quite positive about the region as a whole.\",\n",
       "        'MILAN ( AFX ) - The Italian shipping group Grimaldi has increased its stake in the Finnish company Finnlines to . pct from the . pct held in June, according to news agency ANSA.',\n",
       "        'Please inform IR Johanna Koskinen of your participation no later than  April at  a.m. A telephone conference for financial analysts and investors, conducted in English, will begin at : p.m. Finnish time ( EET ).',\n",
       "        'ADPnews - Feb ,  - Finnish real estate investor Sponda Oyj HEL : SDAV said today that it slipped to a net loss of EUR . million USD . m in  from a profit of EUR . million in .',\n",
       "        'Eero Katajavuori, currently Group Vice President, Human Resources, will take a year-long sabbatical starting from October , .',\n",
       "        'Net sales will, however, increase from .',\n",
       "        'Finnish forest machinery manufacturer Ponsse has issued a profit warning.',\n",
       "        'At . pm, the OMX Helsinki  was down . pct to ,. and the OMX Helsinki was . pct lower at ,. on  mln eur turnover.',\n",
       "        'efficiency improvement measures  January  - Finnish stationery and gift retailer Tiimari HEL : TIIV said today that it will continue to improve its operational efficiency, by focusing on its profitable core operations.',\n",
       "        \"Ahlstrom's share is quoted on the NASDAQ OMX Helsinki.\",\n",
       "        'The company will publish its financial statement for  on February , .',\n",
       "        'The sales of the Tiimari segment fell by . % year-on-year to EUR . m in June .',\n",
       "        'Decisions are to be made as quickly as possible.',\n",
       "        'Established in , the SRV Group is a private Finnish construction concern with operations in Finland, the Baltic countries and Russia.',\n",
       "        'HELSINKI ( Thomson Financial ) - M-real said it will exercise an option to buy a MW natural gas power plant and land in Kyroskoski, Finland, for around  mln eur from Kyro Oyj.',\n",
       "        \"The company's board of directors will propose a dividend of EUR . for  at the annual general meeting.\",\n",
       "        'Finnish lifting equipment maker Konecranes Oyj said on July ,  that its net profit rose to . mln euro ( $ . mln ) for the first half of  from . mln euro ( $ . mln ) for the same period of .',\n",
       "        \"`` Rapala is excited to be partnering with RBFF and other industry leaders on this holiday promotion.''\",\n",
       "        \"The divestment is in line with the company's plans to focus on selected growth segments and streamline corporate structure, the company explained.\",\n",
       "        \"EB will hold the exclusive rights to market the new entity's product.\",\n",
       "        'Together, Yahoo and Nokia said they will continue to deliver Internet experiences that address the core needs of consumers, developers, operators and advertisers.',\n",
       "        'SSH Communications Security Corporation is headquartered in Helsinki, Finland.',\n",
       "        \"The online ice chart shows no ice in the area of Estonia's sea ports on the coast of the Gulf of Finland.\",\n",
       "        'The Efore plant at Saarijarvi in central Finland is one of the largest employers in the region.',\n",
       "        \"The Tekla Structures  installation has been built according to Microsoft's requirements for the Windows  certification, the Company added.\",\n",
       "        \"Thus the group's balance sheet will have about EUR . m in goodwill for , the company added.\",\n",
       "        \"`` Our decision and resolve on MeeGo is only stronger,'' she continued.\",\n",
       "        'You are warmly welcome!',\n",
       "        'Revenues at the same time grew  percent to  million euros.',\n",
       "        'He confirmed his view on July .',\n",
       "        \"The company's profit totaled Ls ,.\",\n",
       "        'Re-use back into PET bottles has also steadily increased and the rate of use in strapping tape has picked up again after a dip in , Petcore said previously.',\n",
       "        \"One of Uponor's promising future products is a hydronic cooling system.\",\n",
       "        \"The manufacture of CPPs will be undertaken at the existing Export Oriented Unit EOU at Wartsila's factory at Khopoli, near Mumbai.\",\n",
       "        'Its market share widened to . percent from . percent a year earlier.',\n",
       "        'Only the driver was left in the car with the suspect, who was kidnapped and forced at gunpoint to drive to Durham.',\n",
       "        'According to Scanfil, demand for telecommunications network products has fluctuated significantly in the third quarter of , and the situation is expected to remain unstable for the rest of the year.',\n",
       "        \"Under the agreement, Pfizer has been funding Biotie's research activities on the PDE phosphodiesterase  inhibitor program since its start in late  and has the sole authority to develop discovered compounds.\",\n",
       "        'Harju Elekter was founded in , and is the leading producer of electrical equipment and materials in the Baltic States.',\n",
       "        'The shares represented . % of total share capital and . % of total voting rights.',\n",
       "        'The utility will also provide services related to electricity management, such as hedging trades and risk management and reporting.',\n",
       "        'Shares will be acquired in accordance with section  of the rules of NASDAQ OMX Helsinki and other rules applicable to the acquisition of own shares.',\n",
       "        \"Finnish Rautaruukki's engineering division Ruukki Engineering will re-organise its operations in the Mo i Rana plant in Norway.\",\n",
       "        \"As earlier reported, Nokian Tyres is building a plant in the town of Vsevolozhsk in Russia's Leningrad Region with an annual production capacity of  million tires.\",\n",
       "        'The representative body of Swedish Meats approved an improved offer from Finnish HK Ruokatalo to acquire the company.',\n",
       "        'The relocation of Ragot has already started and will be completed in the next few weeks, with the Waterqueen and Tortue moves planned for mid- and VMC Europe during the third quarter of .',\n",
       "        'Operating profit was EUR . mn, up from EUR . mn.',\n",
       "        'The firm generated sales of  mln eur in .',\n",
       "        'Then, it said the contract was estimated to contribute more than EURm to its net sales in .',\n",
       "        \"The value of the firm's forestry holdings increased by SEK . bn.\",\n",
       "        \"HELSINKI, Finland, Sept. ,  ( GLOBE NEWSWIRE ) -- Ixonos Plc expands the company's smartphone R&D services and establishes a new next-generation smartphone design unit in connection with Ixonos' site in Jyvaeskylae.\",\n",
       "        'In , the deal is likely to bring savings of EUR mn-mn.',\n",
       "        \"Estonia's Agriculture Minister Helir-Valdor Seeder is in Finland on a two-day visit, in the course of which he will meet with his Finnish counterpart Sirkka-Liisa Anttila.\",\n",
       "        'In Sweden, there is an oversupply of pharmacies.',\n",
       "        'Our purchase to pay solutions enable companies to gain visibility and control over business-critical financial processes.',\n",
       "        'This is the first time Finnair has been awarded an agreement with the UK government.',\n",
       "        'wins  % acceptance  December  - Finnish industrial machinery company Metso Oyj ( HEL : MEOV ) said today it will complete its takeover offer for textile company Tamfelt Oyj Abp ( HEL : TAFKS ), after acquiring  % of its shares and votes.',\n",
       "        \"Ms Laakso will be responsible for HKScan's HR functions and for their development in all of the Group ` smarket areas.\",\n",
       "        'In the building and home improvement trade, sales decreased by . %, totalling EUR . mn.',\n",
       "        \"In addition to the Indian market, the new plant will serve Salcomp's customers globally, the company said.\",\n",
       "        'Cash Flow from Operations for the most recent quarter also reached a eight year low.',\n",
       "        'The insurance division turned a EURm profit.',\n",
       "        'Altimo previously agreed a similar deal with Telenor to merge their stakes in VimpelCom and Kyivstar-GSM.',\n",
       "        \"The Stockmann department store will have a total floor space of over , square metres and Stockmann's investment in the project will have a price tag of about EUR  million.\",\n",
       "        'A local waste management company, Turun Seudun J+Ætehuolto, has planned to set up a , tonne waste-burning facility.',\n",
       "        'NASDAQ-listed Yahoo Inc has introduced a new service that enables Malaysians to take their favorite Internet content and services with them on their mobile phones.',\n",
       "        'The companies signed the letter of intent for the sale on  September  and envisaged to seal the actual agreement on  January .',\n",
       "        'The total capacity of the factory will be approximately  engines a year.',\n",
       "        'Finnish Sampo-Rosenlew manufactures approximately seven forest machines monthly, and about half of machines are exported.',\n",
       "        'Nordea sees a return to positive growth for the Baltic countries in .',\n",
       "        'Operating profit totalled EUR . mn, down from EUR . mn the year before.',\n",
       "        \"In contrast, the company's net loss for the third quarter of  contracted to EUR  million from EUR  million for the corresponding period a year ago.\",\n",
       "        'It grew in Finland, Norway, Denmark and the Baltic countries.',\n",
       "        'The natural source of isoprene is the tree species Hevea brasiliensis, also known as the rubber tree.',\n",
       "        \"The opening of the portal is part of the expansion strategy of Alma Media's Marketplaces business unit.\",\n",
       "        'The Company turnover amounted to MEUR . in .',\n",
       "        \"The iTunes-based material will be accessible on Windows-based or Macintosh computers and transferable to portable devices, including Apple's iPods.\",\n",
       "        \"` This order is included in Wartsila's order book in the second quarter,' the company added.\",\n",
       "        \"It's very difficult to become a Google Analytics channel partner.\",\n",
       "        'The customer is then forwarded to the site, and unknown to him logged in with the first number.',\n",
       "        \"Its market share is  percent according to AC Nielsen's  data.\",\n",
       "        'Atria said its offer would give the Swedish company continued ownership and control of its slaughtering and cutting operations.',\n",
       "        \"After the acquisition, Basware's preliminary pro forma net sales for  amount to EUR . mn, and preliminary pro forma operating profit amounts to EUR . mn.\",\n",
       "        'The unit is planned to be operational during the second half of  and in full stream in .',\n",
       "        \"The composite body is coated with a hard coating layer produced by thermal spraying, and the coating is ground.''\",\n",
       "        'The turbines are expected to be launched by the end of .',\n",
       "        \"German Commerzbank AG's Hamburg Branch and US JP Morgan ( NYSE : JPM ) participated as arrangers, and Dutch ING ( AMS : INGA ) as co-arranger.\",\n",
       "        \"`` The implementation of these programs has had, and will have, negative impacts on  and  earnings,'' Mr Meiklejohn said.\",\n",
       "        \"The company's strength is its Apetit brand.\",\n",
       "        'Previously, it projected the figure to be slightly lower than in .',\n",
       "        'Work on the assignment has already started and is due for completion in spring .',\n",
       "        \"Anttila's online department store - NetAnttila - has an established position as the best-known, most visited and most shopped online store in Finland .\",\n",
       "        'The approximately , dwt vessel has been ordered from India.',\n",
       "        '`` Social networking and location-based service trends comprise a significant share of the Internet traffic today and are appealing to MID users.',\n",
       "        'Jeder Beta-Tester erh+Ælt kostenlos sechs Monate lang Updates und hat laut eigener Aussage die M+?glichkeit, die finale Version zu beeinflussen.',\n",
       "        'The authorization is in force for a period of  months from the resolution by the General Meeting.',\n",
       "        \"Clothing chain Sepp+Æl+Æ's net sales increased by . % to EUR . mn.\",\n",
       "        'The Finnish textiles and clothing company Marimekko Corporation ( OMX Helsinki : MMOV ) reported on Wednesday (  November ) an operating profit of EUR . m on net sales of EURm for the period from January to September .',\n",
       "        'Music is provided by all major international and regional labels including Universal Music Group, Sony Music Entertainment, Warner Music, EMI Music, Rotana, Mazzika, Melody Music, Platinum Records, and leading content aggregator The Orchard, as well as thousands of independent labels.',\n",
       "        'It is planned to set up the A class business center in the two top storeys of the complex.',\n",
       "        'Pohjola will act as the manager of the issue and the bond will be listed on NASDAQ OMX Helsinki Ltd..',\n",
       "        \"It has been agreed with the company's Board of Directors that she will be available in an advisory role.\",\n",
       "        'The bond has a value of EURm and a maturity of  years.',\n",
       "        'Finnish publisher Alma Media ( HEL : ALNV ) said Wednesday it has decided to further extend its EUR . ( USD . ) apiece mandatory tender offer for media group Talentum ( HEL : TTMV ), which started on  August, until  November.',\n",
       "        'The company said that it has started to investigate streamlining its operations in order to meet the tightening competition on the mobile phone charger market.',\n",
       "        'Stockholm,  March  About Cybercom The Cybercom Group is a high-tech consultancy that offers global sourcing for end-to-end solutions.',\n",
       "        'LONDON ( AFX ) - Intertek Group PLC, a testing and inspection company, said its commercial and electrical division has bought Finland-based company Natlabs Oy from Etteplan Oyj for . mln eur in cash.',\n",
       "        'Aspocomp said it will spin off its Chinese and Indian units, and some equipment from its Salo plant in Finland, into a newly-formed unit, most of which it will then sell on to Hong Kong-listed Meadville.',\n",
       "        'The order was valued at USD . m.',\n",
       "        \"This one was at one time targeted for June , but if we had to guess, it's been pushed back -- maybe we're crazy, but we feel like it has n't leaked enough to meet that date at this point.\",\n",
       "        '`` I see my new post as an inspiring challenge.',\n",
       "        'Pharmaceuticals - Netherlands This brand-new market analysis gives a clear overview of the actual situation and future outlook of the pharmaceutical market in Netherlands.',\n",
       "        'We are adjusting to the present situation by cutting our capacity and costs without, however, jeopardising our Asia strategy over the longer term.',\n",
       "        'Kone shares dropped . percent to  xac  US$ . in Helsinki.',\n",
       "        \"The business has sales of about ( Euro )  million ( $ million ), and has been responsible for sales and marketing of Lanxess's paper chemicals business, which Kemira bought for ( Euro )  million early this year ( CW, Jan. , p.  ).\",\n",
       "        'The appointments will be in force until the new CEO has been appointed.',\n",
       "        'Patrick Jeambar will also continue being responsible for Innovation and Health, safety and environment HSEA functions of Ahlstrom Corporation.',\n",
       "        'In beers, Olvi retained its market position.',\n",
       "        'Tiimari Latvian representative Ineta Zaharova said that the company earned LVL , in  profit, which is  times more that in .',\n",
       "        \"Efore's CEO Reijo Maihaniemi said that the company has developed and already delivered power supply units to respective systems based on this technology to Chinese sector company ZTE Corp SHE : .\",\n",
       "        'The maximum grade of the veneer yield is calculated, based on the dimensions and grades of the veneer products, as well as by iterating the places of the peeling axes and simulating the peeling process.',\n",
       "        'Now, Nokia has announced the launch of Bicycle Charger Kit that is compatible with all Nokia phones that have a  mm charging interface.',\n",
       "        'The solvency capital ratio of both companies was . times the solvency limit.',\n",
       "        'Igor and Oleg Yankov, who currently manage Moron and Vitim, will hold onto the  % stake for now.',\n",
       "        'According to Schmardin, Nordea will most likely try to win customers over from other pension fund providers.',\n",
       "        'Finnish forest machinery and equipment maker Ponsse Oyj said on October ,  it will deliver a total of  cut-to-length method forest machines and  harvester heads to Brazilian paper maker Bahia Pulp and to unnamed Uruguayan wood harvesting contractors.',\n",
       "        'It operates under three distinct brands : United Supermarkets, Market Street and United Supermercado.',\n",
       "        \"In the meantime the CEO's duties will be assumed by Outotec's Deputy CEO Seppo Rantakari.\",\n",
       "        \"According to Nordic financial group Nordea's analyst Sami Sarkamies, this makes Nokia's portfolio competitive again.\",\n",
       "        'One of the opportunities would be to bring all Baltic meat processing to Rakvere, like processing was concentrated at the Vantaa meat-packing unit in Finland, the paper wrote.',\n",
       "        'As of July , , the market cap segments will be updated according to the average price in May .',\n",
       "        \"Finnish M-real's Kyro mill is starting negotiations to cut staff.\",\n",
       "        \"The growth in the activeness of Talentum's customers, which started at the end of , continued during the reporting period, the company stated.\",\n",
       "        'In , Sanoma Magazines expects net sales to be at the  level.',\n",
       "        \"Global Markets Direct's Pohjola Bank plc - Financial Analysis Review is an in-depth business, financial analysis of Pohjola Bank plc..\",\n",
       "        \"The platen edges in contact with the band are provided with a seal having a protrusion directed towards the middle area of the platen, and means are provided to exert and maintain a pressure in the volume defined by the platen, the band and the seal.''\",\n",
       "        \"Technopolis, St. Petersburg's Telecommunications University and the Russian Support Fund for Legislative Initiatives signed a protocol of intent in May of this year to set up a technopark in St. Petersburg on the base of the St. Petersburg Telecommunications University.\",\n",
       "        'The capital structure of Solidium may be complemented by other financial instruments in the future.',\n",
       "        'The company turned to earnings per share ( EPS ) of EUR . versus loss per share of EUR ..',\n",
       "        'Meanwhile, Nokia said that it will be able to deliver a complete range of services from deployment operations to consulting and integration to managed services as a result of the buyout.',\n",
       "        'Through the new production lines at the Novator mill in Veliky Ustjug, Vologda Oblast, Sveza will change its current . m by . m birch plywood production targeting the domestic market to produce . m by . m overlaid birch plywood for the global market.',\n",
       "        'Talvivaara Mining Company PLC ( Talvivaara Mining ) ( LSE : TALV ), a Finland-based nickel mining business, has installed its second production line at its metals recovery plant on June , .',\n",
       "        \"Rautaruukki Corporation Stock exchange release  December  at  noon Ruukki's construction and engineering divisions are to further improve and adjust their operations in Finland.\",\n",
       "        \"According to Vauramo, the plant's lifting equipment is suitable for Asian and for some Chinese trucks.\",\n",
       "        'Elisa Corporation, headquartered in Helsinki, is a Finnish telecomms company offering private and corporate customers a comprehensive range of telecomms services.',\n",
       "        'After the renovation the biggest moulding line in the Orhangazi foundry is the most modern line in Europe.',\n",
       "        \"Last month, Outokumpu sold more than  percent of its technology unit, Outokumpu Technology Oyj, to further its strategic goal of becoming the world's largest stainless steel maker.\",\n",
       "        'The company also estimates the already carried out investments to lead to an increase in its net sales for  from  when they reached EUR . million.',\n",
       "        \"Under the agreement Ponsse will provide forest machine maintenance services to Stora Enso's Russian wood procurement operations.\",\n",
       "        'Net sales revenue per passenger is expected to increase.',\n",
       "        ' October  - Finnish metal products company Componenta Oyj HEL : CTHV said yesterday that its net loss narrowed to EURm for the first nine months of  from EUR . m for the same period of .',\n",
       "        'A survey conducted by Taloustutkimus for Sampo Life shows that companies are badly prepared to losing key staff members.',\n",
       "        '`` This is a win for all OEMs targeting to develop WiMAX products.',\n",
       "        'Veracel is preparing an appeal in the issue and has asked the court for clarification of the judgement.',\n",
       "        \"The impact of Cableway to Teleste's net sales in  is estimated to be EUR  million.\",\n",
       "        'The huge bridge girders will be delivered to the site from our plant in Ylivieska, Finland.',\n",
       "        'Ramirent Finland is the domestic unit of machinery rental company Ramirent Oyj HEL : RMRV.',\n",
       "        'Net sales in  totalled EUR  million and the operating margin was above  %.',\n",
       "        'According to CEO Matti Karppinen, Frozen Foods posted a good result in , as it did in .',\n",
       "        'The order was worth EUR mn.',\n",
       "        ' February  - Finnish broadband data communication systems provider Teleste Oyj HEL : TLTV saw its net profit jump to EUR . m for the last quarter of  from EUR , for the same period of .',\n",
       "        \"In the first quarter of , Sacanfil's net sales totalled EUR . mn and its operating profit EUR . mn.\",\n",
       "        '( ADP News ) - Feb ,  - Finnish broadband data communication systems and solutions company Teleste Oyj ( HEL : TLTV ) said today its net profit decreased to EUR . million ( USD . m ) for  from EUR . million for ',\n",
       "        'The optimization of the steel components heating process will reduce the energy consumption.',\n",
       "        'Risk exposure by Non-life Insurance  Moving -month  Expenses by function in Non-life Insurance excluding expenses for investment management and expenses for other services rendered Non-life Insurance investment portfolio by allocation',\n",
       "        'A downloadable instruction sheet, instructional video, and project ideas for the award-winning Everywhere Punch TM Window System can be found at www.fiskars.com.',\n",
       "        'Finnish power company Fortum reports  % of its electricity was generated without carbon dioxide emissions in .',\n",
       "        'The value of the multi-year agreement is over EUR mn a year.',\n",
       "        'For example, net sales increased by . % from the first quarter, and EBITDA increased from a negative EUR . mn in the first quarter of .',\n",
       "        \"The acquisition does not have to be from the frozen foods or fish sector, as long as it has synergies with L+Ænnen Tehtaat's other businesses.\",\n",
       "        'Fortum holds . pct of the share capital and . pct of the voting rights in the company, which it now plans to delist from the Warsaw Stock Exchange.',\n",
       "        'Also Finnish Industry Investment, a government-owned investment company, will participate in the project.',\n",
       "        'A memorandum of understanding on cooperation between the Finnish Global Chemical Company KEMIRA and Vietnam National Chemicals Group ( Vinachem ) was signed on this occasion.',\n",
       "        'Creating interfaces that are more similar to interactions in the real world can enable experiences that are more natural and intuitive, in the same way that modern games and movies are more immersive through the use of realistic -D graphics.',\n",
       "        'According to the company, in addition to normal seasonal fluctuation the market situation has weakened during autumn .',\n",
       "        'The other two sellers were the Finnish National Fund for R&D ( Sitra ) and Oras Invest Oy, which also sold half of their shareholdings, leaving them with . pct and . pct of the company respectively.',\n",
       "        \"The Swedish subsidiary holds . % net smelter return `` NSR'' royalties over two advanced copper projects in northern Sweden - the Viscaria and Adak Projects - being developed by Avalon Minerals Ltd. ASX : AVI.\",\n",
       "        \"The biggest sellers in the chain's supermarkets in Finland are organic Pirkka tomatoes, carrots, eggs, and meat products.\",\n",
       "        'The beers differ slightly from mainstream beers.',\n",
       "        'In the Asia-Pacific region, Visa Wave is available in Malaysia, Taiwan and South Korea and will be expanded to Japan and Southeast Asia this year, Jung added.',\n",
       "        \"Marimekko Group's full-year net sales are estimated to increase by about  %.\",\n",
       "        'Atria will launch a campaign in September to promote the CampoMos brand on the Moscow market, he said.',\n",
       "        'The company has  employees and annual sales of approximately EURm.',\n",
       "        'Delivery will start immediately in June  and will be completed in .',\n",
       "        'The first ship has been delayed and is estimated to be completed in spring .',\n",
       "        'Helsinki on October ,  SSH COMMUNICATIONS SECURITY CORP Board of Directors For further information, please contact : Tomi Laamanen, Chairman, tel. +     Distribution : NASDAQ OMX Helsinki Ltd..',\n",
       "        'On the route between Helsinki in Finland and Tallinn in Estonia, cargo volumes increased by  %, while cargo volumes between Finland and Sweden fell by  %.',\n",
       "        \"The subsidiary is setting up a facility for manufacturing high-density interconnection printed circuit boards or PCBs at Nokia's special economic zone at Sriperumbudur near Chennai.\",\n",
       "        'The volume of investments in the two phases of the project is estimated at USD mn ( EUR . mn ).',\n",
       "        \"`` The biggest challenge was to make the piece look raw,'' Hansen said.\",\n",
       "        'The hack had been extra nefarious because the tweets activated without being clicked on - it was enough for Web surfers to move their mouse cursors over them.',\n",
       "        'In February the Elcoteq group sold its St Petersburg facility ; according to unconfirmed information the reason could have been supply problems because of the Russian customs service.',\n",
       "        'Pretax loss totalled EUR . mn, compared to a loss of EUR . mn in the corresponding period in .',\n",
       "        'comparable operating profit totaled EUR mn, up from EUR mn in .',\n",
       "        'Finnish W+Ærtsil+Æ that provides power solutions for the marine and energy markets has opened a Service Centre in Murmansk, in Russia.',\n",
       "        'Mursula said they tried to gather macro-economic perspective to see how Malaysia was doing.',\n",
       "        'ALEXANDRIA, Va., June  -- Michael G. Williams of Newbury Park, Calif., has developed a network device.',\n",
       "        'In February , new wording of Identity Documents Act that makes Mobile ID a state-approved electronic document as of February st  entered into force.',\n",
       "        \"at : EET Alma Media's Annual Report for  is scheduled to be published in calendar week .\",\n",
       "        'Mr. Koistinen joins from Nokia Siemens Networks where he has held various senior sales management and business development positions since .',\n",
       "        'Kesko pursues a strategy of healthy, focused growth concentrating on sales and services to consumer-customers.',\n",
       "        'The company will pay a dividend of EUR . per share, a total of EUR mn.',\n",
       "        'Net sales surged by . % to EUR . m. Teleste said that EUR . m, or . %, of the sales came from the acquisitions made in .',\n",
       "        \"narrows to EUR . m -mo'  October  - Finnish software and hardware developer Elektrobit Oyj HEL : EBGV, or EB, said today that its net loss narrowed to EUR . m for the first nine months of  from EUR . m for the same period a year ago.\",\n",
       "        'Temporary lay-offs, affecting the entire workforce, will also be implemented.',\n",
       "        \"According to Scanfil's President Harri Takanen, Scanfil's investment activity proceeded according to the strategy on several fronts in .\",\n",
       "        'Both operating profit and turnover for the nine-month period increased, respectively from EUR . m and EUR . m, as compared to the corresponding period a year ago.',\n",
       "        'The change in holdings in accordance with Chapter , Section  of the Finnish Securities Markets Act is described below.',\n",
       "        'It has branches in Finland with annual revenue in Finland of?',\n",
       "        'Finnish investment group Panostaja Oyj said its net profit went up to . mln euro $ . mln in fiscal -, ended October , , from . mln euro $ . mln in the same period of fiscal -.',\n",
       "        'hu will offer a further discount of between  % and  % on selected books.',\n",
       "        \"We warmly welcome him to Satama'', states Jussi Lansio, chairman of the Board.\",\n",
       "        \"In the reporting period, the company's operating profit grew by . % to EUR  million.\",\n",
       "        'The business had gross written premiums of EUR . m (  . m ) in , a net combined ratio of  % and  staff in total with offices in the UK, Germany and Benelux.',\n",
       "        'Aspocomp Group, headquartered in Helsinki, Finland, develops interconnection solutions for the electronics industry.',\n",
       "        'The Daily Graphic newspaper, in October, reported an initiative being embarked upon by the Fidelity Bank to partner Ghana Post, which has offices across the country, to offer financial services to the unbanked and under-banked in the country.',\n",
       "        'Baltic Pearl CJSC, a subsidiary of Shanghai Foreign Joint Investment Company, is developing a project in St Petersburg, comprising about a million square meters of residential space, two hospitals and several schools and nurseries.',\n",
       "        ' September  - Finnish stationery and gift retailer Tiimari HEL : TIIV said today its net sales rose by  % year-on-year to EUR . m in August , driven by growth in Finland, while demand in the Baltics remained weak.',\n",
       "        'Earnings per share ( EPS ) amounted to EUR ., down from EUR ..',\n",
       "        'The company, which makes garden tools, scissors and other consumer goods, said earnings were boosted by . mln eur of income it received from its . pct shareholding in Finnish engineering group Wartsila.',\n",
       "        'Finnish Suominen Corporation that makes wipes, nonwovens, and flexible packaging, has a plant near Warsaw, in Poland, that makes flexible packaging.',\n",
       "        'At the moment, there are approximately  Vianor sales offices in Russia.',\n",
       "        '`` As defences mature, attackers develop Trojans that are equipped with content filters to detect online banking activity for capturing account details using methods such as form grabbing, screen shots, video captures, keylogging and injection of form fields.',\n",
       "        'Finnish paints and coatings company Tikkurila Oyj ( HEL : TIKV ) announced today the launch of Tikkurila ProHouse method for protection of wooden surfaces via treatment with Ultra Pro waterborne products.',\n",
       "        'Strand Associates is expanding its Madison corporate headquarters with space to add about  employees to the engineering firm.',\n",
       "        '( ADP News ) - Feb ,  - Finnish construction company Lemminkainen Oyj ( HEL : LEMS ) said today its net profit decreased to EUR . million ( USD . m ) for  from EUR . million for .',\n",
       "        \"Okmetic's silicon wafers are part of a further processing chain that produces end products that improve human interaction and quality of life.\",\n",
       "        'Bluewin Security is available as a monthly subscription.',\n",
       "        'Technical indicators for the stock are bullish and S&P gives NOK a positive  STARS out of  buy ranking.',\n",
       "        'Unit costs for flight operations fell by . percent.',\n",
       "        'The acquired business main asset is a mobile authentication and signing solution, branded as Tectia MobileID, which provides authentication to web e-mail, SSL-VPN, MS SharePoint, Tectia Secure Solutions and other applications and resources.',\n",
       "        'Finnish consumer packaging manufacturer Huhtamaki Oyj said it swung to a net profit of . mln euro $ . mln in the first nine months of  from a net loss of . mln euro $ . mln in the same period of .',\n",
       "        'With the new arrangement, customer responsibilities will become mainly regional.',\n",
       "        \"At the end of March , the company's loans amounted to EUR . mn.\",\n",
       "        'In addition to its stake in MegaFon, Telecominvest currently owns  % of shares in Web Plus and St. Petersburg Payphones,  % in telecom equipment producer Peter-Servis and a number of other minor assets.',\n",
       "        \"Cargotec Corporation, Press Release, April ,  at . p.m. Finnish time Cargotec's MacGREGOR business area providing marine cargo handling and offshore load handling solutions has received significant hatch cover orders for bulk carriers.\",\n",
       "        'Finnish cargo handling solutions company Cargotec Oyj said on June ,  that it will acquire New Zealand tailgates distributor Zepro Tailgate (  ) Limited for an undisclosed sum.',\n",
       "        'Pretax profit rose to EUR . mn from EUR . mn in .',\n",
       "        'Status : Agreed',\n",
       "        \"The EU Commission said earlier it had fined ThyssenKrupp, United Technologies Corp's Otis, Schindler AG and Kone Oyj a total of . mln eur for alleged cartel activity in the lift market going back twelve years.\",\n",
       "        \"The - joint venture, to be called Nokia Siemens Networks, will be comprised of Nokia's network business group and Siemens' carrier-related operations, creating estimated synergies of . billion euros ( $ . billion ) by , Nokia said.\",\n",
       "        'There did not seem to be enough hours in a day for Pekkarinen.',\n",
       "        \"With sales of $ . billion over the last twelve months ending October,  and over , stores in  states, Dollar General is the nation's largest small box discount retailer.\",\n",
       "        'An Android app will be coming soon.',\n",
       "        \"`` We have a group of  volunteers made up of Digicel employees who will manage the distribution ... Over the next week, they will distribute the , tents to more than  organizations,'' Digicel Haiti CEO Maarten Boute said.\",\n",
       "        'Linde acts responsibly towards its shareholders, business partners, employees, society and the environment - in every one of its business areas, regions and locations across the globe.',\n",
       "        'Dirk Jones, head of Financial Institutions Client Sales Management, GTS, Citigroup, Inc, said, ` Citi is extremely pleased to be providing global custody services to Pohjola Group Bank.',\n",
       "        'The highest growth would be in China, while weakening demand would continue in North America, UPM said.',\n",
       "        'The company said that currently the French distribution unit Ragot is located in Loudeac, Normandy, the distribution unit Waterqueen and line supplier Tortue in Saint Marcel in mid-France and the hook manufacturing unit VMC and hook distribution unit VMC Europe in Morvillars.',\n",
       "        'CDLI highlights the companies that provided the most comprehensive response to the Carbon Disclosure Project CDP information request.',\n",
       "        'For , net profit was EUR  million and the company paid a dividend of EUR . apiece.',\n",
       "        'Paper stocks were among the biggest fallers, with Stora Enso down . pct to . eur, M-real down . pct to . eur and UPM-Kymmene . pct lower at . eur.',\n",
       "        'Country : ; Germany Sector : Construction-Real Estate ; Machinery-Engineering Target : Caverion GmbH Buyer : YIT Oyj Deal size in USD : . m Type : Corporate acquisition Status : Agreed',\n",
       "        'There have been  initial public offerings announced in Sweden this year, compared with two during the same period a year earlier, Bloomberg data shows.',\n",
       "        'STOCK EXCHANGE ANNOUNCEMENT  July   (  ) BASWARE SHARE SUBSCRIPTIONS WITH WARRANTS AND INCREASE IN SHARE CAPITAL A total of   shares have been subscribed with BasWare Warrant Program.',\n",
       "        'The Bank of Tokyo-Mitsubishi UFJ, Ltd acted as agent for the loan.',\n",
       "        \"Markets had been expecting a poor performance, and the company's stock was up  percent at  xac . US$ . in early afternoon trading in Helsinki.\",\n",
       "        'Incap estimates it will generate a revenue of  mln euro ( $ . mln ) from its Indian operations for .',\n",
       "        'The poorest index figure was given to Finnish power company Fortum, ..',\n",
       "        \"Aspo's Group structure and business operations are continually developed without any predefined schedules.\",\n",
       "        'Finnish silicon wafers maker Okmetic Oyj said on September ,  that it will invest a total of  mln euro $ . mln in its sensor wafer business.',\n",
       "        'Finnish automation solutions developer Cencorp Corporation ( OMX Helsinki : CNCV ) issued on Thursday (  September ) a profit warning for the third quarter of .',\n",
       "        'Fortum had previously bought the state-held stake in TGK- from RAO UES during its reform.',\n",
       "        'Shares in Royal and Sun Alliance continued to slide back from a -month high of p last month, after a potential suitor ruled itself out of a takeover bid.',\n",
       "        \"In January-September , Finnlines' net sales rose to EUR . mn from EUR . mn in the corresponding period in .\",\n",
       "        'On Dec. , Grimaldi acquired . million shares and a .-percent stake in Finnlines.',\n",
       "        'The layoff talks were first announced in August.',\n",
       "        'The net sales decreased to EUR . million from EUR . million.',\n",
       "        'Finnish Componenta has published its new long-term strategy for the period - with the aim of growing together with its customers.',\n",
       "        'High winds also toppled three semi-trailers on I- north of Barstow.',\n",
       "        \"The company will be part of Teleste's Video and Broadband Solutions business area.\",\n",
       "        'firm  October  - Finnish lifting equipment maker Konecranes Oyj HEL : KCRV said today it acquired US Machine Tool Solutions Unlimited in Cincinnati, Ohio, for an undisclosed sum.',\n",
       "        \"Before Kemira's installation NordAlu was producing , tons of liquid and solid aluminum waste per year.\",\n",
       "        'Operating profit, excluding non-recurring items, totalled EUR . mn, down from EUR . mn in the corresponding period in .',\n",
       "        'In the spring , a total of , Stock Options  B were annulled.',\n",
       "        \"The terms and conditions of the Stock Option Scheme  are available on the Company's internet pages www.sanoma.com.\",\n",
       "        'The value of the orders is over EUR mn.',\n",
       "        \"According to Sweden's Minister for Local Government and Financial Markets, Mats Odell, the decision to sell the State's shares in telecom group TeliaSonera can only be carried out in cooperation with the State of Finland.\",\n",
       "        'Finnish Talvivaara Mining Co HEL : TLVV said Thursday it had picked BofA Merrill Lynch and JPMorgan NYSE : JPM as joint bookrunners of its planned issue of convertible notes worth up to EURm USDm.',\n",
       "        \"Customers wave cards in front of the reader to make payments, similar to `` touch and go'' cards used in transport systems.\",\n",
       "        'Finnish laboratory liquid handling and diagnostic test systems developer Biohit Oyj OMX Helsinki : BIOBV issued on Tuesday  June a profit warning for the financial year .',\n",
       "        'The Finnish investment company Sponda is conducting negotiations to acquire the business center Dukat Palace- located in the center of Moscow, from London & Regional Properties.',\n",
       "        'EMSA Deputy Chairman of the Board Juri Lember told BNS on Wednesday that this was the first time he heard about the strike as the Swedish side had not informed the Estonian union yet.',\n",
       "        'UPM is talking to Myllykoski+?s creditor banks -- Nordea ( STO : NDA ), Nordic Investment Bank and Danske Bank+?s ( CPH : DANSKE ) Sampo Bank -- over a deal, the paper said.',\n",
       "        'The new B shares carry the right to dividend and other shareholder rights with effect from today.',\n",
       "        'The total donation amount is EUR ,,.',\n",
       "        \"A total of , new Citycon shares with a nominal value of EUR . per share were subscribed between  and  March  exercising the A-B-C options based on the company's stock option plan .\",\n",
       "        'The inventors are Mukkavilli Krishna Kiran, Sabharwal Ashutosh and Aazhang Behnaam.',\n",
       "        \"The divested company is part of TietoEnator's business area Government, Manufacturing & Retail.\",\n",
       "        \"`` Overall, we're pleased with the startup curve ... and we're pleased with the quality of the paper,'' Stora spokeswoman Patricia Dietz said Tuesday.\",\n",
       "        'The adjustment measures will be carried out in phases to secure the delivery capability.',\n",
       "        \"Founded in , Finnair is one of the world's oldest airlines and flies to  destinations with a fleet of  aircraft, employing , people.\",\n",
       "        'The EPS improved to EUR . from EUR ..',\n",
       "        'Svyturys-Utenos Alus, which is controlled by the Nordic group Baltic Beverages Holding ( BBH ), posted a . percent growth in beer sales for January-September to . million liters.',\n",
       "        'With the measures, Suominen Corporation aims to ensure the competitiveness of the Flexible Packaging business in the long term.',\n",
       "        \"Okmetic Board of Directors has also decided on a new share ownership program directed to the company's top management.\",\n",
       "        'Earnings per share were at loss of EUR ..',\n",
       "        'The company has established a G base station at about , feet at the foot of Mount Everest that will enable mountain climbers at the ,-foot summit to surf the Internet and even send videos of their exploits.',\n",
       "        'The company also said that the deployment of the Danish G network continues and it expects to cover  % of the Danish population in .',\n",
       "        'The proposal of the shareholders to elect Mr. Hannu Krogerus to the Board is based on his long and unrivalled experience and knowledge of all matters related to Elcoteq.',\n",
       "        'Tiimari operates  stores in six countries -- including its core Finnish market -- and generated a turnover of . mln eur in .',\n",
       "        'According to the Act, universities can now acquire private funding.',\n",
       "        'Based on the  calendar year the combined company had EUR . bn in pro forma annual revenues and is expected to start operations with , employees.',\n",
       "        'It is also . pct above the -month volume weighted average price of the stock.',\n",
       "        'Established in , CapMan manages Nordic buyout, mezzanine, technology, life science and real estate funds with approximately EURO  billion $  billion in total capital.',\n",
       "        'Pre-tax loss totaled EUR . mn, compared to a loss of EUR . mn in the first quarter of .',\n",
       "        'Lieksaare Oy has earlier been regarded under the control of Saarelainen Oy and the individual shareholders under the shareholder agreement.',\n",
       "        'Compared with the FTSE  index, which rose . points ( or . % ) on the day, this was a relative price change of -. %.',\n",
       "        \"It is the most awkward thing to use if you're holding the phone with one hand.\",\n",
       "        'LIGHTS OUT Before curfew, curl up with the latest bestseller and treat your eyes to the perfect reading light from Luceplan.',\n",
       "        \"In Q of , the company's result before taxes from continuing operations, excluding non-recurring items, totalled EUR -. mn, compared to EUR -. mn in the corresponding period in .\",\n",
       "        'Latvenergo has ordered a significant expansion to the Tekla Xpower network information system.',\n",
       "        'The Moscow Metro ( www.mosmetro.ru ) was the first metro system in Europe to implement smart cards together with a new type of magnetic card in .',\n",
       "        'New Delhi, July  -- Sahlberg Teppo, Kallio Timo and Mustonen Tuomas of M Real OYJ, Espoo, Finland have developed novel markings and methods of producing the same.',\n",
       "        'At . pm, the OMX Helsinki  index was . pct lower at ,..',\n",
       "        \"Elcoteq SE is Europe's largest contract electronics maker and has set up a unit in Bangalore in association with Avista Advisory of Mumbai.\",\n",
       "        'In addition to software development, the new design unit will provide for mechanical engineering and electronics design.',\n",
       "        'Finnish steel maker Rautaruukki Oyj ( Ruukki ) said on July ,  that it won a . mln euro ( $ . mln ) contract to supply and install steel superstructures for Partihallsforbindelsen bridge project in Gothenburg, western Sweden.',\n",
       "        'One of the challenges in the oil production in the North Sea is scale formation that can plug pipelines and halt production.',\n",
       "        'In addition, Cramo and Peab have signed exclusive five-year rental agreements in Finland and have extended their existing rental agreements in the Swedish market for another five years.',\n",
       "        'Finnish Aldata Solution has signed a contract of supply its G.O.L.D. system to two French retail chains.',\n",
       "        \"Kalnapilio-Tauro Grupe ( Kalnapilis-Tauras Group ), which is owned by Denmark's Royal Unibrew, raised its market share to . percent from . percent, as beer sales for the seven months jumped by . percent to . million liters.\",\n",
       "        'The company now estimates its net sales in  to increase considerably from  and its operating result to be clearly positive.',\n",
       "        \"TELE Affarsvarlden gave a `` buy'' recommendation on mobile operator Tele AB and a share price target of  crowns ( $ . - . euro ).\",\n",
       "        'The end-to-end delivery combines the competencies and services from TietoEnators Telecom & Media, Processing & Network and Digital Innovations Business Areas.',\n",
       "        'The corrected chapter is in its entirety below.',\n",
       "        \"According to Finnish financial services group Sampo's CEO, Bj+?rn Wahlroos, Danish Danske Bank's acquisition of Sampo Bank for EUR bn was the largest cash deal in Finland's economic history.\",\n",
       "        'As a result, the company has decided it will implement fixed-term temporary lay-offs.',\n",
       "        \"In the second quarter of , the group's net profit rose to EUR . m from EUR . m in April-June .\",\n",
       "        'Elsewhere, the tendency is towards more developed packaging than before.',\n",
       "        \"India's trade with Russia currently stands at four billion dollars, growing . per cent in fiscal .\",\n",
       "        \"Since inception in , Access' stable management team has remained disciplined and focused on the proactive screening, selection and management of European small to mid-market buy-out funds of funds and mandates.\",\n",
       "        \"A quick `` one-stop-shop'' to understand the company.\",\n",
       "        'Svyturys-Utenos Alus, which is controlled by the Nordic group Baltic Beverages Holding ( BBH ), posted a .-per-cent growth in beer sales for January-May to . million litres.',\n",
       "        '( ADP News ) - Dec ,  - Finnish power-supply solutions provider Efore Oyj ( OMX : EFOV ) said yesterday it opened a technology research and development ( R&D ) laboratory at Helsinki University of Technology.',\n",
       "        \"Benefon's target is to lay off temporarily of permanently up to  % of the Salo plant's staff.\",\n",
       "        \"Metso said it has won an order worth around  mln eur to supply a kraftliner board machine to China's Lee & Man Paper Co..\",\n",
       "        'The total value of the project is estimated to be over . mln euro $ . mln, of which the services will be over . mln euro $ . mln and third-party licences more than . mln euro $ . mln.',\n",
       "        'Earnings per share EPS amounted to EUR ..',\n",
       "        \"Kalnapilio-Tauro Grupe ( Kalnapilis-Tauras Group ), which is owned by Denmark's Royal Unibrew, raised its market share to . percent from . percent, as beer sales for the nine months jumped by . percent to . million liters.\",\n",
       "        'The shares shall be repurchased through public trading, for which reason the shares are repurchased otherwise than in proportion to the holdings of the shareholders.',\n",
       "        'Honkarakenne also decided yesterday to sell , of its B-series shares to key staff members for EUR . per share.',\n",
       "        'Blyk is launching first in the UK market in mid-, with other markets to follow.',\n",
       "        'Therefore, Phase III of the research will not be conducted by Abbott.',\n",
       "        \"Exel Composites' long-term growth prospects remain favourable, however.\",\n",
       "        'The Samsung Mobile Applications Store was launched in January  by Samsung Mobile Innovator, a program which enables mobile software developers to create applications for use across Samsung mobile devices.',\n",
       "        'Altogether CapMan employs approximately  people in Helsinki, Stockholm, Copenhagen, Oslo, Moscow and Luxembourg.',\n",
       "        'The segments through which the company operates are Frozen Food business, Seafoods, Vegetable Oil business, Grain Trading and Other business operations.',\n",
       "        \"UK's Sarantel to outsource part of its processes to Elcoteq plant in Estonia LONDON, Oct , BNS - The British miniature antennas maker Sarantel has signed an agreement to outsource its assembly test and supply chain processes to the plant of Elcoteq in the Estonian capital Tallinn.\",\n",
       "        \"Dolce & Gabbana has asked the European Union to declare Marimekko Corporation's `` Unikko'' floral pattern trademark invalid, in a continuing dispute between the two companies.\",\n",
       "        'Pharmaceutical market in Belgium Global Research & Data Services published recently a market analysis about the pharmaceutical markets in Belgium.',\n",
       "        'Finnish newspaper publisher Sanoma, of media group SanomaWSOY, is merging its free sheets Uutislehti  and Metro as of mid-September  to form a new free sheet to be named Metro.',\n",
       "        'Sponda is a property investment company, specialising in commercial properties in the largest cities in Finland and Russia.',\n",
       "        \"They will cover all Forest Industry's units and employees in Finland and concern temporary and permanent lay-offs.\",\n",
       "        \"Lemcon has also signed a pre-contract for the purchase of the park's entire -hectare site.\",\n",
       "        'Kesko has about , stores engaged in chain operations in the Nordic and Baltic countries, Russia, and Belarus.',\n",
       "        'Tekla will implement the renewal in software versions which will be introduced in spring .',\n",
       "        'The new name of the Sanoma Division will be Sanoma News.',\n",
       "        'By combining its existing solutions into a single platform, Comptel said that it has reduced the cost of deployment.'],\n",
       "       dtype='<U286'),\n",
       " 'document_term_matrix': <500x63 sparse matrix of type '<class 'numpy.int64'>'\n",
       " \twith 1363 stored elements in Compressed Sparse Row format>,\n",
       " 'vocab': array(['according', 'agreement', 'baltic', 'based', 'board', 'business',\n",
       "        'capital', 'companies', 'company', 'compared', 'corporation',\n",
       "        'customers', 'eur', 'eurm', 'euro', 'financial', 'finland',\n",
       "        'finnish', 'group', 'growth', 'hel', 'helsinki', 'increased',\n",
       "        'investment', 'june', 'loss', 'management', 'market', 'million',\n",
       "        'mln', 'mn', 'net', 'new', 'october', 'omx', 'operating',\n",
       "        'operations', 'oyj', 'paper', 'percent', 'period', 'plant',\n",
       "        'products', 'profit', 'project', 'quarter', 'real', 'result',\n",
       "        'said', 'sales', 'september', 'services', 'share', 'shares',\n",
       "        'solutions', 'stake', 'stock', 'technology', 'today', 'total',\n",
       "        'unit', 'value', 'year'], dtype=object),\n",
       " 'document_topic_matrix': array([[ 0.8519741 ,  1.1572398 , -1.4472849 , ...,  1.2434303 ,\n",
       "         -0.28053796,  1.2640749 ],\n",
       "        [ 0.7819379 ,  1.0526922 , -0.80017465, ..., -1.4209288 ,\n",
       "         -0.5054484 , -1.0297506 ],\n",
       "        [ 0.85019726, -0.89575714,  0.6883012 , ...,  0.4770015 ,\n",
       "         -0.29679182,  0.1449137 ],\n",
       "        ...,\n",
       "        [-0.3904976 , -0.23917603,  0.6775524 , ..., -0.5715876 ,\n",
       "          1.6497965 ,  1.0157808 ],\n",
       "        [-0.17388795, -1.1053252 ,  0.1969773 , ...,  1.4462842 ,\n",
       "         -0.18927121,  0.60665363],\n",
       "        [ 0.00753211,  0.5820429 , -0.75193554, ..., -0.3365613 ,\n",
       "          0.23150249,  0.5642362 ]], dtype=float32),\n",
       " 'document_representation': array([[ 0.04786268,  0.03646204, -0.05826033, ..., -0.00060288,\n",
       "         -0.01725989,  0.04466618],\n",
       "        [-0.01543932, -0.04392773, -0.10602259, ..., -0.04276393,\n",
       "          0.06054404,  0.01015362],\n",
       "        [-0.00706742,  0.01633941,  0.04995259, ...,  0.03114064,\n",
       "         -0.05933452,  0.08278643],\n",
       "        ...,\n",
       "        [-0.0779511 ,  0.03454863,  0.00736345, ..., -0.11868607,\n",
       "          0.05662378,  0.0144671 ],\n",
       "        [-0.01502907, -0.06820893,  0.00362824, ..., -0.01323772,\n",
       "          0.05349514,  0.03629895],\n",
       "        [ 0.06317002, -0.01266977,  0.01900575, ..., -0.07430796,\n",
       "          0.03648668,  0.05090206]], dtype=float32),\n",
       " 'topic_term_matrix': array([[-2.03253075e-01, -1.15949309e+00, -6.32666200e-02,\n",
       "         -3.21817279e-01,  8.16050172e-03, -1.94476470e-01,\n",
       "         -7.40379274e-01, -3.04673821e-01,  1.22682735e-01,\n",
       "          1.10855484e+00, -1.89720258e-01, -3.22479844e-01,\n",
       "         -1.36723578e+00, -2.40928680e-01, -1.20791769e+00,\n",
       "         -9.68056917e-01, -5.08567095e-01, -4.23286438e-01,\n",
       "         -1.14906818e-01,  1.08645630e+00,  6.40731871e-01,\n",
       "         -5.97779751e-01,  8.07846129e-01, -3.86575222e-01,\n",
       "         -1.66571200e-01,  1.63255715e+00, -1.72986493e-01,\n",
       "          5.74783206e-01, -4.65927780e-01, -6.59131289e-01,\n",
       "         -2.52725124e-01, -4.91096795e-01, -2.23689646e-01,\n",
       "         -1.47212297e-01,  3.84565771e-01,  2.47250810e-01,\n",
       "          3.03222537e-02,  4.65630412e-01, -3.75174314e-01,\n",
       "          1.15953732e+00, -9.40644220e-02,  1.05233288e+00,\n",
       "          8.49773467e-01,  1.18175209e+00, -5.17270982e-01,\n",
       "          6.50138974e-01,  3.06653112e-01,  1.47180259e-02,\n",
       "          5.25015235e-01,  1.47290897e+00,  1.54328600e-01,\n",
       "         -8.51999044e-01,  1.02325626e-01,  1.05616426e+00,\n",
       "          1.29936904e-01,  2.61135101e-01,  1.20684230e+00,\n",
       "         -7.23426819e-01, -9.08413306e-02,  2.31575370e-01,\n",
       "          2.13459134e-01,  8.92905951e-01,  4.25260037e-01],\n",
       "        [-4.01205756e-02, -4.02098566e-01, -3.55096996e-01,\n",
       "          8.17379504e-02, -3.66320878e-01,  4.09950078e-01,\n",
       "         -9.74735081e-01,  2.69852638e-01,  1.89281613e-01,\n",
       "          6.90650463e-01, -3.53040546e-01,  4.72694993e-01,\n",
       "          1.18852079e+00,  1.99375558e+00,  6.43304467e-01,\n",
       "          1.86955661e-01,  2.35859454e-01,  6.10961437e-01,\n",
       "         -5.66911280e-01, -2.01525390e-01,  6.54268086e-01,\n",
       "          1.99993104e-01,  1.09901845e-01, -2.80097961e-01,\n",
       "          1.27136663e-01,  1.53214049e+00,  5.72391570e-01,\n",
       "         -5.64089000e-01,  3.84653300e-01,  5.98720193e-01,\n",
       "          2.54802763e-01,  9.85222936e-01, -4.63366508e-04,\n",
       "          5.57224274e-01,  9.44938898e-01,  6.74709201e-01,\n",
       "          1.78370267e-01,  3.15284228e+00,  1.87598035e-01,\n",
       "         -7.84854054e-01, -3.20400298e-02, -4.78108585e-01,\n",
       "          1.82711035e-01,  1.25250149e+00,  7.56384373e-01,\n",
       "         -5.52279837e-02,  7.08316863e-02,  6.26411855e-01,\n",
       "          3.93178314e-01,  6.66056395e-01,  9.15393233e-02,\n",
       "          7.37940967e-01, -1.43048406e+00, -2.20710802e+00,\n",
       "         -4.17275131e-02, -6.90200150e-01, -1.81399107e+00,\n",
       "          1.39429426e+00,  6.07052445e-01, -3.17915261e-01,\n",
       "         -4.37644124e-01, -3.34607542e-01,  3.45105827e-01],\n",
       "        [ 5.64008802e-02, -2.00091884e-01,  2.85362244e+00,\n",
       "         -2.68133253e-01, -6.45424783e-01, -1.26575911e+00,\n",
       "         -6.57086611e-01, -9.42463696e-01, -1.03257966e+00,\n",
       "         -3.70869219e-01, -1.55316567e+00, -2.96651810e-01,\n",
       "         -6.35778666e-01, -1.75362200e-01, -2.02906430e-01,\n",
       "         -1.29406989e+00,  3.47101283e+00,  2.86554432e+00,\n",
       "         -1.03203423e-01,  6.89688563e-01, -3.18321228e-01,\n",
       "          2.93272018e+00, -1.00878447e-01, -3.38955909e-01,\n",
       "          1.15681100e+00, -6.64058864e-01, -5.14573336e-01,\n",
       "         -1.62943333e-01, -2.27282256e-01, -1.02002335e+00,\n",
       "          6.71948075e-01, -1.83324146e+00, -4.70260531e-02,\n",
       "          8.90495837e-01, -2.84988642e-01, -5.56931317e-01,\n",
       "         -1.11574030e+00,  2.05250487e-01, -8.31513226e-01,\n",
       "         -1.48389697e-01,  2.47209564e-01,  4.80896086e-01,\n",
       "         -8.99824142e-01, -1.13160348e+00, -9.59430709e-02,\n",
       "         -5.25538146e-01,  1.96553886e-01, -3.10145795e-01,\n",
       "         -4.35129590e-02, -8.10940027e-01,  1.09878147e+00,\n",
       "         -8.13829660e-01, -5.39662659e-01, -6.78781867e-01,\n",
       "         -2.79331058e-01, -9.80739295e-03, -1.16735411e+00,\n",
       "         -1.07044995e+00,  3.83868694e-01, -1.00434184e+00,\n",
       "         -7.64565825e-01, -7.53934860e-01,  4.89775598e-01],\n",
       "        [-1.87397346e-01, -5.04312098e-01,  3.29663008e-02,\n",
       "          6.23503774e-02, -1.23044215e-01,  9.09188747e-01,\n",
       "         -3.97345334e-01,  1.23043537e+00,  2.96822429e-01,\n",
       "         -2.17907578e-02, -3.85759771e-01,  2.86544752e+00,\n",
       "         -6.16425633e-01,  1.94088221e-01, -5.87349385e-02,\n",
       "         -5.91518998e-01, -3.08445245e-01, -5.45267582e-01,\n",
       "          3.14453006e-01, -7.05521643e-01,  3.57278585e-01,\n",
       "         -7.57452697e-02, -3.12374383e-01, -1.07167554e+00,\n",
       "          7.58703172e-01,  2.43273824e-01, -1.76269323e-01,\n",
       "          2.10780740e+00, -4.81060386e-01, -7.09762871e-02,\n",
       "          8.13025683e-02,  2.69737154e-01, -9.45484042e-02,\n",
       "          9.41021919e-01, -5.37180424e-01, -8.94878983e-01,\n",
       "         -6.98785722e-01, -1.33854404e-01, -1.92422479e-01,\n",
       "          7.49180555e-01, -6.83453083e-02, -7.87455797e-01,\n",
       "          8.71782303e-01, -2.33895421e-01, -1.13775218e+00,\n",
       "          1.03457697e-01,  1.59813762e-02, -5.66868365e-01,\n",
       "         -1.12928972e-01,  2.26170659e+00,  5.85250080e-01,\n",
       "          8.14155340e-01,  7.49950826e-01,  8.47936332e-01,\n",
       "          5.13878942e-01, -3.83863837e-01,  9.07905459e-01,\n",
       "         -6.57731295e-01,  1.77855119e-02, -4.57116663e-01,\n",
       "         -1.19835484e+00, -3.63190919e-01, -4.04298633e-01],\n",
       "        [ 7.85710692e-01,  7.00543821e-01,  9.78776574e-01,\n",
       "          5.15571594e-01,  1.19031656e+00, -2.88561940e-01,\n",
       "          6.68123603e-01, -7.53679812e-01, -6.59591734e-01,\n",
       "          7.00859070e-01, -2.93281555e-01, -4.27819014e-01,\n",
       "          1.21259511e+00,  9.71658111e-01,  1.61252546e+00,\n",
       "         -2.75016427e-02,  7.17709184e-01,  1.28923726e+00,\n",
       "          3.06339979e-01,  5.45346916e-01,  6.26197696e-01,\n",
       "          6.12081707e-01,  1.27589798e+00,  6.41244352e-01,\n",
       "         -1.43592119e-01, -9.43791807e-01, -1.40037048e+00,\n",
       "          8.17976356e-01,  1.18793631e+00,  1.08269823e+00,\n",
       "          8.08863401e-01,  4.59528655e-01,  1.21189022e+00,\n",
       "         -2.10542113e-01,  6.24408722e-01, -9.64977384e-01,\n",
       "         -7.68057287e-01,  3.70604277e-01,  1.24758244e+00,\n",
       "          1.13312542e+00,  2.13590547e-01,  1.09727621e+00,\n",
       "          1.16428876e+00,  5.05380869e-01,  6.79383159e-01,\n",
       "          6.60140395e-01,  9.59888101e-01,  8.78762007e-01,\n",
       "          4.10622418e-01,  1.97229832e-01,  3.02442491e-01,\n",
       "         -2.58405656e-01,  1.01682591e+00,  5.11554241e-01,\n",
       "          3.27148438e-01,  4.34591472e-01,  1.08079135e+00,\n",
       "          5.70172548e-01,  6.94476962e-01,  1.13091540e+00,\n",
       "          1.37344372e+00,  1.77278471e+00,  6.64519012e-01],\n",
       "        [ 1.90730870e-01, -3.76960933e-01, -1.04410601e+00,\n",
       "          6.17427111e-01, -1.10277772e+00,  9.72750545e-01,\n",
       "         -1.90901250e-01,  3.74169976e-01,  3.79987121e-01,\n",
       "         -1.08608328e-01,  2.45654464e-01,  9.98229384e-01,\n",
       "         -2.40799046e+00, -1.42426491e+00, -2.01523995e+00,\n",
       "          3.98529232e-01, -9.46542501e-01, -9.83107805e-01,\n",
       "         -4.19764519e-01,  3.05194902e+00, -6.78860307e-01,\n",
       "         -9.35227573e-01,  1.08712816e+00,  1.30309796e+00,\n",
       "         -7.17529774e-01, -4.63868558e-01,  6.19614720e-01,\n",
       "          8.20402741e-01, -4.73218322e-01, -6.09421492e-01,\n",
       "         -8.07633877e-01, -1.47869289e-01, -4.79026198e-01,\n",
       "         -1.04273510e+00, -5.55327833e-01, -2.70290226e-01,\n",
       "         -1.05777413e-01, -3.82731915e-01, -1.66424501e+00,\n",
       "          1.25264525e-02, -6.29703104e-01, -3.97578835e-01,\n",
       "         -3.49182039e-02,  1.60568666e+00,  6.05059683e-01,\n",
       "         -9.82097983e-01, -3.17684382e-01,  2.84480363e-01,\n",
       "          2.20574021e-01,  1.16856396e+00, -6.54993594e-01,\n",
       "          3.94233167e-01, -3.74207824e-01, -5.30321360e-01,\n",
       "         -9.84638691e-01, -5.14330268e-01, -8.52710247e-01,\n",
       "          9.69324172e-01, -5.70393622e-01, -9.44404125e-01,\n",
       "         -8.81660938e-01, -6.69795990e-01, -6.01260066e-02],\n",
       "        [-5.16045332e-01, -2.20443904e-02, -4.11801159e-01,\n",
       "         -8.52694511e-01, -5.70560217e-01, -4.07389812e-02,\n",
       "          1.09247816e+00,  1.82063460e-01,  2.70860463e-01,\n",
       "         -7.20345259e-01,  3.46219420e-01, -1.47268355e-01,\n",
       "          8.12002063e-01,  3.06925833e-01,  6.20737731e-01,\n",
       "          6.56877875e-01, -2.82165706e-01, -8.77678245e-02,\n",
       "         -4.02384549e-01, -3.99912924e-01, -4.75030720e-01,\n",
       "         -2.16377780e-01,  2.78927535e-02,  1.06971943e+00,\n",
       "         -1.11511454e-01,  2.79394031e-01, -2.96061188e-01,\n",
       "          6.31712139e-01,  1.99869305e-01, -6.47948682e-02,\n",
       "         -7.45892167e-01, -8.29541922e-01, -5.16871035e-01,\n",
       "         -4.98595119e-01, -1.42181173e-01, -9.11903739e-01,\n",
       "         -7.18574405e-01,  2.26057589e-01, -1.59310031e+00,\n",
       "         -2.54573524e-01, -5.70144951e-01, -1.51228368e+00,\n",
       "         -8.19386959e-01,  1.34747934e+00, -7.73603439e-01,\n",
       "         -8.45235944e-01, -5.43204904e-01, -2.47421518e-01,\n",
       "         -4.89528209e-01,  4.16006565e-01, -5.45850039e-01,\n",
       "         -1.12286997e+00,  6.60272181e-01,  1.22318518e+00,\n",
       "         -1.07349777e+00,  5.02237976e-01,  5.43887615e-01,\n",
       "         -1.89019716e+00, -3.79042029e-01,  2.40910426e-01,\n",
       "         -1.07910037e+00, -1.93682015e-02, -1.71119437e-01],\n",
       "        [ 1.35831976e+00,  9.17587757e-01,  1.20962217e-01,\n",
       "          1.58609486e+00,  1.49128783e+00,  2.08238885e-01,\n",
       "          1.58764946e+00,  8.05393219e-01,  1.01066709e+00,\n",
       "          1.50656176e+00,  1.17887461e+00,  4.01606381e-01,\n",
       "         -4.38612700e-01,  6.15005195e-03, -9.89848733e-01,\n",
       "          1.05478394e+00,  1.38726592e-01,  5.88706017e-01,\n",
       "          1.35456622e+00,  2.48685062e-01,  1.86200798e+00,\n",
       "          9.19460654e-01,  1.82860166e-01,  1.09316170e+00,\n",
       "          4.45511699e-01,  2.13676572e+00,  8.93541992e-01,\n",
       "          4.28459466e-01,  2.26430044e-01,  7.44941294e-01,\n",
       "          1.70676067e-01,  5.96723914e-01,  1.54961109e+00,\n",
       "          5.83825111e-01,  2.35091066e+00,  9.50562298e-01,\n",
       "          7.01821923e-01,  2.10964561e+00,  9.76735115e-01,\n",
       "          8.77380371e-01,  9.33172226e-01,  7.25753129e-01,\n",
       "          1.54939979e-01,  1.13896775e+00,  1.07931697e+00,\n",
       "          5.09522438e-01,  1.52355099e+00,  1.55114627e+00,\n",
       "          2.07597733e+00, -5.24822809e-02,  8.06816339e-01,\n",
       "          3.81558090e-01,  1.73868823e+00,  1.83041632e+00,\n",
       "          2.66257137e-01,  1.76916718e+00,  1.45595765e+00,\n",
       "          9.43903863e-01,  1.68899512e+00,  2.05786169e-01,\n",
       "         -2.23902315e-01,  8.77232373e-01,  9.84529853e-01],\n",
       "        [ 3.08726896e-02,  8.88673544e-01, -1.60282874e+00,\n",
       "         -1.08299255e-02,  8.85033786e-01, -2.41690487e-01,\n",
       "         -1.04033756e+00, -1.03223372e+00, -4.44920599e-01,\n",
       "         -1.05143738e+00, -7.10036278e-01, -2.79473186e-01,\n",
       "         -2.86969185e-01,  8.91191006e-01, -6.18142009e-01,\n",
       "         -1.11829948e+00, -2.84206462e+00, -2.00854588e+00,\n",
       "          6.17980659e-02, -2.00062484e-01,  4.19608206e-01,\n",
       "         -2.54124641e+00,  1.08626676e+00, -5.43397725e-01,\n",
       "          2.04931736e+00,  1.20659471e-02, -9.23866689e-01,\n",
       "          2.40745798e-01,  2.48724997e-01,  1.04654685e-01,\n",
       "         -9.25756156e-01, -1.13978899e+00,  1.10179830e+00,\n",
       "          1.54883707e+00,  8.36995244e-01,  2.68423229e-01,\n",
       "         -7.09606469e-01,  8.68252933e-01, -7.00350106e-02,\n",
       "         -3.34594965e-01, -2.73420453e-01,  5.11426032e-01,\n",
       "          3.08669806e-01,  4.07046080e-02,  7.22263873e-01,\n",
       "          4.56410944e-02,  6.20839119e-01,  1.62379622e-01,\n",
       "          5.50519943e-01,  5.10897338e-01,  1.23384702e+00,\n",
       "         -5.94594896e-01, -1.81719124e-01, -5.61513662e-01,\n",
       "          5.82263112e-01,  8.38745415e-01, -1.93149745e-02,\n",
       "         -8.29028726e-01,  1.00888991e+00,  4.15791810e-01,\n",
       "         -4.59017932e-01, -4.12865579e-02,  8.94324183e-01],\n",
       "        [ 1.46370625e+00,  4.86412108e-01,  7.31874108e-01,\n",
       "          2.88558125e-01, -2.21274458e-02, -1.27112436e+00,\n",
       "         -2.68854439e-01, -2.24521613e+00, -2.62268305e+00,\n",
       "          1.59520721e+00, -2.34021711e+00, -3.02403063e-01,\n",
       "          1.72651815e+00,  1.01535892e+00,  1.69072413e+00,\n",
       "          3.71467233e-01,  7.26508856e-01,  8.75330925e-01,\n",
       "          3.20528746e-01,  1.10819983e+00,  1.05610824e+00,\n",
       "          5.76554239e-01,  1.46515691e+00,  1.66057944e-02,\n",
       "          2.55097151e+00,  6.79568529e-01, -7.71904230e-01,\n",
       "         -3.35967839e-01,  6.01913929e-01,  6.14095569e-01,\n",
       "          7.61234939e-01, -6.22525439e-02,  8.92605662e-01,\n",
       "          2.42345428e+00,  8.08070242e-01,  2.88352489e-01,\n",
       "         -1.67871505e-01,  1.77782282e-01,  1.32791471e+00,\n",
       "          1.13849235e+00,  1.96769547e+00, -3.86518240e-03,\n",
       "         -1.15725446e+00, -5.75184226e-01,  5.55542111e-01,\n",
       "          1.30141747e+00,  1.29566014e+00,  1.61833358e+00,\n",
       "          1.21005559e+00, -3.42164099e-01,  2.44283485e+00,\n",
       "         -2.72633940e-01, -2.77074188e-01, -1.44782209e+00,\n",
       "          1.01013589e+00, -3.16410601e-01, -7.82282114e-01,\n",
       "          7.39854336e-01,  1.99451995e+00,  5.94245076e-01,\n",
       "          4.93455589e-01,  6.95351064e-01,  1.81774759e+00]], dtype=float32),\n",
       " 'transform': <bound method SemanticSignalSeparation.transform of SemanticSignalSeparation(encoder='all-MiniLM-L12-v2', n_components=10,\n",
       "                          vectorizer=CountVectorizer(min_df=10,\n",
       "                                                     stop_words='english'))>,\n",
       " 'topic_names': ['0_loss_sales_stock_profit',\n",
       "  '1_oyj_eurm_loss_technology',\n",
       "  '2_finland_helsinki_finnish_baltic',\n",
       "  '3_customers_sales_market_companies',\n",
       "  '4_value_euro_unit_finnish',\n",
       "  '5_growth_profit_investment_sales',\n",
       "  '6_profit_shares_capital_investment',\n",
       "  '7_omx_loss_oyj_said',\n",
       "  '8_june_october_september_new',\n",
       "  '9_june_september_october_today']}"
      ]
     },
     "execution_count": 166,
     "metadata": {},
     "output_type": "execute_result"
    }
   ],
   "source": [
    "from turftopic import SemanticSignalSeparation\n",
    "from topicwizard import figures\n",
    "\n",
    "model = SemanticSignalSeparation(10, encoder=\"all-MiniLM-L12-v2\")\n",
    "topic_data = model.prepare_topic_data(target_ds)\n",
    "topic_data"
   ]
  },
  {
   "cell_type": "code",
   "execution_count": 167,
   "id": "af5a937b-9ff3-43ae-82c7-4de1fba44ab1",
   "metadata": {},
   "outputs": [
    {
     "data": {
      "text/plain": [
       "('0_loss_sales_stock_profit', '1_oyj_eurm_loss_technology')"
      ]
     },
     "execution_count": 167,
     "metadata": {},
     "output_type": "execute_result"
    }
   ],
   "source": [
    "xaxis = topic_data[\"topic_names\"][0]\n",
    "yaxis = topic_data[\"topic_names\"][1]\n",
    "xaxis, yaxis"
   ]
  },
  {
   "cell_type": "code",
   "execution_count": 168,
   "id": "e4108adf-aecf-49ac-aee1-492f4720ff99",
   "metadata": {},
   "outputs": [
    {
     "data": {
      "application/vnd.plotly.v1+json": {
       "config": {
        "plotlyServerURL": "https://plot.ly"
       },
       "data": [
        {
         "customdata": [
          [
           "according",
           ""
          ],
          [
           "compared",
           ""
          ],
          [
           "eur",
           "eur"
          ],
          [
           "euro",
           ""
          ],
          [
           "increased",
           ""
          ],
          [
           "june",
           ""
          ],
          [
           "october",
           ""
          ],
          [
           "paper",
           ""
          ],
          [
           "period",
           ""
          ],
          [
           "quarter",
           ""
          ],
          [
           "result",
           ""
          ],
          [
           "september",
           ""
          ],
          [
           "solutions",
           ""
          ],
          [
           "today",
           ""
          ],
          [
           "year",
           ""
          ]
         ],
         "hovertemplate": "dominant_topic=9_june_september_october_today<br>frequency=%{marker.size}<br>word=%{customdata[0]}<extra></extra>",
         "legendgroup": "9_june_september_october_today",
         "marker": {
          "color": "#636efa",
          "size": [
           18,
           11,
           129,
           21,
           11,
           10,
           12,
           10,
           29,
           18,
           10,
           12,
           15,
           15,
           39
          ],
          "sizemode": "area",
          "sizeref": 0.0129,
          "symbol": "circle"
         },
         "mode": "markers+text",
         "name": "9_june_september_october_today",
         "orientation": "v",
         "showlegend": true,
         "text": [
          "",
          "",
          "eur",
          "",
          "",
          "",
          "",
          "",
          "",
          "",
          "",
          "",
          "",
          "",
          ""
         ],
         "type": "scatter",
         "x": [
          -0.20325308,
          1.1085548,
          -1.3672358,
          -1.2079177,
          0.8078461,
          -0.1665712,
          -0.1472123,
          -0.3751743,
          -0.09406442,
          0.650139,
          0.014718026,
          0.1543286,
          0.1299369,
          -0.09084133,
          0.42526004
         ],
         "xaxis": "x",
         "y": [
          -0.040120576,
          0.69065046,
          1.1885208,
          0.64330447,
          0.109901845,
          0.12713666,
          0.5572243,
          0.18759803,
          -0.03204003,
          -0.055227984,
          0.62641186,
          0.09153932,
          -0.041727513,
          0.60705245,
          0.34510583
         ],
         "yaxis": "y"
        },
        {
         "customdata": [
          [
           "agreement",
           ""
          ],
          [
           "based",
           ""
          ],
          [
           "board",
           ""
          ],
          [
           "capital",
           ""
          ],
          [
           "company",
           "company"
          ],
          [
           "corporation",
           ""
          ],
          [
           "financial",
           ""
          ],
          [
           "group",
           ""
          ],
          [
           "hel",
           ""
          ],
          [
           "loss",
           ""
          ],
          [
           "management",
           ""
          ],
          [
           "new",
           ""
          ],
          [
           "omx",
           ""
          ],
          [
           "operating",
           ""
          ],
          [
           "operations",
           ""
          ],
          [
           "project",
           ""
          ],
          [
           "real",
           ""
          ],
          [
           "said",
           ""
          ],
          [
           "share",
           ""
          ],
          [
           "shares",
           ""
          ],
          [
           "stake",
           ""
          ],
          [
           "stock",
           ""
          ]
         ],
         "hovertemplate": "dominant_topic=7_omx_loss_oyj_said<br>frequency=%{marker.size}<br>word=%{customdata[0]}<extra></extra>",
         "legendgroup": "7_omx_loss_oyj_said",
         "marker": {
          "color": "#EF553B",
          "size": [
           12,
           12,
           18,
           12,
           91,
           12,
           21,
           42,
           20,
           14,
           15,
           31,
           14,
           18,
           22,
           10,
           10,
           60,
           26,
           22,
           10,
           10
          ],
          "sizemode": "area",
          "sizeref": 0.0129,
          "symbol": "circle"
         },
         "mode": "markers+text",
         "name": "7_omx_loss_oyj_said",
         "orientation": "v",
         "showlegend": true,
         "text": [
          "",
          "",
          "",
          "",
          "company",
          "",
          "",
          "",
          "",
          "",
          "",
          "",
          "",
          "",
          "",
          "",
          "",
          "",
          "",
          "",
          "",
          ""
         ],
         "type": "scatter",
         "x": [
          -1.1594931,
          -0.32181728,
          0.008160502,
          -0.7403793,
          0.122682735,
          -0.18972026,
          -0.9680569,
          -0.11490682,
          0.6407319,
          1.6325572,
          -0.17298649,
          -0.22368965,
          0.38456577,
          0.24725081,
          0.030322254,
          -0.517271,
          0.3066531,
          0.52501523,
          0.102325626,
          1.0561643,
          0.2611351,
          1.2068423
         ],
         "xaxis": "x",
         "y": [
          -0.40209857,
          0.08173795,
          -0.36632088,
          -0.9747351,
          0.18928161,
          -0.35304055,
          0.18695566,
          -0.5669113,
          0.6542681,
          1.5321405,
          0.57239157,
          -0.0004633665,
          0.9449389,
          0.6747092,
          0.17837027,
          0.7563844,
          0.070831686,
          0.3931783,
          -1.430484,
          -2.207108,
          -0.69020015,
          -1.8139911
         ],
         "yaxis": "y"
        },
        {
         "customdata": [
          [
           "baltic",
           ""
          ],
          [
           "finland",
           ""
          ],
          [
           "finnish",
           ""
          ],
          [
           "helsinki",
           ""
          ]
         ],
         "hovertemplate": "dominant_topic=2_finland_helsinki_finnish_baltic<br>frequency=%{marker.size}<br>word=%{customdata[0]}<extra></extra>",
         "legendgroup": "2_finland_helsinki_finnish_baltic",
         "marker": {
          "color": "#00cc96",
          "size": [
           10,
           40,
           62,
           28
          ],
          "sizemode": "area",
          "sizeref": 0.0129,
          "symbol": "circle"
         },
         "mode": "markers+text",
         "name": "2_finland_helsinki_finnish_baltic",
         "orientation": "v",
         "showlegend": true,
         "text": [
          "",
          "",
          "",
          ""
         ],
         "type": "scatter",
         "x": [
          -0.06326662,
          -0.5085671,
          -0.42328644,
          -0.59777975
         ],
         "xaxis": "x",
         "y": [
          -0.355097,
          0.23585945,
          0.61096144,
          0.1999931
         ],
         "yaxis": "y"
        },
        {
         "customdata": [
          [
           "business",
           ""
          ],
          [
           "growth",
           ""
          ],
          [
           "investment",
           ""
          ],
          [
           "profit",
           ""
          ]
         ],
         "hovertemplate": "dominant_topic=5_growth_profit_investment_sales<br>frequency=%{marker.size}<br>word=%{customdata[0]}<extra></extra>",
         "legendgroup": "5_growth_profit_investment_sales",
         "marker": {
          "color": "#ab63fa",
          "size": [
           36,
           12,
           13,
           37
          ],
          "sizemode": "area",
          "sizeref": 0.0129,
          "symbol": "circle"
         },
         "mode": "markers+text",
         "name": "5_growth_profit_investment_sales",
         "orientation": "v",
         "showlegend": true,
         "text": [
          "",
          "",
          "",
          ""
         ],
         "type": "scatter",
         "x": [
          -0.19447647,
          1.0864563,
          -0.38657522,
          1.1817521
         ],
         "xaxis": "x",
         "y": [
          0.40995008,
          -0.20152539,
          -0.28009796,
          1.2525015
         ],
         "yaxis": "y"
        },
        {
         "customdata": [
          [
           "companies",
           ""
          ],
          [
           "customers",
           ""
          ],
          [
           "market",
           ""
          ],
          [
           "sales",
           ""
          ],
          [
           "services",
           ""
          ]
         ],
         "hovertemplate": "dominant_topic=3_customers_sales_market_companies<br>frequency=%{marker.size}<br>word=%{customdata[0]}<extra></extra>",
         "legendgroup": "3_customers_sales_market_companies",
         "marker": {
          "color": "#FFA15A",
          "size": [
           10,
           11,
           29,
           48,
           19
          ],
          "sizemode": "area",
          "sizeref": 0.0129,
          "symbol": "circle"
         },
         "mode": "markers+text",
         "name": "3_customers_sales_market_companies",
         "orientation": "v",
         "showlegend": true,
         "text": [
          "",
          "",
          "",
          "",
          ""
         ],
         "type": "scatter",
         "x": [
          -0.30467382,
          -0.32247984,
          0.5747832,
          1.472909,
          -0.85199904
         ],
         "xaxis": "x",
         "y": [
          0.26985264,
          0.472695,
          -0.564089,
          0.6660564,
          0.73794097
         ],
         "yaxis": "y"
        },
        {
         "customdata": [
          [
           "eurm",
           ""
          ],
          [
           "net",
           ""
          ],
          [
           "oyj",
           ""
          ],
          [
           "technology",
           ""
          ]
         ],
         "hovertemplate": "dominant_topic=1_oyj_eurm_loss_technology<br>frequency=%{marker.size}<br>word=%{customdata[0]}<extra></extra>",
         "legendgroup": "1_oyj_eurm_loss_technology",
         "marker": {
          "color": "#19d3f3",
          "size": [
           12,
           48,
           30,
           12
          ],
          "sizemode": "area",
          "sizeref": 0.0129,
          "symbol": "circle"
         },
         "mode": "markers+text",
         "name": "1_oyj_eurm_loss_technology",
         "orientation": "v",
         "showlegend": true,
         "text": [
          "",
          "",
          "",
          ""
         ],
         "type": "scatter",
         "x": [
          -0.24092868,
          -0.4910968,
          0.4656304,
          -0.7234268
         ],
         "xaxis": "x",
         "y": [
          1.9937556,
          0.98522294,
          3.1528423,
          1.3942943
         ],
         "yaxis": "y"
        },
        {
         "customdata": [
          [
           "million",
           ""
          ],
          [
           "mln",
           ""
          ],
          [
           "mn",
           ""
          ],
          [
           "plant",
           ""
          ],
          [
           "products",
           ""
          ],
          [
           "total",
           ""
          ],
          [
           "unit",
           ""
          ],
          [
           "value",
           ""
          ]
         ],
         "hovertemplate": "dominant_topic=4_value_euro_unit_finnish<br>frequency=%{marker.size}<br>word=%{customdata[0]}<extra></extra>",
         "legendgroup": "4_value_euro_unit_finnish",
         "marker": {
          "color": "#FF6692",
          "size": [
           45,
           34,
           51,
           14,
           12,
           16,
           19,
           10
          ],
          "sizemode": "area",
          "sizeref": 0.0129,
          "symbol": "circle"
         },
         "mode": "markers+text",
         "name": "4_value_euro_unit_finnish",
         "orientation": "v",
         "showlegend": true,
         "text": [
          "",
          "",
          "",
          "",
          "",
          "",
          "",
          ""
         ],
         "type": "scatter",
         "x": [
          -0.46592778,
          -0.6591313,
          -0.25272512,
          1.0523329,
          0.84977347,
          0.23157537,
          0.21345913,
          0.89290595
         ],
         "xaxis": "x",
         "y": [
          0.3846533,
          0.5987202,
          0.25480276,
          -0.47810858,
          0.18271104,
          -0.31791526,
          -0.43764412,
          -0.33460754
         ],
         "yaxis": "y"
        },
        {
         "customdata": [
          [
           "percent",
           ""
          ]
         ],
         "hovertemplate": "dominant_topic=0_loss_sales_stock_profit<br>frequency=%{marker.size}<br>word=%{customdata[0]}<extra></extra>",
         "legendgroup": "0_loss_sales_stock_profit",
         "marker": {
          "color": "#B6E880",
          "size": [
           21
          ],
          "sizemode": "area",
          "sizeref": 0.0129,
          "symbol": "circle"
         },
         "mode": "markers+text",
         "name": "0_loss_sales_stock_profit",
         "orientation": "v",
         "showlegend": true,
         "text": [
          ""
         ],
         "type": "scatter",
         "x": [
          1.1595373
         ],
         "xaxis": "x",
         "y": [
          -0.78485405
         ],
         "yaxis": "y"
        }
       ],
       "layout": {
        "autosize": true,
        "legend": {
         "itemsizing": "constant",
         "title": {
          "text": "dominant_topic"
         },
         "tracegroupgap": 0
        },
        "margin": {
         "t": 60
        },
        "template": {
         "data": {
          "bar": [
           {
            "error_x": {
             "color": "#2a3f5f"
            },
            "error_y": {
             "color": "#2a3f5f"
            },
            "marker": {
             "line": {
              "color": "white",
              "width": 0.5
             },
             "pattern": {
              "fillmode": "overlay",
              "size": 10,
              "solidity": 0.2
             }
            },
            "type": "bar"
           }
          ],
          "barpolar": [
           {
            "marker": {
             "line": {
              "color": "white",
              "width": 0.5
             },
             "pattern": {
              "fillmode": "overlay",
              "size": 10,
              "solidity": 0.2
             }
            },
            "type": "barpolar"
           }
          ],
          "carpet": [
           {
            "aaxis": {
             "endlinecolor": "#2a3f5f",
             "gridcolor": "#C8D4E3",
             "linecolor": "#C8D4E3",
             "minorgridcolor": "#C8D4E3",
             "startlinecolor": "#2a3f5f"
            },
            "baxis": {
             "endlinecolor": "#2a3f5f",
             "gridcolor": "#C8D4E3",
             "linecolor": "#C8D4E3",
             "minorgridcolor": "#C8D4E3",
             "startlinecolor": "#2a3f5f"
            },
            "type": "carpet"
           }
          ],
          "choropleth": [
           {
            "colorbar": {
             "outlinewidth": 0,
             "ticks": ""
            },
            "type": "choropleth"
           }
          ],
          "contour": [
           {
            "colorbar": {
             "outlinewidth": 0,
             "ticks": ""
            },
            "colorscale": [
             [
              0,
              "#0d0887"
             ],
             [
              0.1111111111111111,
              "#46039f"
             ],
             [
              0.2222222222222222,
              "#7201a8"
             ],
             [
              0.3333333333333333,
              "#9c179e"
             ],
             [
              0.4444444444444444,
              "#bd3786"
             ],
             [
              0.5555555555555556,
              "#d8576b"
             ],
             [
              0.6666666666666666,
              "#ed7953"
             ],
             [
              0.7777777777777778,
              "#fb9f3a"
             ],
             [
              0.8888888888888888,
              "#fdca26"
             ],
             [
              1,
              "#f0f921"
             ]
            ],
            "type": "contour"
           }
          ],
          "contourcarpet": [
           {
            "colorbar": {
             "outlinewidth": 0,
             "ticks": ""
            },
            "type": "contourcarpet"
           }
          ],
          "heatmap": [
           {
            "colorbar": {
             "outlinewidth": 0,
             "ticks": ""
            },
            "colorscale": [
             [
              0,
              "#0d0887"
             ],
             [
              0.1111111111111111,
              "#46039f"
             ],
             [
              0.2222222222222222,
              "#7201a8"
             ],
             [
              0.3333333333333333,
              "#9c179e"
             ],
             [
              0.4444444444444444,
              "#bd3786"
             ],
             [
              0.5555555555555556,
              "#d8576b"
             ],
             [
              0.6666666666666666,
              "#ed7953"
             ],
             [
              0.7777777777777778,
              "#fb9f3a"
             ],
             [
              0.8888888888888888,
              "#fdca26"
             ],
             [
              1,
              "#f0f921"
             ]
            ],
            "type": "heatmap"
           }
          ],
          "heatmapgl": [
           {
            "colorbar": {
             "outlinewidth": 0,
             "ticks": ""
            },
            "colorscale": [
             [
              0,
              "#0d0887"
             ],
             [
              0.1111111111111111,
              "#46039f"
             ],
             [
              0.2222222222222222,
              "#7201a8"
             ],
             [
              0.3333333333333333,
              "#9c179e"
             ],
             [
              0.4444444444444444,
              "#bd3786"
             ],
             [
              0.5555555555555556,
              "#d8576b"
             ],
             [
              0.6666666666666666,
              "#ed7953"
             ],
             [
              0.7777777777777778,
              "#fb9f3a"
             ],
             [
              0.8888888888888888,
              "#fdca26"
             ],
             [
              1,
              "#f0f921"
             ]
            ],
            "type": "heatmapgl"
           }
          ],
          "histogram": [
           {
            "marker": {
             "pattern": {
              "fillmode": "overlay",
              "size": 10,
              "solidity": 0.2
             }
            },
            "type": "histogram"
           }
          ],
          "histogram2d": [
           {
            "colorbar": {
             "outlinewidth": 0,
             "ticks": ""
            },
            "colorscale": [
             [
              0,
              "#0d0887"
             ],
             [
              0.1111111111111111,
              "#46039f"
             ],
             [
              0.2222222222222222,
              "#7201a8"
             ],
             [
              0.3333333333333333,
              "#9c179e"
             ],
             [
              0.4444444444444444,
              "#bd3786"
             ],
             [
              0.5555555555555556,
              "#d8576b"
             ],
             [
              0.6666666666666666,
              "#ed7953"
             ],
             [
              0.7777777777777778,
              "#fb9f3a"
             ],
             [
              0.8888888888888888,
              "#fdca26"
             ],
             [
              1,
              "#f0f921"
             ]
            ],
            "type": "histogram2d"
           }
          ],
          "histogram2dcontour": [
           {
            "colorbar": {
             "outlinewidth": 0,
             "ticks": ""
            },
            "colorscale": [
             [
              0,
              "#0d0887"
             ],
             [
              0.1111111111111111,
              "#46039f"
             ],
             [
              0.2222222222222222,
              "#7201a8"
             ],
             [
              0.3333333333333333,
              "#9c179e"
             ],
             [
              0.4444444444444444,
              "#bd3786"
             ],
             [
              0.5555555555555556,
              "#d8576b"
             ],
             [
              0.6666666666666666,
              "#ed7953"
             ],
             [
              0.7777777777777778,
              "#fb9f3a"
             ],
             [
              0.8888888888888888,
              "#fdca26"
             ],
             [
              1,
              "#f0f921"
             ]
            ],
            "type": "histogram2dcontour"
           }
          ],
          "mesh3d": [
           {
            "colorbar": {
             "outlinewidth": 0,
             "ticks": ""
            },
            "type": "mesh3d"
           }
          ],
          "parcoords": [
           {
            "line": {
             "colorbar": {
              "outlinewidth": 0,
              "ticks": ""
             }
            },
            "type": "parcoords"
           }
          ],
          "pie": [
           {
            "automargin": true,
            "type": "pie"
           }
          ],
          "scatter": [
           {
            "fillpattern": {
             "fillmode": "overlay",
             "size": 10,
             "solidity": 0.2
            },
            "type": "scatter"
           }
          ],
          "scatter3d": [
           {
            "line": {
             "colorbar": {
              "outlinewidth": 0,
              "ticks": ""
             }
            },
            "marker": {
             "colorbar": {
              "outlinewidth": 0,
              "ticks": ""
             }
            },
            "type": "scatter3d"
           }
          ],
          "scattercarpet": [
           {
            "marker": {
             "colorbar": {
              "outlinewidth": 0,
              "ticks": ""
             }
            },
            "type": "scattercarpet"
           }
          ],
          "scattergeo": [
           {
            "marker": {
             "colorbar": {
              "outlinewidth": 0,
              "ticks": ""
             }
            },
            "type": "scattergeo"
           }
          ],
          "scattergl": [
           {
            "marker": {
             "colorbar": {
              "outlinewidth": 0,
              "ticks": ""
             }
            },
            "type": "scattergl"
           }
          ],
          "scattermapbox": [
           {
            "marker": {
             "colorbar": {
              "outlinewidth": 0,
              "ticks": ""
             }
            },
            "type": "scattermapbox"
           }
          ],
          "scatterpolar": [
           {
            "marker": {
             "colorbar": {
              "outlinewidth": 0,
              "ticks": ""
             }
            },
            "type": "scatterpolar"
           }
          ],
          "scatterpolargl": [
           {
            "marker": {
             "colorbar": {
              "outlinewidth": 0,
              "ticks": ""
             }
            },
            "type": "scatterpolargl"
           }
          ],
          "scatterternary": [
           {
            "marker": {
             "colorbar": {
              "outlinewidth": 0,
              "ticks": ""
             }
            },
            "type": "scatterternary"
           }
          ],
          "surface": [
           {
            "colorbar": {
             "outlinewidth": 0,
             "ticks": ""
            },
            "colorscale": [
             [
              0,
              "#0d0887"
             ],
             [
              0.1111111111111111,
              "#46039f"
             ],
             [
              0.2222222222222222,
              "#7201a8"
             ],
             [
              0.3333333333333333,
              "#9c179e"
             ],
             [
              0.4444444444444444,
              "#bd3786"
             ],
             [
              0.5555555555555556,
              "#d8576b"
             ],
             [
              0.6666666666666666,
              "#ed7953"
             ],
             [
              0.7777777777777778,
              "#fb9f3a"
             ],
             [
              0.8888888888888888,
              "#fdca26"
             ],
             [
              1,
              "#f0f921"
             ]
            ],
            "type": "surface"
           }
          ],
          "table": [
           {
            "cells": {
             "fill": {
              "color": "#EBF0F8"
             },
             "line": {
              "color": "white"
             }
            },
            "header": {
             "fill": {
              "color": "#C8D4E3"
             },
             "line": {
              "color": "white"
             }
            },
            "type": "table"
           }
          ]
         },
         "layout": {
          "annotationdefaults": {
           "arrowcolor": "#2a3f5f",
           "arrowhead": 0,
           "arrowwidth": 1
          },
          "autotypenumbers": "strict",
          "coloraxis": {
           "colorbar": {
            "outlinewidth": 0,
            "ticks": ""
           }
          },
          "colorscale": {
           "diverging": [
            [
             0,
             "#8e0152"
            ],
            [
             0.1,
             "#c51b7d"
            ],
            [
             0.2,
             "#de77ae"
            ],
            [
             0.3,
             "#f1b6da"
            ],
            [
             0.4,
             "#fde0ef"
            ],
            [
             0.5,
             "#f7f7f7"
            ],
            [
             0.6,
             "#e6f5d0"
            ],
            [
             0.7,
             "#b8e186"
            ],
            [
             0.8,
             "#7fbc41"
            ],
            [
             0.9,
             "#4d9221"
            ],
            [
             1,
             "#276419"
            ]
           ],
           "sequential": [
            [
             0,
             "#0d0887"
            ],
            [
             0.1111111111111111,
             "#46039f"
            ],
            [
             0.2222222222222222,
             "#7201a8"
            ],
            [
             0.3333333333333333,
             "#9c179e"
            ],
            [
             0.4444444444444444,
             "#bd3786"
            ],
            [
             0.5555555555555556,
             "#d8576b"
            ],
            [
             0.6666666666666666,
             "#ed7953"
            ],
            [
             0.7777777777777778,
             "#fb9f3a"
            ],
            [
             0.8888888888888888,
             "#fdca26"
            ],
            [
             1,
             "#f0f921"
            ]
           ],
           "sequentialminus": [
            [
             0,
             "#0d0887"
            ],
            [
             0.1111111111111111,
             "#46039f"
            ],
            [
             0.2222222222222222,
             "#7201a8"
            ],
            [
             0.3333333333333333,
             "#9c179e"
            ],
            [
             0.4444444444444444,
             "#bd3786"
            ],
            [
             0.5555555555555556,
             "#d8576b"
            ],
            [
             0.6666666666666666,
             "#ed7953"
            ],
            [
             0.7777777777777778,
             "#fb9f3a"
            ],
            [
             0.8888888888888888,
             "#fdca26"
            ],
            [
             1,
             "#f0f921"
            ]
           ]
          },
          "colorway": [
           "#636efa",
           "#EF553B",
           "#00cc96",
           "#ab63fa",
           "#FFA15A",
           "#19d3f3",
           "#FF6692",
           "#B6E880",
           "#FF97FF",
           "#FECB52"
          ],
          "font": {
           "color": "#2a3f5f"
          },
          "geo": {
           "bgcolor": "white",
           "lakecolor": "white",
           "landcolor": "white",
           "showlakes": true,
           "showland": true,
           "subunitcolor": "#C8D4E3"
          },
          "hoverlabel": {
           "align": "left"
          },
          "hovermode": "closest",
          "mapbox": {
           "style": "light"
          },
          "paper_bgcolor": "white",
          "plot_bgcolor": "white",
          "polar": {
           "angularaxis": {
            "gridcolor": "#EBF0F8",
            "linecolor": "#EBF0F8",
            "ticks": ""
           },
           "bgcolor": "white",
           "radialaxis": {
            "gridcolor": "#EBF0F8",
            "linecolor": "#EBF0F8",
            "ticks": ""
           }
          },
          "scene": {
           "xaxis": {
            "backgroundcolor": "white",
            "gridcolor": "#DFE8F3",
            "gridwidth": 2,
            "linecolor": "#EBF0F8",
            "showbackground": true,
            "ticks": "",
            "zerolinecolor": "#EBF0F8"
           },
           "yaxis": {
            "backgroundcolor": "white",
            "gridcolor": "#DFE8F3",
            "gridwidth": 2,
            "linecolor": "#EBF0F8",
            "showbackground": true,
            "ticks": "",
            "zerolinecolor": "#EBF0F8"
           },
           "zaxis": {
            "backgroundcolor": "white",
            "gridcolor": "#DFE8F3",
            "gridwidth": 2,
            "linecolor": "#EBF0F8",
            "showbackground": true,
            "ticks": "",
            "zerolinecolor": "#EBF0F8"
           }
          },
          "shapedefaults": {
           "line": {
            "color": "#2a3f5f"
           }
          },
          "ternary": {
           "aaxis": {
            "gridcolor": "#DFE8F3",
            "linecolor": "#A2B1C6",
            "ticks": ""
           },
           "baxis": {
            "gridcolor": "#DFE8F3",
            "linecolor": "#A2B1C6",
            "ticks": ""
           },
           "bgcolor": "white",
           "caxis": {
            "gridcolor": "#DFE8F3",
            "linecolor": "#A2B1C6",
            "ticks": ""
           }
          },
          "title": {
           "x": 0.05
          },
          "xaxis": {
           "automargin": true,
           "gridcolor": "#EBF0F8",
           "linecolor": "#EBF0F8",
           "ticks": "",
           "title": {
            "standoff": 15
           },
           "zerolinecolor": "#EBF0F8",
           "zerolinewidth": 2
          },
          "yaxis": {
           "automargin": true,
           "gridcolor": "#EBF0F8",
           "linecolor": "#EBF0F8",
           "ticks": "",
           "title": {
            "standoff": 15
           },
           "zerolinecolor": "#EBF0F8",
           "zerolinewidth": 2
          }
         }
        },
        "xaxis": {
         "anchor": "y",
         "autorange": true,
         "domain": [
          0,
          1
         ],
         "range": [
          -1.8655362736863208,
          1.923763264040368
         ],
         "title": {
          "text": "0_loss_sales_stock_profit"
         },
         "type": "linear"
        },
        "yaxis": {
         "anchor": "x",
         "autorange": true,
         "domain": [
          0,
          1
         ],
         "range": [
          -4.045950430690432,
          5.222409997012376
         ],
         "title": {
          "text": "1_oyj_eurm_loss_technology"
         },
         "type": "linear"
        }
       }
      },
      "image/png": "[encoded data removed]",
      "text/html": [
       "<div>                            <div id=\"36030f5d-95dc-4dd1-bc95-648844c26af9\" class=\"plotly-graph-div\" style=\"height:525px; width:100%;\"></div>            <script type=\"text/javascript\">                require([\"plotly\"], function(Plotly) {                    window.PLOTLYENV=window.PLOTLYENV || {};                                    if (document.getElementById(\"36030f5d-95dc-4dd1-bc95-648844c26af9\")) {                    Plotly.newPlot(                        \"36030f5d-95dc-4dd1-bc95-648844c26af9\",                        [{\"customdata\":[[\"according\",\"\"],[\"compared\",\"\"],[\"eur\",\"eur\"],[\"euro\",\"\"],[\"increased\",\"\"],[\"june\",\"\"],[\"october\",\"\"],[\"paper\",\"\"],[\"period\",\"\"],[\"quarter\",\"\"],[\"result\",\"\"],[\"september\",\"\"],[\"solutions\",\"\"],[\"today\",\"\"],[\"year\",\"\"]],\"hovertemplate\":\"dominant_topic=9_june_september_october_today\\u003cbr\\u003efrequency=%{marker.size}\\u003cbr\\u003eword=%{customdata[0]}\\u003cextra\\u003e\\u003c\\u002fextra\\u003e\",\"legendgroup\":\"9_june_september_october_today\",\"marker\":{\"color\":\"#636efa\",\"size\":[18,11,129,21,11,10,12,10,29,18,10,12,15,15,39],\"sizemode\":\"area\",\"sizeref\":0.0129,\"symbol\":\"circle\"},\"mode\":\"markers+text\",\"name\":\"9_june_september_october_today\",\"orientation\":\"v\",\"showlegend\":true,\"text\":[\"\",\"\",\"eur\",\"\",\"\",\"\",\"\",\"\",\"\",\"\",\"\",\"\",\"\",\"\",\"\"],\"x\":[-0.20325308,1.1085548,-1.3672358,-1.2079177,0.8078461,-0.1665712,-0.1472123,-0.3751743,-0.09406442,0.650139,0.014718026,0.1543286,0.1299369,-0.09084133,0.42526004],\"xaxis\":\"x\",\"y\":[-0.040120576,0.69065046,1.1885208,0.64330447,0.109901845,0.12713666,0.5572243,0.18759803,-0.03204003,-0.055227984,0.62641186,0.09153932,-0.041727513,0.60705245,0.34510583],\"yaxis\":\"y\",\"type\":\"scatter\"},{\"customdata\":[[\"agreement\",\"\"],[\"based\",\"\"],[\"board\",\"\"],[\"capital\",\"\"],[\"company\",\"company\"],[\"corporation\",\"\"],[\"financial\",\"\"],[\"group\",\"\"],[\"hel\",\"\"],[\"loss\",\"\"],[\"management\",\"\"],[\"new\",\"\"],[\"omx\",\"\"],[\"operating\",\"\"],[\"operations\",\"\"],[\"project\",\"\"],[\"real\",\"\"],[\"said\",\"\"],[\"share\",\"\"],[\"shares\",\"\"],[\"stake\",\"\"],[\"stock\",\"\"]],\"hovertemplate\":\"dominant_topic=7_omx_loss_oyj_said\\u003cbr\\u003efrequency=%{marker.size}\\u003cbr\\u003eword=%{customdata[0]}\\u003cextra\\u003e\\u003c\\u002fextra\\u003e\",\"legendgroup\":\"7_omx_loss_oyj_said\",\"marker\":{\"color\":\"#EF553B\",\"size\":[12,12,18,12,91,12,21,42,20,14,15,31,14,18,22,10,10,60,26,22,10,10],\"sizemode\":\"area\",\"sizeref\":0.0129,\"symbol\":\"circle\"},\"mode\":\"markers+text\",\"name\":\"7_omx_loss_oyj_said\",\"orientation\":\"v\",\"showlegend\":true,\"text\":[\"\",\"\",\"\",\"\",\"company\",\"\",\"\",\"\",\"\",\"\",\"\",\"\",\"\",\"\",\"\",\"\",\"\",\"\",\"\",\"\",\"\",\"\"],\"x\":[-1.1594931,-0.32181728,0.008160502,-0.7403793,0.122682735,-0.18972026,-0.9680569,-0.11490682,0.6407319,1.6325572,-0.17298649,-0.22368965,0.38456577,0.24725081,0.030322254,-0.517271,0.3066531,0.52501523,0.102325626,1.0561643,0.2611351,1.2068423],\"xaxis\":\"x\",\"y\":[-0.40209857,0.08173795,-0.36632088,-0.9747351,0.18928161,-0.35304055,0.18695566,-0.5669113,0.6542681,1.5321405,0.57239157,-0.0004633665,0.9449389,0.6747092,0.17837027,0.7563844,0.070831686,0.3931783,-1.430484,-2.207108,-0.69020015,-1.8139911],\"yaxis\":\"y\",\"type\":\"scatter\"},{\"customdata\":[[\"baltic\",\"\"],[\"finland\",\"\"],[\"finnish\",\"\"],[\"helsinki\",\"\"]],\"hovertemplate\":\"dominant_topic=2_finland_helsinki_finnish_baltic\\u003cbr\\u003efrequency=%{marker.size}\\u003cbr\\u003eword=%{customdata[0]}\\u003cextra\\u003e\\u003c\\u002fextra\\u003e\",\"legendgroup\":\"2_finland_helsinki_finnish_baltic\",\"marker\":{\"color\":\"#00cc96\",\"size\":[10,40,62,28],\"sizemode\":\"area\",\"sizeref\":0.0129,\"symbol\":\"circle\"},\"mode\":\"markers+text\",\"name\":\"2_finland_helsinki_finnish_baltic\",\"orientation\":\"v\",\"showlegend\":true,\"text\":[\"\",\"\",\"\",\"\"],\"x\":[-0.06326662,-0.5085671,-0.42328644,-0.59777975],\"xaxis\":\"x\",\"y\":[-0.355097,0.23585945,0.61096144,0.1999931],\"yaxis\":\"y\",\"type\":\"scatter\"},{\"customdata\":[[\"business\",\"\"],[\"growth\",\"\"],[\"investment\",\"\"],[\"profit\",\"\"]],\"hovertemplate\":\"dominant_topic=5_growth_profit_investment_sales\\u003cbr\\u003efrequency=%{marker.size}\\u003cbr\\u003eword=%{customdata[0]}\\u003cextra\\u003e\\u003c\\u002fextra\\u003e\",\"legendgroup\":\"5_growth_profit_investment_sales\",\"marker\":{\"color\":\"#ab63fa\",\"size\":[36,12,13,37],\"sizemode\":\"area\",\"sizeref\":0.0129,\"symbol\":\"circle\"},\"mode\":\"markers+text\",\"name\":\"5_growth_profit_investment_sales\",\"orientation\":\"v\",\"showlegend\":true,\"text\":[\"\",\"\",\"\",\"\"],\"x\":[-0.19447647,1.0864563,-0.38657522,1.1817521],\"xaxis\":\"x\",\"y\":[0.40995008,-0.20152539,-0.28009796,1.2525015],\"yaxis\":\"y\",\"type\":\"scatter\"},{\"customdata\":[[\"companies\",\"\"],[\"customers\",\"\"],[\"market\",\"\"],[\"sales\",\"\"],[\"services\",\"\"]],\"hovertemplate\":\"dominant_topic=3_customers_sales_market_companies\\u003cbr\\u003efrequency=%{marker.size}\\u003cbr\\u003eword=%{customdata[0]}\\u003cextra\\u003e\\u003c\\u002fextra\\u003e\",\"legendgroup\":\"3_customers_sales_market_companies\",\"marker\":{\"color\":\"#FFA15A\",\"size\":[10,11,29,48,19],\"sizemode\":\"area\",\"sizeref\":0.0129,\"symbol\":\"circle\"},\"mode\":\"markers+text\",\"name\":\"3_customers_sales_market_companies\",\"orientation\":\"v\",\"showlegend\":true,\"text\":[\"\",\"\",\"\",\"\",\"\"],\"x\":[-0.30467382,-0.32247984,0.5747832,1.472909,-0.85199904],\"xaxis\":\"x\",\"y\":[0.26985264,0.472695,-0.564089,0.6660564,0.73794097],\"yaxis\":\"y\",\"type\":\"scatter\"},{\"customdata\":[[\"eurm\",\"\"],[\"net\",\"\"],[\"oyj\",\"\"],[\"technology\",\"\"]],\"hovertemplate\":\"dominant_topic=1_oyj_eurm_loss_technology\\u003cbr\\u003efrequency=%{marker.size}\\u003cbr\\u003eword=%{customdata[0]}\\u003cextra\\u003e\\u003c\\u002fextra\\u003e\",\"legendgroup\":\"1_oyj_eurm_loss_technology\",\"marker\":{\"color\":\"#19d3f3\",\"size\":[12,48,30,12],\"sizemode\":\"area\",\"sizeref\":0.0129,\"symbol\":\"circle\"},\"mode\":\"markers+text\",\"name\":\"1_oyj_eurm_loss_technology\",\"orientation\":\"v\",\"showlegend\":true,\"text\":[\"\",\"\",\"\",\"\"],\"x\":[-0.24092868,-0.4910968,0.4656304,-0.7234268],\"xaxis\":\"x\",\"y\":[1.9937556,0.98522294,3.1528423,1.3942943],\"yaxis\":\"y\",\"type\":\"scatter\"},{\"customdata\":[[\"million\",\"\"],[\"mln\",\"\"],[\"mn\",\"\"],[\"plant\",\"\"],[\"products\",\"\"],[\"total\",\"\"],[\"unit\",\"\"],[\"value\",\"\"]],\"hovertemplate\":\"dominant_topic=4_value_euro_unit_finnish\\u003cbr\\u003efrequency=%{marker.size}\\u003cbr\\u003eword=%{customdata[0]}\\u003cextra\\u003e\\u003c\\u002fextra\\u003e\",\"legendgroup\":\"4_value_euro_unit_finnish\",\"marker\":{\"color\":\"#FF6692\",\"size\":[45,34,51,14,12,16,19,10],\"sizemode\":\"area\",\"sizeref\":0.0129,\"symbol\":\"circle\"},\"mode\":\"markers+text\",\"name\":\"4_value_euro_unit_finnish\",\"orientation\":\"v\",\"showlegend\":true,\"text\":[\"\",\"\",\"\",\"\",\"\",\"\",\"\",\"\"],\"x\":[-0.46592778,-0.6591313,-0.25272512,1.0523329,0.84977347,0.23157537,0.21345913,0.89290595],\"xaxis\":\"x\",\"y\":[0.3846533,0.5987202,0.25480276,-0.47810858,0.18271104,-0.31791526,-0.43764412,-0.33460754],\"yaxis\":\"y\",\"type\":\"scatter\"},{\"customdata\":[[\"percent\",\"\"]],\"hovertemplate\":\"dominant_topic=0_loss_sales_stock_profit\\u003cbr\\u003efrequency=%{marker.size}\\u003cbr\\u003eword=%{customdata[0]}\\u003cextra\\u003e\\u003c\\u002fextra\\u003e\",\"legendgroup\":\"0_loss_sales_stock_profit\",\"marker\":{\"color\":\"#B6E880\",\"size\":[21],\"sizemode\":\"area\",\"sizeref\":0.0129,\"symbol\":\"circle\"},\"mode\":\"markers+text\",\"name\":\"0_loss_sales_stock_profit\",\"orientation\":\"v\",\"showlegend\":true,\"text\":[\"\"],\"x\":[1.1595373],\"xaxis\":\"x\",\"y\":[-0.78485405],\"yaxis\":\"y\",\"type\":\"scatter\"}],                        {\"template\":{\"data\":{\"barpolar\":[{\"marker\":{\"line\":{\"color\":\"white\",\"width\":0.5},\"pattern\":{\"fillmode\":\"overlay\",\"size\":10,\"solidity\":0.2}},\"type\":\"barpolar\"}],\"bar\":[{\"error_x\":{\"color\":\"#2a3f5f\"},\"error_y\":{\"color\":\"#2a3f5f\"},\"marker\":{\"line\":{\"color\":\"white\",\"width\":0.5},\"pattern\":{\"fillmode\":\"overlay\",\"size\":10,\"solidity\":0.2}},\"type\":\"bar\"}],\"carpet\":[{\"aaxis\":{\"endlinecolor\":\"#2a3f5f\",\"gridcolor\":\"#C8D4E3\",\"linecolor\":\"#C8D4E3\",\"minorgridcolor\":\"#C8D4E3\",\"startlinecolor\":\"#2a3f5f\"},\"baxis\":{\"endlinecolor\":\"#2a3f5f\",\"gridcolor\":\"#C8D4E3\",\"linecolor\":\"#C8D4E3\",\"minorgridcolor\":\"#C8D4E3\",\"startlinecolor\":\"#2a3f5f\"},\"type\":\"carpet\"}],\"choropleth\":[{\"colorbar\":{\"outlinewidth\":0,\"ticks\":\"\"},\"type\":\"choropleth\"}],\"contourcarpet\":[{\"colorbar\":{\"outlinewidth\":0,\"ticks\":\"\"},\"type\":\"contourcarpet\"}],\"contour\":[{\"colorbar\":{\"outlinewidth\":0,\"ticks\":\"\"},\"colorscale\":[[0.0,\"#0d0887\"],[0.1111111111111111,\"#46039f\"],[0.2222222222222222,\"#7201a8\"],[0.3333333333333333,\"#9c179e\"],[0.4444444444444444,\"#bd3786\"],[0.5555555555555556,\"#d8576b\"],[0.6666666666666666,\"#ed7953\"],[0.7777777777777778,\"#fb9f3a\"],[0.8888888888888888,\"#fdca26\"],[1.0,\"#f0f921\"]],\"type\":\"contour\"}],\"heatmapgl\":[{\"colorbar\":{\"outlinewidth\":0,\"ticks\":\"\"},\"colorscale\":[[0.0,\"#0d0887\"],[0.1111111111111111,\"#46039f\"],[0.2222222222222222,\"#7201a8\"],[0.3333333333333333,\"#9c179e\"],[0.4444444444444444,\"#bd3786\"],[0.5555555555555556,\"#d8576b\"],[0.6666666666666666,\"#ed7953\"],[0.7777777777777778,\"#fb9f3a\"],[0.8888888888888888,\"#fdca26\"],[1.0,\"#f0f921\"]],\"type\":\"heatmapgl\"}],\"heatmap\":[{\"colorbar\":{\"outlinewidth\":0,\"ticks\":\"\"},\"colorscale\":[[0.0,\"#0d0887\"],[0.1111111111111111,\"#46039f\"],[0.2222222222222222,\"#7201a8\"],[0.3333333333333333,\"#9c179e\"],[0.4444444444444444,\"#bd3786\"],[0.5555555555555556,\"#d8576b\"],[0.6666666666666666,\"#ed7953\"],[0.7777777777777778,\"#fb9f3a\"],[0.8888888888888888,\"#fdca26\"],[1.0,\"#f0f921\"]],\"type\":\"heatmap\"}],\"histogram2dcontour\":[{\"colorbar\":{\"outlinewidth\":0,\"ticks\":\"\"},\"colorscale\":[[0.0,\"#0d0887\"],[0.1111111111111111,\"#46039f\"],[0.2222222222222222,\"#7201a8\"],[0.3333333333333333,\"#9c179e\"],[0.4444444444444444,\"#bd3786\"],[0.5555555555555556,\"#d8576b\"],[0.6666666666666666,\"#ed7953\"],[0.7777777777777778,\"#fb9f3a\"],[0.8888888888888888,\"#fdca26\"],[1.0,\"#f0f921\"]],\"type\":\"histogram2dcontour\"}],\"histogram2d\":[{\"colorbar\":{\"outlinewidth\":0,\"ticks\":\"\"},\"colorscale\":[[0.0,\"#0d0887\"],[0.1111111111111111,\"#46039f\"],[0.2222222222222222,\"#7201a8\"],[0.3333333333333333,\"#9c179e\"],[0.4444444444444444,\"#bd3786\"],[0.5555555555555556,\"#d8576b\"],[0.6666666666666666,\"#ed7953\"],[0.7777777777777778,\"#fb9f3a\"],[0.8888888888888888,\"#fdca26\"],[1.0,\"#f0f921\"]],\"type\":\"histogram2d\"}],\"histogram\":[{\"marker\":{\"pattern\":{\"fillmode\":\"overlay\",\"size\":10,\"solidity\":0.2}},\"type\":\"histogram\"}],\"mesh3d\":[{\"colorbar\":{\"outlinewidth\":0,\"ticks\":\"\"},\"type\":\"mesh3d\"}],\"parcoords\":[{\"line\":{\"colorbar\":{\"outlinewidth\":0,\"ticks\":\"\"}},\"type\":\"parcoords\"}],\"pie\":[{\"automargin\":true,\"type\":\"pie\"}],\"scatter3d\":[{\"line\":{\"colorbar\":{\"outlinewidth\":0,\"ticks\":\"\"}},\"marker\":{\"colorbar\":{\"outlinewidth\":0,\"ticks\":\"\"}},\"type\":\"scatter3d\"}],\"scattercarpet\":[{\"marker\":{\"colorbar\":{\"outlinewidth\":0,\"ticks\":\"\"}},\"type\":\"scattercarpet\"}],\"scattergeo\":[{\"marker\":{\"colorbar\":{\"outlinewidth\":0,\"ticks\":\"\"}},\"type\":\"scattergeo\"}],\"scattergl\":[{\"marker\":{\"colorbar\":{\"outlinewidth\":0,\"ticks\":\"\"}},\"type\":\"scattergl\"}],\"scattermapbox\":[{\"marker\":{\"colorbar\":{\"outlinewidth\":0,\"ticks\":\"\"}},\"type\":\"scattermapbox\"}],\"scatterpolargl\":[{\"marker\":{\"colorbar\":{\"outlinewidth\":0,\"ticks\":\"\"}},\"type\":\"scatterpolargl\"}],\"scatterpolar\":[{\"marker\":{\"colorbar\":{\"outlinewidth\":0,\"ticks\":\"\"}},\"type\":\"scatterpolar\"}],\"scatter\":[{\"fillpattern\":{\"fillmode\":\"overlay\",\"size\":10,\"solidity\":0.2},\"type\":\"scatter\"}],\"scatterternary\":[{\"marker\":{\"colorbar\":{\"outlinewidth\":0,\"ticks\":\"\"}},\"type\":\"scatterternary\"}],\"surface\":[{\"colorbar\":{\"outlinewidth\":0,\"ticks\":\"\"},\"colorscale\":[[0.0,\"#0d0887\"],[0.1111111111111111,\"#46039f\"],[0.2222222222222222,\"#7201a8\"],[0.3333333333333333,\"#9c179e\"],[0.4444444444444444,\"#bd3786\"],[0.5555555555555556,\"#d8576b\"],[0.6666666666666666,\"#ed7953\"],[0.7777777777777778,\"#fb9f3a\"],[0.8888888888888888,\"#fdca26\"],[1.0,\"#f0f921\"]],\"type\":\"surface\"}],\"table\":[{\"cells\":{\"fill\":{\"color\":\"#EBF0F8\"},\"line\":{\"color\":\"white\"}},\"header\":{\"fill\":{\"color\":\"#C8D4E3\"},\"line\":{\"color\":\"white\"}},\"type\":\"table\"}]},\"layout\":{\"annotationdefaults\":{\"arrowcolor\":\"#2a3f5f\",\"arrowhead\":0,\"arrowwidth\":1},\"autotypenumbers\":\"strict\",\"coloraxis\":{\"colorbar\":{\"outlinewidth\":0,\"ticks\":\"\"}},\"colorscale\":{\"diverging\":[[0,\"#8e0152\"],[0.1,\"#c51b7d\"],[0.2,\"#de77ae\"],[0.3,\"#f1b6da\"],[0.4,\"#fde0ef\"],[0.5,\"#f7f7f7\"],[0.6,\"#e6f5d0\"],[0.7,\"#b8e186\"],[0.8,\"#7fbc41\"],[0.9,\"#4d9221\"],[1,\"#276419\"]],\"sequential\":[[0.0,\"#0d0887\"],[0.1111111111111111,\"#46039f\"],[0.2222222222222222,\"#7201a8\"],[0.3333333333333333,\"#9c179e\"],[0.4444444444444444,\"#bd3786\"],[0.5555555555555556,\"#d8576b\"],[0.6666666666666666,\"#ed7953\"],[0.7777777777777778,\"#fb9f3a\"],[0.8888888888888888,\"#fdca26\"],[1.0,\"#f0f921\"]],\"sequentialminus\":[[0.0,\"#0d0887\"],[0.1111111111111111,\"#46039f\"],[0.2222222222222222,\"#7201a8\"],[0.3333333333333333,\"#9c179e\"],[0.4444444444444444,\"#bd3786\"],[0.5555555555555556,\"#d8576b\"],[0.6666666666666666,\"#ed7953\"],[0.7777777777777778,\"#fb9f3a\"],[0.8888888888888888,\"#fdca26\"],[1.0,\"#f0f921\"]]},\"colorway\":[\"#636efa\",\"#EF553B\",\"#00cc96\",\"#ab63fa\",\"#FFA15A\",\"#19d3f3\",\"#FF6692\",\"#B6E880\",\"#FF97FF\",\"#FECB52\"],\"font\":{\"color\":\"#2a3f5f\"},\"geo\":{\"bgcolor\":\"white\",\"lakecolor\":\"white\",\"landcolor\":\"white\",\"showlakes\":true,\"showland\":true,\"subunitcolor\":\"#C8D4E3\"},\"hoverlabel\":{\"align\":\"left\"},\"hovermode\":\"closest\",\"mapbox\":{\"style\":\"light\"},\"paper_bgcolor\":\"white\",\"plot_bgcolor\":\"white\",\"polar\":{\"angularaxis\":{\"gridcolor\":\"#EBF0F8\",\"linecolor\":\"#EBF0F8\",\"ticks\":\"\"},\"bgcolor\":\"white\",\"radialaxis\":{\"gridcolor\":\"#EBF0F8\",\"linecolor\":\"#EBF0F8\",\"ticks\":\"\"}},\"scene\":{\"xaxis\":{\"backgroundcolor\":\"white\",\"gridcolor\":\"#DFE8F3\",\"gridwidth\":2,\"linecolor\":\"#EBF0F8\",\"showbackground\":true,\"ticks\":\"\",\"zerolinecolor\":\"#EBF0F8\"},\"yaxis\":{\"backgroundcolor\":\"white\",\"gridcolor\":\"#DFE8F3\",\"gridwidth\":2,\"linecolor\":\"#EBF0F8\",\"showbackground\":true,\"ticks\":\"\",\"zerolinecolor\":\"#EBF0F8\"},\"zaxis\":{\"backgroundcolor\":\"white\",\"gridcolor\":\"#DFE8F3\",\"gridwidth\":2,\"linecolor\":\"#EBF0F8\",\"showbackground\":true,\"ticks\":\"\",\"zerolinecolor\":\"#EBF0F8\"}},\"shapedefaults\":{\"line\":{\"color\":\"#2a3f5f\"}},\"ternary\":{\"aaxis\":{\"gridcolor\":\"#DFE8F3\",\"linecolor\":\"#A2B1C6\",\"ticks\":\"\"},\"baxis\":{\"gridcolor\":\"#DFE8F3\",\"linecolor\":\"#A2B1C6\",\"ticks\":\"\"},\"bgcolor\":\"white\",\"caxis\":{\"gridcolor\":\"#DFE8F3\",\"linecolor\":\"#A2B1C6\",\"ticks\":\"\"}},\"title\":{\"x\":0.05},\"xaxis\":{\"automargin\":true,\"gridcolor\":\"#EBF0F8\",\"linecolor\":\"#EBF0F8\",\"ticks\":\"\",\"title\":{\"standoff\":15},\"zerolinecolor\":\"#EBF0F8\",\"zerolinewidth\":2},\"yaxis\":{\"automargin\":true,\"gridcolor\":\"#EBF0F8\",\"linecolor\":\"#EBF0F8\",\"ticks\":\"\",\"title\":{\"standoff\":15},\"zerolinecolor\":\"#EBF0F8\",\"zerolinewidth\":2}}},\"xaxis\":{\"anchor\":\"y\",\"domain\":[0.0,1.0],\"title\":{\"text\":\"0_loss_sales_stock_profit\"}},\"yaxis\":{\"anchor\":\"x\",\"domain\":[0.0,1.0],\"title\":{\"text\":\"1_oyj_eurm_loss_technology\"}},\"legend\":{\"title\":{\"text\":\"dominant_topic\"},\"tracegroupgap\":0,\"itemsizing\":\"constant\"},\"margin\":{\"t\":60}},                        {\"responsive\": true}                    ).then(function(){\n",
       "                            \n",
       "var gd = document.getElementById('36030f5d-95dc-4dd1-bc95-648844c26af9');\n",
       "var x = new MutationObserver(function (mutations, observer) {{\n",
       "        var display = window.getComputedStyle(gd).display;\n",
       "        if (!display || display === 'none') {{\n",
       "            console.log([gd, 'removed!']);\n",
       "            Plotly.purge(gd);\n",
       "            observer.disconnect();\n",
       "        }}\n",
       "}});\n",
       "\n",
       "// Listen for the removal of the full notebook cells\n",
       "var notebookContainer = gd.closest('#notebook-container');\n",
       "if (notebookContainer) {{\n",
       "    x.observe(notebookContainer, {childList: true});\n",
       "}}\n",
       "\n",
       "// Listen for the clearing of the current output cell\n",
       "var outputEl = gd.closest('.output');\n",
       "if (outputEl) {{\n",
       "    x.observe(outputEl, {childList: true});\n",
       "}}\n",
       "\n",
       "                        })                };                });            </script>        </div>"
      ]
     },
     "metadata": {},
     "output_type": "display_data"
    }
   ],
   "source": [
    "figures.word_map(\n",
    "  topic_data,\n",
    "  topic_axes=(\n",
    "     xaxis,\n",
    "     yaxis)\n",
    ")"
   ]
  },
  {
   "cell_type": "code",
   "execution_count": null,
   "id": "9ea90ae8-89a7-4caf-93e0-cd01f9dfca41",
   "metadata": {},
   "outputs": [],
   "source": []
  }
 ],
 "metadata": {
  "kernelspec": {
   "display_name": "Python 3 (ipykernel)",
   "language": "python",
   "name": "python3"
  },
  "language_info": {
   "codemirror_mode": {
    "name": "ipython",
    "version": 3
   },
   "file_extension": ".py",
   "mimetype": "text/x-python",
   "name": "python",
   "nbconvert_exporter": "python",
   "pygments_lexer": "ipython3",
   "version": "3.10.11"
  }
 },
 "nbformat": 4,
 "nbformat_minor": 5
}
