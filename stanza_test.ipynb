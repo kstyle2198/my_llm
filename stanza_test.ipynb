{
 "cells": [
  {
   "cell_type": "markdown",
   "id": "0675d7ba",
   "metadata": {},
   "source": [
    "# Stanza Library"
   ]
  },
  {
   "cell_type": "code",
   "execution_count": 1,
   "id": "c2d4bfff",
   "metadata": {},
   "outputs": [],
   "source": [
    "import stanza"
   ]
  },
  {
   "cell_type": "markdown",
   "id": "d955c209",
   "metadata": {},
   "source": [
    "## 영어"
   ]
  },
  {
   "cell_type": "code",
   "execution_count": 7,
   "id": "4c1285ad",
   "metadata": {},
   "outputs": [
    {
     "data": {
      "application/vnd.jupyter.widget-view+json": {
       "model_id": "06564a80cfb04f1ea8b34a3940f6f8f9",
       "version_major": 2,
       "version_minor": 0
      },
      "text/plain": [
       "Downloading https://raw.githubusercontent.com/stanfordnlp/stanza-resources/main/resources_1.8.0.json:   0%|   …"
      ]
     },
     "metadata": {},
     "output_type": "display_data"
    },
    {
     "name": "stderr",
     "output_type": "stream",
     "text": [
      "2024-03-15 10:12:31 INFO: Downloaded file to C:\\Users\\jongb\\stanza_resources\\resources.json\n",
      "2024-03-15 10:12:31 INFO: Downloading default packages for language: en (English) ...\n",
      "2024-03-15 10:12:32 INFO: File exists: C:\\Users\\jongb\\stanza_resources\\en\\default.zip\n",
      "2024-03-15 10:12:36 INFO: Finished downloading models and saved to C:\\Users\\jongb\\stanza_resources\n",
      "2024-03-15 10:12:36 INFO: Checking for updates to resources.json in case models have been updated.  Note: this behavior can be turned off with download_method=None or download_method=DownloadMethod.REUSE_RESOURCES\n"
     ]
    },
    {
     "data": {
      "application/vnd.jupyter.widget-view+json": {
       "model_id": "623f6bc8b74c4fed99dc509365deb0b2",
       "version_major": 2,
       "version_minor": 0
      },
      "text/plain": [
       "Downloading https://raw.githubusercontent.com/stanfordnlp/stanza-resources/main/resources_1.8.0.json:   0%|   …"
      ]
     },
     "metadata": {},
     "output_type": "display_data"
    },
    {
     "name": "stderr",
     "output_type": "stream",
     "text": [
      "2024-03-15 10:12:36 INFO: Downloaded file to C:\\Users\\jongb\\stanza_resources\\resources.json\n",
      "2024-03-15 10:12:38 INFO: Loading these models for language: en (English):\n",
      "============================================\n",
      "| Processor    | Package                   |\n",
      "--------------------------------------------\n",
      "| tokenize     | combined                  |\n",
      "| mwt          | combined                  |\n",
      "| pos          | combined_charlm           |\n",
      "| lemma        | combined_nocharlm         |\n",
      "| constituency | ptb3-revised_charlm       |\n",
      "| depparse     | combined_charlm           |\n",
      "| sentiment    | sstplus_charlm            |\n",
      "| ner          | ontonotes-ww-multi_charlm |\n",
      "============================================\n",
      "\n",
      "2024-03-15 10:12:38 INFO: Using device: cpu\n",
      "2024-03-15 10:12:38 INFO: Loading: tokenize\n",
      "2024-03-15 10:12:38 INFO: Loading: mwt\n",
      "2024-03-15 10:12:38 INFO: Loading: pos\n",
      "2024-03-15 10:12:38 INFO: Loading: lemma\n",
      "2024-03-15 10:12:38 INFO: Loading: constituency\n",
      "2024-03-15 10:12:39 INFO: Loading: depparse\n",
      "2024-03-15 10:12:39 INFO: Loading: sentiment\n",
      "2024-03-15 10:12:40 INFO: Loading: ner\n",
      "2024-03-15 10:12:40 INFO: Done loading processors!\n"
     ]
    }
   ],
   "source": [
    "stanza.download('en') # download English model\n",
    "nlp = stanza.Pipeline('en') # initialize English neural pipeline"
   ]
  },
  {
   "cell_type": "code",
   "execution_count": 43,
   "id": "6c859e49",
   "metadata": {},
   "outputs": [
    {
     "data": {
      "text/plain": [
       "[\n",
       "  [\n",
       "    {\n",
       "      \"id\": 1,\n",
       "      \"text\": \"capa\",\n",
       "      \"lemma\": \"capa\",\n",
       "      \"upos\": \"NOUN\",\n",
       "      \"xpos\": \"NN\",\n",
       "      \"feats\": \"Number=Sing\",\n",
       "      \"head\": 0,\n",
       "      \"deprel\": \"root\",\n",
       "      \"start_char\": 0,\n",
       "      \"end_char\": 4,\n",
       "      \"ner\": \"O\",\n",
       "      \"multi_ner\": [\n",
       "        \"O\"\n",
       "      ],\n",
       "      \"misc\": \"SpaceAfter=No\"\n",
       "    },\n",
       "    {\n",
       "      \"id\": 2,\n",
       "      \"text\": \":\",\n",
       "      \"lemma\": \":\",\n",
       "      \"upos\": \"PUNCT\",\n",
       "      \"xpos\": \":\",\n",
       "      \"head\": 1,\n",
       "      \"deprel\": \"punct\",\n",
       "      \"start_char\": 4,\n",
       "      \"end_char\": 5,\n",
       "      \"ner\": \"O\",\n",
       "      \"multi_ner\": [\n",
       "        \"O\"\n",
       "      ]\n",
       "    },\n",
       "    {\n",
       "      \"id\": 3,\n",
       "      \"text\": \"3700\",\n",
       "      \"lemma\": \"3700\",\n",
       "      \"upos\": \"NUM\",\n",
       "      \"xpos\": \"CD\",\n",
       "      \"feats\": \"NumForm=Digit|NumType=Card\",\n",
       "      \"head\": 4,\n",
       "      \"deprel\": \"nummod\",\n",
       "      \"start_char\": 6,\n",
       "      \"end_char\": 10,\n",
       "      \"ner\": \"B-QUANTITY\",\n",
       "      \"multi_ner\": [\n",
       "        \"B-QUANTITY\"\n",
       "      ],\n",
       "      \"misc\": \"SpaceAfter=No\"\n",
       "    },\n",
       "    {\n",
       "      \"id\": 4,\n",
       "      \"text\": \"kW\",\n",
       "      \"lemma\": \"kw\",\n",
       "      \"upos\": \"NOUN\",\n",
       "      \"xpos\": \"NNS\",\n",
       "      \"feats\": \"Number=Sing\",\n",
       "      \"head\": 1,\n",
       "      \"deprel\": \"appos\",\n",
       "      \"start_char\": 10,\n",
       "      \"end_char\": 12,\n",
       "      \"ner\": \"E-QUANTITY\",\n",
       "      \"multi_ner\": [\n",
       "        \"E-QUANTITY\"\n",
       "      ]\n",
       "    },\n",
       "    {\n",
       "      \"id\": 5,\n",
       "      \"text\": \"2\",\n",
       "      \"lemma\": \"2\",\n",
       "      \"upos\": \"NUM\",\n",
       "      \"xpos\": \"CD\",\n",
       "      \"feats\": \"NumForm=Digit|NumType=Card\",\n",
       "      \"head\": 6,\n",
       "      \"deprel\": \"nummod\",\n",
       "      \"start_char\": 13,\n",
       "      \"end_char\": 14,\n",
       "      \"ner\": \"O\",\n",
       "      \"multi_ner\": [\n",
       "        \"O\"\n",
       "      ]\n",
       "    },\n",
       "    {\n",
       "      \"id\": 6,\n",
       "      \"text\": \"set\",\n",
       "      \"lemma\": \"set\",\n",
       "      \"upos\": \"NOUN\",\n",
       "      \"xpos\": \"NN\",\n",
       "      \"feats\": \"Number=Sing\",\n",
       "      \"head\": 4,\n",
       "      \"deprel\": \"conj\",\n",
       "      \"start_char\": 15,\n",
       "      \"end_char\": 18,\n",
       "      \"ner\": \"O\",\n",
       "      \"multi_ner\": [\n",
       "        \"O\"\n",
       "      ]\n",
       "    },\n",
       "    {\n",
       "      \"id\": 7,\n",
       "      \"text\": \"/\",\n",
       "      \"lemma\": \"/\",\n",
       "      \"upos\": \"SYM\",\n",
       "      \"xpos\": \"SYM\",\n",
       "      \"head\": 9,\n",
       "      \"deprel\": \"cc\",\n",
       "      \"start_char\": 19,\n",
       "      \"end_char\": 20,\n",
       "      \"ner\": \"O\",\n",
       "      \"multi_ner\": [\n",
       "        \"O\"\n",
       "      ]\n",
       "    },\n",
       "    {\n",
       "      \"id\": 8,\n",
       "      \"text\": \"2775\",\n",
       "      \"lemma\": \"2775\",\n",
       "      \"upos\": \"NUM\",\n",
       "      \"xpos\": \"CD\",\n",
       "      \"feats\": \"NumForm=Digit|NumType=Card\",\n",
       "      \"head\": 9,\n",
       "      \"deprel\": \"nummod\",\n",
       "      \"start_char\": 21,\n",
       "      \"end_char\": 25,\n",
       "      \"ner\": \"O\",\n",
       "      \"multi_ner\": [\n",
       "        \"O\"\n",
       "      ],\n",
       "      \"misc\": \"SpaceAfter=No\"\n",
       "    },\n",
       "    {\n",
       "      \"id\": 9,\n",
       "      \"text\": \"kW\",\n",
       "      \"lemma\": \"kw\",\n",
       "      \"upos\": \"NOUN\",\n",
       "      \"xpos\": \"NNS\",\n",
       "      \"feats\": \"Number=Plur\",\n",
       "      \"head\": 4,\n",
       "      \"deprel\": \"conj\",\n",
       "      \"start_char\": 25,\n",
       "      \"end_char\": 27,\n",
       "      \"ner\": \"O\",\n",
       "      \"multi_ner\": [\n",
       "        \"O\"\n",
       "      ]\n",
       "    },\n",
       "    {\n",
       "      \"id\": 10,\n",
       "      \"text\": \"2\",\n",
       "      \"lemma\": \"2\",\n",
       "      \"upos\": \"NUM\",\n",
       "      \"xpos\": \"CD\",\n",
       "      \"feats\": \"NumForm=Digit|NumType=Card\",\n",
       "      \"head\": 9,\n",
       "      \"deprel\": \"nummod\",\n",
       "      \"start_char\": 28,\n",
       "      \"end_char\": 29,\n",
       "      \"ner\": \"S-CARDINAL\",\n",
       "      \"multi_ner\": [\n",
       "        \"S-CARDINAL\"\n",
       "      ]\n",
       "    },\n",
       "    {\n",
       "      \"id\": 11,\n",
       "      \"text\": \"set\",\n",
       "      \"lemma\": \"set\",\n",
       "      \"upos\": \"NOUN\",\n",
       "      \"xpos\": \"NN\",\n",
       "      \"feats\": \"Number=Sing\",\n",
       "      \"head\": 4,\n",
       "      \"deprel\": \"conj\",\n",
       "      \"start_char\": 30,\n",
       "      \"end_char\": 33,\n",
       "      \"ner\": \"O\",\n",
       "      \"multi_ner\": [\n",
       "        \"O\"\n",
       "      ],\n",
       "      \"misc\": \"SpaceAfter=No\"\n",
       "    }\n",
       "  ]\n",
       "]"
      ]
     },
     "execution_count": 43,
     "metadata": {},
     "output_type": "execute_result"
    }
   ],
   "source": [
    "sentence = \"capa: 3700kW 2 set / 2775kW 2 set\"\n",
    "doc = nlp(sentence)\n",
    "doc"
   ]
  },
  {
   "cell_type": "code",
   "execution_count": 9,
   "id": "d4e776c4",
   "metadata": {},
   "outputs": [
    {
     "data": {
      "text/plain": [
       "[{\n",
       "   \"text\": \"Barack Obama\",\n",
       "   \"type\": \"PERSON\",\n",
       "   \"start_char\": 0,\n",
       "   \"end_char\": 12\n",
       " },\n",
       " {\n",
       "   \"text\": \"Hawaii\",\n",
       "   \"type\": \"GPE\",\n",
       "   \"start_char\": 25,\n",
       "   \"end_char\": 31\n",
       " }]"
      ]
     },
     "execution_count": 9,
     "metadata": {},
     "output_type": "execute_result"
    }
   ],
   "source": [
    "doc.entities"
   ]
  },
  {
   "cell_type": "markdown",
   "id": "8f6c1feb",
   "metadata": {},
   "source": [
    "## 한글"
   ]
  },
  {
   "cell_type": "code",
   "execution_count": 10,
   "id": "d4de8808",
   "metadata": {
    "scrolled": true
   },
   "outputs": [
    {
     "data": {
      "application/vnd.jupyter.widget-view+json": {
       "model_id": "5fec7be6d8be470d9f314fa133127185",
       "version_major": 2,
       "version_minor": 0
      },
      "text/plain": [
       "Downloading https://raw.githubusercontent.com/stanfordnlp/stanza-resources/main/resources_1.8.0.json:   0%|   …"
      ]
     },
     "metadata": {},
     "output_type": "display_data"
    },
    {
     "name": "stderr",
     "output_type": "stream",
     "text": [
      "2024-03-15 10:13:00 INFO: Downloaded file to C:\\Users\\jongb\\stanza_resources\\resources.json\n",
      "2024-03-15 10:13:00 INFO: Downloading default packages for language: ko (Korean) ...\n"
     ]
    },
    {
     "data": {
      "application/vnd.jupyter.widget-view+json": {
       "model_id": "9964e99fbf6f4d90bbf643e5bb0a1a04",
       "version_major": 2,
       "version_minor": 0
      },
      "text/plain": [
       "Downloading https://huggingface.co/stanfordnlp/stanza-ko/resolve/v1.8.0/models/default.zip:   0%|          | 0…"
      ]
     },
     "metadata": {},
     "output_type": "display_data"
    },
    {
     "name": "stderr",
     "output_type": "stream",
     "text": [
      "2024-03-15 10:13:08 INFO: Downloaded file to C:\\Users\\jongb\\stanza_resources\\ko\\default.zip\n",
      "2024-03-15 10:13:09 INFO: Finished downloading models and saved to C:\\Users\\jongb\\stanza_resources\n",
      "2024-03-15 10:13:09 INFO: Checking for updates to resources.json in case models have been updated.  Note: this behavior can be turned off with download_method=None or download_method=DownloadMethod.REUSE_RESOURCES\n"
     ]
    },
    {
     "data": {
      "application/vnd.jupyter.widget-view+json": {
       "model_id": "d3dff294396b402d9792a2571d338b49",
       "version_major": 2,
       "version_minor": 0
      },
      "text/plain": [
       "Downloading https://raw.githubusercontent.com/stanfordnlp/stanza-resources/main/resources_1.8.0.json:   0%|   …"
      ]
     },
     "metadata": {},
     "output_type": "display_data"
    },
    {
     "name": "stderr",
     "output_type": "stream",
     "text": [
      "2024-03-15 10:13:09 INFO: Downloaded file to C:\\Users\\jongb\\stanza_resources\\resources.json\n",
      "2024-03-15 10:13:10 INFO: Loading these models for language: ko (Korean):\n",
      "==============================\n",
      "| Processor | Package        |\n",
      "------------------------------\n",
      "| tokenize  | kaist          |\n",
      "| pos       | kaist_nocharlm |\n",
      "| lemma     | kaist_nocharlm |\n",
      "| depparse  | kaist_nocharlm |\n",
      "==============================\n",
      "\n",
      "2024-03-15 10:13:10 INFO: Using device: cpu\n",
      "2024-03-15 10:13:10 INFO: Loading: tokenize\n",
      "2024-03-15 10:13:10 INFO: Loading: pos\n",
      "2024-03-15 10:13:10 INFO: Loading: lemma\n",
      "2024-03-15 10:13:10 INFO: Loading: depparse\n",
      "2024-03-15 10:13:11 INFO: Done loading processors!\n"
     ]
    }
   ],
   "source": [
    "stanza.download('ko') # download English model\n",
    "ko_nlp = stanza.Pipeline('ko') # initialize English neural pipeline"
   ]
  },
  {
   "cell_type": "code",
   "execution_count": 44,
   "id": "4783ea81",
   "metadata": {},
   "outputs": [
    {
     "data": {
      "text/plain": [
       "[\n",
       "  [\n",
       "    {\n",
       "      \"id\": 1,\n",
       "      \"text\": \"나는\",\n",
       "      \"lemma\": \"나는\",\n",
       "      \"upos\": \"PUNCT\",\n",
       "      \"xpos\": \"``\",\n",
       "      \"head\": 4,\n",
       "      \"deprel\": \"reparandum\",\n",
       "      \"start_char\": 0,\n",
       "      \"end_char\": 2,\n",
       "      \"ner\": \"O\",\n",
       "      \"multi_ner\": [\n",
       "        \"O\"\n",
       "      ]\n",
       "    },\n",
       "    {\n",
       "      \"id\": 2,\n",
       "      \"text\": \"사과보다\",\n",
       "      \"lemma\": \"사과보다\",\n",
       "      \"upos\": \"PUNCT\",\n",
       "      \"xpos\": \":\",\n",
       "      \"head\": 1,\n",
       "      \"deprel\": \"punct\",\n",
       "      \"start_char\": 3,\n",
       "      \"end_char\": 7,\n",
       "      \"ner\": \"O\",\n",
       "      \"multi_ner\": [\n",
       "        \"O\"\n",
       "      ]\n",
       "    },\n",
       "    {\n",
       "      \"id\": 3,\n",
       "      \"text\": \"딸기가\",\n",
       "      \"lemma\": \"딸기가\",\n",
       "      \"upos\": \"SYM\",\n",
       "      \"xpos\": \"SYM\",\n",
       "      \"head\": 4,\n",
       "      \"deprel\": \"discourse\",\n",
       "      \"start_char\": 8,\n",
       "      \"end_char\": 11,\n",
       "      \"ner\": \"O\",\n",
       "      \"multi_ner\": [\n",
       "        \"O\"\n",
       "      ]\n",
       "    },\n",
       "    {\n",
       "      \"id\": 4,\n",
       "      \"text\": \"좋습니다\",\n",
       "      \"lemma\": \"좋습니다\",\n",
       "      \"upos\": \"PUNCT\",\n",
       "      \"xpos\": \".\",\n",
       "      \"head\": 0,\n",
       "      \"deprel\": \"root\",\n",
       "      \"start_char\": 12,\n",
       "      \"end_char\": 16,\n",
       "      \"ner\": \"O\",\n",
       "      \"multi_ner\": [\n",
       "        \"O\"\n",
       "      ],\n",
       "      \"misc\": \"SpaceAfter=No\"\n",
       "    },\n",
       "    {\n",
       "      \"id\": 5,\n",
       "      \"text\": \".\",\n",
       "      \"lemma\": \".\",\n",
       "      \"upos\": \"PUNCT\",\n",
       "      \"xpos\": \".\",\n",
       "      \"head\": 4,\n",
       "      \"deprel\": \"punct\",\n",
       "      \"start_char\": 16,\n",
       "      \"end_char\": 17,\n",
       "      \"ner\": \"O\",\n",
       "      \"multi_ner\": [\n",
       "        \"O\"\n",
       "      ],\n",
       "      \"misc\": \"SpaceAfter=No\"\n",
       "    }\n",
       "  ]\n",
       "]"
      ]
     },
     "execution_count": 44,
     "metadata": {},
     "output_type": "execute_result"
    }
   ],
   "source": [
    "sentence = \"나는 사과보다 딸기가 좋습니다.\"\n",
    "doc = nlp(sentence)\n",
    "doc"
   ]
  },
  {
   "cell_type": "code",
   "execution_count": null,
   "id": "2a80d2d2",
   "metadata": {},
   "outputs": [],
   "source": []
  },
  {
   "cell_type": "code",
   "execution_count": null,
   "id": "756ded53",
   "metadata": {},
   "outputs": [],
   "source": []
  }
 ],
 "metadata": {
  "kernelspec": {
   "display_name": "Python 3 (ipykernel)",
   "language": "python",
   "name": "python3"
  },
  "language_info": {
   "codemirror_mode": {
    "name": "ipython",
    "version": 3
   },
   "file_extension": ".py",
   "mimetype": "text/x-python",
   "name": "python",
   "nbconvert_exporter": "python",
   "pygments_lexer": "ipython3",
   "version": "3.10.6"
  },
  "toc": {
   "base_numbering": 1,
   "nav_menu": {},
   "number_sections": true,
   "sideBar": true,
   "skip_h1_title": false,
   "title_cell": "Table of Contents",
   "title_sidebar": "Contents",
   "toc_cell": false,
   "toc_position": {
    "height": "calc(100% - 180px)",
    "left": "10px",
    "top": "150px",
    "width": "349.091px"
   },
   "toc_section_display": true,
   "toc_window_display": true
  }
 },
 "nbformat": 4,
 "nbformat_minor": 5
}
