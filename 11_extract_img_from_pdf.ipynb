{
 "cells": [
  {
   "cell_type": "code",
   "execution_count": 1,
   "id": "21658a23-89d5-465e-b7a2-5ce90013bb44",
   "metadata": {},
   "outputs": [],
   "source": [
    "from spire.pdf.common import *\n",
    "from spire.pdf import *"
   ]
  },
  {
   "cell_type": "code",
   "execution_count": 2,
   "id": "3ed29fce-5bba-49d7-aa8c-682eea97ed6a",
   "metadata": {},
   "outputs": [],
   "source": [
    "# Create a PdfDocument object\n",
    "doc = PdfDocument()"
   ]
  },
  {
   "cell_type": "code",
   "execution_count": 20,
   "id": "abed0829-6152-4ba6-b3fa-65d818dd31bd",
   "metadata": {},
   "outputs": [
    {
     "ename": "SpireException",
     "evalue": "Invalid/Unknown/Unsupported format:   at sprdvx.sprb(String) + 0x194\r\n   at sprdvm.spra(Stream, Boolean) + 0xe8\r\n   at sprdfi..ctor(Stream, String, Boolean) + 0x16d\r\n   at sprdfi..ctor(String) + 0x28\r\n   at Spire.Pdf.PdfDocument.LoadFromFile(String) + 0x27\r\n   at Spire.Pdf.AOT.NLPdfDocument.PdfDocument_LoadFromFile(IntPtr, IntPtr, IntPtr) + 0x66",
     "output_type": "error",
     "traceback": [
      "\u001b[1;31m---------------------------------------------------------------------------\u001b[0m",
      "\u001b[1;31mSpireException\u001b[0m                            Traceback (most recent call last)",
      "Cell \u001b[1;32mIn[20], line 3\u001b[0m\n\u001b[0;32m      1\u001b[0m \u001b[38;5;66;03m# Load a PDF document\u001b[39;00m\n\u001b[0;32m      2\u001b[0m \u001b[38;5;66;03m# doc.LoadFromFile('./sample_pdf/LNGC.pdf.pdf')\u001b[39;00m\n\u001b[1;32m----> 3\u001b[0m \u001b[43mdoc\u001b[49m\u001b[38;5;241;43m.\u001b[39;49m\u001b[43mLoadFromFile\u001b[49m\u001b[43m(\u001b[49m\u001b[38;5;124;43m'\u001b[39;49m\u001b[38;5;124;43m./images/Image-1.png\u001b[39;49m\u001b[38;5;124;43m'\u001b[39;49m\u001b[43m)\u001b[49m\n",
      "File \u001b[1;32mD:\\GG_env\\llm_env\\lib\\site-packages\\spire\\pdf\\PdfDocument.py:1490\u001b[0m, in \u001b[0;36mPdfDocument.LoadFromFile\u001b[1;34m(self, *args, **kwargs)\u001b[0m\n\u001b[0;32m   1488\u001b[0m \u001b[38;5;66;03m# Original logic for LoadFromFile(filename)\u001b[39;00m\n\u001b[0;32m   1489\u001b[0m GetDllLibPdf()\u001b[38;5;241m.\u001b[39mPdfDocument_LoadFromFile\u001b[38;5;241m.\u001b[39margtypes \u001b[38;5;241m=\u001b[39m [c_void_p, c_wchar_p]\n\u001b[1;32m-> 1490\u001b[0m \u001b[43mCallCFunction\u001b[49m\u001b[43m(\u001b[49m\u001b[43mGetDllLibPdf\u001b[49m\u001b[43m(\u001b[49m\u001b[43m)\u001b[49m\u001b[38;5;241;43m.\u001b[39;49m\u001b[43mPdfDocument_LoadFromFile\u001b[49m\u001b[43m,\u001b[49m\u001b[38;5;28;43mself\u001b[39;49m\u001b[38;5;241;43m.\u001b[39;49m\u001b[43mPtr\u001b[49m\u001b[43m,\u001b[49m\u001b[43m \u001b[49m\u001b[43mfilename\u001b[49m\u001b[43m)\u001b[49m\n",
      "File \u001b[1;32mD:\\GG_env\\llm_env\\lib\\site-packages\\spire\\pdf\\common\\__init__.py:109\u001b[0m, in \u001b[0;36mCallCFunction\u001b[1;34m(func, *args, **kwargs)\u001b[0m\n\u001b[0;32m    107\u001b[0m \u001b[38;5;28;01mif\u001b[39;00m old_value \u001b[38;5;241m!=\u001b[39m modified_value:\n\u001b[0;32m    108\u001b[0m     info \u001b[38;5;241m=\u001b[39m PtrToStr(modified_value)\n\u001b[1;32m--> 109\u001b[0m     \u001b[38;5;28;01mraise\u001b[39;00m SpireException(info)\n\u001b[0;32m    110\u001b[0m \u001b[38;5;28;01mreturn\u001b[39;00m result\n",
      "\u001b[1;31mSpireException\u001b[0m: Invalid/Unknown/Unsupported format:   at sprdvx.sprb(String) + 0x194\r\n   at sprdvm.spra(Stream, Boolean) + 0xe8\r\n   at sprdfi..ctor(Stream, String, Boolean) + 0x16d\r\n   at sprdfi..ctor(String) + 0x28\r\n   at Spire.Pdf.PdfDocument.LoadFromFile(String) + 0x27\r\n   at Spire.Pdf.AOT.NLPdfDocument.PdfDocument_LoadFromFile(IntPtr, IntPtr, IntPtr) + 0x66"
     ]
    }
   ],
   "source": [
    "# Load a PDF document\n",
    "doc.LoadFromFile('./sample_pdf/LNGC.pdf.pdf')"
   ]
  },
  {
   "cell_type": "code",
   "execution_count": 16,
   "id": "74996aed-1bd0-4bb5-84a6-82c69e53008b",
   "metadata": {},
   "outputs": [
    {
     "data": {
      "text/plain": [
       "<spire.pdf.PdfPageBase.PdfPageBase at 0x2b3766203a0>"
      ]
     },
     "execution_count": 16,
     "metadata": {},
     "output_type": "execute_result"
    }
   ],
   "source": [
    "# Get a specific page\n",
    "page = doc.Pages[116]\n",
    "page"
   ]
  },
  {
   "cell_type": "code",
   "execution_count": 17,
   "id": "880ad7e4-1d4a-4959-8725-02cc561e6f3b",
   "metadata": {},
   "outputs": [],
   "source": [
    "# Extract images from the page\n",
    "images = []\n",
    "for image in page.ExtractImages():\n",
    "    images.append(image)"
   ]
  },
  {
   "cell_type": "code",
   "execution_count": 18,
   "id": "75b17618-84c9-417e-80f3-37c9a064fc78",
   "metadata": {},
   "outputs": [
    {
     "data": {
      "text/plain": [
       "[<spire.pdf.common.Image.Image at 0x2b376620520>,\n",
       " <spire.pdf.common.Image.Image at 0x2b3766dcaf0>,\n",
       " <spire.pdf.common.Image.Image at 0x2b3766dca00>]"
      ]
     },
     "execution_count": 18,
     "metadata": {},
     "output_type": "execute_result"
    }
   ],
   "source": [
    "images"
   ]
  },
  {
   "cell_type": "code",
   "execution_count": 19,
   "id": "41651eb9-91ef-44f8-b75a-6959a8951716",
   "metadata": {},
   "outputs": [],
   "source": [
    "# Save images to specified location with specified format extension\n",
    "index = 0\n",
    "for image in images:\n",
    "    imageFileName = './images/Image-{0:d}.png'.format(index)\n",
    "    index += 1\n",
    "    image.Save(imageFileName, ImageFormat.get_Png())\n",
    "doc.Close()"
   ]
  },
  {
   "cell_type": "code",
   "execution_count": null,
   "id": "9c638a2f-7f70-4659-92b5-4031f1f1f1d6",
   "metadata": {},
   "outputs": [],
   "source": []
  }
 ],
 "metadata": {
  "kernelspec": {
   "display_name": "Python 3 (ipykernel)",
   "language": "python",
   "name": "python3"
  },
  "language_info": {
   "codemirror_mode": {
    "name": "ipython",
    "version": 3
   },
   "file_extension": ".py",
   "mimetype": "text/x-python",
   "name": "python",
   "nbconvert_exporter": "python",
   "pygments_lexer": "ipython3",
   "version": "3.10.11"
  }
 },
 "nbformat": 4,
 "nbformat_minor": 5
}
