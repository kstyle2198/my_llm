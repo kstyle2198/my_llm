{
 "cells": [
  {
   "cell_type": "markdown",
   "id": "9d40b460",
   "metadata": {},
   "source": [
    "# PDFPLUMBER"
   ]
  },
  {
   "cell_type": "code",
   "execution_count": 1,
   "id": "87031e1c",
   "metadata": {},
   "outputs": [],
   "source": [
    "import pdfplumber\n",
    "import pandas as pd"
   ]
  },
  {
   "cell_type": "code",
   "execution_count": 4,
   "id": "bcbb2de7",
   "metadata": {},
   "outputs": [
    {
     "data": {
      "text/plain": [
       "'C:\\\\my_develop2\\\\my_llm\\\\sample_pdf\\\\c4611_sample_explain.pdf'"
      ]
     },
     "execution_count": 4,
     "metadata": {},
     "output_type": "execute_result"
    }
   ],
   "source": [
    "pdf_path = \"C:\\my_develop2\\my_llm\\sample_pdf\\c4611_sample_explain.pdf\"\n",
    "# pdf_path = \"C:\\my_develop2\\my_llm\\도면포함.pdf\"\n",
    "\n",
    "pdf_path"
   ]
  },
  {
   "cell_type": "code",
   "execution_count": 5,
   "id": "46c58629",
   "metadata": {},
   "outputs": [
    {
     "name": "stdout",
     "output_type": "stream",
     "text": [
      "1번째\n",
      "{'matrix': (8.9992, 0.0, 0.0, 8.9992, 128.55, 707.767), 'fontname': 'HOEPAP+Arial', 'adv': 0.278, 'upright': True, 'x0': 128.55, 'y0': 705.8681688, 'x1': 131.0517776, 'y1': 714.8673688, 'width': 2.501777599999997, 'height': 8.999199999999973, 'size': 8.999199999999973, 'mcid': None, 'tag': None, 'object_type': 'char', 'page_number': 1, 'ncs': 'DeviceRGB', 'text': ' ', 'stroking_color': None, 'stroking_pattern': None, 'non_stroking_color': (0, 0, 0), 'non_stroking_pattern': None, 'top': 77.13263119999999, 'bottom': 86.13183119999997, 'doctop': 77.13263119999999}\n",
      "------------------------------------------------------------\n",
      "2번째\n",
      "{'matrix': (11.0391, 0.0, 0.0, 11.0391, 520.1973, 742.0842), 'fontname': 'HOEPGL+TimesNewRoman', 'adv': 0.25, 'upright': True, 'x0': 520.1973, 'y0': 739.6997544, 'x1': 522.957075, 'y1': 750.7388544, 'width': 2.7597749999999905, 'height': 11.039100000000076, 'size': 11.039100000000076, 'mcid': None, 'tag': None, 'object_type': 'char', 'page_number': 2, 'ncs': 'DeviceRGB', 'text': ' ', 'stroking_color': None, 'stroking_pattern': None, 'non_stroking_color': (0, 0, 0), 'non_stroking_pattern': None, 'top': 41.26114559999996, 'bottom': 52.30024560000004, 'doctop': 833.2611456}\n",
      "------------------------------------------------------------\n",
      "3번째\n",
      "{'matrix': (8.9992, 0.0, 0.0, 8.9992, 57.6359, 693.6082), 'fontname': 'HOEPAP+Arial', 'adv': 0.278, 'upright': True, 'x0': 57.6359, 'y0': 691.7093688, 'x1': 60.137677599999996, 'y1': 700.7085688, 'width': 2.501777599999997, 'height': 8.999199999999973, 'size': 8.999199999999973, 'mcid': None, 'tag': None, 'object_type': 'char', 'page_number': 3, 'ncs': 'DeviceRGB', 'text': ' ', 'stroking_color': None, 'stroking_pattern': None, 'non_stroking_color': (0, 0, 0), 'non_stroking_pattern': None, 'top': 91.29143120000003, 'bottom': 100.2906312, 'doctop': 1675.2914312}\n",
      "------------------------------------------------------------\n",
      "4번째\n",
      "{'matrix': (8.9992, 0.0, 0.0, 8.9992, 57.6359, 48.30526536000002), 'fontname': 'HOEPAP+Arial', 'adv': 0.667, 'upright': True, 'x0': 57.6359, 'y0': 46.40643416000002, 'x1': 63.6383664, 'y1': 55.40563416000002, 'width': 6.002466400000003, 'height': 8.999200000000002, 'size': 8.999200000000002, 'mcid': None, 'tag': None, 'object_type': 'char', 'page_number': 4, 'ncs': 'DeviceRGB', 'text': 'P', 'stroking_color': None, 'stroking_pattern': None, 'non_stroking_color': (0, 0, 0), 'non_stroking_pattern': None, 'top': 736.59436584, 'bottom': 745.59356584, 'doctop': 3112.59436584}\n",
      "------------------------------------------------------------\n"
     ]
    }
   ],
   "source": [
    "with pdfplumber.open(pdf_path) as pdf:\n",
    "#     print(len(pdf.pages))\n",
    "    results = []\n",
    "    for i in range(len(pdf.pages)):\n",
    "        print(f\"{i+1}번째\")\n",
    "        first_page = pdf.pages[i]\n",
    "        print(first_page.chars[i])\n",
    "        results.append(first_page.chars[i])\n",
    "        print(\"---\"*20)"
   ]
  },
  {
   "cell_type": "code",
   "execution_count": 6,
   "id": "661a38d9",
   "metadata": {
    "scrolled": true
   },
   "outputs": [
    {
     "data": {
      "text/plain": [
       "{'matrix': (8.9992, 0.0, 0.0, 8.9992, 128.55, 707.767),\n",
       " 'fontname': 'HOEPAP+Arial',\n",
       " 'adv': 0.278,\n",
       " 'upright': True,\n",
       " 'x0': 128.55,\n",
       " 'y0': 705.8681688,\n",
       " 'x1': 131.0517776,\n",
       " 'y1': 714.8673688,\n",
       " 'width': 2.501777599999997,\n",
       " 'height': 8.999199999999973,\n",
       " 'size': 8.999199999999973,\n",
       " 'mcid': None,\n",
       " 'tag': None,\n",
       " 'object_type': 'char',\n",
       " 'page_number': 1,\n",
       " 'ncs': 'DeviceRGB',\n",
       " 'text': ' ',\n",
       " 'stroking_color': None,\n",
       " 'stroking_pattern': None,\n",
       " 'non_stroking_color': (0, 0, 0),\n",
       " 'non_stroking_pattern': None,\n",
       " 'top': 77.13263119999999,\n",
       " 'bottom': 86.13183119999997,\n",
       " 'doctop': 77.13263119999999}"
      ]
     },
     "execution_count": 6,
     "metadata": {},
     "output_type": "execute_result"
    }
   ],
   "source": [
    "results[0]"
   ]
  },
  {
   "cell_type": "markdown",
   "id": "4fa6e7a0",
   "metadata": {},
   "source": [
    "## Implementing Block-Based Parsing"
   ]
  },
  {
   "cell_type": "code",
   "execution_count": 7,
   "id": "89547b4a",
   "metadata": {
    "scrolled": true
   },
   "outputs": [
    {
     "name": "stdout",
     "output_type": "stream",
     "text": [
      "PDF BOOKMARK SAMPLE\n",
      "Sample Date:\n",
      "May 2001\n",
      "Prepared by:\n",
      "Accelio Present Applied Technology\n",
      "Created and Tested Using:\n",
      "Accelio Present Central 5.4\n",
      "Accelio Present Output Designer 5.4\n",
      "Features Demonstrated:\n",
      "Primary bookmarks in a PDF file.\n",
      "Secondary bookmarks in a PDF file.\n",
      "This sample consists of a simple form containing four distinct fields. The data file contains eight\n",
      "separate records.\n",
      "By default, the data file will produce a PDF file containing eight separate pages. The selective\n",
      "use of the bookmark file will produce the same PDF with a separate pane containing\n",
      "bookmarks. This screenshot of the sample output shows a PDF file with bookmarks.\n",
      "The left pane displays the available bookmarks for this PDF. You may need to enable the\n",
      "Acrobat Reader by clicking Window > Show Bookmarks.\n",
      "display of bookmarks in Adobe\n",
      "Selecting a date from the left pane displays the corresponding page within the document.\n",
      "Note that the index has been sorted according to the specification in the bookmark file, and that\n",
      "pages within the file are created according to the original order in the data file.\n",
      "PDF Bookmark Sample Page 1 of 4\n",
      "Sample Data File\n",
      "Sample Bookmark File\n",
      "^reformat trunc\n",
      "^symbolset WINLATIN1\n",
      "Invoices by Date=0\n",
      "^field trans_date\n",
      "^field description\n",
      "Invoices by Item Type=0\n",
      "Description for item #1\n",
      "^field trans_type\n",
      "Invoices by Transaction Amount=0\n",
      "^field trans_amount\n",
      "^page 1\n",
      "^field trans_date\n",
      "^field description\n",
      "Description for item #2\n",
      "^field trans_type\n",
      "^field trans_amount\n",
      "^page 1\n",
      "^field trans_date\n",
      "^field description\n",
      "Description for item #3\n",
      "^field trans_type\n",
      "The example bookmark file includes three distinct sections:\n",
      "Invoices sorted, ascending, by date.\n",
      "Invoices sorted, ascending, by item type.\n",
      "Invoices sorted, descending, by transaction amount.\n",
      "PDF Bookmark Sample Page 2 of 4\n",
      "Sample Files\n",
      "This sample package contains:\n",
      "Filename Description\n",
      "ap_bookmark.IFD The template design.\n",
      "ap_bookmark.mdf The template targeted for PDF output.\n",
      "ap_bookmark.dat A sample data file in DAT format.\n",
      "ap_bookmark.bmk A sample bookmark file.\n",
      "ap_bookmark.pdf Sample PDF output.\n",
      "ap_bookmark_doc.pdf A document describing the sample.\n",
      "Deploying the Sample\n",
      "To deploy this sample in your environment:\n",
      "1. Open the template design ap_bookmark.IFD in Output Designer and recompile the\n",
      "template for the appropriate presentment target.\n",
      "2. Modify the -z option in the ^job command in the data file ap_bookmark.dat to:\n",
      "Identify the target output device.\n",
      "Identify the bookmark file using the -abmk command.\n",
      "Identify the section for which to generate bookmarks, if desired, using the -abms\n",
      "For example,\n",
      "To bookmark by (cid:133) Use the command line parameter (cid:133)\n",
      "-abmkap_bookmark.bmk -abmsinvoices\n",
      "-abmkap_bookmark.bmk -abmstype\n",
      "-abmkap_bookmark.bmk -abmsamount\n",
      "PDF Bookmark Sample Page 3 of 4\n",
      "3. Place the accompanying files in directories consistent with your implementation:\n",
      "Place ap_bookmark.IFD in the Designs subdirectory for Output Designer.\n",
      "Place ap_bookmark.mdf in the forms subdirectory accessible to Central.\n",
      "Place ap_bookmark.bmk in an addressable directory.\n",
      "Running the Sample\n",
      "To run this sample, place ap_bookmark.dat in the collector directory scanned by Central.\n",
      "PDF Bookmark Sample Page 4 of 4\n"
     ]
    }
   ],
   "source": [
    "# Open the PDF file\n",
    "results = \"\"\n",
    "with pdfplumber.open(pdf_path) as pdf:\n",
    "    # Iterate through each page\n",
    "    for page in pdf.pages:\n",
    "        # Extract words using .extract_words() method\n",
    "        words = page.extract_words()\n",
    "        \n",
    "        # For demonstration, we'll group words by their y-coordinate (top position)\n",
    "        # This is a simple example of identifying blocks based on their vertical position\n",
    "        # A more sophisticated approach might involve clustering based on both x and y coordinates\n",
    "        lines = {}\n",
    "        for word in words:\n",
    "            line_top = word['top']\n",
    "            if line_top not in lines:\n",
    "                lines[line_top] = []\n",
    "            lines[line_top].append(word['text'])\n",
    "        \n",
    "        # Sort and print lines based on their y-coordinate\n",
    "        for top in sorted(lines.keys()):\n",
    "            if len(lines[top]) > 1:\n",
    "                result = ' '.join(lines[top])\n",
    "                print(result)\n",
    "            results = results + \"\\n\" + result"
   ]
  },
  {
   "cell_type": "code",
   "execution_count": 8,
   "id": "8b2d8af3",
   "metadata": {},
   "outputs": [
    {
     "data": {
      "text/plain": [
       "'\\nPDF BOOKMARK SAMPLE\\nSample Date:\\nMay 2001\\nPrepared by:\\nAccelio Present Applied Technology\\nCreated and Tested Using:\\nCreated and Tested Using:\\nAccelio Present Central 5.4\\nAccelio Present Central 5.4\\nAccelio Present Output Designer 5.4\\nFeatures Demonstrated:\\nFeatures Demonstrated:\\nPrimary bookmarks in a PDF file.\\nPrimary bookmarks in a PDF file.\\nSecondary bookmarks in a PDF file.\\nSecondary bookmarks in a PDF file.\\nThis sample consists of a simple form containing four distinct fields. The data file contains eight\\nseparate records.\\nBy default, the data file will produce a PDF file containing eight separate pages. The selective\\nuse of the bookmark file will produce the same PDF with a separate pane containing\\nbookmarks. This screenshot of the sample output shows a PDF file with bookmarks.\\nThe left pane displays the available bookmarks for this PDF. You may need to enable the\\nAcrobat\\uf8e8 Reader by clicking Window > Show Bookmarks.\\ndisplay of bookmarks in Adobe\\uf8e8\\nSelecting a date from the left pane displays the corresponding page within the document.\\nNote that the index has been sorted according to the specification in the bookmark file, and that\\npages within the file are created according to the original order in the data file.\\nPDF Bookmark Sample Page 1 of 4\\nSample Data File\\nSample Bookmark File\\n^reformat trunc\\n^reformat trunc\\n^symbolset WINLATIN1\\nInvoices by Date=0\\n^field trans_date\\n^field trans_date\\n^field trans_date\\n^field trans_date\\n^field description\\nInvoices by Item Type=0\\nDescription for item #1\\nDescription for item #1\\n^field trans_type\\n^field trans_type\\n^field trans_type\\nInvoices by Transaction Amount=0\\n^field trans_amount\\n^field trans_amount\\n^field trans_amount\\n^page 1\\n^field trans_date\\n^field trans_date\\n^field description\\nDescription for item #2\\n^field trans_type\\n^field trans_type\\n^field trans_amount\\n^field trans_amount\\n^page 1\\n^field trans_date\\n^field trans_date\\n^field description\\nDescription for item #3\\n^field trans_type\\n^field trans_type\\nThe example bookmark file includes three distinct sections:\\nThe example bookmark file includes three distinct sections:\\nInvoices sorted, ascending, by date.\\nInvoices sorted, ascending, by date.\\nInvoices sorted, ascending, by item type.\\nInvoices sorted, ascending, by item type.\\nInvoices sorted, descending, by transaction amount.\\nPDF Bookmark Sample Page 2 of 4\\nSample Files\\nThis sample package contains:\\nFilename Description\\nap_bookmark.IFD The template design.\\nap_bookmark.mdf The template targeted for PDF output.\\nap_bookmark.dat A sample data file in DAT format.\\nap_bookmark.bmk A sample bookmark file.\\nap_bookmark.pdf Sample PDF output.\\nap_bookmark_doc.pdf A document describing the sample.\\nDeploying the Sample\\nTo deploy this sample in your environment:\\n1. Open the template design ap_bookmark.IFD in Output Designer and recompile the\\ntemplate for the appropriate presentment target.\\n2. Modify the -z option in the ^job command in the data file ap_bookmark.dat to:\\n2. Modify the -z option in the ^job command in the data file ap_bookmark.dat to:\\nIdentify the target output device.\\nIdentify the target output device.\\nIdentify the bookmark file using the -abmk command.\\nIdentify the bookmark file using the -abmk command.\\nIdentify the section for which to generate bookmarks, if desired, using the -abms\\nIdentify the section for which to generate bookmarks, if desired, using the -abms\\nFor example,\\nTo bookmark by (cid:133) Use the command line parameter (cid:133)\\n-abmkap_bookmark.bmk -abmsinvoices\\n-abmkap_bookmark.bmk -abmsinvoices\\n-abmkap_bookmark.bmk -abmstype\\n-abmkap_bookmark.bmk -abmstype\\n-abmkap_bookmark.bmk -abmsamount\\n-abmkap_bookmark.bmk -abmsamount\\nPDF Bookmark Sample Page 3 of 4\\n3. Place the accompanying files in directories consistent with your implementation:\\n3. Place the accompanying files in directories consistent with your implementation:\\nPlace ap_bookmark.IFD in the Designs subdirectory for Output Designer.\\nPlace ap_bookmark.IFD in the Designs subdirectory for Output Designer.\\nPlace ap_bookmark.mdf in the forms subdirectory accessible to Central.\\nPlace ap_bookmark.mdf in the forms subdirectory accessible to Central.\\nPlace ap_bookmark.bmk in an addressable directory.\\nRunning the Sample\\nRunning the Sample\\nTo run this sample, place ap_bookmark.dat in the collector directory scanned by Central.\\nPDF Bookmark Sample Page 4 of 4'"
      ]
     },
     "execution_count": 8,
     "metadata": {},
     "output_type": "execute_result"
    }
   ],
   "source": [
    "results"
   ]
  },
  {
   "cell_type": "markdown",
   "id": "cde4af29",
   "metadata": {},
   "source": [
    "## PDF의 테이블을 읽고 LLM에 적합하게 Parsing"
   ]
  },
  {
   "cell_type": "code",
   "execution_count": 9,
   "id": "52304d2f",
   "metadata": {},
   "outputs": [],
   "source": [
    "def extract_table(pdf_path, page_num, table_num):\n",
    "    # Open the pdf file\n",
    "    pdf = pdfplumber.open(pdf_path)\n",
    "    # Find the examined page\n",
    "    table_page = pdf.pages[page_num]\n",
    "    # Extract the appropriate table\n",
    "    table = table_page.extract_tables()[table_num]\n",
    "    return table"
   ]
  },
  {
   "cell_type": "code",
   "execution_count": 10,
   "id": "83f1e746",
   "metadata": {},
   "outputs": [
    {
     "data": {
      "text/plain": [
       "[['Sample Date:', 'May 2001'],\n",
       " ['Prepared by:', 'Accelio Present Applied Technology'],\n",
       " ['Created and Tested Using:',\n",
       "  '• Accelio Present Central 5.4\\n• Accelio Present Output Designer 5.4'],\n",
       " ['Features Demonstrated:',\n",
       "  '• Primary bookmarks in a PDF file.\\n• Secondary bookmarks in a PDF file.']]"
      ]
     },
     "execution_count": 10,
     "metadata": {},
     "output_type": "execute_result"
    }
   ],
   "source": [
    "table = extract_table(pdf_path, 0, 0)\n",
    "table"
   ]
  },
  {
   "cell_type": "code",
   "execution_count": 11,
   "id": "bfadf787",
   "metadata": {},
   "outputs": [],
   "source": [
    "# Convert table into the appropriate format\n",
    "def table_converter(table):\n",
    "    table_string = ''\n",
    "    # Iterate through each row of the table\n",
    "    for row_num in range(len(table)):\n",
    "        row = table[row_num]\n",
    "        # Remove the line breaker from the wrapped texts\n",
    "        cleaned_row = [item.replace('\\n', ' ') if item is not None and '\\n' in item else 'None' if item is None else item for item in row]\n",
    "        # Convert the table into a string \n",
    "        table_string+=('|'+'|'.join(cleaned_row)+'|'+'\\n')\n",
    "    # Removing the last line break\n",
    "    table_string = table_string[:-1]\n",
    "    return table_string"
   ]
  },
  {
   "cell_type": "code",
   "execution_count": 12,
   "id": "1408dfbc",
   "metadata": {},
   "outputs": [
    {
     "data": {
      "text/plain": [
       "'|Sample Date:|May 2001|\\n|Prepared by:|Accelio Present Applied Technology|\\n|Created and Tested Using:|• Accelio Present Central 5.4 • Accelio Present Output Designer 5.4|\\n|Features Demonstrated:|• Primary bookmarks in a PDF file. • Secondary bookmarks in a PDF file.|'"
      ]
     },
     "execution_count": 12,
     "metadata": {},
     "output_type": "execute_result"
    }
   ],
   "source": [
    "table_converter(table)"
   ]
  },
  {
   "cell_type": "markdown",
   "id": "b94d55ac",
   "metadata": {},
   "source": [
    "# pyPDF2"
   ]
  },
  {
   "cell_type": "code",
   "execution_count": 13,
   "id": "b033fbbb",
   "metadata": {},
   "outputs": [
    {
     "name": "stdout",
     "output_type": "stream",
     "text": [
      "--------------------------------------------------\n",
      "  \n",
      " \n",
      "PDF Bookmark Sample Page 3 of 4 \n",
      " Sample Files \n",
      "This sample package contains: \n",
      " \n",
      "Filename Description \n",
      "ap_bookmark.IFD The template design. \n",
      "ap_bookmark.mdf The template targeted for PDF output. \n",
      "ap_bookmark.dat A sample data file in DAT format. \n",
      "ap_bookmark.bmk A sample bookmark file. \n",
      "ap_bookmark.pdf Sample PDF output. \n",
      "ap_bookmark_doc.pdf A document describing the sample. \n",
      "Deploying the Sample \n",
      "To deploy this sample in your environment: \n",
      "1. Open the template design ap_bookmark.IFD  in Output Designer and recompile the \n",
      "template for the appropriate presentment target. \n",
      "2. Modify the -z option in the ^job command in the data file ap_bookmark.dat  to: \n",
      "• Identify the target output device. \n",
      "• Identify the bookmark file using the -abmk  command. \n",
      "• Identify the section for which to generate bookmarks, if desired, using the -abms  \n",
      "command. \n",
      "For example, \n",
      " \n",
      "To bookmark by ",
      "  Use the command line parameter ",
      "  \n",
      "Invoices -abmk ap_bookmark.bmk -abms invoices\n",
      "Type -abmk ap_bookmark.bmk -abms type\n",
      "Amount -abmk ap_bookmark.bmk -abms amount\n"
     ]
    }
   ],
   "source": [
    "import PyPDF2\n",
    "filename = pdf_path\n",
    "pdf_file = open(filename, 'rb')\n",
    "\n",
    "reader = PyPDF2.PdfReader(pdf_file)\n",
    "\n",
    "page_num = 2\n",
    "page = reader.pages[page_num]\n",
    "text = page.extract_text()\n",
    "\n",
    "print('--------------------------------------------------')\n",
    "print(text)\n",
    "\n",
    "pdf_file.close()"
   ]
  },
  {
   "cell_type": "markdown",
   "id": "db125a61",
   "metadata": {},
   "source": [
    "# tabula  (PDF에서 table 추출)"
   ]
  },
  {
   "cell_type": "code",
   "execution_count": 14,
   "id": "e06cdb5b",
   "metadata": {},
   "outputs": [],
   "source": [
    "pdf_path1 = \"C:\\my_develop2\\my_llm\\sample_pdf\\LNGC.pdf.pdf\""
   ]
  },
  {
   "cell_type": "code",
   "execution_count": 15,
   "id": "573a4886",
   "metadata": {},
   "outputs": [],
   "source": [
    "import tabula"
   ]
  },
  {
   "cell_type": "code",
   "execution_count": 16,
   "id": "14ab3a0d",
   "metadata": {
    "scrolled": true
   },
   "outputs": [
    {
     "data": {
      "text/html": [
       "<div>\n",
       "<style scoped>\n",
       "    .dataframe tbody tr th:only-of-type {\n",
       "        vertical-align: middle;\n",
       "    }\n",
       "\n",
       "    .dataframe tbody tr th {\n",
       "        vertical-align: top;\n",
       "    }\n",
       "\n",
       "    .dataframe thead th {\n",
       "        text-align: right;\n",
       "    }\n",
       "</style>\n",
       "<table border=\"1\" class=\"dataframe\">\n",
       "  <thead>\n",
       "    <tr style=\"text-align: right;\">\n",
       "      <th></th>\n",
       "      <th>Unnamed: 0</th>\n",
       "      <th>Unnamed: 1</th>\n",
       "      <th>Plan or</th>\n",
       "      <th>supporting calculation</th>\n",
       "      <th>Unnamed: 2</th>\n",
       "      <th>Unnamed: 3</th>\n",
       "      <th>Unnamed: 4</th>\n",
       "      <th>Unnamed: 5</th>\n",
       "      <th>Containing also</th>\n",
       "      <th>information on</th>\n",
       "      <th>Unnamed: 6</th>\n",
       "      <th>Unnamed: 7</th>\n",
       "      <th>Unnamed: 8</th>\n",
       "    </tr>\n",
       "  </thead>\n",
       "  <tbody>\n",
       "    <tr>\n",
       "      <th>0</th>\n",
       "      <td>Plan</td>\n",
       "      <td>of</td>\n",
       "      <td>weathertight</td>\n",
       "      <td>or outer doors and</td>\n",
       "      <td>NaN</td>\n",
       "      <td>NaN</td>\n",
       "      <td>NaN</td>\n",
       "      <td>NaN</td>\n",
       "      <td>NaN</td>\n",
       "      <td>NaN</td>\n",
       "      <td>NaN</td>\n",
       "      <td>NaN</td>\n",
       "      <td>NaN</td>\n",
       "    </tr>\n",
       "    <tr>\n",
       "      <th>1</th>\n",
       "      <td>NaN</td>\n",
       "      <td>NaN</td>\n",
       "      <td>NaN</td>\n",
       "      <td>NaN</td>\n",
       "      <td>NaN</td>\n",
       "      <td>-</td>\n",
       "      <td>NaN</td>\n",
       "      <td>NaN</td>\n",
       "      <td>NaN</td>\n",
       "      <td>NaN</td>\n",
       "      <td>NaN</td>\n",
       "      <td>NaN</td>\n",
       "      <td>NaN</td>\n",
       "    </tr>\n",
       "    <tr>\n",
       "      <th>2</th>\n",
       "      <td>hatchways</td>\n",
       "      <td>NaN</td>\n",
       "      <td>NaN</td>\n",
       "      <td>NaN</td>\n",
       "      <td>NaN</td>\n",
       "      <td>NaN</td>\n",
       "      <td>NaN</td>\n",
       "      <td>NaN</td>\n",
       "      <td>NaN</td>\n",
       "      <td>NaN</td>\n",
       "      <td>NaN</td>\n",
       "      <td>NaN</td>\n",
       "      <td>NaN</td>\n",
       "    </tr>\n",
       "    <tr>\n",
       "      <th>3</th>\n",
       "      <td>NaN</td>\n",
       "      <td>NaN</td>\n",
       "      <td>NaN</td>\n",
       "      <td>NaN</td>\n",
       "      <td>NaN</td>\n",
       "      <td>Design</td>\n",
       "      <td>loads</td>\n",
       "      <td>NaN</td>\n",
       "      <td>(forces and moments)</td>\n",
       "      <td>NaN</td>\n",
       "      <td>NaN</td>\n",
       "      <td>NaN</td>\n",
       "      <td>NaN</td>\n",
       "    </tr>\n",
       "    <tr>\n",
       "      <th>4</th>\n",
       "      <td>NaN</td>\n",
       "      <td>NaN</td>\n",
       "      <td>NaN</td>\n",
       "      <td>NaN</td>\n",
       "      <td>NaN</td>\n",
       "      <td>SWL</td>\n",
       "      <td>and</td>\n",
       "      <td>self</td>\n",
       "      <td>weight of lifting</td>\n",
       "      <td>appliances</td>\n",
       "      <td>NaN</td>\n",
       "      <td>NaN</td>\n",
       "      <td>NaN</td>\n",
       "    </tr>\n",
       "    <tr>\n",
       "      <th>5</th>\n",
       "      <td>Supporting</td>\n",
       "      <td>NaN</td>\n",
       "      <td>structure</td>\n",
       "      <td>for lifting appliances</td>\n",
       "      <td>NaN</td>\n",
       "      <td>NaN</td>\n",
       "      <td>NaN</td>\n",
       "      <td>NaN</td>\n",
       "      <td>NaN</td>\n",
       "      <td>NaN</td>\n",
       "      <td>NaN</td>\n",
       "      <td>NaN</td>\n",
       "      <td>NaN</td>\n",
       "    </tr>\n",
       "    <tr>\n",
       "      <th>6</th>\n",
       "      <td>NaN</td>\n",
       "      <td>NaN</td>\n",
       "      <td>NaN</td>\n",
       "      <td>NaN</td>\n",
       "      <td>NaN</td>\n",
       "      <td>Maximum</td>\n",
       "      <td>NaN</td>\n",
       "      <td>sea</td>\n",
       "      <td>state in offshore</td>\n",
       "      <td>operation, if any</td>\n",
       "      <td>NaN</td>\n",
       "      <td>NaN</td>\n",
       "      <td>NaN</td>\n",
       "    </tr>\n",
       "    <tr>\n",
       "      <th>7</th>\n",
       "      <td>NaN</td>\n",
       "      <td>NaN</td>\n",
       "      <td>NaN</td>\n",
       "      <td>NaN</td>\n",
       "      <td>NaN</td>\n",
       "      <td>Connections</td>\n",
       "      <td>NaN</td>\n",
       "      <td>to</td>\n",
       "      <td>the hull structures</td>\n",
       "      <td>NaN</td>\n",
       "      <td>NaN</td>\n",
       "      <td>NaN</td>\n",
       "      <td>NaN</td>\n",
       "    </tr>\n",
       "    <tr>\n",
       "      <th>8</th>\n",
       "      <td>NaN</td>\n",
       "      <td>NaN</td>\n",
       "      <td>NaN</td>\n",
       "      <td>NaN</td>\n",
       "      <td>NaN</td>\n",
       "      <td>Design</td>\n",
       "      <td>loads</td>\n",
       "      <td>NaN</td>\n",
       "      <td>(forces and moments)</td>\n",
       "      <td>NaN</td>\n",
       "      <td>NaN</td>\n",
       "      <td>NaN</td>\n",
       "      <td>NaN</td>\n",
       "    </tr>\n",
       "    <tr>\n",
       "      <th>9</th>\n",
       "      <td>Supporting</td>\n",
       "      <td>NaN</td>\n",
       "      <td>structure</td>\n",
       "      <td>for life saving appliances</td>\n",
       "      <td>NaN</td>\n",
       "      <td>SWL</td>\n",
       "      <td>and</td>\n",
       "      <td>self</td>\n",
       "      <td>weight of lifting</td>\n",
       "      <td>appliances</td>\n",
       "      <td>NaN</td>\n",
       "      <td>NaN</td>\n",
       "      <td>NaN</td>\n",
       "    </tr>\n",
       "    <tr>\n",
       "      <th>10</th>\n",
       "      <td>NaN</td>\n",
       "      <td>NaN</td>\n",
       "      <td>NaN</td>\n",
       "      <td>NaN</td>\n",
       "      <td>NaN</td>\n",
       "      <td>Connections</td>\n",
       "      <td>NaN</td>\n",
       "      <td>to</td>\n",
       "      <td>the hull structure</td>\n",
       "      <td>NaN</td>\n",
       "      <td>NaN</td>\n",
       "      <td>NaN</td>\n",
       "      <td>NaN</td>\n",
       "    </tr>\n",
       "    <tr>\n",
       "      <th>11</th>\n",
       "      <td>Sea</td>\n",
       "      <td>chests,</td>\n",
       "      <td>stabiliser</td>\n",
       "      <td>recesses, etc</td>\n",
       "      <td>NaN</td>\n",
       "      <td>-</td>\n",
       "      <td>NaN</td>\n",
       "      <td>NaN</td>\n",
       "      <td>NaN</td>\n",
       "      <td>NaN</td>\n",
       "      <td>NaN</td>\n",
       "      <td>NaN</td>\n",
       "      <td>NaN</td>\n",
       "    </tr>\n",
       "    <tr>\n",
       "      <th>12</th>\n",
       "      <td>Plan</td>\n",
       "      <td>of</td>\n",
       "      <td>access</td>\n",
       "      <td>to and escape from spaces</td>\n",
       "      <td>NaN</td>\n",
       "      <td>-</td>\n",
       "      <td>NaN</td>\n",
       "      <td>NaN</td>\n",
       "      <td>NaN</td>\n",
       "      <td>NaN</td>\n",
       "      <td>NaN</td>\n",
       "      <td>NaN</td>\n",
       "      <td>NaN</td>\n",
       "    </tr>\n",
       "    <tr>\n",
       "      <th>13</th>\n",
       "      <td>Plan</td>\n",
       "      <td>of</td>\n",
       "      <td>ventilation</td>\n",
       "      <td>including ventilators</td>\n",
       "      <td>and</td>\n",
       "      <td>Use</td>\n",
       "      <td>of spaces</td>\n",
       "      <td>NaN</td>\n",
       "      <td>and location and</td>\n",
       "      <td>height of air</td>\n",
       "      <td>vent outlets</td>\n",
       "      <td>NaN</td>\n",
       "      <td>of</td>\n",
       "    </tr>\n",
       "    <tr>\n",
       "      <th>14</th>\n",
       "      <td>tank</td>\n",
       "      <td>vents</td>\n",
       "      <td>NaN</td>\n",
       "      <td>NaN</td>\n",
       "      <td>NaN</td>\n",
       "      <td>various</td>\n",
       "      <td>compartments</td>\n",
       "      <td>NaN</td>\n",
       "      <td>NaN</td>\n",
       "      <td>NaN</td>\n",
       "      <td>NaN</td>\n",
       "      <td>NaN</td>\n",
       "      <td>NaN</td>\n",
       "    </tr>\n",
       "    <tr>\n",
       "      <th>15</th>\n",
       "      <td>NaN</td>\n",
       "      <td>NaN</td>\n",
       "      <td>NaN</td>\n",
       "      <td>NaN</td>\n",
       "      <td>NaN</td>\n",
       "      <td>Testing</td>\n",
       "      <td>procedures</td>\n",
       "      <td>NaN</td>\n",
       "      <td>for the various</td>\n",
       "      <td>compartments</td>\n",
       "      <td>NaN</td>\n",
       "      <td>NaN</td>\n",
       "      <td>NaN</td>\n",
       "    </tr>\n",
       "    <tr>\n",
       "      <th>16</th>\n",
       "      <td>Plan</td>\n",
       "      <td>of</td>\n",
       "      <td>tank testing</td>\n",
       "      <td>NaN</td>\n",
       "      <td>NaN</td>\n",
       "      <td>NaN</td>\n",
       "      <td>NaN</td>\n",
       "      <td>NaN</td>\n",
       "      <td>NaN</td>\n",
       "      <td>NaN</td>\n",
       "      <td>NaN</td>\n",
       "      <td>NaN</td>\n",
       "      <td>NaN</td>\n",
       "    </tr>\n",
       "    <tr>\n",
       "      <th>17</th>\n",
       "      <td>NaN</td>\n",
       "      <td>NaN</td>\n",
       "      <td>NaN</td>\n",
       "      <td>NaN</td>\n",
       "      <td>NaN</td>\n",
       "      <td>Height</td>\n",
       "      <td>of</td>\n",
       "      <td>pipes</td>\n",
       "      <td>for testing</td>\n",
       "      <td>NaN</td>\n",
       "      <td>NaN</td>\n",
       "      <td>NaN</td>\n",
       "      <td>NaN</td>\n",
       "    </tr>\n",
       "    <tr>\n",
       "      <th>18</th>\n",
       "      <td>NaN</td>\n",
       "      <td>NaN</td>\n",
       "      <td>NaN</td>\n",
       "      <td>NaN</td>\n",
       "      <td>NaN</td>\n",
       "      <td>Geometrical</td>\n",
       "      <td>NaN</td>\n",
       "      <td>elements</td>\n",
       "      <td>for calculation</td>\n",
       "      <td>NaN</td>\n",
       "      <td>NaN</td>\n",
       "      <td>NaN</td>\n",
       "      <td>NaN</td>\n",
       "    </tr>\n",
       "    <tr>\n",
       "      <th>19</th>\n",
       "      <td>NaN</td>\n",
       "      <td>NaN</td>\n",
       "      <td>NaN</td>\n",
       "      <td>NaN</td>\n",
       "      <td>NaN</td>\n",
       "      <td>List</td>\n",
       "      <td>of equipment</td>\n",
       "      <td>NaN</td>\n",
       "      <td>NaN</td>\n",
       "      <td>NaN</td>\n",
       "      <td>NaN</td>\n",
       "      <td>NaN</td>\n",
       "      <td>NaN</td>\n",
       "    </tr>\n",
       "    <tr>\n",
       "      <th>20</th>\n",
       "      <td>Equipment</td>\n",
       "      <td>NaN</td>\n",
       "      <td>number</td>\n",
       "      <td>calculation</td>\n",
       "      <td>NaN</td>\n",
       "      <td>Construction</td>\n",
       "      <td>NaN</td>\n",
       "      <td>NaN</td>\n",
       "      <td>and breaking load</td>\n",
       "      <td>of steel wires</td>\n",
       "      <td>NaN</td>\n",
       "      <td>NaN</td>\n",
       "      <td>NaN</td>\n",
       "    </tr>\n",
       "    <tr>\n",
       "      <th>21</th>\n",
       "      <td>NaN</td>\n",
       "      <td>NaN</td>\n",
       "      <td>NaN</td>\n",
       "      <td>NaN</td>\n",
       "      <td>NaN</td>\n",
       "      <td>Material,</td>\n",
       "      <td>construction,</td>\n",
       "      <td>NaN</td>\n",
       "      <td>breaking</td>\n",
       "      <td>load and relevant</td>\n",
       "      <td>elongation</td>\n",
       "      <td>NaN</td>\n",
       "      <td>NaN</td>\n",
       "    </tr>\n",
       "    <tr>\n",
       "      <th>22</th>\n",
       "      <td>NaN</td>\n",
       "      <td>NaN</td>\n",
       "      <td>NaN</td>\n",
       "      <td>NaN</td>\n",
       "      <td>NaN</td>\n",
       "      <td>of synthetic</td>\n",
       "      <td>NaN</td>\n",
       "      <td>ropes</td>\n",
       "      <td>NaN</td>\n",
       "      <td>NaN</td>\n",
       "      <td>NaN</td>\n",
       "      <td>NaN</td>\n",
       "      <td>NaN</td>\n",
       "    </tr>\n",
       "    <tr>\n",
       "      <th>23</th>\n",
       "      <td>Anchoring</td>\n",
       "      <td>NaN</td>\n",
       "      <td>arrangement</td>\n",
       "      <td>NaN</td>\n",
       "      <td>NaN</td>\n",
       "      <td>-</td>\n",
       "      <td>NaN</td>\n",
       "      <td>NaN</td>\n",
       "      <td>NaN</td>\n",
       "      <td>NaN</td>\n",
       "      <td>NaN</td>\n",
       "      <td>NaN</td>\n",
       "      <td>NaN</td>\n",
       "    </tr>\n",
       "    <tr>\n",
       "      <th>24</th>\n",
       "      <td>Hawse</td>\n",
       "      <td>NaN</td>\n",
       "      <td>pipes</td>\n",
       "      <td>NaN</td>\n",
       "      <td>NaN</td>\n",
       "      <td>-</td>\n",
       "      <td>NaN</td>\n",
       "      <td>NaN</td>\n",
       "      <td>NaN</td>\n",
       "      <td>NaN</td>\n",
       "      <td>NaN</td>\n",
       "      <td>NaN</td>\n",
       "      <td>NaN</td>\n",
       "    </tr>\n",
       "    <tr>\n",
       "      <th>25</th>\n",
       "      <td>Loading</td>\n",
       "      <td>NaN</td>\n",
       "      <td>manual</td>\n",
       "      <td>and/or trim and stability</td>\n",
       "      <td>NaN</td>\n",
       "      <td>NaN</td>\n",
       "      <td>NaN</td>\n",
       "      <td>NaN</td>\n",
       "      <td>NaN</td>\n",
       "      <td>NaN</td>\n",
       "      <td>NaN</td>\n",
       "      <td>NaN</td>\n",
       "      <td>NaN</td>\n",
       "    </tr>\n",
       "    <tr>\n",
       "      <th>26</th>\n",
       "      <td>NaN</td>\n",
       "      <td>NaN</td>\n",
       "      <td>NaN</td>\n",
       "      <td>NaN</td>\n",
       "      <td>NaN</td>\n",
       "      <td>-</td>\n",
       "      <td>NaN</td>\n",
       "      <td>NaN</td>\n",
       "      <td>NaN</td>\n",
       "      <td>NaN</td>\n",
       "      <td>NaN</td>\n",
       "      <td>NaN</td>\n",
       "      <td>NaN</td>\n",
       "    </tr>\n",
       "    <tr>\n",
       "      <th>27</th>\n",
       "      <td>booklet</td>\n",
       "      <td>NaN</td>\n",
       "      <td>NaN</td>\n",
       "      <td>NaN</td>\n",
       "      <td>NaN</td>\n",
       "      <td>NaN</td>\n",
       "      <td>NaN</td>\n",
       "      <td>NaN</td>\n",
       "      <td>NaN</td>\n",
       "      <td>NaN</td>\n",
       "      <td>NaN</td>\n",
       "      <td>NaN</td>\n",
       "      <td>NaN</td>\n",
       "    </tr>\n",
       "    <tr>\n",
       "      <th>28</th>\n",
       "      <td>(1) Where</td>\n",
       "      <td>NaN</td>\n",
       "      <td>other steering</td>\n",
       "      <td>or propulsion systems</td>\n",
       "      <td>NaN</td>\n",
       "      <td>are adopted</td>\n",
       "      <td>(e.g.</td>\n",
       "      <td>steering</td>\n",
       "      <td>nozzles or azimuth</td>\n",
       "      <td>propulsion</td>\n",
       "      <td>systems),</td>\n",
       "      <td>the</td>\n",
       "      <td>NaN</td>\n",
       "    </tr>\n",
       "    <tr>\n",
       "      <th>29</th>\n",
       "      <td>plans</td>\n",
       "      <td>NaN</td>\n",
       "      <td>showing</td>\n",
       "      <td>the relevant arrangement</td>\n",
       "      <td>and</td>\n",
       "      <td>structural</td>\n",
       "      <td>scantlings</td>\n",
       "      <td>NaN</td>\n",
       "      <td>are to be submitted.</td>\n",
       "      <td>NaN</td>\n",
       "      <td>NaN</td>\n",
       "      <td>NaN</td>\n",
       "      <td>NaN</td>\n",
       "    </tr>\n",
       "  </tbody>\n",
       "</table>\n",
       "</div>"
      ],
      "text/plain": [
       "    Unnamed: 0 Unnamed: 1         Plan or      supporting calculation  \\\n",
       "0         Plan         of    weathertight          or outer doors and   \n",
       "1          NaN        NaN             NaN                         NaN   \n",
       "2    hatchways        NaN             NaN                         NaN   \n",
       "3          NaN        NaN             NaN                         NaN   \n",
       "4          NaN        NaN             NaN                         NaN   \n",
       "5   Supporting        NaN       structure      for lifting appliances   \n",
       "6          NaN        NaN             NaN                         NaN   \n",
       "7          NaN        NaN             NaN                         NaN   \n",
       "8          NaN        NaN             NaN                         NaN   \n",
       "9   Supporting        NaN       structure  for life saving appliances   \n",
       "10         NaN        NaN             NaN                         NaN   \n",
       "11         Sea    chests,      stabiliser               recesses, etc   \n",
       "12        Plan         of          access   to and escape from spaces   \n",
       "13        Plan         of     ventilation       including ventilators   \n",
       "14        tank      vents             NaN                         NaN   \n",
       "15         NaN        NaN             NaN                         NaN   \n",
       "16        Plan         of    tank testing                         NaN   \n",
       "17         NaN        NaN             NaN                         NaN   \n",
       "18         NaN        NaN             NaN                         NaN   \n",
       "19         NaN        NaN             NaN                         NaN   \n",
       "20   Equipment        NaN          number                 calculation   \n",
       "21         NaN        NaN             NaN                         NaN   \n",
       "22         NaN        NaN             NaN                         NaN   \n",
       "23   Anchoring        NaN     arrangement                         NaN   \n",
       "24       Hawse        NaN           pipes                         NaN   \n",
       "25     Loading        NaN          manual   and/or trim and stability   \n",
       "26         NaN        NaN             NaN                         NaN   \n",
       "27     booklet        NaN             NaN                         NaN   \n",
       "28   (1) Where        NaN  other steering       or propulsion systems   \n",
       "29       plans        NaN         showing    the relevant arrangement   \n",
       "\n",
       "   Unnamed: 2    Unnamed: 3     Unnamed: 4 Unnamed: 5       Containing also  \\\n",
       "0         NaN           NaN            NaN        NaN                   NaN   \n",
       "1         NaN             -            NaN        NaN                   NaN   \n",
       "2         NaN           NaN            NaN        NaN                   NaN   \n",
       "3         NaN        Design          loads        NaN  (forces and moments)   \n",
       "4         NaN           SWL            and       self     weight of lifting   \n",
       "5         NaN           NaN            NaN        NaN                   NaN   \n",
       "6         NaN       Maximum            NaN        sea     state in offshore   \n",
       "7         NaN   Connections            NaN         to   the hull structures   \n",
       "8         NaN        Design          loads        NaN  (forces and moments)   \n",
       "9         NaN           SWL            and       self     weight of lifting   \n",
       "10        NaN   Connections            NaN         to    the hull structure   \n",
       "11        NaN             -            NaN        NaN                   NaN   \n",
       "12        NaN             -            NaN        NaN                   NaN   \n",
       "13        and           Use      of spaces        NaN      and location and   \n",
       "14        NaN       various   compartments        NaN                   NaN   \n",
       "15        NaN       Testing     procedures        NaN       for the various   \n",
       "16        NaN           NaN            NaN        NaN                   NaN   \n",
       "17        NaN        Height             of      pipes           for testing   \n",
       "18        NaN   Geometrical            NaN   elements       for calculation   \n",
       "19        NaN          List   of equipment        NaN                   NaN   \n",
       "20        NaN  Construction            NaN        NaN     and breaking load   \n",
       "21        NaN     Material,  construction,        NaN              breaking   \n",
       "22        NaN  of synthetic            NaN      ropes                   NaN   \n",
       "23        NaN             -            NaN        NaN                   NaN   \n",
       "24        NaN             -            NaN        NaN                   NaN   \n",
       "25        NaN           NaN            NaN        NaN                   NaN   \n",
       "26        NaN             -            NaN        NaN                   NaN   \n",
       "27        NaN           NaN            NaN        NaN                   NaN   \n",
       "28        NaN   are adopted          (e.g.   steering    nozzles or azimuth   \n",
       "29        and    structural     scantlings        NaN  are to be submitted.   \n",
       "\n",
       "       information on    Unnamed: 6 Unnamed: 7 Unnamed: 8  \n",
       "0                 NaN           NaN        NaN        NaN  \n",
       "1                 NaN           NaN        NaN        NaN  \n",
       "2                 NaN           NaN        NaN        NaN  \n",
       "3                 NaN           NaN        NaN        NaN  \n",
       "4          appliances           NaN        NaN        NaN  \n",
       "5                 NaN           NaN        NaN        NaN  \n",
       "6   operation, if any           NaN        NaN        NaN  \n",
       "7                 NaN           NaN        NaN        NaN  \n",
       "8                 NaN           NaN        NaN        NaN  \n",
       "9          appliances           NaN        NaN        NaN  \n",
       "10                NaN           NaN        NaN        NaN  \n",
       "11                NaN           NaN        NaN        NaN  \n",
       "12                NaN           NaN        NaN        NaN  \n",
       "13      height of air  vent outlets        NaN         of  \n",
       "14                NaN           NaN        NaN        NaN  \n",
       "15       compartments           NaN        NaN        NaN  \n",
       "16                NaN           NaN        NaN        NaN  \n",
       "17                NaN           NaN        NaN        NaN  \n",
       "18                NaN           NaN        NaN        NaN  \n",
       "19                NaN           NaN        NaN        NaN  \n",
       "20     of steel wires           NaN        NaN        NaN  \n",
       "21  load and relevant    elongation        NaN        NaN  \n",
       "22                NaN           NaN        NaN        NaN  \n",
       "23                NaN           NaN        NaN        NaN  \n",
       "24                NaN           NaN        NaN        NaN  \n",
       "25                NaN           NaN        NaN        NaN  \n",
       "26                NaN           NaN        NaN        NaN  \n",
       "27                NaN           NaN        NaN        NaN  \n",
       "28         propulsion     systems),        the        NaN  \n",
       "29                NaN           NaN        NaN        NaN  "
      ]
     },
     "execution_count": 16,
     "metadata": {},
     "output_type": "execute_result"
    }
   ],
   "source": [
    "# set pages option\n",
    "dfs = tabula.read_pdf(pdf_path1, pages=\"25\", stream=True)\n",
    "dfs\n",
    "dfs[0]"
   ]
  },
  {
   "cell_type": "code",
   "execution_count": 17,
   "id": "7691709c",
   "metadata": {},
   "outputs": [],
   "source": [
    "# tabula.convert_into(pdf_path, \"output.csv\", output_format=\"csv\", pages='all')\n",
    "# df = pd.read_csv(\"output.csv\")\n",
    "# df"
   ]
  },
  {
   "cell_type": "code",
   "execution_count": null,
   "id": "4552e55f",
   "metadata": {},
   "outputs": [],
   "source": []
  },
  {
   "cell_type": "code",
   "execution_count": 18,
   "id": "79183c49",
   "metadata": {},
   "outputs": [
    {
     "data": {
      "text/plain": [
       "'|Sample Date:|May 2001|\\n|Prepared by:|Accelio Present Applied Technology|\\n|Created and Tested Using:|• Accelio Present Central 5.4 • Accelio Present Output Designer 5.4|\\n|Features Demonstrated:|• Primary bookmarks in a PDF file. • Secondary bookmarks in a PDF file.|'"
      ]
     },
     "execution_count": 18,
     "metadata": {},
     "output_type": "execute_result"
    }
   ],
   "source": [
    "table_converter(table)"
   ]
  },
  {
   "cell_type": "markdown",
   "id": "6790945a",
   "metadata": {},
   "source": [
    "# Extracting Images from PDF\n",
    "\n",
    "https://medium.com/@alexaae9/python-how-to-extract-images-from-pdf-documents-9492a767a613"
   ]
  },
  {
   "cell_type": "code",
   "execution_count": 19,
   "id": "d64cc203",
   "metadata": {},
   "outputs": [],
   "source": [
    "from spire.pdf.common import *\n",
    "from spire.pdf import *"
   ]
  },
  {
   "cell_type": "code",
   "execution_count": 20,
   "id": "0973a910",
   "metadata": {},
   "outputs": [],
   "source": [
    "# Create a PdfDocument object\n",
    "doc = PdfDocument()"
   ]
  },
  {
   "cell_type": "code",
   "execution_count": 21,
   "id": "43d7739b",
   "metadata": {},
   "outputs": [
    {
     "data": {
      "text/plain": [
       "<spire.pdf.PdfPageBase.PdfPageBase at 0x14ccc480b80>"
      ]
     },
     "execution_count": 21,
     "metadata": {},
     "output_type": "execute_result"
    }
   ],
   "source": [
    "# Load a PDF document\n",
    "doc.LoadFromFile(pdf_path1)\n",
    "len(doc.Pages)\n",
    "\n",
    "# Get a specific page\n",
    "page = doc.Pages[77]\n",
    "page"
   ]
  },
  {
   "cell_type": "code",
   "execution_count": 22,
   "id": "a87969f8",
   "metadata": {},
   "outputs": [
    {
     "data": {
      "text/plain": [
       "[<spire.pdf.common.Image.Image at 0x14ca12325f0>,\n",
       " <spire.pdf.common.Image.Image at 0x14ccc480a30>]"
      ]
     },
     "execution_count": 22,
     "metadata": {},
     "output_type": "execute_result"
    }
   ],
   "source": [
    "# Extract images from the page\n",
    "images = []\n",
    "for image in page.ExtractImages():\n",
    "    images.append(image)\n",
    "images"
   ]
  },
  {
   "cell_type": "code",
   "execution_count": 23,
   "id": "d732bb80",
   "metadata": {},
   "outputs": [],
   "source": [
    "# Save images to specified location with specified format extension\n",
    "index = 0\n",
    "for image in images:\n",
    "    imageFileName = 'Image-{0:d}.png'.format(index)\n",
    "    index += 1\n",
    "    image.Save(imageFileName, ImageFormat.get_Png())\n",
    "# doc.Close()"
   ]
  },
  {
   "cell_type": "markdown",
   "id": "9d05cc0d",
   "metadata": {},
   "source": [
    "# PDF CROP"
   ]
  },
  {
   "cell_type": "code",
   "execution_count": 24,
   "id": "75aeb0e3",
   "metadata": {},
   "outputs": [],
   "source": [
    "import aspose.pdf as pdf"
   ]
  },
  {
   "cell_type": "code",
   "execution_count": 25,
   "id": "ac5bba77",
   "metadata": {},
   "outputs": [
    {
     "name": "stdout",
     "output_type": "stream",
     "text": [
      "0,0,595,841\n"
     ]
    }
   ],
   "source": [
    "pdfDocument1 = pdf.Document(pdf_path1)\n",
    "print(pdfDocument1.pages[1].crop_box)\n",
    "# print(pdfDocument1.pages[1].trim_box)\n",
    "# print(pdfDocument1.pages[1].art_box)\n",
    "# print(pdfDocument1.pages[1].bleed_box)\n",
    "# print(pdfDocument1.pages[1].media_box)"
   ]
  },
  {
   "cell_type": "code",
   "execution_count": 26,
   "id": "10a1c5ce",
   "metadata": {},
   "outputs": [],
   "source": [
    "# Create a new Box Rectagle\n",
    "newBox = pdf.Rectangle(3, 10, 590, 800, True)\n",
    "pdfDocument1.pages[1].crop_box = newBox\n",
    "# pdfDocument1.pages[1].trim_box = newBox\n",
    "# pdfDocument1.pages[1].art_box = newBox\n",
    "# pdfDocument1.pages[1].bleed_box = newBox"
   ]
  },
  {
   "cell_type": "code",
   "execution_count": 27,
   "id": "e12087c1",
   "metadata": {},
   "outputs": [
    {
     "name": "stdout",
     "output_type": "stream",
     "text": [
      "3,10,590,800\n"
     ]
    }
   ],
   "source": [
    "print(pdfDocument1.pages[1].crop_box)\n",
    "# print(pdfDocument1.pages[1].trim_box)\n",
    "# print(pdfDocument1.pages[1].art_box)\n",
    "# print(pdfDocument1.pages[1].bleed_box)\n",
    "# print(pdfDocument1.pages[1].media_box)"
   ]
  },
  {
   "cell_type": "code",
   "execution_count": 28,
   "id": "ea4e8400",
   "metadata": {},
   "outputs": [],
   "source": [
    "pdfDocument1.save(\"crop_page_modified.pdf\")"
   ]
  },
  {
   "cell_type": "code",
   "execution_count": 29,
   "id": "01b57a41",
   "metadata": {},
   "outputs": [
    {
     "data": {
      "text/plain": [
       "<aspose.pdf.Document object at 0x0000014CA2D92770>"
      ]
     },
     "execution_count": 29,
     "metadata": {},
     "output_type": "execute_result"
    }
   ],
   "source": [
    "pdfDocument1"
   ]
  },
  {
   "cell_type": "code",
   "execution_count": null,
   "id": "e5abf1f7",
   "metadata": {},
   "outputs": [],
   "source": []
  },
  {
   "cell_type": "markdown",
   "id": "1cf17e9d",
   "metadata": {},
   "source": [
    "# CROP 2차 시도"
   ]
  },
  {
   "cell_type": "code",
   "execution_count": 30,
   "id": "d84ebc55",
   "metadata": {},
   "outputs": [],
   "source": [
    "import pdfplumber"
   ]
  },
  {
   "cell_type": "code",
   "execution_count": 35,
   "id": "d05c4f7b",
   "metadata": {},
   "outputs": [],
   "source": [
    "pdf_path1 = \"C:\\my_develop2\\my_llm\\sample_pdf\\LNGC.pdf.pdf\""
   ]
  },
  {
   "cell_type": "code",
   "execution_count": 36,
   "id": "1184a762",
   "metadata": {},
   "outputs": [],
   "source": [
    "# From a file path\n",
    "pdf = pdfplumber.open(pdf_path1)"
   ]
  },
  {
   "cell_type": "code",
   "execution_count": 37,
   "id": "ad037c92",
   "metadata": {},
   "outputs": [],
   "source": [
    "# Or you can open your file and pass the binary to pdfplumber\n",
    "# with open(pdf_path1) as pdf_file:\n",
    "#     pdf = pdfplumber.open(pdf_file)"
   ]
  },
  {
   "cell_type": "code",
   "execution_count": 38,
   "id": "09cad358",
   "metadata": {},
   "outputs": [],
   "source": [
    "pdf_page = pdf.pages[77]"
   ]
  },
  {
   "cell_type": "code",
   "execution_count": 39,
   "id": "9a207b0c",
   "metadata": {},
   "outputs": [],
   "source": [
    "# Specify the bounding box to crop\n",
    "# bounding_box = (x0, top, x1, bottom)\n",
    "# default : (0, 0, 595, 841)\n",
    "# x0: Distance of the left side of your crop rectangle from the left side of the page.\n",
    "# top: Distance of the top of your crop rectangle from the top of the page.\n",
    "# x1: Distance of the right side of your crop rectangle from the left side of the page.\n",
    "# bottom: Distance of the bottom of your crop rectangle from the top of the page."
   ]
  },
  {
   "cell_type": "code",
   "execution_count": 40,
   "id": "c461c6e8",
   "metadata": {},
   "outputs": [],
   "source": [
    "bounding_box = (3, 10, 590, 800)"
   ]
  },
  {
   "cell_type": "code",
   "execution_count": 41,
   "id": "b309f8a1",
   "metadata": {},
   "outputs": [],
   "source": [
    "# Crop by applying the crop function on the selected page\n",
    "cropped_pdf = pdf_page.crop(bounding_box, relative=False, strict=True)"
   ]
  },
  {
   "cell_type": "code",
   "execution_count": 42,
   "id": "0867b18b",
   "metadata": {},
   "outputs": [
    {
     "name": "stdout",
     "output_type": "stream",
     "text": [
      "Pt15 Structural Rules for Membrane Type Liquefied Natural Gas Carriers\n",
      "Ch3 Structural Design Principles Pt15, Ch3,Sec6\n",
      "2.1.5 Plating\n",
      "Where plates with different thicknesses are joined, the change in the as-built plate thickness is not to\n",
      "exceed 50% of the larger plate thickness in the load carrying direction. This also applies to strengthening\n",
      "by local inserts, e.g. insert plates in double bottom girders, floors and inner bottom.\n",
      "2.1.6 Weld joints\n",
      "Weld joints are to be avoided in areas with high stress concentration.\n",
      "2.2 Local reinforcements\n",
      "2.2.1 Reinforcements at knuckles\n",
      "a) Knuckles are in general to be stiffened to achieve out-of-plane stiffness by fitting ordinary\n",
      "stiffeners or equivalent means in line with the knuckle.\n",
      "b) Whenever a knuckle in a main member (shell, longitudinal bulkhead etc) is arranged, stiffening in\n",
      "the form of webs, brackets or profiles is to be connected to the members to which they are to\n",
      "transfer the load (in shear). See example of reinforcement at upper hopper knuckle in Figure 1.\n",
      "c) For longitudinal shallow knuckles, closely spaced carlings are to be fitted across the knuckle,\n",
      "between longitudinal members above and below the knuckle. Carlings or other types of\n",
      "reinforcement need not be fitted in way of shallow knuckles that are not subject to high lateral\n",
      "loads and/or high in-plane loads across the knuckle, such as deck camber knuckles.\n",
      "d) Generally, the distance between the knuckle and the support stiffening in line with the knuckle is\n",
      "not to be greater than 50mm. Otherwise, fatigue analysis according to Ch 9 is to be submitted by\n",
      "the designer.\n",
      "Figure 1 : Example of reinforcement at knuckles\n",
      "2.2.2 Reinforcement in way of attachments for providing means of access permanently\n",
      "Local reinforcement, considering location and strength, is to be provided in way of attachments to the\n",
      "hull structure when the means for access is provided permanently.\n",
      "2.2.3 Reinforcement of deck structure in way of concentrated loads\n",
      "The deck structure is to be reinforced in way of concentrated loads, such as anchor windlass, deck\n",
      "machinery, cranes, masts and derrick posts.\n",
      "2.2.4 Reinforcement by insert plates\n",
      "Insert plates are to be made of materials with, at least, the same specified minimum yield stress and\n",
      "the same grade as the plates to which they are welded. See also [2.1.5].\n",
      "72 RulesfortheClassificationofSteelShips2022\n"
     ]
    }
   ],
   "source": [
    "print(cropped_pdf.extract_text())"
   ]
  },
  {
   "cell_type": "code",
   "execution_count": 43,
   "id": "f531c4ca",
   "metadata": {},
   "outputs": [],
   "source": [
    "pdfDocument1.save(\"cropped_pdf.pdf\")"
   ]
  },
  {
   "cell_type": "code",
   "execution_count": 44,
   "id": "60c5412d",
   "metadata": {},
   "outputs": [],
   "source": [
    "cropped_path = \"crop_page_modified.pdf\"#\"cropped_pdf.pdf\""
   ]
  },
  {
   "cell_type": "markdown",
   "id": "9d8e424a",
   "metadata": {},
   "source": [
    "## crop pdf 이미지 추출 (하단 로고 제외 가능?)"
   ]
  },
  {
   "cell_type": "code",
   "execution_count": 45,
   "id": "4ce4cfa9",
   "metadata": {},
   "outputs": [
    {
     "data": {
      "text/plain": [
       "<spire.pdf.PdfPageBase.PdfPageBase at 0x14d0d5cea70>"
      ]
     },
     "execution_count": 45,
     "metadata": {},
     "output_type": "execute_result"
    }
   ],
   "source": [
    "# Load a PDF document\n",
    "doc.LoadFromFile(cropped_path)\n",
    "len(doc.Pages)\n",
    "\n",
    "# Get a specific page\n",
    "page = doc.Pages[77]\n",
    "page"
   ]
  },
  {
   "cell_type": "code",
   "execution_count": 46,
   "id": "df1481d2",
   "metadata": {},
   "outputs": [
    {
     "data": {
      "text/plain": [
       "[<spire.pdf.common.Image.Image at 0x14d0d8bb6d0>,\n",
       " <spire.pdf.common.Image.Image at 0x14ca30c31c0>]"
      ]
     },
     "execution_count": 46,
     "metadata": {},
     "output_type": "execute_result"
    }
   ],
   "source": [
    "# Extract images from the page\n",
    "images = []\n",
    "for image in page.ExtractImages():\n",
    "    images.append(image)\n",
    "images"
   ]
  },
  {
   "cell_type": "code",
   "execution_count": 47,
   "id": "465da21d",
   "metadata": {},
   "outputs": [],
   "source": [
    "# Save images to specified location with specified format extension\n",
    "index = 0\n",
    "for image in images:\n",
    "    imageFileName = 'Image-{0:d}.png'.format(index)\n",
    "    index += 1\n",
    "    image.Save(imageFileName, ImageFormat.get_Png())\n",
    "# doc.Close()"
   ]
  },
  {
   "cell_type": "code",
   "execution_count": null,
   "id": "2a0248ab",
   "metadata": {},
   "outputs": [],
   "source": []
  },
  {
   "cell_type": "code",
   "execution_count": null,
   "id": "3b95f2df",
   "metadata": {},
   "outputs": [],
   "source": []
  },
  {
   "cell_type": "code",
   "execution_count": null,
   "id": "082ac9f9",
   "metadata": {},
   "outputs": [],
   "source": []
  },
  {
   "cell_type": "code",
   "execution_count": null,
   "id": "2b351157",
   "metadata": {},
   "outputs": [],
   "source": []
  },
  {
   "cell_type": "code",
   "execution_count": null,
   "id": "96d711df",
   "metadata": {},
   "outputs": [],
   "source": []
  },
  {
   "cell_type": "code",
   "execution_count": null,
   "id": "3386dcc4",
   "metadata": {},
   "outputs": [],
   "source": []
  },
  {
   "cell_type": "code",
   "execution_count": null,
   "id": "cb3574ea",
   "metadata": {},
   "outputs": [],
   "source": []
  },
  {
   "cell_type": "code",
   "execution_count": null,
   "id": "b517a7c6",
   "metadata": {},
   "outputs": [],
   "source": []
  },
  {
   "cell_type": "code",
   "execution_count": null,
   "id": "5c866649",
   "metadata": {},
   "outputs": [],
   "source": []
  },
  {
   "cell_type": "markdown",
   "id": "39bdc06a",
   "metadata": {},
   "source": [
    "# Save PDF pages in JPG format - Python"
   ]
  },
  {
   "cell_type": "code",
   "execution_count": null,
   "id": "7b3c7b7e",
   "metadata": {},
   "outputs": [],
   "source": [
    "# import aspose.pdf as ap    \n",
    "\n",
    "#     input_pdf = DIR_INPUT + \"many_pages.pdf\"\n",
    "#     output_pdf = DIR_OUTPUT + \"convert_pdf_to_jpeg\"\n",
    "#     # Open PDF document\n",
    "#     document = ap.Document(input_pdf)\n",
    "\n",
    "#     # Create Resolution object\n",
    "#     resolution = ap.devices.Resolution(300)\n",
    "#     device = ap.devices.JpegDevice(resolution)\n",
    "\n",
    "#     for i in range(0, len(document.pages)):\n",
    "#         # Create file for save\n",
    "#         image_stream = io.FileIO(\n",
    "#             output_pdf + \"_page_\" + str(i + 1) + \"_out.jpeg\", \"x\"\n",
    "#         )\n",
    "#         # Convert a particular page and save the image to stream\n",
    "#         device.process(document.pages[i + 1], image_stream)\n",
    "#         image_stream.close()"
   ]
  },
  {
   "cell_type": "code",
   "execution_count": null,
   "id": "77aa14e5",
   "metadata": {},
   "outputs": [],
   "source": []
  },
  {
   "cell_type": "code",
   "execution_count": null,
   "id": "bedd703e",
   "metadata": {},
   "outputs": [],
   "source": []
  }
 ],
 "metadata": {
  "kernelspec": {
   "display_name": "Python 3 (ipykernel)",
   "language": "python",
   "name": "python3"
  },
  "language_info": {
   "codemirror_mode": {
    "name": "ipython",
    "version": 3
   },
   "file_extension": ".py",
   "mimetype": "text/x-python",
   "name": "python",
   "nbconvert_exporter": "python",
   "pygments_lexer": "ipython3",
   "version": "3.10.6"
  },
  "toc": {
   "base_numbering": 1,
   "nav_menu": {},
   "number_sections": true,
   "sideBar": true,
   "skip_h1_title": false,
   "title_cell": "Table of Contents",
   "title_sidebar": "Contents",
   "toc_cell": false,
   "toc_position": {
    "height": "calc(100% - 180px)",
    "left": "10px",
    "top": "150px",
    "width": "426.662px"
   },
   "toc_section_display": true,
   "toc_window_display": true
  }
 },
 "nbformat": 4,
 "nbformat_minor": 5
}
